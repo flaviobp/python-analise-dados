{
 "cells": [
  {
   "cell_type": "markdown",
   "id": "9ea3d449",
   "metadata": {},
   "source": [
    "# LI PROGRAMA DE VERÃO (2022 - edição 51)\n"
   ]
  },
  {
   "cell_type": "markdown",
   "id": "790551f0",
   "metadata": {},
   "source": [
    "<img src='../figuras/paisagem.png'>"
   ]
  },
  {
   "cell_type": "markdown",
   "id": "c2f2a265",
   "metadata": {},
   "source": [
    "# Lógica de Programação "
   ]
  },
  {
   "cell_type": "markdown",
   "id": "2af6428a",
   "metadata": {},
   "source": [
    "## Vamos aquecer!!! \n",
    "\n",
    "* Descrevam os passos para fazer um misto quente! \n",
    "\n"
   ]
  },
  {
   "cell_type": "markdown",
   "id": "a639bc7d",
   "metadata": {},
   "source": [
    "<img src='vamos_pensar.jpg'>"
   ]
  },
  {
   "cell_type": "markdown",
   "id": "85f7f37e",
   "metadata": {},
   "source": [
    "sadfasfa"
   ]
  },
  {
   "cell_type": "markdown",
   "id": "baa1f681",
   "metadata": {},
   "source": [
    "Referência: Vocês já viram esse vídeo? \n",
    "\n",
    "https://youtu.be/pdhqwbUWf4U"
   ]
  },
  {
   "cell_type": "markdown",
   "id": "ad9d9021",
   "metadata": {},
   "source": [
    "Enviem no CHAT!!!\n",
    "\n",
    "**Com os passos que vcs descreveram, é realmente possível fazer um misto quente?**\n",
    "\n",
    "**Quais são os problemas mais comuns?** "
   ]
  },
  {
   "cell_type": "markdown",
   "id": "b2eef090",
   "metadata": {},
   "source": [
    "## Algumas Definições \n"
   ]
  },
  {
   "cell_type": "markdown",
   "id": "4cfee50e",
   "metadata": {},
   "source": [
    "<img src='pensamento_logico.png' style=\"width: 200px;\">"
   ]
  },
  {
   "cell_type": "markdown",
   "id": "bb703be0",
   "metadata": {},
   "source": [
    "**Lógica de programação é a técnica de encadear pensamentos para atingir determinado\n",
    "objetivo.**\n",
    "\n",
    "E o que são esses pensamentos? São sequências de instruções! \n",
    "\n",
    "**Seqüência Lógica são passos executados até atingir um objetivo ou solução de um\n",
    "problema.**\n"
   ]
  },
  {
   "cell_type": "markdown",
   "id": "7e75174a",
   "metadata": {},
   "source": [
    "**Instruções são um conjunto de regras ou normas definidas para a realização ou\n",
    "emprego de algo. Em informática, é o que indica a um computador uma ação elementar\n",
    "a executar.** "
   ]
  },
  {
   "cell_type": "code",
   "execution_count": null,
   "id": "de2a1723",
   "metadata": {},
   "outputs": [],
   "source": []
  },
  {
   "cell_type": "markdown",
   "id": "8cc20ec0",
   "metadata": {},
   "source": [
    "ALGORITMO\n",
    "\n",
    "Um algoritmo é formalmente uma seqüência finita de passos que levam a execução de uma\n",
    "tarefa. Podemos pensar em algoritmo como uma receita, uma seqüência de instruções que dão\n",
    "cabo de uma meta específica. Estas tarefas não podem ser redundantes nem subjetivas na sua\n",
    "definição, devem ser claras e precisas. "
   ]
  },
  {
   "cell_type": "markdown",
   "id": "3bfcdef7",
   "metadata": {},
   "source": [
    "PROGRAMAS\n",
    "\n",
    "Programas são algoritmos que foram escritos em uma linguagem de computador (C, Cobol,Python, Java). Ou seja, são algoritmos que foram traduzidos para outra linguagem"
   ]
  },
  {
   "cell_type": "markdown",
   "id": "145b504f",
   "metadata": {},
   "source": [
    "Exemplos de programas: Aplicativos para celular, editor de texto (Word), sistema para gerenciar vendas em um supermercado "
   ]
  },
  {
   "cell_type": "markdown",
   "id": "4dcc99ed",
   "metadata": {},
   "source": [
    "<img src='programs.jpeg'>"
   ]
  },
  {
   "cell_type": "markdown",
   "id": "bf1e7b8d",
   "metadata": {},
   "source": [
    "## Vamos nos exercitar\n",
    "\n",
    "* Criem um algoritmo para fazer torradas (individualmente)\n",
    "* Leiam suas soluções uns para os outros e discutam se é possível com o algoritmo criado, fazer uma torrada\n",
    "\n",
    "* Repitam esse exercicio, agora para trocar uma lampada"
   ]
  },
  {
   "cell_type": "markdown",
   "id": "0899eed2",
   "metadata": {},
   "source": [
    "## O que não é um algoritmo? \n",
    "\n",
    "\n",
    "* Uma bula de remédios não pode ser considerada um algoritmo, pois contem informações e não passos. Um algoritmo deve conter uma sequência de passos\n",
    "\n",
    "* Quais outros exemplos vcs podem citar? "
   ]
  },
  {
   "cell_type": "markdown",
   "id": "09837e5a",
   "metadata": {},
   "source": [
    "**Mas porque precisamos programar?**\n",
    "\n",
    "Um dos conceitos mais importantes, é que a máquina não faz nada sozinha. Alguém precisa dizer os comandos e então ela fará alguma coisa. \n",
    "\n",
    "Por exemplo, se quisermos imprimir alguma coisa na tela do computador, precisamos passar um bloco de informações. Programar é isso, escrever blocos de códigos fonte. "
   ]
  },
  {
   "cell_type": "markdown",
   "id": "719fd60b",
   "metadata": {},
   "source": [
    "## Pseudocódigo "
   ]
  },
  {
   "cell_type": "markdown",
   "id": "cea22a3c",
   "metadata": {},
   "source": [
    "A arte de quebrar um problema em pequenos pedacinhos e descreve-los\n",
    "\n",
    "Pseudocódigo é uma forma de descrever um algoritmo; Os algoritmos são independentes das linguagens de programacao.\n",
    "\n",
    "Algumas regras para a construção de um pseudocódigo:\n",
    "\n",
    "* Usar somente um verbo por frase\n",
    "* Imaginar que vc está desenvolvendo um algoritmo para pessoas que não trabalham com programação\n",
    "* Usar frases curtas e simples\n",
    "* Ser objetivo\n",
    "* Procurar palavras que não tenham sentido dúbido "
   ]
  },
  {
   "cell_type": "markdown",
   "id": "4f5ec4bd",
   "metadata": {},
   "source": [
    "Dicas para criar um algoritmo:\n",
    "\n",
    "* Descubra qual o objetivo (problema).\n",
    "* Comece a se questionar como resolver esse problema.\n",
    "* Responda as perguntas que forem surgindo até não ter mais nenhuma.\n",
    "* Baseado nas perguntas e respostas crie os passos (algoritmo) até chegar no objetivo ou resolver o problema."
   ]
  },
  {
   "cell_type": "markdown",
   "id": "1620955c",
   "metadata": {},
   "source": [
    "**FACA PERGUNTAS**"
   ]
  },
  {
   "cell_type": "code",
   "execution_count": null,
   "id": "7168d91a",
   "metadata": {},
   "outputs": [],
   "source": []
  },
  {
   "cell_type": "markdown",
   "id": "525de2d5",
   "metadata": {},
   "source": [
    "## Constantes Variáveis e Tipos de Dados "
   ]
  },
  {
   "cell_type": "markdown",
   "id": "2b9edac5",
   "metadata": {},
   "source": [
    "* **Constantes:** é um valor fixo que não se modifica ao longo do tempo, durante a execução de um programa\n",
    "* **Variável:** é um valor que pode ser alterado ao longo da execução do programa, cada variável corresponde a uma posição de memória (é como se fosse uma gaveta que armazena um valor). Elas são os elementos básicos na programação, pois vão armazenar os dados que precisamos no nosso algoritmo. Em algumas linguagens (chamadas estaticamente tipadas), é preciso dizer que uma variável irá existir, ou seja, ela precisa ser declarada. A declaração é feita, dizendo o tipo e o nome da variavel; \n",
    "* Tipos de variáveis: \n",
    " - númericas ( reais e inteiras)\n",
    " - caracteres (texto)\n",
    " - lógicas (verdadeiros e falsos)\n",
    " "
   ]
  },
  {
   "cell_type": "markdown",
   "id": "635ee1d4",
   "metadata": {},
   "source": [
    "PI = 3.14\n",
    "\n",
    "raio = 4\n",
    "\n",
    "circunferencia = 2 x PI x raio"
   ]
  },
  {
   "cell_type": "markdown",
   "id": "b9361875",
   "metadata": {},
   "source": [
    "nome = 'Walkiria'"
   ]
  },
  {
   "cell_type": "markdown",
   "id": "c48eb4e3",
   "metadata": {},
   "source": [
    "## Operadores "
   ]
  },
  {
   "cell_type": "markdown",
   "id": "008a8866",
   "metadata": {},
   "source": [
    "|Tipo  | Operação |\n",
    "| --- |--- |\n",
    "| Aritméticos | soma, subtração, multiplicação e divisão |\n",
    "| Relacionais | maior, menor, maior igual, menor igual, igual, diferente |\n",
    "|Logicos | AND, OR, NOT |\n",
    "\n"
   ]
  },
  {
   "cell_type": "markdown",
   "id": "76c2009b",
   "metadata": {},
   "source": [
    "Os operadores aritméticos possuem precedência nas operações! Fiquem atentos!"
   ]
  },
  {
   "cell_type": "markdown",
   "id": "016d4457",
   "metadata": {},
   "source": [
    "| 1º valor  | Operador | 2º valor | Resultado |\n",
    "| --- |--- | --- | --- |\n",
    "| T | AND | T | T | \n",
    "| T | AND | F | F |\n",
    "| F | AND | T | F |\n",
    "| F | AND | F | F |\n",
    "| T | OR  | T | T |\n",
    "| T | OR  | F | T |\n",
    "| F | OR  | T | T |\n",
    "| F | OR  | F | F |\n",
    "| T | NOT |   | F |\n",
    "| F | NOT |   | T |"
   ]
  },
  {
   "cell_type": "markdown",
   "id": "952674ea",
   "metadata": {},
   "source": [
    "<img src='vamos_pensar.jpg'>"
   ]
  },
  {
   "cell_type": "markdown",
   "id": "83cfea56",
   "metadata": {},
   "source": [
    " Sabendo que: A=5, B=4 e C=3 e D=6, as expressões abaixo são verdadeiras ou falsas:\n",
    "            \n",
    "a) (A > C) AND (C <=D)\n",
    "\n",
    "b) (A+B) > 10 OR (A+B) = (C+D)\n",
    "\n",
    "c) (A > = C) AND (D >= C)"
   ]
  },
  {
   "cell_type": "code",
   "execution_count": null,
   "id": "b540a15e",
   "metadata": {},
   "outputs": [],
   "source": []
  },
  {
   "cell_type": "markdown",
   "id": "9530a323",
   "metadata": {},
   "source": [
    "## Estruturas de Decisão e Repetição "
   ]
  },
  {
   "cell_type": "markdown",
   "id": "f5281235",
   "metadata": {},
   "source": [
    "* Comandos de decisão: são instruções de saltou ou desvio, em que o programa pode proceder de uma ou outra maneira, de acordo com as decisões lógicas tomadas em funçao dos dados ou resultados anteriores. Ou seja, o código poderá seguir caminhos diferentes quando encontra uma estrutura condicional. As principais estruturas de decisão são: \"Se então\", \"Se então senão\", \"Caso selecione\"\n",
    "\n",
    "- Se então / If ... then \n",
    "- Se então senão / If ... then ... else\n",
    "\n",
    "\n",
    "Essas estruturas permitem a adição de lógica no algoritmo. "
   ]
  },
  {
   "cell_type": "markdown",
   "id": "35b83821",
   "metadata": {},
   "source": [
    "<img src='condicional.png'>"
   ]
  },
  {
   "cell_type": "markdown",
   "id": "8782784f",
   "metadata": {},
   "source": [
    "* Comandos de repetição: utilizados quando desejamos que um determinado conjunto de instruções ou comandos sejam executados um número definido de vezes, ou enquanto um determinado estado de coisas prevalecer ou até que seja alcançado. Usamos esse tipo de comando para não termos que escrever várias vezes uma instrução. \n"
   ]
  },
  {
   "cell_type": "markdown",
   "id": "fcf18d56",
   "metadata": {},
   "source": [
    "<img src='repeticao.png'>"
   ]
  },
  {
   "cell_type": "markdown",
   "id": "3849ec45",
   "metadata": {},
   "source": [
    "# Lógica de Programação \n",
    "\n",
    "* Um pouco de inteligência para o nosso algoritmo \n",
    "* Ex.: Divisão de numeros (divisão por 0)\n",
    "* Aplicar situações de contorno \n",
    "\n",
    "* Exemplo login e senha em um sistema \n",
    "* Lavagem de um carro \n",
    "\n"
   ]
  },
  {
   "cell_type": "markdown",
   "id": "ecd747e6",
   "metadata": {},
   "source": [
    "Agora que vocês conheceram um pouco mais, revisem os exercicios anteriores, podem ser melhorados?"
   ]
  },
  {
   "cell_type": "markdown",
   "id": "45106d60",
   "metadata": {},
   "source": [
    "# Conclusão "
   ]
  },
  {
   "cell_type": "markdown",
   "id": "d66fb9e8",
   "metadata": {},
   "source": [
    "* Saber programar é saber resolver problemas! \n",
    "* Recaptulando: Um algoritmo é uma sequencia ordenada e finita de instruções para se alcançar um objetivo\n",
    "\n",
    "* Para ser um algoritmo é necessário:\n",
    "    * Ser um conjunto de passos\n",
    "    * Resolver um problema / alcançar um objetivo\n",
    "    * Ter um passo inicial e um passo final "
   ]
  },
  {
   "cell_type": "markdown",
   "id": "c7494dcf",
   "metadata": {},
   "source": [
    "# Exercicios \n",
    "\n",
    "https://docs.google.com/document/d/1LQroe7iQFUKGAZRxFOafxdS2-Af68SCCVlPGppDCUiM/edit?usp=sharing"
   ]
  },
  {
   "cell_type": "markdown",
   "id": "eb908ea4",
   "metadata": {},
   "source": [
    "# Feedback\n",
    "https://forms.gle/PQvg1UHJz3xm1LEEA"
   ]
  },
  {
   "cell_type": "markdown",
   "id": "e5dd77ba",
   "metadata": {},
   "source": [
    "## Referencias \n",
    "* https://ftp.unicamp.br/pub/apoio/treinamentos/logica/logica.pdf\n",
    "* https://curriculum.code.org/csp-20/unit3/5/\n",
    "* https://github.com/adam-p/markdown-here/wiki/Markdown-Cheatsheet\n",
    "* DevMedia "
   ]
  }
 ],
 "metadata": {
  "kernelspec": {
   "display_name": "Python 3 (ipykernel)",
   "language": "python",
   "name": "python3"
  },
  "language_info": {
   "codemirror_mode": {
    "name": "ipython",
    "version": 3
   },
   "file_extension": ".py",
   "mimetype": "text/x-python",
   "name": "python",
   "nbconvert_exporter": "python",
   "pygments_lexer": "ipython3",
   "version": "3.9.1"
  }
 },
 "nbformat": 4,
 "nbformat_minor": 5
}
