{
 "cells": [
  {
   "cell_type": "markdown",
   "metadata": {
    "toc": true
   },
   "source": [
    "<h1>Table of Contents<span class=\"tocSkip\"></span></h1>\n",
    "<div class=\"toc\"><ul class=\"toc-item\"><li><span><a href=\"#LI-PROGRAMA-DE-VERÃO-(2022---edição-51)\" data-toc-modified-id=\"LI-PROGRAMA-DE-VERÃO-(2022---edição-51)-1\"><span class=\"toc-item-num\">1&nbsp;&nbsp;</span>LI PROGRAMA DE VERÃO (2022 - edição 51)</a></span></li><li><span><a href=\"#O-que-é-a-primeira-coisa-que-deve-ser-feita-quando-inicia-se-um-projeto-de-Ciência-de-Dados?\" data-toc-modified-id=\"O-que-é-a-primeira-coisa-que-deve-ser-feita-quando-inicia-se-um-projeto-de-Ciência-de-Dados?-2\"><span class=\"toc-item-num\">2&nbsp;&nbsp;</span>O que é a primeira coisa que deve ser feita quando inicia-se um projeto de Ciência de Dados?</a></span></li><li><span><a href=\"#Metodologia-de-Trabalho\" data-toc-modified-id=\"Metodologia-de-Trabalho-3\"><span class=\"toc-item-num\">3&nbsp;&nbsp;</span>Metodologia de Trabalho</a></span><ul class=\"toc-item\"><li><span><a href=\"#Problemas-na-falta-de-uma-metodologia-estruturada\" data-toc-modified-id=\"Problemas-na-falta-de-uma-metodologia-estruturada-3.1\"><span class=\"toc-item-num\">3.1&nbsp;&nbsp;</span>Problemas na falta de uma metodologia estruturada</a></span></li></ul></li><li><span><a href=\"#CRISP-DM\" data-toc-modified-id=\"CRISP-DM-4\"><span class=\"toc-item-num\">4&nbsp;&nbsp;</span>CRISP-DM</a></span></li><li><span><a href=\"#Entendimento-do-Negócio\" data-toc-modified-id=\"Entendimento-do-Negócio-5\"><span class=\"toc-item-num\">5&nbsp;&nbsp;</span>Entendimento do Negócio</a></span><ul class=\"toc-item\"><li><span><a href=\"#Determinar-os-objetivos-de-negócio\" data-toc-modified-id=\"Determinar-os-objetivos-de-negócio-5.1\"><span class=\"toc-item-num\">5.1&nbsp;&nbsp;</span>Determinar os objetivos de negócio</a></span><ul class=\"toc-item\"><li><span><a href=\"#Exemplo-do-desafio-Turnover\" data-toc-modified-id=\"Exemplo-do-desafio-Turnover-5.1.1\"><span class=\"toc-item-num\">5.1.1&nbsp;&nbsp;</span>Exemplo do desafio Turnover</a></span></li><li><span><a href=\"#Critério-de-sucesso-para-o-negócio\" data-toc-modified-id=\"Critério-de-sucesso-para-o-negócio-5.1.2\"><span class=\"toc-item-num\">5.1.2&nbsp;&nbsp;</span>Critério de sucesso para o negócio</a></span></li></ul></li><li><span><a href=\"#Panorama-da-situação\" data-toc-modified-id=\"Panorama-da-situação-5.2\"><span class=\"toc-item-num\">5.2&nbsp;&nbsp;</span>Panorama da situação</a></span></li><li><span><a href=\"#Objetivos-do-Projeto-de-Ciência-de-Dados\" data-toc-modified-id=\"Objetivos-do-Projeto-de-Ciência-de-Dados-5.3\"><span class=\"toc-item-num\">5.3&nbsp;&nbsp;</span>Objetivos do Projeto de Ciência de Dados</a></span></li><li><span><a href=\"#Resumo\" data-toc-modified-id=\"Resumo-5.4\"><span class=\"toc-item-num\">5.4&nbsp;&nbsp;</span>Resumo</a></span></li></ul></li><li><span><a href=\"#Entendimento-dos-Dados\" data-toc-modified-id=\"Entendimento-dos-Dados-6\"><span class=\"toc-item-num\">6&nbsp;&nbsp;</span>Entendimento dos Dados</a></span><ul class=\"toc-item\"><li><span><a href=\"#Vamos-criar-uma-venv?\" data-toc-modified-id=\"Vamos-criar-uma-venv?-6.1\"><span class=\"toc-item-num\">6.1&nbsp;&nbsp;</span>Vamos criar uma venv?</a></span></li><li><span><a href=\"#Agora-sim!-Vamos-explorar!\" data-toc-modified-id=\"Agora-sim!-Vamos-explorar!-6.2\"><span class=\"toc-item-num\">6.2&nbsp;&nbsp;</span>Agora sim! Vamos explorar!</a></span></li><li><span><a href=\"#Resumo\" data-toc-modified-id=\"Resumo-6.3\"><span class=\"toc-item-num\">6.3&nbsp;&nbsp;</span>Resumo</a></span></li></ul></li><li><span><a href=\"#Preparaçao-dos-Dados\" data-toc-modified-id=\"Preparaçao-dos-Dados-7\"><span class=\"toc-item-num\">7&nbsp;&nbsp;</span>Preparaçao dos Dados</a></span><ul class=\"toc-item\"><li><span><a href=\"#Resumo:\" data-toc-modified-id=\"Resumo:-7.1\"><span class=\"toc-item-num\">7.1&nbsp;&nbsp;</span>Resumo:</a></span></li></ul></li><li><span><a href=\"#Modelagem\" data-toc-modified-id=\"Modelagem-8\"><span class=\"toc-item-num\">8&nbsp;&nbsp;</span>Modelagem</a></span><ul class=\"toc-item\"><li><span><a href=\"#Escolha-da-técnica\" data-toc-modified-id=\"Escolha-da-técnica-8.1\"><span class=\"toc-item-num\">8.1&nbsp;&nbsp;</span>Escolha da técnica</a></span><ul class=\"toc-item\"><li><span><a href=\"#Técnicas:\" data-toc-modified-id=\"Técnicas:-8.1.1\"><span class=\"toc-item-num\">8.1.1&nbsp;&nbsp;</span>Técnicas:</a></span></li></ul></li></ul></li><li><span><a href=\"#Avaliação-dos-resultados\" data-toc-modified-id=\"Avaliação-dos-resultados-9\"><span class=\"toc-item-num\">9&nbsp;&nbsp;</span>Avaliação dos resultados</a></span><ul class=\"toc-item\"><li><ul class=\"toc-item\"><li><span><a href=\"#E-sobre-as-variáveis?\" data-toc-modified-id=\"E-sobre-as-variáveis?-9.0.1\"><span class=\"toc-item-num\">9.0.1&nbsp;&nbsp;</span>E sobre as variáveis?</a></span></li><li><span><a href=\"#Revisão\" data-toc-modified-id=\"Revisão-9.0.2\"><span class=\"toc-item-num\">9.0.2&nbsp;&nbsp;</span>Revisão</a></span></li><li><span><a href=\"#Proximos-Passos:\" data-toc-modified-id=\"Proximos-Passos:-9.0.3\"><span class=\"toc-item-num\">9.0.3&nbsp;&nbsp;</span>Proximos Passos:</a></span></li></ul></li></ul></li><li><span><a href=\"#Deployment\" data-toc-modified-id=\"Deployment-10\"><span class=\"toc-item-num\">10&nbsp;&nbsp;</span>Deployment</a></span></li><li><span><a href=\"#Referências\" data-toc-modified-id=\"Referências-11\"><span class=\"toc-item-num\">11&nbsp;&nbsp;</span>Referências</a></span></li><li><span><a href=\"#Resumo\" data-toc-modified-id=\"Resumo-12\"><span class=\"toc-item-num\">12&nbsp;&nbsp;</span>Resumo</a></span></li></ul></div>"
   ]
  },
  {
   "cell_type": "markdown",
   "metadata": {},
   "source": [
    "# LI PROGRAMA DE VERÃO (2022 - edição 51)\n"
   ]
  },
  {
   "cell_type": "markdown",
   "metadata": {},
   "source": [
    "<img src='../figuras/paisagem.png'>"
   ]
  },
  {
   "cell_type": "markdown",
   "metadata": {},
   "source": [
    "# O que é a primeira coisa que deve ser feita quando inicia-se um projeto de Ciência de Dados?"
   ]
  },
  {
   "cell_type": "markdown",
   "metadata": {},
   "source": [
    "Go to www.menti.com and use the code 7882 8683\n"
   ]
  },
  {
   "cell_type": "markdown",
   "metadata": {},
   "source": [
    "# Metodologia de Trabalho"
   ]
  },
  {
   "cell_type": "markdown",
   "metadata": {},
   "source": [
    "<img src='../figuras/go_horse.gif'>"
   ]
  },
  {
   "cell_type": "markdown",
   "metadata": {},
   "source": [
    "## Problemas na falta de uma metodologia estruturada\n",
    "\n",
    "* Dependência da experiência de um analista sênior\n",
    "* Ineficiência\n",
    "* Problemas no compartilhamento de informação\n",
    "* Entregar algo diferente do que foi solicitado\n",
    "* Projeto irreprodutíveis \n",
    "* Escopo deficiente\n"
   ]
  },
  {
   "cell_type": "markdown",
   "metadata": {},
   "source": [
    "# CRISP-DM \n",
    "\n",
    "Cross-Industry Standart Process for Data Mining \n",
    "\n",
    "Desenvolvido em 1996 por algumas grandes empresas de análises de dados: SPSS, Teradata, Daimler, OCHRA, NCR"
   ]
  },
  {
   "cell_type": "markdown",
   "metadata": {},
   "source": [
    "<img src='../figuras/crisp-dm-nutshell-v3.png'>"
   ]
  },
  {
   "cell_type": "markdown",
   "metadata": {},
   "source": [
    "Vamos entender um pouco mais na prática! "
   ]
  },
  {
   "cell_type": "markdown",
   "metadata": {},
   "source": [
    "https://www.kaggle.com/shubh0799/churn-modelling/?select=Churn_Modelling.csv"
   ]
  },
  {
   "cell_type": "markdown",
   "metadata": {},
   "source": [
    "https://towardsdatascience.com/building-an-employee-churn-model-in-python-to-develop-a-strategic-retention-plan-57d5bd882c2d"
   ]
  },
  {
   "cell_type": "markdown",
   "metadata": {},
   "source": [
    "Employee churn rate indicates how frequently the company’s employees quit their jobs within a given period. It is an important aspect of HR Analytics and corporate strategy. Data are real-life features like age, gender, time of bond with the company, and other important features. The data can be used to create a classification model and explore interesting patterns in data.\n",
    "\n"
   ]
  },
  {
   "cell_type": "markdown",
   "metadata": {},
   "source": [
    "# Entendimento do Negócio\n",
    "\n",
    "* Objetivos do Negócio\n",
    "* Panorama da Situação\n",
    "* Objetivos do Projeto de Ciência de Dados\n",
    "* Produzir um plano de projeto"
   ]
  },
  {
   "cell_type": "markdown",
   "metadata": {},
   "source": [
    "**Atenção** \n",
    "\n",
    "* É preciso entender se esse é realmente um problema de ciência de dados! "
   ]
  },
  {
   "cell_type": "markdown",
   "metadata": {},
   "source": [
    "<img src='../figuras/diagrama-data-science.png'>"
   ]
  },
  {
   "cell_type": "markdown",
   "metadata": {},
   "source": [
    "## Determinar os objetivos de negócio\n",
    "\n",
    "Nessa etapa, é importante entender a situação da área de negócios antes do inicio do projeto. Essa etapa é importante para identificar mais de perto os objetivos de negócios mas também os recursos disponíveis, tanto humanos quanto materiais.\n",
    "\n",
    "As principais atividades são:\n",
    "\n",
    "(Em relação a Organização)\n",
    "\n",
    "* Gráfico organizacional: ajuda a identificar áreas e responsáveis (pessoas chaves no negócio e seus papeis)\n",
    "* Quem é o sponsor (financeiro e usuário principal)\n",
    "* Existe um comitê dirigente? Quem são?\n",
    "* Quais unidades de negócio serão afetadas pelo projeto (Marketing, Finanças)? \n",
    "\n",
    "(Em relação a Area do Problema)\n",
    "\n",
    "* Qual área do problema?\n",
    "* Em termos gerais, qual é o problema a ser resolvido?\n",
    "* A area afetada já está ciente do projeto?\n",
    "* Qual é a motivação do projeto?\n",
    "* As pessoas envolvidas conhecem os termos principais de ciência de dados?\n",
    "* Quais as necessidades e expectativas do cliente?\n",
    "\n"
   ]
  },
  {
   "cell_type": "markdown",
   "metadata": {},
   "source": [
    "Agora que já temos uma visão geral, vamos entender um pouco mais sobre o problema a ser resolvido:\n",
    "\n",
    "* Qual é o problema? \n",
    "* Qual é o objetivo?\n",
    "* Quais são as restrições?\n"
   ]
  },
  {
   "cell_type": "markdown",
   "metadata": {},
   "source": [
    "### Exemplo do desafio Turnover  \n",
    " ----\n",
    "\n",
    ">**Objetivo relatado pela área de negócio:***\n",
    ">\n",
    "> <i>\"Queremos identificar se existe algum motivo pelo turnover para podermos reter mais pessoal\"</i>\n",
    ">\n",
    ">\n",
    ">Soou genérico? É assim que os desafios de ciência de dados chegam. Após as primeiras reuniões, >começamos a identificar de fato os objetivos! \n",
    ">\n",
    ">\n",
    "\n",
    ">**1ª reunião**\n",
    ">\n",
    "><i>\"Hoje, temos uma altissima taxa de turnover. Precisamos reter o nosso pessoal e temos dificuldade de entender os motivos dos funcionários nos deixarem. Na maior parte das vezes, a não ser nos casos de aposentadoria, somos pegos de supresa. Alguns casos são reportados e podemos tentar reter, mas depende da pessoa nos contar o motivo.  Esperamos que com isso, possamos reduzir os custos de novas contratações. Temos uma meta para isso. Temos aqui uma lista de aproximadamente 1000 funcionários. Vocês conseguem identificar o porque isso está acontecendo? \"</i>\n",
    ">\n",
    ">Daqui já tiramos algumas informações importantes: \n",
    ">\n",
    ">* Não existe um processo para identificar o turnover\n",
    ">* Um erro não é muito grave\n",
    ">* Não necessariamente queremos prever se um funciónário ira deixar a empresa  (Será??) \n",
    ">\n",
    ">\n",
    ">Mas surgem outras perguntas: \n",
    ">\n",
    ">* Qual é a taxa de turnover? \n",
    ">* Desses 1000 funcionários da lista, existem casos de Sim e Não?\n",
    ">* Eles realmente não querem identificar quem irá deixar a empresa? \n",
    "\n",
    ">**2ª reunião**\n",
    ">\n",
    "> <i>\"Precisamos verificar a taxa de turnover, mas aproximadamente 20% da lista que passamos pra vocês. Seria bom se conseguissemos prever quem irá deixar, e atuar nesses casos em especifico\" <i/>\n",
    ">\n"
   ]
  },
  {
   "cell_type": "markdown",
   "metadata": {},
   "source": [
    "### Critério de sucesso para o negócio\n",
    "\n",
    "* O que é um critério de sucesso? \n",
    "\n",
    "* Quem avalia os critérios de sucesso?"
   ]
  },
  {
   "cell_type": "markdown",
   "metadata": {},
   "source": [
    "## Panorama da situação \n",
    "\n",
    "* Inventário de recursos: hardware disponível, bases de dados, pessoas envolvidas\n",
    "* Faça um glossário de termos\n",
    "* Compare os custos com os potenciais benéficios"
   ]
  },
  {
   "cell_type": "markdown",
   "metadata": {},
   "source": [
    "## Objetivos do Projeto de Ciência de Dados\n",
    "\n",
    "* Traduzir as questões do negócio para as questões de ciência de dados: qual é o tipo do problema a ser resolvido (classificação, agrupamento, regressão)\n",
    "* Critérios de sucesso: métricas a serem utilizadas (AUC, precisão, sensibilidade)\n",
    "* Existe algum benchmark?\n",
    "* Existe algum critério subjetivo de sucesso ou restrição: modelo precisa ser interpretável\n",
    "* Dica de ferramenta: ML Canvas\n",
    "\n"
   ]
  },
  {
   "cell_type": "markdown",
   "metadata": {},
   "source": [
    "<img src='../figuras/ml_canvas.jpeg' >"
   ]
  },
  {
   "cell_type": "markdown",
   "metadata": {},
   "source": [
    "Nota: Para manter a organização e documentação do projeto, pode ser interessante utilizar o OneNote, costumo criar as seguintes abas para um projeto\n",
    "\n",
    "- Dados\n",
    "    * Fontes de dados\n",
    "    * Arquitetura da solução\n",
    "    * Terminologia\n",
    "    * Entendimento das bases\n",
    "    * Variáveis\n",
    "- Produto\n",
    "    * Papeis\n",
    "    * Processo\n",
    "    * Personas\n",
    "    * Time\n",
    "- Hipoteses\n",
    "    * Perguntas\n",
    "    * Brainstorming\n",
    "    * Benchmarck\n",
    "    * Retrospectiva\n",
    "- Problemas e soluções"
   ]
  },
  {
   "cell_type": "markdown",
   "metadata": {},
   "source": [
    "## Resumo \n",
    "\n",
    "Ao final, precisamos ter algumas coisas bem claras:\n",
    "\n",
    "- Quais os Objetivos Gerais e Especificos?\n",
    "- Qual é o problema que você está tentando resolver?\n",
    "- Porque ele é importante?\n",
    "- A partir de uma solução hipótetica, como esta solução afeta a empresa?\n",
    "- Como vamos medir o sucesso da solução?\n",
    "- Quem são as pessoas chave? \n",
    "\n",
    "**Essa é uma etapa desafiadora: Você precisará explicar conceitos de ciência de dados para áreas não tecnicas\"**\n",
    "\n",
    "<font color='red'>\n",
    "    \n",
    "* Não, a performance não será 100%\n",
    "    \n",
    "* Precisamos de mais dados para um modelo acurado\n",
    "\n",
    "* Para amanhã é impossível! </font>\n"
   ]
  },
  {
   "cell_type": "markdown",
   "metadata": {},
   "source": [
    "**E aí galera? Parece fácil essa etapa?**"
   ]
  },
  {
   "cell_type": "markdown",
   "metadata": {},
   "source": [
    "# Entendimento dos Dados\n",
    "\n",
    "* Coleta inicial dos dados\n",
    "* Descrição dos dados\n",
    "* Exploração dos dados\n",
    "* Verificar a qualidade dos dados"
   ]
  },
  {
   "cell_type": "markdown",
   "metadata": {},
   "source": [
    "<img src='../figuras/garbage.jpeg'>"
   ]
  },
  {
   "cell_type": "markdown",
   "metadata": {},
   "source": [
    "Algumas dicas do que pode ser feito aqui: \n",
    "\n",
    "* Análise descritiva: média, mediana, variância, desvio padrão, curtose\n",
    "* Análise gráfica univariada: \n",
    "    * boxplot, box e whisker plot: para identificar outliers e o shape da distribuição\n",
    "    * Histograma: identificar o shape da distribuição e também outliers\n",
    "    * Q-qplot: identificar se a distribuição é normal ou não\n",
    "* Análise bivariada:\n",
    "     * scatter plot\n",
    "* Análise multivariada\n",
    "    * regressão \n",
    "* Análise de qualidade:\n",
    "    * identificar erros potenciais\n",
    "    * outliers\n",
    "    * missings\n",
    "    * diferentes níveis de granularidade\n",
    "    * dados inconsistentes\n",
    "    * informações erradas\n",
    "    * metadados errados"
   ]
  },
  {
   "cell_type": "markdown",
   "metadata": {},
   "source": [
    "Algumas perguntas que podemos nos fazer:\n",
    "\n",
    "* Quantas colunas e quantas observações temos?\n",
    "* Existem dados faltantes?\n",
    "* Quais tipos de dados existem?\n",
    "* Qual o significado dos valores?\n",
    "* Existe label?\n",
    "* Existem dados duplicados?"
   ]
  },
  {
   "cell_type": "markdown",
   "metadata": {},
   "source": [
    "## Vamos criar uma venv?"
   ]
  },
  {
   "cell_type": "markdown",
   "metadata": {},
   "source": [
    "> python3 -m venv nome_do_ambiente_virtual\n",
    "\n",
    "> LINUX: source nome_do_ambiente_virtual/bin/activate\n",
    "\n",
    "> WINDOWS: nome_do_ambiente_virtual\\Scripts\\Activate\n",
    " \n",
    "> pip install ipykernel\n",
    "\n",
    "> python −m ipykernel install −−user −−name=myenv\n",
    "\n",
    "> jupyter kernelspec list\n",
    "\n",
    "https://towardsdatascience.com/create-virtual-environment-using-virtualenv-and-add-it-to-jupyter-notebook-6e1bf4e03415\n"
   ]
  },
  {
   "cell_type": "markdown",
   "metadata": {},
   "source": [
    "## Agora sim! Vamos explorar! "
   ]
  },
  {
   "cell_type": "code",
   "execution_count": null,
   "metadata": {
    "scrolled": true
   },
   "outputs": [],
   "source": [
    "# imports\n",
    "import pandas as pd \n",
    "import numpy as np \n",
    "import seaborn as sns\n",
    "import matplotlib.pyplot as plt \n",
    "\n",
    "pd.set_option('display.max_columns', None)"
   ]
  },
  {
   "cell_type": "code",
   "execution_count": null,
   "metadata": {},
   "outputs": [],
   "source": [
    "# ! pip install pandas"
   ]
  },
  {
   "cell_type": "code",
   "execution_count": null,
   "metadata": {
    "scrolled": true
   },
   "outputs": [],
   "source": [
    "# leitura do df nrows =5\n",
    "\n",
    "df = pd.read_csv('../dados/WA_Fn-UseC_-HR-Employee-Attrition_work.csv', nrows=3)\n",
    "df.head()"
   ]
  },
  {
   "cell_type": "code",
   "execution_count": null,
   "metadata": {
    "scrolled": false
   },
   "outputs": [],
   "source": [
    "#leitura completa do df\n",
    "\n",
    "df = pd.read_csv('../dados/WA_Fn-UseC_-HR-Employee-Attrition_work.csv', sep=';')\n",
    "df.shape"
   ]
  },
  {
   "cell_type": "code",
   "execution_count": null,
   "metadata": {},
   "outputs": [],
   "source": [
    "df.head()"
   ]
  },
  {
   "cell_type": "markdown",
   "metadata": {},
   "source": [
    "Vamos dar uma olhada nos dados e identificar se eles são suficientes nesse momento. É importante saber quem é o responsável pelos dados e se ele pode nos fornecer outras informações."
   ]
  },
  {
   "cell_type": "code",
   "execution_count": null,
   "metadata": {},
   "outputs": [],
   "source": [
    "# leitura do metadados\n",
    "metadados = pd.read_excel('../dados/metadados.xlsx')"
   ]
  },
  {
   "cell_type": "code",
   "execution_count": null,
   "metadata": {},
   "outputs": [],
   "source": [
    "metadados"
   ]
  },
  {
   "cell_type": "markdown",
   "metadata": {},
   "source": [
    "Vamos explorar um pouco os dados. Nessa etapa é interessante usar muitos plots."
   ]
  },
  {
   "cell_type": "code",
   "execution_count": null,
   "metadata": {
    "scrolled": false
   },
   "outputs": [],
   "source": [
    "#info\n",
    "df.info()"
   ]
  },
  {
   "cell_type": "markdown",
   "metadata": {},
   "source": [
    "Opaaa! existem mais colunas no metadados do que na tabela original! Vamos solicitar esses dados para area de negocio! "
   ]
  },
  {
   "cell_type": "markdown",
   "metadata": {},
   "source": [
    "<img src='../figuras/show_all_data.jpeg'>"
   ]
  },
  {
   "cell_type": "code",
   "execution_count": null,
   "metadata": {},
   "outputs": [],
   "source": [
    "# leitura de outros dados\n",
    "df_personal = pd.read_csv('../dados/WA_Fn-UseC_-HR-Employee-Attrition_personal.csv', sep=';')\n",
    "df_personal.shape"
   ]
  },
  {
   "cell_type": "code",
   "execution_count": null,
   "metadata": {
    "scrolled": true
   },
   "outputs": [],
   "source": [
    "df_personal.head()"
   ]
  },
  {
   "cell_type": "markdown",
   "metadata": {},
   "source": [
    "Vamos fazer o join das tabelas :D "
   ]
  },
  {
   "cell_type": "markdown",
   "metadata": {},
   "source": [
    "- qual a chave? "
   ]
  },
  {
   "cell_type": "code",
   "execution_count": null,
   "metadata": {},
   "outputs": [],
   "source": [
    "# extrai raiz\n",
    "def extrai_raiz(cpf):\n",
    "    return cpf[:-2]"
   ]
  },
  {
   "cell_type": "code",
   "execution_count": null,
   "metadata": {},
   "outputs": [],
   "source": [
    "# fazendo cast e aplicando uma função\n",
    "df_personal['cpf_9'] = df_personal.cpf_11.apply(lambda x: int(extrai_raiz(str(x))))"
   ]
  },
  {
   "cell_type": "code",
   "execution_count": null,
   "metadata": {
    "scrolled": true
   },
   "outputs": [],
   "source": [
    "df.head()"
   ]
  },
  {
   "cell_type": "code",
   "execution_count": null,
   "metadata": {},
   "outputs": [],
   "source": [
    "df_personal.head()"
   ]
  },
  {
   "cell_type": "code",
   "execution_count": null,
   "metadata": {},
   "outputs": [],
   "source": [
    "# merge\n",
    "df  = pd.merge(df, df_personal, left_on = 'cpf_9', right_on= 'cpf_9', how='inner')\n",
    "df.shape"
   ]
  },
  {
   "cell_type": "code",
   "execution_count": null,
   "metadata": {},
   "outputs": [],
   "source": [
    "df.head()"
   ]
  },
  {
   "cell_type": "markdown",
   "metadata": {},
   "source": [
    "* Vamos dar uma olhada nos tipos de variáveis: "
   ]
  },
  {
   "cell_type": "code",
   "execution_count": null,
   "metadata": {
    "scrolled": false
   },
   "outputs": [],
   "source": [
    "# groupby por dipos \n",
    "\n",
    "df.columns.to_series().groupby(df.dtypes).groups\n"
   ]
  },
  {
   "cell_type": "markdown",
   "metadata": {},
   "source": [
    "Existem variáveis de texto livre? "
   ]
  },
  {
   "cell_type": "code",
   "execution_count": null,
   "metadata": {
    "scrolled": false
   },
   "outputs": [],
   "source": [
    "# verifique se alguma coluna é instancia de str\n",
    "#e veja se é texto livre ou se está padronizado\n",
    "df_subset = df.select_dtypes(exclude=[np.number])\n",
    "df_subset.head()"
   ]
  },
  {
   "cell_type": "markdown",
   "metadata": {},
   "source": [
    "Caso existam dados do tipo str, é interessante fazer alguns tratamentos, do tipo transformar todos de maisc para mins, remover espaços e acentos, etc. "
   ]
  },
  {
   "cell_type": "code",
   "execution_count": null,
   "metadata": {},
   "outputs": [],
   "source": [
    "df_subset.Department.unique()"
   ]
  },
  {
   "cell_type": "code",
   "execution_count": null,
   "metadata": {},
   "outputs": [],
   "source": [
    "df_subset['Department'].unique()"
   ]
  },
  {
   "cell_type": "markdown",
   "metadata": {},
   "source": [
    "Agora vamos analisar os dados númericos! "
   ]
  },
  {
   "cell_type": "code",
   "execution_count": null,
   "metadata": {},
   "outputs": [],
   "source": [
    "#ax = sns.pairplot(df.drop('target',axis=1),palette=\"hus1\", height=2 )"
   ]
  },
  {
   "cell_type": "markdown",
   "metadata": {},
   "source": [
    "* Quais os ranges dos valores? \n",
    "* Os atributos fazem sentido?\n",
    "* Existe alguma variável que vai contra o senso comum? (ex.: criança menores de 5 anos com renda acima de 10 mil)\n",
    "* Quais as estatísticas básicas para cada atributo?"
   ]
  },
  {
   "cell_type": "code",
   "execution_count": null,
   "metadata": {
    "scrolled": false
   },
   "outputs": [],
   "source": [
    "# describe\n",
    "df_number = df.select_dtypes(include=[np.number])"
   ]
  },
  {
   "cell_type": "code",
   "execution_count": null,
   "metadata": {
    "scrolled": false
   },
   "outputs": [],
   "source": [
    "df_number.describe()"
   ]
  },
  {
   "cell_type": "markdown",
   "metadata": {},
   "source": [
    "**Conclusão:** Observamos valores entre  0 e 1 em algumas variáveis e outras que podem ultrapassar a casa dos milhares"
   ]
  },
  {
   "cell_type": "markdown",
   "metadata": {},
   "source": [
    "Existem outliers?\n",
    "\n",
    "*Lembrando: um outlier é um ponto em um data set que é distante de todas as outras observações. A ponto que está fora da distribuição geral dos dados.*"
   ]
  },
  {
   "cell_type": "code",
   "execution_count": null,
   "metadata": {},
   "outputs": [],
   "source": [
    "df.columns"
   ]
  },
  {
   "cell_type": "code",
   "execution_count": null,
   "metadata": {
    "scrolled": true
   },
   "outputs": [],
   "source": [
    "# boxplot\n",
    "fig, axes = plt.subplots(2, 3, figsize=(10, 20))\n",
    "                         \n",
    "axes[0,0].set_title('Boxplot DistanceFromHome')\n",
    "ax1 = sns.boxplot(ax=axes[0,0], y='DistanceFromHome', palette='husl', data=df)\n",
    "axes[0,1].set_title('Boxplot TotalWorkingYears')\n",
    "ax2 = sns.boxplot(ax=axes[0,1], y='TotalWorkingYears', palette='husl', data=df)\n",
    "axes[0,2].set_title('Boxplot YearsInCurrentRole')\n",
    "ax3 = sns.boxplot(ax=axes[0,2], y='YearsInCurrentRole', palette='husl', data=df)\n",
    "\n",
    "\n",
    "\n",
    "axes[1,0].set_title('Boxplot NumCompaniesWorked')\n",
    "ax1 = sns.boxplot(ax=axes[1,0], y='NumCompaniesWorked', palette='husl', data=df)\n",
    "axes[1,1].set_title('Boxplot  MonthlyIncome')\n",
    "ax2 = sns.boxplot(ax=axes[1,1], y='MonthlyIncome', palette='husl', data=df)\n",
    "axes[1,2].set_title('Boxplot YearsAtCompany')\n",
    "ax3 = sns.boxplot(ax=axes[1,2], y='YearsAtCompany', palette='husl', data=df)\n",
    "\n",
    "\n",
    "# axes[2,0].set_title('Boxplot mean concavity')\n",
    "# ax1 = sns.boxplot(ax=axes[2,0], y='mean concavity', palette='husl', data=df)\n",
    "# axes[2,1].set_title('Boxplot mean concave points')\n",
    "# ax2 = sns.boxplot(ax=axes[2,1], y='mean concave points', palette='husl', data=df)\n",
    "# axes[2,2].set_title('Boxplot mean symmetry')\n",
    "# ax3 = sns.boxplot(ax=axes[2,2], y='mean symmetry', palette='husl', data=df)"
   ]
  },
  {
   "cell_type": "code",
   "execution_count": null,
   "metadata": {
    "scrolled": true
   },
   "outputs": [],
   "source": [
    "# podemos analisar alguma variavel especifica:\n",
    "\n",
    "ax = sns.boxplot(y='YearsAtCompany', palette='husl', data=df)\n",
    "ax.set_ylim([0, 30])"
   ]
  },
  {
   "cell_type": "markdown",
   "metadata": {},
   "source": [
    "\n",
    "Usando o IQR: "
   ]
  },
  {
   "cell_type": "code",
   "execution_count": null,
   "metadata": {},
   "outputs": [],
   "source": [
    "# calculo do iqr : seleciona o percentil 1 e 3,  faz q3 - q1; \n",
    "q1, q3 = np.percentile(df['YearsAtCompany'], [25, 75])\n",
    "iqr = q3 - q1\n",
    "\n",
    "# limite inferior: q1 -(1.5 * iqr) \n",
    "# limite superior: q3 +(1.5 * iqr)\n",
    "lower_bound = q1 -(1.5 * iqr) \n",
    "upper_bound = q3 +(1.5 * iqr)\n"
   ]
  },
  {
   "cell_type": "code",
   "execution_count": null,
   "metadata": {
    "scrolled": true
   },
   "outputs": [],
   "source": [
    "print('lower bound', lower_bound)\n",
    "print('upper bound', upper_bound)"
   ]
  },
  {
   "cell_type": "markdown",
   "metadata": {},
   "source": [
    "*Vamos pensar um pouco sobre a remoção de outliers. Sempre devemos removê-los?*"
   ]
  },
  {
   "cell_type": "markdown",
   "metadata": {},
   "source": [
    "* Qual a distribuição das variáveis:\n",
    "    "
   ]
  },
  {
   "cell_type": "code",
   "execution_count": null,
   "metadata": {},
   "outputs": [],
   "source": [
    "numerics = ['int16', 'int32', 'int64', 'float16', 'float32', 'float64']\n",
    "newdf = df.select_dtypes(include=numerics)"
   ]
  },
  {
   "cell_type": "code",
   "execution_count": null,
   "metadata": {
    "scrolled": true
   },
   "outputs": [],
   "source": [
    "# plots de hist para cada coluna\n",
    "for i in newdf.columns:\n",
    "    plt.figure()\n",
    "    plt.title(i)\n",
    "    plt.hist(newdf[i])"
   ]
  },
  {
   "cell_type": "code",
   "execution_count": null,
   "metadata": {},
   "outputs": [],
   "source": [
    "metadados"
   ]
  },
  {
   "cell_type": "code",
   "execution_count": null,
   "metadata": {},
   "outputs": [],
   "source": [
    "# um unico plot \n",
    "newdf.hist(layout=(6, 5), figsize=(25,15))\n",
    "plt.show()"
   ]
  },
  {
   "cell_type": "markdown",
   "metadata": {},
   "source": [
    "* Existem atributos correlacionados? O que isso significa?"
   ]
  },
  {
   "cell_type": "markdown",
   "metadata": {},
   "source": [
    "Qual tipo de correlação usar? \n",
    "<img src='../figuras/types_correlation.png'>"
   ]
  },
  {
   "cell_type": "code",
   "execution_count": null,
   "metadata": {
    "scrolled": true
   },
   "outputs": [],
   "source": [
    "df.columns"
   ]
  },
  {
   "cell_type": "code",
   "execution_count": null,
   "metadata": {},
   "outputs": [],
   "source": [
    "# variaveis continuas \n",
    "continuas = ['DailyRate','DistanceFromHome', 'EmployeeCount',\\\n",
    "            'HourlyRate','JobLevel', 'MonthlyIncome', 'MonthlyRate',\\\n",
    "             'NumCompaniesWorked', 'JobLevel','PercentSalaryHike','StandardHours',\\\n",
    "            'StockOptionLevel', 'TotalWorkingYears', 'TrainingTimesLastYear',\\\n",
    "              'YearsAtCompany', 'YearsInCurrentRole',\\\n",
    "               'YearsSinceLastPromotion', 'YearsWithCurrManager','Age']\n",
    "\n",
    "# variaveis categoricas \n",
    "categoricas = ['Attrition','BusinessTravel','Department',\\\n",
    "               'EnvironmentSatisfaction',\\\n",
    "              'JobInvolvement', 'JobRole',\\\n",
    "               'JobSatisfaction','OverTime','PerformanceRating',\\\n",
    "               'RelationshipSatisfaction', 'WorkLifeBalance', 'Over18','Education',\\\n",
    "             'EducationField', 'Gender', 'MaritalStatus']\n",
    "\n",
    "# chaves\n",
    "chaves = ['cpf_9', 'cpf_11']"
   ]
  },
  {
   "cell_type": "code",
   "execution_count": null,
   "metadata": {},
   "outputs": [],
   "source": [
    "# correlacao usando o seaborn \n",
    "plt.figure(figsize=(15,8))\n",
    "sns.heatmap(df.corr(method='pearson'), annot=True, cmap='YlGnBu', fmt='.1g')\n",
    "plt.show()"
   ]
  },
  {
   "cell_type": "markdown",
   "metadata": {},
   "source": [
    "**Conclusão** Existem algumas variáveis correlacionadas. Mas essa forma de visualizar não nos ajuda muito, pois temos muitas variáveis. Vamos então, visualizar de outra maneira:"
   ]
  },
  {
   "cell_type": "code",
   "execution_count": null,
   "metadata": {
    "scrolled": false
   },
   "outputs": [],
   "source": [
    "plt.figure(figsize=(15,8))\n",
    "matriz = np.triu(df.corr())\n",
    "\n",
    "# usando a triangular da correlacao \n",
    "sns.heatmap(df.corr(method='pearson'), mask= matriz, annot=True, cmap='YlGnBu', fmt='.1g')\n"
   ]
  },
  {
   "cell_type": "code",
   "execution_count": null,
   "metadata": {
    "scrolled": true
   },
   "outputs": [],
   "source": [
    "corr = df.corr(method='pearson')\n",
    "\n",
    "plt.figure(figsize=(15,8))\n",
    "absoluto = np.abs(corr)\n",
    "# fazendo um corte nos valores a serem mostrados\n",
    "corte = absoluto[(absoluto >= 0.7)]\n",
    "\n",
    "matriz = np.triu(corte)\n",
    "\n",
    "sns.heatmap(corte, mask= matriz, annot=True, cmap='YlGnBu', fmt='.1g')\n"
   ]
  },
  {
   "cell_type": "code",
   "execution_count": null,
   "metadata": {},
   "outputs": [],
   "source": [
    "df.head()"
   ]
  },
  {
   "cell_type": "code",
   "execution_count": null,
   "metadata": {},
   "outputs": [],
   "source": [
    "# fazendo um replace nos valores de atrition\n",
    "df = df.replace({'Yes':1, 'No':0})"
   ]
  },
  {
   "cell_type": "code",
   "execution_count": null,
   "metadata": {},
   "outputs": [],
   "source": [
    "df.head()"
   ]
  },
  {
   "cell_type": "code",
   "execution_count": null,
   "metadata": {},
   "outputs": [],
   "source": [
    "# calculando a correlacao de novo\n"
   ]
  },
  {
   "cell_type": "markdown",
   "metadata": {},
   "source": [
    "* Os dados precisam ser balanceados? \n",
    "\n",
    "- Lembrando, que a literatura considera um dado desbalanceado quando uma classe represante menos de 30%. "
   ]
  },
  {
   "cell_type": "code",
   "execution_count": null,
   "metadata": {
    "scrolled": true
   },
   "outputs": [],
   "source": [
    "#code\n",
    "\n",
    "df.Attrition.value_counts(normalize=True)"
   ]
  },
  {
   "cell_type": "markdown",
   "metadata": {},
   "source": [
    "**Conclusão** "
   ]
  },
  {
   "cell_type": "markdown",
   "metadata": {},
   "source": [
    "* Existem chaves duplicadas? "
   ]
  },
  {
   "cell_type": "code",
   "execution_count": null,
   "metadata": {},
   "outputs": [],
   "source": [
    "# PARA FINS DIDATICOS\n",
    "# df['ID'] = np.arange(0, len(df))"
   ]
  },
  {
   "cell_type": "code",
   "execution_count": null,
   "metadata": {},
   "outputs": [],
   "source": [
    "ids = df[\"cpf_9\"] \n",
    "df[ids.isin(ids[ids.duplicated()])].sort_values(by=\"cpf_9\")"
   ]
  },
  {
   "cell_type": "markdown",
   "metadata": {},
   "source": [
    "* Existem dados faltantes?"
   ]
  },
  {
   "cell_type": "code",
   "execution_count": null,
   "metadata": {
    "scrolled": true
   },
   "outputs": [],
   "source": [
    "# jeito facil\n",
    "df.isnull().sum()"
   ]
  },
  {
   "cell_type": "code",
   "execution_count": null,
   "metadata": {},
   "outputs": [],
   "source": [
    "# ou uma saída mais formatada\n",
    "def missing_values_table(df):\n",
    "    mis_val = df.isnull().sum()\n",
    "    mis_val_percent = 100 * df.isnull().sum() / len(df)\n",
    "    mis_val_table = pd.concat([mis_val, mis_val_percent], axis=1)\n",
    "    mis_val_table_ren_columns = mis_val_table.rename(\n",
    "    columns = {0 : 'Missing Values', 1 : '% of Total Values'})\n",
    "    mis_val_table_ren_columns = mis_val_table_ren_columns[\n",
    "        mis_val_table_ren_columns.iloc[:,1] != 0].sort_values(\n",
    "    '% of Total Values', ascending=False).round(1)\n",
    "    print (\"Your selected dataframe has \" + str(df.shape[1]) + \" columns.\\n\"      \n",
    "        \"There are \" + str(mis_val_table_ren_columns.shape[0]) +\n",
    "            \" columns that have missing values.\")\n",
    "    return mis_val_table_ren_columns"
   ]
  },
  {
   "cell_type": "code",
   "execution_count": null,
   "metadata": {
    "scrolled": true
   },
   "outputs": [],
   "source": [
    "missing_values_table(df)"
   ]
  },
  {
   "cell_type": "markdown",
   "metadata": {},
   "source": [
    "* Alguma variável pode estar vazando a variável resposta? "
   ]
  },
  {
   "cell_type": "markdown",
   "metadata": {},
   "source": [
    "Essa informação pode ser observada na matriz de correlação e principalmente, do entendimento dos dados. Se por exemplo, nos dados tivermos uma coluna com a informação de fez cirurgia para remoção de tumor, essa é uma variável que vaza a variável reposta."
   ]
  },
  {
   "cell_type": "markdown",
   "metadata": {},
   "source": [
    "## Resumo\n",
    "\n",
    "* Existem ruídos?  O que faremos?\n",
    "* Existe redundância? \n",
    "* Existem outliers? \n",
    "* Quais os principais insights?"
   ]
  },
  {
   "cell_type": "markdown",
   "metadata": {},
   "source": [
    "\n",
    "** Observamos que existem variáveis correlacionadas;\n",
    "\n",
    "** Variáveis com ranges diferentes; \n",
    "\n",
    "** Outliers;\n",
    "\n",
    "** Variáveis categóricas  não numericas "
   ]
  },
  {
   "cell_type": "markdown",
   "metadata": {},
   "source": [
    "**Pergunta rápida: Essas perguntas vão se aplicar para todos os projetos?**"
   ]
  },
  {
   "cell_type": "markdown",
   "metadata": {},
   "source": [
    "# Preparaçao dos Dados\n",
    "\n",
    "* Selecionar os dados\n",
    "* Limpar os dados\n",
    "* Construir variáveis\n",
    "* Integrar: appending ou merging\n",
    "* Formatar para o modelo\n",
    "\n",
    "ref: Zheng, Alice, and Amanda Casari. Feature engineering for machine learning: principles and techniques for data scientists. \" O'Reilly Media, Inc.\", 2018."
   ]
  },
  {
   "cell_type": "markdown",
   "metadata": {},
   "source": [
    "<img src='../figuras/dirty_data.jpeg'>"
   ]
  },
  {
   "cell_type": "markdown",
   "metadata": {},
   "source": [
    "* Vamos usar todos os dados que estão disponíveis?  (essa é a reposta, por exemplo, da análise de correlação)"
   ]
  },
  {
   "cell_type": "markdown",
   "metadata": {},
   "source": [
    "* Vamos integrar dados de fontes diferentes? "
   ]
  },
  {
   "cell_type": "markdown",
   "metadata": {},
   "source": [
    "* Precisamos remover algum ruído? ou outlier?"
   ]
  },
  {
   "cell_type": "markdown",
   "metadata": {},
   "source": [
    "* Algum atributo percisa ser normalizado? (geralmente isso influencia no algoritmo de ML que escolhemos)"
   ]
  },
  {
   "cell_type": "code",
   "execution_count": null,
   "metadata": {},
   "outputs": [],
   "source": [
    "# from sklearn.preprocessing import StandardScaler\n",
    "# sc = StandardScaler()  \n",
    "# X_train = sc.fit_transform(X_train)  \n",
    "# X_test = sc.transform(X_test)"
   ]
  },
  {
   "cell_type": "markdown",
   "metadata": {},
   "source": [
    "* Vamos transformar alguma variável?\n",
    "\n",
    "https://contrib.scikit-learn.org/category_encoders/\n",
    "\n",
    "https://machinelearningmastery.com/one-hot-encoding-for-categorical-data/\n"
   ]
  },
  {
   "cell_type": "code",
   "execution_count": null,
   "metadata": {},
   "outputs": [],
   "source": [
    "# get dummies "
   ]
  },
  {
   "cell_type": "markdown",
   "metadata": {},
   "source": [
    "* A variável resposta foi dada ou precisa ser construída? "
   ]
  },
  {
   "cell_type": "markdown",
   "metadata": {},
   "source": [
    "* Podemos usar algum metódo para selecionar variáveis? "
   ]
  },
  {
   "cell_type": "markdown",
   "metadata": {},
   "source": [
    "## Resumo:\n",
    "\n",
    "* Descreva quais foram os tratamentos feitos\n",
    "* Qual a volumetria antes e depois dos tratamentos"
   ]
  },
  {
   "cell_type": "markdown",
   "metadata": {},
   "source": [
    "# Modelagem \n",
    "\n",
    "* Selecionar a técnica de modelagem\n",
    "* Escolher o design de testes\n",
    "* Construir o modelo\n",
    "* Verificar o modelo"
   ]
  },
  {
   "cell_type": "markdown",
   "metadata": {},
   "source": [
    "<img src='../figuras/ml.jpeg'>"
   ]
  },
  {
   "cell_type": "markdown",
   "metadata": {},
   "source": [
    "## Escolha da técnica \n",
    "\n",
    "* Deve existir uma técnica baseline? Qual? \n",
    " - já existe algum modelo sendo utilizado? "
   ]
  },
  {
   "cell_type": "markdown",
   "metadata": {},
   "source": [
    "### Técnicas:\n",
    "- Supervisionadas: classificação, predição, recomendação\n",
    "- Não supervisionadas\n",
    "- Reforço\n"
   ]
  },
  {
   "cell_type": "markdown",
   "metadata": {},
   "source": [
    "<img src='../figuras/ml_map.png'>"
   ]
  },
  {
   "cell_type": "code",
   "execution_count": null,
   "metadata": {},
   "outputs": [],
   "source": [
    "from sklearn.ensemble import RandomForestClassifier\n",
    "\n",
    "# CUIDADO chamar qualquer metódo baseado em arvores sem parametros fará um modelo overfitado!\n",
    "clf = RandomForestClassifier()"
   ]
  },
  {
   "cell_type": "markdown",
   "metadata": {},
   "source": [
    "Discussão: esse modelo permite interpretabilidade, além disso alguns modelos possuem pressupostos especifios sobre os dados, por exemplo, distribuição uniforme. "
   ]
  },
  {
   "cell_type": "code",
   "execution_count": null,
   "metadata": {},
   "outputs": [],
   "source": [
    "clf = RandomForestClassifier(random_state=42, n_estimators=500, max_leaf_nodes=30, min_samples_split=5)"
   ]
  },
  {
   "cell_type": "code",
   "execution_count": null,
   "metadata": {},
   "outputs": [],
   "source": [
    "# train and test\n",
    "X_train, X_test, y_train, y_test = train_test_split(\n",
    "    X_sel, y, test_size=0.33, random_state=42)"
   ]
  },
  {
   "cell_type": "code",
   "execution_count": null,
   "metadata": {},
   "outputs": [],
   "source": [
    "# modelo \n",
    "clf = clf.fit(X_train, y_train)\n",
    "pred = clf.predict_proba(X_test)[:,1]"
   ]
  },
  {
   "cell_type": "code",
   "execution_count": null,
   "metadata": {
    "scrolled": true
   },
   "outputs": [],
   "source": [
    "from sklearn import metrics\n",
    "\n",
    "fpr, tpr, thresholds = metrics.roc_curve(y_test, pred)\n",
    "metrics.auc(fpr, tpr)"
   ]
  },
  {
   "cell_type": "code",
   "execution_count": null,
   "metadata": {
    "scrolled": true
   },
   "outputs": [],
   "source": [
    "# Grid search \n",
    "\n",
    "from sklearn.model_selection import GridSearchCV\n",
    "\n",
    "params = {'max_leaf_nodes': [2,4,8,16,32,64,128], 'min_samples_split':[2,3,4]}\n",
    "# no RF quanto mais estimadores melhor o modelo\n",
    "grid_search_cv = GridSearchCV(RandomForestClassifier(n_estimators=500, random_state=42), params, verbose=1, cv=3, scoring='roc_auc')\n",
    "grid_search_cv.fit(X_train, y_train)"
   ]
  },
  {
   "cell_type": "code",
   "execution_count": null,
   "metadata": {},
   "outputs": [],
   "source": [
    "grid_search_cv.best_params_"
   ]
  },
  {
   "cell_type": "code",
   "execution_count": null,
   "metadata": {},
   "outputs": [],
   "source": [
    "clf = RandomForestClassifier(random_state=42, n_estimators=500,**grid_search_cv.best_params_)\n",
    "clf = clf.fit(X_train, y_train)\n",
    "pred = clf.predict_proba(X_test)[:,1]"
   ]
  },
  {
   "cell_type": "code",
   "execution_count": null,
   "metadata": {},
   "outputs": [],
   "source": [
    "fpr, tpr, thresholds = metrics.roc_curve(y_test, pred)\n",
    "metrics.auc(fpr, tpr)"
   ]
  },
  {
   "cell_type": "code",
   "execution_count": null,
   "metadata": {},
   "outputs": [],
   "source": []
  },
  {
   "cell_type": "markdown",
   "metadata": {},
   "source": [
    "# Avaliação dos resultados "
   ]
  },
  {
   "cell_type": "code",
   "execution_count": null,
   "metadata": {
    "scrolled": true
   },
   "outputs": [],
   "source": [
    "from sklearn.metrics import precision_recall_curve, roc_auc_score, roc_curve, auc\n",
    "\n",
    "plt.figure()\n",
    "lw= 2\n",
    "y_pred_proba = clf.predict_proba(X_test)[:,1]\n",
    "fpr, tpr, _  = roc_curve(y_test, y_pred_proba)\n",
    "auc_roc = roc_auc_score(y_test, y_pred_proba)\n",
    "plt.plot([0,1], [0, 1], color='navy', lw=lw, linestyle = '--')\n",
    "plt.plot(fpr, tpr, label='ROC curve (area = %0.2f)' %auc_roc, color='darkorange')\n",
    "plt.xlabel('FPR')\n",
    "plt.ylabel('TPR')\n",
    "plt.title('ROC')\n",
    "\n",
    "plt.show()\n"
   ]
  },
  {
   "cell_type": "code",
   "execution_count": null,
   "metadata": {},
   "outputs": [],
   "source": [
    "y_pred_df = pd.DataFrame(y_pred_proba, index=X_test.index, columns=['pred'])\n",
    "y_pred_df"
   ]
  },
  {
   "cell_type": "code",
   "execution_count": null,
   "metadata": {},
   "outputs": [],
   "source": [
    "y_pred_df.sort_values('pred', ascending=False)"
   ]
  },
  {
   "cell_type": "code",
   "execution_count": null,
   "metadata": {
    "scrolled": true
   },
   "outputs": [],
   "source": [
    "from sklearn.metrics import confusion_matrix\n",
    "\n",
    "th = 0.65\n",
    "\n",
    "fig, axes = plt.subplots(ncols=2,  nrows = 2, figsize=(15, 15))\n",
    "\n",
    "precision, recall, thresholds = precision_recall_curve(y_test, y_pred_proba)\n",
    "loc =  np.argmin(np.abs(thresholds-th))\n",
    "print('PR AUC: ', auc(recall, precision))\n",
    "axes[0,0].plot(recall, precision)\n",
    "axes[0,0].plot(recall[loc], precision[loc], 'ko')\n",
    "axes[0,0].set_title('Curva de precisao recall')\n",
    "axes[0,0].set_xlabel('Recall')\n",
    "axes[0,0].set_title('Precisao')\n",
    "\n",
    "fpr, tpr, thresholds = roc_curve(y_test, y_pred_proba)\n",
    "loc = np.argmin(np.abs(thresholds-th))\n",
    "print('ROC AUC: ', auc(fpr, tpr)*100)\n",
    "axes[0,1].plot(fpr, tpr, color='blue', label='ROC')\n",
    "axes[0,1].plot(fpr[loc], tpr[loc], color='red',marker= 'o',  label='ROC')\n",
    "plt.plot([0,1], [0, 1], color='grey', lw=lw, linestyle = '--')\n",
    "axes[0,1].set_title('Taxa de FP')\n",
    "axes[0,1].set_xlabel('Taxa de VP')\n",
    "axes[0,1].set_title('Curva |ROC')\n",
    "\n",
    "limiar =th\n",
    "\n",
    "cm = confusion_matrix(y_test, (y_pred_proba>=th))\n",
    "print(cm/np.sum(cm))\n",
    "\n",
    "sns.heatmap(cm, vmax=np.max(cm), vmin=np.min(cm), annot=True, square=True, fmt='g', ax=axes[1,0])\n",
    "axes[1,0].set_title('Matriz de confusao (Limiar={})'.format(limiar))\n",
    "axes[1,0].set_xlabel('Previsao')\n",
    "axes[1,0].set_ylabel('Verdadeiro')\n",
    "\n",
    "lista_fn = []\n",
    "lista_fp = []\n",
    "x = []\n",
    "\n",
    "for i in np.arange(0,1, 0.01):\n",
    "    cm =confusion_matrix(y_test, (y_pred_proba>=i))\n",
    "    lista_fn.append(cm[1,0]/(cm[1,0]+cm[1,1]))\n",
    "    lista_fp.append(cm[0,1]/(cm[0,1]+cm[0,0]))\n",
    "    x.append(i)\n",
    "\n",
    "axes[1,1].axvline(th, color='k', linestyle=':')\n",
    "axes[1,1].plot(x, lista_fn, label='FN')\n",
    "axes[1,1].plot(x, lista_fp, label='FP')\n",
    "axes[1,1].set_title('FP/FN limiar de decisao')\n",
    "axes[1,1].legend()"
   ]
  },
  {
   "cell_type": "code",
   "execution_count": null,
   "metadata": {},
   "outputs": [],
   "source": [
    "y_test_df = y_test.to_frame()\n",
    "y_test_df.loc[:,'pred'] =  y_pred_proba\n",
    "y_test_df"
   ]
  },
  {
   "cell_type": "code",
   "execution_count": null,
   "metadata": {},
   "outputs": [],
   "source": []
  },
  {
   "cell_type": "code",
   "execution_count": null,
   "metadata": {
    "scrolled": false
   },
   "outputs": [],
   "source": [
    "plt.figure(figsize=(8,8))\n",
    "ax = plt.subplot(1,1,1)\n",
    "aux = y_test_df.sort_values('pred', ascending=False).reset_index()\n",
    "aux.loc[:, 'y_win'] = aux.target.cumsum().div(np.arange(1,aux.shape[0]+1))\n",
    "aux.y_win.plot(color='b', label='Modelo')\n",
    "\n",
    "aux2 = y_test_df.sort_values('pred', ascending=False).sample(frac=1).reset_index()\n",
    "aux2.loc[:, 'y_win'] = aux2.target.cumsum().div(np.arange(1,aux.shape[0]+1))\n",
    "aux2.y_win.plot(color='k', label='Aleatorio')\n",
    "\n",
    "plt.ylabel('Qts pessoas testam positivo')\n",
    "plt.ylabel('Qts pessoas fazem o exame')\n",
    "plt.axvline(100, color='k', linestyle=':')\n",
    "\n",
    "plt.legend();"
   ]
  },
  {
   "cell_type": "markdown",
   "metadata": {},
   "source": [
    "### E sobre as variáveis? "
   ]
  },
  {
   "cell_type": "code",
   "execution_count": null,
   "metadata": {
    "scrolled": true
   },
   "outputs": [],
   "source": [
    "imps= clf.feature_importances_\n",
    "cols = X_test.columns\n",
    "order = np.argsort(imps)[::-1]\n",
    "\n",
    "for col, imp in zip(cols[order], imps[order]):\n",
    "    print(f'{col:30s} | {imp:7.3f}')"
   ]
  },
  {
   "cell_type": "code",
   "execution_count": null,
   "metadata": {
    "scrolled": true
   },
   "outputs": [],
   "source": [
    "M = X_test['worst concave points'].max()\n",
    "plt.figure(figsize=(15,5))\n",
    "plt.hist(X_test.loc[y_test==0]['worst concave points'], bins=np.linspace(0,M, 11), color='b', alpha=.3, density=True, rwidth=.3)\n",
    "plt.hist(X_test.loc[y_test==1]['worst concave points'], bins=np.linspace(0,M, 11), color='r', alpha=.3, density=True, rwidth=.3)\n"
   ]
  },
  {
   "cell_type": "markdown",
   "metadata": {},
   "source": [
    "### Revisão \n",
    "\n",
    "* Faça um overview do processo de ciência de dados\n",
    "* Análise as seguintes questões para cada etapa:\n",
    "    * Isso é necessário?\n",
    "    * Isso está sendo executado de forma otimizada?\n",
    "    * De que maneira isso pode ser melhorado?\n",
    "* Existem falhas? Etapas com problemas? Quais as alternativas nesses casos?\n",
    "* O que foi encontrado que não era esperado (subprodutos de DS)?\n",
    "* Os requisitos e demandas do negócio ainda fazem sentido? O resultado encontrado precisará ser adaptado?"
   ]
  },
  {
   "cell_type": "markdown",
   "metadata": {},
   "source": [
    "### Proximos Passos: \n",
    "\n",
    "* Qual é o modelo com maior potencial para deploy?\n",
    "* O quanto esse modelo melhora o processo atual?\n",
    "* Existem melhorias para a continuidade do modelo?\n"
   ]
  },
  {
   "cell_type": "markdown",
   "metadata": {},
   "source": [
    "**O que vcs acharam do tempo gasto com a modelagem em relação às outras etapas?**"
   ]
  },
  {
   "cell_type": "markdown",
   "metadata": {},
   "source": [
    "# Deployment"
   ]
  },
  {
   "cell_type": "markdown",
   "metadata": {},
   "source": [
    "* Plano de deploy\n",
    "* Monitoraçãomento e Manutenção\n",
    "* Reporte final"
   ]
  },
  {
   "cell_type": "markdown",
   "metadata": {},
   "source": [
    "<img src='../figuras/deploy.jpeg' >"
   ]
  },
  {
   "cell_type": "markdown",
   "metadata": {},
   "source": [
    "* Testes?\n",
    "* Retreino?\n",
    "* py?"
   ]
  },
  {
   "cell_type": "markdown",
   "metadata": {},
   "source": [
    "# Referências\n",
    "\n",
    "* [Vídeo - Ciência de dados além do código](https://youtu.be/qtMzVEWo0d4)\n",
    "* [Tutorial-  Sklearn](https://scikit-learn.org/stable/index.html)\n",
    "* [Tutorial - Crisp-dm Guide](http://www.statoo.com/CRISP-DM.pdf)\n",
    "* [Livro - Manual Prático de Data Science - Mário Filho](https://www.amazon.com.br/Manual-Pr%C3%A1tico-Science-Mario-Filho-ebook/dp/B08MTMSDRG)\n",
    "* [Livro - Machine Learning Guia de Referência Rápida - Matt Harrison](https://www.amazon.com.br/Machine-Learning-Refer%C3%AAncia-Trabalhando-estruturados-ebook/dp/B08255K2ZQ/ref=sr_1_1?__mk_pt_BR=%C3%85M%C3%85%C5%BD%C3%95%C3%91&crid=3LZW6QJ7VZT0A&dchild=1&keywords=machine+learning+guia+de+refer%C3%AAncia+r%C3%A1pida&qid=1624923606&sprefix=machine+learning+guia+de+%2Cdigital-text%2C281&sr=8-1)\n",
    "* [Dados - Breast Cancer Wisconsin Dataset](https://archive.ics.uci.edu/ml/datasets/Breast+Cancer+Wisconsin+(Diagnostic))\n",
    "* [Artigo - Visualizations that really work](https://hbr.org/2016/06/visualizations-that-really-work)\n",
    "* [Artigo - Gerenciamento de Projetos de Data Science com CRISP](https://medium.com/data-hackers/project-data-science-pds-39d5a78e058a)"
   ]
  },
  {
   "cell_type": "markdown",
   "metadata": {},
   "source": [
    "# Resumo \n",
    "\n",
    "* O que aprendemos hoje? \n",
    "* O que você sugere de melhorias nesse processo? **#desafio**\n"
   ]
  }
 ],
 "metadata": {
  "hide_input": false,
  "kernelspec": {
   "display_name": "Python 3 (ipykernel)",
   "language": "python",
   "name": "python3"
  },
  "language_info": {
   "codemirror_mode": {
    "name": "ipython",
    "version": 3
   },
   "file_extension": ".py",
   "mimetype": "text/x-python",
   "name": "python",
   "nbconvert_exporter": "python",
   "pygments_lexer": "ipython3",
   "version": "3.9.1"
  },
  "toc": {
   "base_numbering": 1,
   "nav_menu": {},
   "number_sections": true,
   "sideBar": true,
   "skip_h1_title": false,
   "title_cell": "Table of Contents",
   "title_sidebar": "Contents",
   "toc_cell": true,
   "toc_position": {
    "height": "calc(100% - 180px)",
    "left": "10px",
    "top": "150px",
    "width": "273.188px"
   },
   "toc_section_display": true,
   "toc_window_display": false
  }
 },
 "nbformat": 4,
 "nbformat_minor": 4
}
