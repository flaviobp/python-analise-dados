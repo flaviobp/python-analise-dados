{
 "cells": [
  {
   "cell_type": "markdown",
   "id": "d047cec7",
   "metadata": {},
   "source": [
    "# LI PROGRAMA DE VERÃO (2022 - edição 51)\n"
   ]
  },
  {
   "cell_type": "markdown",
   "id": "77392e0f",
   "metadata": {},
   "source": [
    "<img src='../figuras/paisagem.png'>"
   ]
  },
  {
   "cell_type": "markdown",
   "id": "ba843f0b",
   "metadata": {},
   "source": [
    "## Recapitulando a aula anterior:\n",
    "\n",
    "\n"
   ]
  },
  {
   "cell_type": "markdown",
   "id": "9d2ad4f6",
   "metadata": {},
   "source": [
    "<img src='../figuras/revisao.jpeg'>\n"
   ]
  },
  {
   "cell_type": "markdown",
   "id": "d0f01639",
   "metadata": {},
   "source": [
    "> * int, str, float, bool\n",
    "> * listas, tuplas, dicionários, conjuntos\n",
    "> * como construir funções"
   ]
  },
  {
   "cell_type": "code",
   "execution_count": null,
   "id": "9625e636",
   "metadata": {},
   "outputs": [],
   "source": []
  },
  {
   "cell_type": "markdown",
   "id": "14586c98",
   "metadata": {},
   "source": [
    "# Bibliotecas\n",
    "\n",
    "* Pandas *\n",
    "* Numpy *\n",
    "* MatplotLib\n",
    "* Sklearn"
   ]
  },
  {
   "cell_type": "markdown",
   "id": "902b8e08",
   "metadata": {},
   "source": [
    "# Numpy "
   ]
  },
  {
   "cell_type": "markdown",
   "id": "89d19442",
   "metadata": {},
   "source": [
    "* Biblioteca para cálculos númericos multidimensionais \n",
    "* Os Arrays NumPy são usados para armazenar os dados de treinamento, bem como os parâmetros dos modelos de Machine Learning.\n",
    "* O tipo principal, o ndarray é um bloco de mémoria continuo com itens do mesmo tipo"
   ]
  },
  {
   "cell_type": "markdown",
   "id": "5ce5a171",
   "metadata": {},
   "source": [
    "* ndarray : é um array multidimensional rápico e eficiente no consumo de memória, provendo operações aritméticas e outros recursos sofisticados; \n",
    "* funções matemáticas padronizadas para operações rápidas sem necessidade de loops\n",
    "* ferramentas para leitura e escrita em disco \n",
    "* algebra linear, geração de numéros randômicos e transformada de fourie;\n",
    "* integração com C e Fortran"
   ]
  },
  {
   "cell_type": "markdown",
   "id": "d708318b",
   "metadata": {},
   "source": [
    "## O que vamos aprender sobre o numpy? \n",
    "\n",
    "* como criar?\n",
    "* atributos: size, shape, data type\n",
    "* como adicionar, remover e ordenar elementos?\n",
    "* como acessar? \n",
    "* operações úteis \n",
    "* como salvar e ler um arquivo "
   ]
  },
  {
   "cell_type": "markdown",
   "id": "5b839fb2",
   "metadata": {},
   "source": [
    "### Import"
   ]
  },
  {
   "cell_type": "code",
   "execution_count": 1,
   "id": "762517a8",
   "metadata": {},
   "outputs": [],
   "source": [
    "import numpy as np # pq usar o np ao invés de apenas numpy?"
   ]
  },
  {
   "cell_type": "markdown",
   "id": "22d85a72",
   "metadata": {},
   "source": [
    "### Create \n",
    "\n",
    "* array\n",
    "* ones, empty, zeros\n",
    "* identity, eye"
   ]
  },
  {
   "cell_type": "markdown",
   "id": "9e862520",
   "metadata": {},
   "source": [
    "**Unidimensional**\n",
    " (possuem apenas uma dimensão)"
   ]
  },
  {
   "cell_type": "code",
   "execution_count": 2,
   "id": "ca8907d9",
   "metadata": {
    "code_folding": []
   },
   "outputs": [],
   "source": [
    "a = np.array([1,2,3,4,5]) # criando array a"
   ]
  },
  {
   "cell_type": "code",
   "execution_count": 3,
   "id": "b2b63f91",
   "metadata": {},
   "outputs": [
    {
     "data": {
      "text/plain": [
       "array([1, 2, 3, 4, 5])"
      ]
     },
     "execution_count": 3,
     "metadata": {},
     "output_type": "execute_result"
    }
   ],
   "source": [
    "a"
   ]
  },
  {
   "cell_type": "markdown",
   "id": "d6bfbdb7",
   "metadata": {},
   "source": [
    "* Mas qual a diferença do array numpy e as listas que vimos na aula anterior? \n",
    "\n",
    "Na maior parte das vezes, o Numpy é mais rápido e consome menos memória"
   ]
  },
  {
   "cell_type": "code",
   "execution_count": 4,
   "id": "6523a126",
   "metadata": {},
   "outputs": [
    {
     "data": {
      "text/plain": [
       "array(['1', '2', '3', '4', '5'], dtype='<U21')"
      ]
     },
     "execution_count": 4,
     "metadata": {},
     "output_type": "execute_result"
    }
   ],
   "source": [
    "a = np.array([1,'2',3,4,5]) # criar um np array com tipos mistos; o que vai acontecer aqui?\n",
    "a"
   ]
  },
  {
   "cell_type": "markdown",
   "id": "a10c0159",
   "metadata": {},
   "source": [
    "E como fazer o cast de tuplas e sets para np.arrays?"
   ]
  },
  {
   "cell_type": "code",
   "execution_count": 5,
   "id": "df70fe50",
   "metadata": {
    "scrolled": false
   },
   "outputs": [
    {
     "data": {
      "text/plain": [
       "array([1, 2, 3])"
      ]
     },
     "execution_count": 5,
     "metadata": {},
     "output_type": "execute_result"
    }
   ],
   "source": [
    "tuplas = (1,2,3)# criando a partir de uma tupla \n",
    "np.array(tuplas)"
   ]
  },
  {
   "cell_type": "code",
   "execution_count": 7,
   "id": "4b64ca4b",
   "metadata": {},
   "outputs": [
    {
     "data": {
      "text/plain": [
       "array({1, 2, 3}, dtype=object)"
      ]
     },
     "execution_count": 7,
     "metadata": {},
     "output_type": "execute_result"
    }
   ],
   "source": [
    "conjunto = {1,2,3,3} # criando a partir de um set\n",
    "np.array(conjunto)"
   ]
  },
  {
   "cell_type": "markdown",
   "id": "1d762b2c",
   "metadata": {},
   "source": [
    "Outra coisa interessante é que podemos definir o tipo dos itens do array"
   ]
  },
  {
   "cell_type": "code",
   "execution_count": 14,
   "id": "7b7d41c8",
   "metadata": {},
   "outputs": [
    {
     "name": "stdout",
     "output_type": "stream",
     "text": [
      "[1. 2. 3. 4.]\n",
      "[1 2 3 4]\n",
      "[b'12' b'22' b'30' b'40']\n"
     ]
    }
   ],
   "source": [
    "a = np.array([1,2,3,4], dtype = 'float64' ) # especificando o tipo float\n",
    "print(a)\n",
    "\n",
    "b = np.array([1,2,3,4], dtype = 'int64' )  # especificando o tipo int\n",
    "print(b)\n",
    "c = np.array([12,22,30,40], dtype = 'string_' )  # especificando o tipo str\n",
    "print(c)"
   ]
  },
  {
   "cell_type": "markdown",
   "id": "023b8100",
   "metadata": {},
   "source": [
    "Vamos verificar os tipos: "
   ]
  },
  {
   "cell_type": "code",
   "execution_count": 15,
   "id": "cfd18901",
   "metadata": {},
   "outputs": [
    {
     "data": {
      "text/plain": [
       "dtype('S2')"
      ]
     },
     "execution_count": 15,
     "metadata": {},
     "output_type": "execute_result"
    }
   ],
   "source": [
    "c.dtype # usando dtype"
   ]
  },
  {
   "cell_type": "code",
   "execution_count": 17,
   "id": "f93f8f5c",
   "metadata": {},
   "outputs": [],
   "source": [
    "lista = [12,12,4]"
   ]
  },
  {
   "cell_type": "code",
   "execution_count": 18,
   "id": "32518fd2",
   "metadata": {},
   "outputs": [
    {
     "data": {
      "text/plain": [
       "list"
      ]
     },
     "execution_count": 18,
     "metadata": {},
     "output_type": "execute_result"
    }
   ],
   "source": [
    "type(lista)"
   ]
  },
  {
   "cell_type": "code",
   "execution_count": 16,
   "id": "122bc5cf",
   "metadata": {},
   "outputs": [
    {
     "data": {
      "text/plain": [
       "numpy.ndarray"
      ]
     },
     "execution_count": 16,
     "metadata": {},
     "output_type": "execute_result"
    }
   ],
   "source": [
    "type(c) # veja que isso é diferente de dtype"
   ]
  },
  {
   "cell_type": "markdown",
   "id": "73b1e534",
   "metadata": {},
   "source": [
    "E podemos alterar o tipo depois do array prnto? "
   ]
  },
  {
   "cell_type": "code",
   "execution_count": 24,
   "id": "33504e31",
   "metadata": {},
   "outputs": [
    {
     "data": {
      "text/plain": [
       "dtype('float64')"
      ]
     },
     "execution_count": 24,
     "metadata": {},
     "output_type": "execute_result"
    }
   ],
   "source": [
    "a = np.array([5,6,7]) # criando um array\n",
    "a.dtype# verificar o tipo \n",
    "a.astype('float64').dtype # alterar o tipo usando astype\n",
    "# verificar o novo tipo"
   ]
  },
  {
   "cell_type": "code",
   "execution_count": 26,
   "id": "4b6c8013",
   "metadata": {
    "scrolled": true
   },
   "outputs": [
    {
     "data": {
      "text/plain": [
       "dtype('int64')"
      ]
     },
     "execution_count": 26,
     "metadata": {},
     "output_type": "execute_result"
    }
   ],
   "source": [
    "a = np.array([5.0, 4.5])# criando um array de floats\n",
    "a.dtype# verificando o dtype\n",
    "a.astype('int64').dtype# alterando pra int usando astype"
   ]
  },
  {
   "cell_type": "code",
   "execution_count": 29,
   "id": "8e10fbe2",
   "metadata": {},
   "outputs": [
    {
     "data": {
      "text/plain": [
       "array([5, 4])"
      ]
     },
     "execution_count": 29,
     "metadata": {},
     "output_type": "execute_result"
    }
   ],
   "source": [
    "a = a.astype('int64')\n",
    "a"
   ]
  },
  {
   "cell_type": "code",
   "execution_count": 37,
   "id": "5af32063",
   "metadata": {},
   "outputs": [],
   "source": [
    "numeros_strings = np.array(['1.2', '1.5']) # criando um array de strings\n"
   ]
  },
  {
   "cell_type": "code",
   "execution_count": 38,
   "id": "477cb6c2",
   "metadata": {},
   "outputs": [
    {
     "data": {
      "text/plain": [
       "array(['1.2', '1.5'], dtype='<U3')"
      ]
     },
     "execution_count": 38,
     "metadata": {},
     "output_type": "execute_result"
    }
   ],
   "source": [
    "numeros_strings"
   ]
  },
  {
   "cell_type": "code",
   "execution_count": 39,
   "id": "70a0cdc0",
   "metadata": {},
   "outputs": [
    {
     "data": {
      "text/plain": [
       "array([1.2, 1.5])"
      ]
     },
     "execution_count": 39,
     "metadata": {},
     "output_type": "execute_result"
    }
   ],
   "source": [
    "numeros_strings.astype('float64')# transformando em float"
   ]
  },
  {
   "cell_type": "markdown",
   "id": "6dd242e0",
   "metadata": {},
   "source": [
    "**Ndimensional**\n",
    "\n",
    "<img src='../figuras/n_dim.png'>"
   ]
  },
  {
   "cell_type": "code",
   "execution_count": 41,
   "id": "bfbc1be3",
   "metadata": {
    "code_folding": [],
    "scrolled": true
   },
   "outputs": [
    {
     "data": {
      "text/plain": [
       "array([[ 1,  2,  3,  4],\n",
       "       [ 5,  6,  7,  8],\n",
       "       [ 9, 10, 11, 12]])"
      ]
     },
     "execution_count": 41,
     "metadata": {},
     "output_type": "execute_result"
    }
   ],
   "source": [
    "arr2D = np.array([[1,2,3,4], [5,6,7,8], [9,10,11,12]])   # criando um narray de 3 linhas e 4 colunas\n",
    "arr2D"
   ]
  },
  {
   "cell_type": "markdown",
   "id": "a61c8075",
   "metadata": {},
   "source": [
    "Cada array tem os seguintes atributos: \n",
    "\n",
    "* ndim (numero de dimensões)\n",
    "* shape ( tamanho de cada dimensão)\n",
    "* size ( tamanho total do array)\n"
   ]
  },
  {
   "cell_type": "code",
   "execution_count": 42,
   "id": "a114a09f",
   "metadata": {},
   "outputs": [
    {
     "data": {
      "text/plain": [
       "2"
      ]
     },
     "execution_count": 42,
     "metadata": {},
     "output_type": "execute_result"
    }
   ],
   "source": [
    " arr2D.ndim # ndim"
   ]
  },
  {
   "cell_type": "code",
   "execution_count": 43,
   "id": "02162b42",
   "metadata": {},
   "outputs": [
    {
     "data": {
      "text/plain": [
       "(3, 4)"
      ]
     },
     "execution_count": 43,
     "metadata": {},
     "output_type": "execute_result"
    }
   ],
   "source": [
    "arr2D.shape# shape"
   ]
  },
  {
   "cell_type": "code",
   "execution_count": 44,
   "id": "bcc6df40",
   "metadata": {},
   "outputs": [
    {
     "data": {
      "text/plain": [
       "12"
      ]
     },
     "execution_count": 44,
     "metadata": {},
     "output_type": "execute_result"
    }
   ],
   "source": [
    "arr2D.size #size"
   ]
  },
  {
   "cell_type": "code",
   "execution_count": 45,
   "id": "efe97404",
   "metadata": {},
   "outputs": [
    {
     "data": {
      "text/plain": [
       "96"
      ]
     },
     "execution_count": 45,
     "metadata": {},
     "output_type": "execute_result"
    }
   ],
   "source": [
    "arr2D.nbytes # tm podemos verificar o quanto de memória esta sendo consumida usando nbytes"
   ]
  },
  {
   "cell_type": "code",
   "execution_count": 46,
   "id": "be64f93a",
   "metadata": {},
   "outputs": [
    {
     "data": {
      "text/plain": [
       "16"
      ]
     },
     "execution_count": 46,
     "metadata": {},
     "output_type": "execute_result"
    }
   ],
   "source": [
    "a_string = np.array(['1', '2', '3', '4'])\n",
    "a_string.nbytes"
   ]
  },
  {
   "cell_type": "markdown",
   "id": "1255fd3f",
   "metadata": {},
   "source": [
    "**Casos especiais de criação**"
   ]
  },
  {
   "cell_type": "code",
   "execution_count": 48,
   "id": "42ab9e08",
   "metadata": {
    "scrolled": true
   },
   "outputs": [
    {
     "data": {
      "text/plain": [
       "array([0., 0., 0., 0., 0., 0., 0., 0., 0., 0.])"
      ]
     },
     "execution_count": 48,
     "metadata": {},
     "output_type": "execute_result"
    }
   ],
   "source": [
    "np.zeros(10) # array de zeros"
   ]
  },
  {
   "cell_type": "code",
   "execution_count": 50,
   "id": "c506635c",
   "metadata": {},
   "outputs": [
    {
     "data": {
      "text/plain": [
       "array([[0.],\n",
       "       [0.]])"
      ]
     },
     "execution_count": 50,
     "metadata": {},
     "output_type": "execute_result"
    }
   ],
   "source": [
    "np.zeros((2, 1))# narray"
   ]
  },
  {
   "cell_type": "code",
   "execution_count": 55,
   "id": "59e249b9",
   "metadata": {
    "scrolled": true
   },
   "outputs": [
    {
     "data": {
      "text/plain": [
       "(2, 10)"
      ]
     },
     "execution_count": 55,
     "metadata": {},
     "output_type": "execute_result"
    }
   ],
   "source": [
    "z = np.ones((2,10)) #array de uns\n",
    "z.ndim\n",
    "z.shape"
   ]
  },
  {
   "cell_type": "code",
   "execution_count": 56,
   "id": "ac8fc55f",
   "metadata": {},
   "outputs": [
    {
     "data": {
      "text/plain": [
       "array([5. , 4.5])"
      ]
     },
     "execution_count": 56,
     "metadata": {},
     "output_type": "execute_result"
    }
   ],
   "source": [
    "np.empty(2) # array vazio >>> vcs sabem que valores são esses? pq não são zeros?"
   ]
  },
  {
   "cell_type": "code",
   "execution_count": 63,
   "id": "c3f53001",
   "metadata": {},
   "outputs": [
    {
     "data": {
      "text/plain": [
       "[0, 2, 4, 6, 8]"
      ]
     },
     "execution_count": 63,
     "metadata": {},
     "output_type": "execute_result"
    }
   ],
   "source": [
    "list(range(0,10,2))"
   ]
  },
  {
   "cell_type": "code",
   "execution_count": 62,
   "id": "4dddfe9f",
   "metadata": {},
   "outputs": [
    {
     "data": {
      "text/plain": [
       "array([0, 1, 2, 3, 4, 5, 6, 7, 8, 9])"
      ]
     },
     "execution_count": 62,
     "metadata": {},
     "output_type": "execute_result"
    }
   ],
   "source": [
    "np.arange(0,10)# gerando valores sequenciais com arange"
   ]
  },
  {
   "cell_type": "code",
   "execution_count": 64,
   "id": "abbd7db9",
   "metadata": {},
   "outputs": [
    {
     "data": {
      "text/plain": [
       "array([0, 2, 4, 6, 8])"
      ]
     },
     "execution_count": 64,
     "metadata": {},
     "output_type": "execute_result"
    }
   ],
   "source": [
    "np.arange(0,10,2) # gerando valores com step"
   ]
  },
  {
   "cell_type": "code",
   "execution_count": 65,
   "id": "b3c87f66",
   "metadata": {
    "scrolled": true
   },
   "outputs": [
    {
     "data": {
      "text/plain": [
       "array([ 0. ,  2.5,  5. ,  7.5, 10. ])"
      ]
     },
     "execution_count": 65,
     "metadata": {},
     "output_type": "execute_result"
    }
   ],
   "source": [
    "np.linspace(0,10,5) # espaçados linearmente - linspace"
   ]
  },
  {
   "cell_type": "code",
   "execution_count": 66,
   "id": "d45f7c0b",
   "metadata": {
    "scrolled": true
   },
   "outputs": [
    {
     "data": {
      "text/plain": [
       "array([1, 1, 1, 1, 1, 1, 1, 1, 1, 1], dtype=int32)"
      ]
     },
     "execution_count": 66,
     "metadata": {},
     "output_type": "execute_result"
    }
   ],
   "source": [
    "np.ones(10, dtype='int32')# especificando o tipo em np ones\n"
   ]
  },
  {
   "cell_type": "code",
   "execution_count": 67,
   "id": "d93a49f2",
   "metadata": {},
   "outputs": [
    {
     "data": {
      "text/plain": [
       "array([b'1', b'1', b'1', b'1', b'1', b'1', b'1', b'1', b'1', b'1'],\n",
       "      dtype='|S1')"
      ]
     },
     "execution_count": 67,
     "metadata": {},
     "output_type": "execute_result"
    }
   ],
   "source": [
    "np.ones(10, dtype='string_')# especificando o tipo em np ones\n"
   ]
  },
  {
   "cell_type": "markdown",
   "id": "ddd31b3e",
   "metadata": {},
   "source": [
    "* **Shape**"
   ]
  },
  {
   "cell_type": "code",
   "execution_count": 73,
   "id": "fcee4b01",
   "metadata": {
    "scrolled": true
   },
   "outputs": [
    {
     "data": {
      "text/plain": [
       "array([[[0, 1, 2, 3],\n",
       "        [4, 5, 6, 7]],\n",
       "\n",
       "       [[0, 1, 2, 3],\n",
       "        [4, 1, 6, 7]],\n",
       "\n",
       "       [[0, 1, 2, 3],\n",
       "        [4, 5, 6, 7]]])"
      ]
     },
     "execution_count": 73,
     "metadata": {},
     "output_type": "execute_result"
    }
   ],
   "source": [
    "array_example = np.array([ [[0, 1, 2, 3],\n",
    "                           [4, 5, 6, 7]],\n",
    "\n",
    "                          [[0, 1, 2, 3],\n",
    "                           [4, 1, 6, 7]],\n",
    "\n",
    "                          [[0 ,1 ,2, 3],\n",
    "                           [4, 5, 6, 7]] ])\n",
    "\n",
    "array_example"
   ]
  },
  {
   "cell_type": "code",
   "execution_count": 74,
   "id": "68b64086",
   "metadata": {},
   "outputs": [
    {
     "data": {
      "text/plain": [
       "3"
      ]
     },
     "execution_count": 74,
     "metadata": {},
     "output_type": "execute_result"
    }
   ],
   "source": [
    "array_example.ndim"
   ]
  },
  {
   "cell_type": "code",
   "execution_count": 75,
   "id": "06de9cb0",
   "metadata": {},
   "outputs": [
    {
     "data": {
      "text/plain": [
       "24"
      ]
     },
     "execution_count": 75,
     "metadata": {},
     "output_type": "execute_result"
    }
   ],
   "source": [
    "array_example.size"
   ]
  },
  {
   "cell_type": "code",
   "execution_count": 76,
   "id": "24918b73",
   "metadata": {
    "scrolled": true
   },
   "outputs": [
    {
     "data": {
      "text/plain": [
       "(3, 2, 4)"
      ]
     },
     "execution_count": 76,
     "metadata": {},
     "output_type": "execute_result"
    }
   ],
   "source": [
    "array_example.shape"
   ]
  },
  {
   "cell_type": "markdown",
   "id": "e89cf81c",
   "metadata": {},
   "source": [
    "* Reshape "
   ]
  },
  {
   "cell_type": "code",
   "execution_count": 79,
   "id": "cc9303ea",
   "metadata": {},
   "outputs": [
    {
     "data": {
      "text/plain": [
       "1"
      ]
     },
     "execution_count": 79,
     "metadata": {},
     "output_type": "execute_result"
    }
   ],
   "source": [
    "a = np.arange(6) \n",
    "a.ndim"
   ]
  },
  {
   "cell_type": "code",
   "execution_count": 82,
   "id": "34523510",
   "metadata": {
    "scrolled": true
   },
   "outputs": [
    {
     "data": {
      "text/plain": [
       "(3, 2)"
      ]
     },
     "execution_count": 82,
     "metadata": {},
     "output_type": "execute_result"
    }
   ],
   "source": [
    "reshape_a = a.reshape(3,2) # fazer o reshape para (3,2)\n",
    "reshape_a.shape"
   ]
  },
  {
   "cell_type": "code",
   "execution_count": 85,
   "id": "2efb50a8",
   "metadata": {},
   "outputs": [
    {
     "data": {
      "text/plain": [
       "array([[0, 1, 2, 3, 4, 5]])"
      ]
     },
     "execution_count": 85,
     "metadata": {},
     "output_type": "execute_result"
    }
   ],
   "source": [
    "np.reshape(a, newshape=(1, 6), order='C') # order language like index order"
   ]
  },
  {
   "cell_type": "code",
   "execution_count": 86,
   "id": "1c735c1f",
   "metadata": {},
   "outputs": [
    {
     "data": {
      "text/plain": [
       "(6,)"
      ]
     },
     "execution_count": 86,
     "metadata": {},
     "output_type": "execute_result"
    }
   ],
   "source": [
    "a = np.array([1, 2, 3, 4, 5, 6])\n",
    "a.shape"
   ]
  },
  {
   "cell_type": "code",
   "execution_count": 88,
   "id": "a0bd0f26",
   "metadata": {},
   "outputs": [
    {
     "data": {
      "text/plain": [
       "1"
      ]
     },
     "execution_count": 88,
     "metadata": {},
     "output_type": "execute_result"
    }
   ],
   "source": [
    "a.ndim"
   ]
  },
  {
   "cell_type": "code",
   "execution_count": 92,
   "id": "91d45238",
   "metadata": {},
   "outputs": [
    {
     "data": {
      "text/plain": [
       "array([[1],\n",
       "       [2],\n",
       "       [3],\n",
       "       [4],\n",
       "       [5],\n",
       "       [6]])"
      ]
     },
     "execution_count": 92,
     "metadata": {},
     "output_type": "execute_result"
    }
   ],
   "source": [
    "novo_eixo = a[:, np.newaxis] # add um novo eixo com np.newaxis\n",
    "novo_eixo"
   ]
  },
  {
   "cell_type": "code",
   "execution_count": 94,
   "id": "26ce5f53",
   "metadata": {},
   "outputs": [
    {
     "data": {
      "text/plain": [
       "(6, 1)"
      ]
     },
     "execution_count": 94,
     "metadata": {},
     "output_type": "execute_result"
    }
   ],
   "source": [
    "novo_eixo.shape"
   ]
  },
  {
   "cell_type": "code",
   "execution_count": 95,
   "id": "09768c09",
   "metadata": {},
   "outputs": [
    {
     "data": {
      "text/plain": [
       "array([[1, 2, 3, 4, 5, 6]])"
      ]
     },
     "execution_count": 95,
     "metadata": {},
     "output_type": "execute_result"
    }
   ],
   "source": [
    "a[np.newaxis, :] # row_vecotr a[np.newaxis, :]\n"
   ]
  },
  {
   "cell_type": "code",
   "execution_count": 99,
   "id": "c8c564d6",
   "metadata": {},
   "outputs": [
    {
     "data": {
      "text/plain": [
       "array([1, 2, 3, 4, 5, 6])"
      ]
     },
     "execution_count": 99,
     "metadata": {},
     "output_type": "execute_result"
    }
   ],
   "source": [
    "a"
   ]
  },
  {
   "cell_type": "code",
   "execution_count": 100,
   "id": "4ee213ae",
   "metadata": {},
   "outputs": [
    {
     "data": {
      "text/plain": [
       "array([[1],\n",
       "       [2],\n",
       "       [3],\n",
       "       [4],\n",
       "       [5],\n",
       "       [6]])"
      ]
     },
     "execution_count": 100,
     "metadata": {},
     "output_type": "execute_result"
    }
   ],
   "source": [
    "a[:, None]\n"
   ]
  },
  {
   "cell_type": "code",
   "execution_count": 101,
   "id": "8258bb4e",
   "metadata": {},
   "outputs": [
    {
     "data": {
      "text/plain": [
       "(2, 3)"
      ]
     },
     "execution_count": 101,
     "metadata": {},
     "output_type": "execute_result"
    }
   ],
   "source": [
    "c = np.array([[1, 2, 3], [4, 5, 6]]) # ndarray\n",
    "c.shape"
   ]
  },
  {
   "cell_type": "code",
   "execution_count": 102,
   "id": "7c89ae83",
   "metadata": {
    "scrolled": true
   },
   "outputs": [
    {
     "data": {
      "text/plain": [
       "array([[1, 2, 3],\n",
       "       [4, 5, 6]])"
      ]
     },
     "execution_count": 102,
     "metadata": {},
     "output_type": "execute_result"
    }
   ],
   "source": [
    "c # vendo conteudo do vetor"
   ]
  },
  {
   "cell_type": "code",
   "execution_count": 103,
   "id": "99633dd9",
   "metadata": {},
   "outputs": [
    {
     "data": {
      "text/plain": [
       "array([[[1, 2, 3]],\n",
       "\n",
       "       [[4, 5, 6]]])"
      ]
     },
     "execution_count": 103,
     "metadata": {},
     "output_type": "execute_result"
    }
   ],
   "source": [
    "c[:, np.newaxis] # teste com um ndarray"
   ]
  },
  {
   "cell_type": "markdown",
   "id": "85627ca6",
   "metadata": {},
   "source": [
    "**Indexing e slicing**"
   ]
  },
  {
   "cell_type": "code",
   "execution_count": 105,
   "id": "7dd0d2c8",
   "metadata": {},
   "outputs": [
    {
     "data": {
      "text/plain": [
       "array([1, 2, 3, 4, 5, 6])"
      ]
     },
     "execution_count": 105,
     "metadata": {},
     "output_type": "execute_result"
    }
   ],
   "source": [
    "a = np.array([1, 2, 3, 4, 5, 6])\n",
    "a"
   ]
  },
  {
   "cell_type": "code",
   "execution_count": 106,
   "id": "86f4815b",
   "metadata": {
    "scrolled": true
   },
   "outputs": [
    {
     "data": {
      "text/plain": [
       "1"
      ]
     },
     "execution_count": 106,
     "metadata": {},
     "output_type": "execute_result"
    }
   ],
   "source": [
    "a[0] # similar as series ou listas []\n"
   ]
  },
  {
   "cell_type": "code",
   "execution_count": 107,
   "id": "ddef2f09",
   "metadata": {},
   "outputs": [
    {
     "data": {
      "text/plain": [
       "array([1, 2])"
      ]
     },
     "execution_count": 107,
     "metadata": {},
     "output_type": "execute_result"
    }
   ],
   "source": [
    "a[0:2]# intervalos definidos"
   ]
  },
  {
   "cell_type": "code",
   "execution_count": 108,
   "id": "83aad767",
   "metadata": {},
   "outputs": [
    {
     "data": {
      "text/plain": [
       "array([2, 3, 4, 5, 6])"
      ]
     },
     "execution_count": 108,
     "metadata": {},
     "output_type": "execute_result"
    }
   ],
   "source": [
    "a[1:] # intervalos [1:]"
   ]
  },
  {
   "cell_type": "code",
   "execution_count": 110,
   "id": "aa55d667",
   "metadata": {},
   "outputs": [
    {
     "data": {
      "text/plain": [
       "array([1, 2, 3, 4, 5, 6])"
      ]
     },
     "execution_count": 110,
     "metadata": {},
     "output_type": "execute_result"
    }
   ],
   "source": [
    "a"
   ]
  },
  {
   "cell_type": "code",
   "execution_count": 112,
   "id": "e79661b7",
   "metadata": {
    "scrolled": true
   },
   "outputs": [
    {
     "data": {
      "text/plain": [
       "array([6])"
      ]
     },
     "execution_count": 112,
     "metadata": {},
     "output_type": "execute_result"
    }
   ],
   "source": [
    "a[-1:] # final usando [-1:]"
   ]
  },
  {
   "cell_type": "code",
   "execution_count": 113,
   "id": "7a5051b8",
   "metadata": {},
   "outputs": [
    {
     "data": {
      "text/plain": [
       "array([[1, 2, 3],\n",
       "       [4, 5, 6],\n",
       "       [7, 8, 9]])"
      ]
     },
     "execution_count": 113,
     "metadata": {},
     "output_type": "execute_result"
    }
   ],
   "source": [
    "arr2d = np.array([[1, 2, 3], [4, 5, 6], [7, 8, 9]]) # criando um vetor ndarray\n",
    "arr2d"
   ]
  },
  {
   "cell_type": "markdown",
   "id": "bd9fcf09",
   "metadata": {},
   "source": [
    "<img src='../figuras/indexing_numpy.png'>"
   ]
  },
  {
   "cell_type": "code",
   "execution_count": 115,
   "id": "4b5b51e4",
   "metadata": {},
   "outputs": [
    {
     "data": {
      "text/plain": [
       "array([[1, 2, 3],\n",
       "       [4, 5, 6],\n",
       "       [7, 8, 9]])"
      ]
     },
     "execution_count": 115,
     "metadata": {},
     "output_type": "execute_result"
    }
   ],
   "source": [
    "arr2d"
   ]
  },
  {
   "cell_type": "code",
   "execution_count": 116,
   "id": "46981e74",
   "metadata": {},
   "outputs": [
    {
     "data": {
      "text/plain": [
       "array([4, 5, 6])"
      ]
     },
     "execution_count": 116,
     "metadata": {},
     "output_type": "execute_result"
    }
   ],
   "source": [
    "arr2d[1]  # acessando uma dimensao "
   ]
  },
  {
   "cell_type": "code",
   "execution_count": 117,
   "id": "a0641ce3",
   "metadata": {},
   "outputs": [
    {
     "data": {
      "text/plain": [
       "1"
      ]
     },
     "execution_count": 117,
     "metadata": {},
     "output_type": "execute_result"
    }
   ],
   "source": [
    "arr2d[0][0] # acessando um valor de uma dimensao com [][]"
   ]
  },
  {
   "cell_type": "code",
   "execution_count": 118,
   "id": "f7eaff19",
   "metadata": {
    "scrolled": true
   },
   "outputs": [
    {
     "data": {
      "text/plain": [
       "1"
      ]
     },
     "execution_count": 118,
     "metadata": {},
     "output_type": "execute_result"
    }
   ],
   "source": [
    "arr2d[0,0] # acessando um valor de uma dimensao com [,]"
   ]
  },
  {
   "cell_type": "code",
   "execution_count": 119,
   "id": "dcbb1954",
   "metadata": {},
   "outputs": [],
   "source": [
    "arr2d[0,0] = -1"
   ]
  },
  {
   "cell_type": "code",
   "execution_count": 120,
   "id": "91346d09",
   "metadata": {},
   "outputs": [
    {
     "data": {
      "text/plain": [
       "array([[-1,  2,  3],\n",
       "       [ 4,  5,  6],\n",
       "       [ 7,  8,  9]])"
      ]
     },
     "execution_count": 120,
     "metadata": {},
     "output_type": "execute_result"
    }
   ],
   "source": [
    "arr2d"
   ]
  },
  {
   "cell_type": "markdown",
   "id": "132b327d",
   "metadata": {},
   "source": [
    "* cuidado com as alterações!!!\n",
    "\n",
    "façam cópias"
   ]
  },
  {
   "cell_type": "markdown",
   "id": "7bc04f6b",
   "metadata": {},
   "source": [
    "**slicing condicional**"
   ]
  },
  {
   "cell_type": "code",
   "execution_count": 123,
   "id": "ee1114ee",
   "metadata": {
    "scrolled": true
   },
   "outputs": [
    {
     "data": {
      "text/plain": [
       "array([[ 1,  2,  3,  4],\n",
       "       [ 5,  6,  7,  8],\n",
       "       [ 9, 10, 11, 12]])"
      ]
     },
     "execution_count": 123,
     "metadata": {},
     "output_type": "execute_result"
    }
   ],
   "source": [
    "a3 = np.array([[1 , 2, 3, 4], [5, 6, 7, 8], [9, 10, 11, 12]])\n",
    "a3"
   ]
  },
  {
   "cell_type": "code",
   "execution_count": 129,
   "id": "1e052e70",
   "metadata": {
    "scrolled": true
   },
   "outputs": [
    {
     "data": {
      "text/plain": [
       "array([ 5,  6,  7,  8,  9, 10, 11, 12])"
      ]
     },
     "execution_count": 129,
     "metadata": {},
     "output_type": "execute_result"
    }
   ],
   "source": [
    "a3[a3 >= 5] # a[a<5]"
   ]
  },
  {
   "cell_type": "code",
   "execution_count": 131,
   "id": "e7dddbe9",
   "metadata": {},
   "outputs": [],
   "source": [
    "five_up = (a3>5) # (a > 5)"
   ]
  },
  {
   "cell_type": "code",
   "execution_count": 132,
   "id": "3cc0adce",
   "metadata": {
    "scrolled": true
   },
   "outputs": [
    {
     "data": {
      "text/plain": [
       "array([ 6,  7,  8,  9, 10, 11, 12])"
      ]
     },
     "execution_count": 132,
     "metadata": {},
     "output_type": "execute_result"
    }
   ],
   "source": [
    "a3[five_up] # selecionar os valores que sao true no five_up de cima"
   ]
  },
  {
   "cell_type": "code",
   "execution_count": 133,
   "id": "1b6db1f0",
   "metadata": {},
   "outputs": [
    {
     "data": {
      "text/plain": [
       "array([ 2,  4,  6,  8, 10, 12])"
      ]
     },
     "execution_count": 133,
     "metadata": {},
     "output_type": "execute_result"
    }
   ],
   "source": [
    "divisible_by_2 = a3[a3%2==0]  # usando mod\n",
    "divisible_by_2"
   ]
  },
  {
   "cell_type": "code",
   "execution_count": 136,
   "id": "b4a948e1",
   "metadata": {},
   "outputs": [
    {
     "data": {
      "text/plain": [
       "array([3, 4, 5, 6, 7])"
      ]
     },
     "execution_count": 136,
     "metadata": {},
     "output_type": "execute_result"
    }
   ],
   "source": [
    "a3[(a3 > 2) & (a3 < 8)]  # usando mais de uma condição com & para retornar a lista\n",
    " "
   ]
  },
  {
   "cell_type": "code",
   "execution_count": 137,
   "id": "fb962027",
   "metadata": {
    "scrolled": true
   },
   "outputs": [
    {
     "data": {
      "text/plain": [
       "array([ 1,  2,  3,  4,  5,  6,  7,  8,  9, 10, 11, 12])"
      ]
     },
     "execution_count": 137,
     "metadata": {},
     "output_type": "execute_result"
    }
   ],
   "source": [
    "a3[(a3 > 2) | (a3 < 8)] # usando mais de uma condição com | para retornar true e false \n",
    "\n"
   ]
  },
  {
   "cell_type": "code",
   "execution_count": 139,
   "id": "4271d357",
   "metadata": {},
   "outputs": [
    {
     "data": {
      "text/plain": [
       "array([[3, 0, 0],\n",
       "       [0, 4, 0],\n",
       "       [5, 6, 0]])"
      ]
     },
     "execution_count": 139,
     "metadata": {},
     "output_type": "execute_result"
    }
   ],
   "source": [
    "x = np.array([[3, 0, 0], [0, 4, 0], [5, 6, 0]]) \n",
    "x"
   ]
  },
  {
   "cell_type": "code",
   "execution_count": 140,
   "id": "d835c66d",
   "metadata": {},
   "outputs": [
    {
     "data": {
      "text/plain": [
       "(array([0, 1, 2, 2]), array([0, 1, 0, 1]))"
      ]
     },
     "execution_count": 140,
     "metadata": {},
     "output_type": "execute_result"
    }
   ],
   "source": [
    "# verificar quais campos sao zero\n",
    "np.nonzero(x)"
   ]
  },
  {
   "cell_type": "code",
   "execution_count": 141,
   "id": "09695651",
   "metadata": {},
   "outputs": [],
   "source": [
    "a = np.array([[1, 2, 3, 4], [5, 1, 7, 8], [9, 10, 11, 12]])"
   ]
  },
  {
   "cell_type": "code",
   "execution_count": 142,
   "id": "b38dd175",
   "metadata": {},
   "outputs": [
    {
     "data": {
      "text/plain": [
       "(array([0, 0, 0, 1, 1, 1, 2]), array([0, 1, 2, 0, 1, 2, 2]))"
      ]
     },
     "execution_count": 142,
     "metadata": {},
     "output_type": "execute_result"
    }
   ],
   "source": [
    "np.nonzero(x <5) # verificar se tem algum valor igual a 0  com uma condicional\n"
   ]
  },
  {
   "cell_type": "code",
   "execution_count": 148,
   "id": "de64c9a7",
   "metadata": {},
   "outputs": [
    {
     "data": {
      "text/plain": [
       "array([[1, 2],\n",
       "       [4, 6]])"
      ]
     },
     "execution_count": 148,
     "metadata": {},
     "output_type": "execute_result"
    }
   ],
   "source": [
    "b = np.array([[1,2],[4,6]])\n",
    "b\n"
   ]
  },
  {
   "cell_type": "code",
   "execution_count": 153,
   "id": "4dbcdd23",
   "metadata": {},
   "outputs": [
    {
     "data": {
      "text/plain": [
       "[(4, 1), (6, 2)]"
      ]
     },
     "execution_count": 153,
     "metadata": {},
     "output_type": "execute_result"
    }
   ],
   "source": [
    "list(zip(b[1], b[0]))"
   ]
  },
  {
   "cell_type": "code",
   "execution_count": 164,
   "id": "30259723",
   "metadata": {
    "scrolled": true
   },
   "outputs": [
    {
     "data": {
      "text/plain": [
       "array([1, 2])"
      ]
     },
     "execution_count": 164,
     "metadata": {},
     "output_type": "execute_result"
    }
   ],
   "source": [
    "b[0]"
   ]
  },
  {
   "cell_type": "code",
   "execution_count": 165,
   "id": "61b65687",
   "metadata": {
    "scrolled": true
   },
   "outputs": [
    {
     "data": {
      "text/plain": [
       "array([4, 6])"
      ]
     },
     "execution_count": 165,
     "metadata": {},
     "output_type": "execute_result"
    }
   ],
   "source": [
    "b[1]"
   ]
  },
  {
   "cell_type": "code",
   "execution_count": 166,
   "id": "fb871d0b",
   "metadata": {},
   "outputs": [
    {
     "data": {
      "text/plain": [
       "[(1, 4), (2, 6)]"
      ]
     },
     "execution_count": 166,
     "metadata": {},
     "output_type": "execute_result"
    }
   ],
   "source": [
    "list(zip(b[0], b[1]))"
   ]
  },
  {
   "cell_type": "code",
   "execution_count": 149,
   "id": "c8321b20",
   "metadata": {},
   "outputs": [
    {
     "data": {
      "text/plain": [
       "[(1, 4), (2, 6)]"
      ]
     },
     "execution_count": 149,
     "metadata": {},
     "output_type": "execute_result"
    }
   ],
   "source": [
    "list(zip(b[0], b[1])) # coordenadas"
   ]
  },
  {
   "cell_type": "code",
   "execution_count": 154,
   "id": "18de6583",
   "metadata": {
    "scrolled": false
   },
   "outputs": [
    {
     "name": "stdout",
     "output_type": "stream",
     "text": [
      "(1, 4)\n",
      "(2, 6)\n"
     ]
    }
   ],
   "source": [
    "list_of_coordinates= list(zip(b[0], b[1]))\n",
    "\n",
    "for coord in list_of_coordinates:\n",
    "    print(coord)"
   ]
  },
  {
   "cell_type": "code",
   "execution_count": 172,
   "id": "2519eb2b",
   "metadata": {},
   "outputs": [],
   "source": [
    "a = (\"John\", \"Charles\", \"Mike\")\n",
    "b = (\"Jenny\", \"Christy\", \"Monica\", \"Vicky\")\n",
    "\n",
    "\n"
   ]
  },
  {
   "cell_type": "code",
   "execution_count": 175,
   "id": "4141caf1",
   "metadata": {},
   "outputs": [
    {
     "data": {
      "text/plain": [
       "(('Jenny', 'John'), ('Christy', 'Charles'), ('Monica', 'Mike'))"
      ]
     },
     "execution_count": 175,
     "metadata": {},
     "output_type": "execute_result"
    }
   ],
   "source": [
    "tuple(zip(b,a))"
   ]
  },
  {
   "cell_type": "code",
   "execution_count": 156,
   "id": "0a7b4b55",
   "metadata": {},
   "outputs": [],
   "source": [
    "# print(a[b])"
   ]
  },
  {
   "cell_type": "code",
   "execution_count": 157,
   "id": "c22ca5f2",
   "metadata": {},
   "outputs": [],
   "source": [
    "a = np.array([1,  2,  3,  4,  5,  6,  7,  8,  9, 10])"
   ]
  },
  {
   "cell_type": "code",
   "execution_count": 158,
   "id": "ce6710f4",
   "metadata": {},
   "outputs": [],
   "source": [
    "nomes = np.array(['Wal', 'Paula', 'Edna', 'Alberto'])"
   ]
  },
  {
   "cell_type": "code",
   "execution_count": 161,
   "id": "94bba37a",
   "metadata": {},
   "outputs": [
    {
     "data": {
      "text/plain": [
       "array(['Paula', 'Edna', 'Alberto'], dtype='<U7')"
      ]
     },
     "execution_count": 161,
     "metadata": {},
     "output_type": "execute_result"
    }
   ],
   "source": [
    "nomes[nomes != 'Wal']"
   ]
  },
  {
   "cell_type": "markdown",
   "id": "6e4cfb40",
   "metadata": {},
   "source": [
    "**Adicionar, remover, e ordenar**"
   ]
  },
  {
   "cell_type": "code",
   "execution_count": 176,
   "id": "778be866",
   "metadata": {
    "scrolled": true
   },
   "outputs": [
    {
     "data": {
      "text/plain": [
       "array([2, 1, 5, 3, 7, 4, 6, 8])"
      ]
     },
     "execution_count": 176,
     "metadata": {},
     "output_type": "execute_result"
    }
   ],
   "source": [
    "arr = np.array([2, 1, 5, 3, 7, 4, 6, 8]) # criando um array\n",
    "arr "
   ]
  },
  {
   "cell_type": "markdown",
   "id": "186db56b",
   "metadata": {},
   "source": [
    "* adicionar na mesma posição que já existe um valor -- modificar um valor"
   ]
  },
  {
   "cell_type": "code",
   "execution_count": 179,
   "id": "12a84812",
   "metadata": {},
   "outputs": [],
   "source": [
    "arr[0] = -1 # modificar uma posicao\n"
   ]
  },
  {
   "cell_type": "code",
   "execution_count": 180,
   "id": "029340fa",
   "metadata": {},
   "outputs": [
    {
     "data": {
      "text/plain": [
       "array([-1,  1,  5,  3,  7,  4,  6,  8])"
      ]
     },
     "execution_count": 180,
     "metadata": {},
     "output_type": "execute_result"
    }
   ],
   "source": [
    "arr"
   ]
  },
  {
   "cell_type": "markdown",
   "id": "ef16b306",
   "metadata": {},
   "source": [
    "* adicionar sem substituir"
   ]
  },
  {
   "cell_type": "code",
   "execution_count": 188,
   "id": "0b7c57d9",
   "metadata": {},
   "outputs": [
    {
     "data": {
      "text/plain": [
       "array([-1,  1, 50,  5,  3,  7,  4,  6,  8])"
      ]
     },
     "execution_count": 188,
     "metadata": {},
     "output_type": "execute_result"
    }
   ],
   "source": [
    "np.insert(arr, 2, 50)"
   ]
  },
  {
   "cell_type": "markdown",
   "id": "8bcdb9e8",
   "metadata": {},
   "source": [
    "* remover "
   ]
  },
  {
   "cell_type": "code",
   "execution_count": 189,
   "id": "686e7e17",
   "metadata": {},
   "outputs": [
    {
     "data": {
      "text/plain": [
       "array([1, 5, 3, 7, 4, 6, 8])"
      ]
     },
     "execution_count": 189,
     "metadata": {},
     "output_type": "execute_result"
    }
   ],
   "source": [
    "np.delete(arr, 0, -1) # numpy.delete(arr, obj, axis=None)"
   ]
  },
  {
   "cell_type": "markdown",
   "id": "e3c958b6",
   "metadata": {},
   "source": [
    "* ordenar "
   ]
  },
  {
   "cell_type": "code",
   "execution_count": 191,
   "id": "ab1cb7d7",
   "metadata": {
    "code_folding": []
   },
   "outputs": [
    {
     "data": {
      "text/plain": [
       "array([-1,  1,  3,  4,  5,  6,  7,  8])"
      ]
     },
     "execution_count": 191,
     "metadata": {},
     "output_type": "execute_result"
    }
   ],
   "source": [
    "np.sort(arr) # usar o sort"
   ]
  },
  {
   "cell_type": "code",
   "execution_count": 194,
   "id": "220b0349",
   "metadata": {},
   "outputs": [],
   "source": [
    "a = np.array([1, 2, 3, 4])\n",
    "b = np.array([5, 6, 7, 8])"
   ]
  },
  {
   "cell_type": "markdown",
   "id": "ef2cb513",
   "metadata": {},
   "source": [
    "* concatenar "
   ]
  },
  {
   "cell_type": "code",
   "execution_count": 207,
   "id": "40787ea4",
   "metadata": {
    "scrolled": false
   },
   "outputs": [
    {
     "data": {
      "text/plain": [
       "array([1, 2, 3, 4, 5, 6, 7, 8])"
      ]
     },
     "execution_count": 207,
     "metadata": {},
     "output_type": "execute_result"
    }
   ],
   "source": [
    "np.concatenate((a,b), axis=0) # concatenate"
   ]
  },
  {
   "cell_type": "code",
   "execution_count": 208,
   "id": "a78b3a6b",
   "metadata": {},
   "outputs": [],
   "source": [
    "x = np.array([[1, 2], [3, 4]])\n",
    "y = np.array([[5, 6], [2,3]])"
   ]
  },
  {
   "cell_type": "code",
   "execution_count": 209,
   "id": "b585dfed",
   "metadata": {},
   "outputs": [
    {
     "data": {
      "text/plain": [
       "array([[1, 2],\n",
       "       [3, 4]])"
      ]
     },
     "execution_count": 209,
     "metadata": {},
     "output_type": "execute_result"
    }
   ],
   "source": [
    "x"
   ]
  },
  {
   "cell_type": "code",
   "execution_count": 210,
   "id": "b3f4fd4d",
   "metadata": {},
   "outputs": [
    {
     "data": {
      "text/plain": [
       "array([[5, 6],\n",
       "       [2, 3]])"
      ]
     },
     "execution_count": 210,
     "metadata": {},
     "output_type": "execute_result"
    }
   ],
   "source": [
    "y"
   ]
  },
  {
   "cell_type": "code",
   "execution_count": 213,
   "id": "98878381",
   "metadata": {},
   "outputs": [
    {
     "data": {
      "text/plain": [
       "array([[1, 2, 5, 6],\n",
       "       [3, 4, 2, 3]])"
      ]
     },
     "execution_count": 213,
     "metadata": {},
     "output_type": "execute_result"
    }
   ],
   "source": [
    "np.concatenate((x,y), axis=1)"
   ]
  },
  {
   "cell_type": "markdown",
   "id": "b27c8b5d",
   "metadata": {},
   "source": [
    "**vstack e hstack**\n",
    "\n",
    "Tipos de concatenação: vertical e horizontal"
   ]
  },
  {
   "cell_type": "code",
   "execution_count": null,
   "id": "aebb57e2",
   "metadata": {},
   "outputs": [],
   "source": []
  },
  {
   "cell_type": "code",
   "execution_count": 214,
   "id": "bd9ad2ae",
   "metadata": {},
   "outputs": [],
   "source": [
    "a1 = np.array([[1, 1],\n",
    "               [2, 2]])\n",
    "\n",
    "a2 = np.array([[3, 3],\n",
    "               [4, 4]])"
   ]
  },
  {
   "cell_type": "code",
   "execution_count": 216,
   "id": "9d01a60b",
   "metadata": {},
   "outputs": [
    {
     "data": {
      "text/plain": [
       "array([[1, 1],\n",
       "       [2, 2],\n",
       "       [3, 3],\n",
       "       [4, 4]])"
      ]
     },
     "execution_count": 216,
     "metadata": {},
     "output_type": "execute_result"
    }
   ],
   "source": [
    "np.vstack((a1,a2)) # usar o vstack"
   ]
  },
  {
   "cell_type": "code",
   "execution_count": 217,
   "id": "25bf4876",
   "metadata": {},
   "outputs": [
    {
     "data": {
      "text/plain": [
       "array([[1, 1, 3, 3],\n",
       "       [2, 2, 4, 4]])"
      ]
     },
     "execution_count": 217,
     "metadata": {},
     "output_type": "execute_result"
    }
   ],
   "source": [
    "np.hstack((a1,a2)) # usar o hstack"
   ]
  },
  {
   "cell_type": "code",
   "execution_count": 218,
   "id": "9ff92aa0",
   "metadata": {},
   "outputs": [],
   "source": [
    "x = np.arange(1, 25).reshape(2, 12)"
   ]
  },
  {
   "cell_type": "code",
   "execution_count": 219,
   "id": "a5332ea7",
   "metadata": {},
   "outputs": [
    {
     "data": {
      "text/plain": [
       "array([[ 1,  2,  3,  4,  5,  6,  7,  8,  9, 10, 11, 12],\n",
       "       [13, 14, 15, 16, 17, 18, 19, 20, 21, 22, 23, 24]])"
      ]
     },
     "execution_count": 219,
     "metadata": {},
     "output_type": "execute_result"
    }
   ],
   "source": [
    "x"
   ]
  },
  {
   "cell_type": "code",
   "execution_count": 221,
   "id": "c548a04b",
   "metadata": {
    "code_folding": []
   },
   "outputs": [],
   "source": [
    "z = np.hsplit(x, 3) # hsplit (arr, size)"
   ]
  },
  {
   "cell_type": "markdown",
   "id": "03f5f5b7",
   "metadata": {},
   "source": [
    "### Operações"
   ]
  },
  {
   "cell_type": "code",
   "execution_count": 229,
   "id": "6fff137c",
   "metadata": {},
   "outputs": [],
   "source": [
    "numpy_ser = np.array([20,60,60,10,15])"
   ]
  },
  {
   "cell_type": "code",
   "execution_count": 230,
   "id": "00e9175f",
   "metadata": {
    "scrolled": true
   },
   "outputs": [
    {
     "data": {
      "text/plain": [
       "33.0"
      ]
     },
     "execution_count": 230,
     "metadata": {},
     "output_type": "execute_result"
    }
   ],
   "source": [
    "np.mean(numpy_ser) # media"
   ]
  },
  {
   "cell_type": "code",
   "execution_count": 231,
   "id": "473831b1",
   "metadata": {},
   "outputs": [
    {
     "data": {
      "text/plain": [
       "20.0"
      ]
     },
     "execution_count": 231,
     "metadata": {},
     "output_type": "execute_result"
    }
   ],
   "source": [
    "np.median(numpy_ser)"
   ]
  },
  {
   "cell_type": "code",
   "execution_count": 233,
   "id": "94e5cf64",
   "metadata": {
    "scrolled": false
   },
   "outputs": [
    {
     "data": {
      "text/plain": [
       "array([20, 60, 60])"
      ]
     },
     "execution_count": 233,
     "metadata": {},
     "output_type": "execute_result"
    }
   ],
   "source": [
    "numpy_ser[numpy_ser >= np.median(numpy_ser)] # function median "
   ]
  },
  {
   "cell_type": "code",
   "execution_count": 234,
   "id": "dcfa99bf",
   "metadata": {},
   "outputs": [
    {
     "data": {
      "text/plain": [
       "[1, 3, 4, 1, 3, 4]"
      ]
     },
     "execution_count": 234,
     "metadata": {},
     "output_type": "execute_result"
    }
   ],
   "source": [
    "lista = [1, 3, 4] * 2 # multiplicação de uma lista por um scalar\n",
    "lista"
   ]
  },
  {
   "cell_type": "code",
   "execution_count": 235,
   "id": "22c13b26",
   "metadata": {},
   "outputs": [
    {
     "data": {
      "text/plain": [
       "[2, 6, 8]"
      ]
     },
     "execution_count": 235,
     "metadata": {},
     "output_type": "execute_result"
    }
   ],
   "source": [
    "[x*2 for x in [1, 3, 4]] # mmultiplicacao "
   ]
  },
  {
   "cell_type": "code",
   "execution_count": null,
   "id": "0db8d97f",
   "metadata": {},
   "outputs": [],
   "source": []
  },
  {
   "cell_type": "code",
   "execution_count": 236,
   "id": "ba467f34",
   "metadata": {},
   "outputs": [
    {
     "data": {
      "text/plain": [
       "array([2, 6, 8])"
      ]
     },
     "execution_count": 236,
     "metadata": {},
     "output_type": "execute_result"
    }
   ],
   "source": [
    "data = np.array([1, 3,4]) \n",
    "data * 2 # operações em batch "
   ]
  },
  {
   "cell_type": "code",
   "execution_count": 237,
   "id": "d857cc92",
   "metadata": {},
   "outputs": [
    {
     "data": {
      "text/plain": [
       "array([[1., 2., 3.],\n",
       "       [4., 5., 6.]])"
      ]
     },
     "execution_count": 237,
     "metadata": {},
     "output_type": "execute_result"
    }
   ],
   "source": [
    "arr = np.array([[1., 2., 3.], [4., 5., 6.]])\n",
    "arr"
   ]
  },
  {
   "cell_type": "code",
   "execution_count": 238,
   "id": "9320001e",
   "metadata": {},
   "outputs": [
    {
     "data": {
      "text/plain": [
       "array([[ 1.,  4.,  9.],\n",
       "       [16., 25., 36.]])"
      ]
     },
     "execution_count": 238,
     "metadata": {},
     "output_type": "execute_result"
    }
   ],
   "source": [
    "arr*arr # operações em batch"
   ]
  },
  {
   "cell_type": "code",
   "execution_count": 239,
   "id": "06f33d5e",
   "metadata": {},
   "outputs": [
    {
     "data": {
      "text/plain": [
       "array([[0., 0., 0.],\n",
       "       [0., 0., 0.]])"
      ]
     },
     "execution_count": 239,
     "metadata": {},
     "output_type": "execute_result"
    }
   ],
   "source": [
    "arr - arr # operações em batch"
   ]
  },
  {
   "cell_type": "code",
   "execution_count": 241,
   "id": "d22ff65f",
   "metadata": {},
   "outputs": [
    {
     "data": {
      "text/plain": [
       "array([[1.        , 0.5       , 0.33333333],\n",
       "       [0.25      , 0.2       , 0.16666667]])"
      ]
     },
     "execution_count": 241,
     "metadata": {},
     "output_type": "execute_result"
    }
   ],
   "source": [
    "1 / arr # operações em batch"
   ]
  },
  {
   "cell_type": "code",
   "execution_count": 242,
   "id": "38a98ef6",
   "metadata": {
    "scrolled": true
   },
   "outputs": [
    {
     "data": {
      "text/plain": [
       "array([[0.5, 1. , 1.5],\n",
       "       [2. , 2.5, 3. ]])"
      ]
     },
     "execution_count": 242,
     "metadata": {},
     "output_type": "execute_result"
    }
   ],
   "source": [
    "0.5* arr # operações em batch"
   ]
  },
  {
   "cell_type": "code",
   "execution_count": 244,
   "id": "0a37b282",
   "metadata": {},
   "outputs": [
    {
     "data": {
      "text/plain": [
       "array([1, 2])"
      ]
     },
     "execution_count": 244,
     "metadata": {},
     "output_type": "execute_result"
    }
   ],
   "source": [
    "data = np.array([1, 2])\n",
    "data\n"
   ]
  },
  {
   "cell_type": "code",
   "execution_count": 246,
   "id": "52421e07",
   "metadata": {},
   "outputs": [
    {
     "data": {
      "text/plain": [
       "array([1, 1])"
      ]
     },
     "execution_count": 246,
     "metadata": {},
     "output_type": "execute_result"
    }
   ],
   "source": [
    "ones = np.ones(2, dtype=int)\n",
    "ones"
   ]
  },
  {
   "cell_type": "code",
   "execution_count": 247,
   "id": "3325674e",
   "metadata": {},
   "outputs": [
    {
     "data": {
      "text/plain": [
       "array([2, 3])"
      ]
     },
     "execution_count": 247,
     "metadata": {},
     "output_type": "execute_result"
    }
   ],
   "source": [
    "data + ones # operações em batch"
   ]
  },
  {
   "cell_type": "code",
   "execution_count": 248,
   "id": "1538f2db",
   "metadata": {},
   "outputs": [
    {
     "data": {
      "text/plain": [
       "1.5"
      ]
     },
     "execution_count": 248,
     "metadata": {},
     "output_type": "execute_result"
    }
   ],
   "source": [
    "data.max() # max\n",
    "data.min() # min\n",
    "data.mean() # mean"
   ]
  },
  {
   "cell_type": "code",
   "execution_count": 250,
   "id": "a023bfff",
   "metadata": {},
   "outputs": [
    {
     "data": {
      "text/plain": [
       "2"
      ]
     },
     "execution_count": 250,
     "metadata": {},
     "output_type": "execute_result"
    }
   ],
   "source": [
    "data.max()"
   ]
  },
  {
   "cell_type": "code",
   "execution_count": 249,
   "id": "a9fa6942",
   "metadata": {},
   "outputs": [
    {
     "data": {
      "text/plain": [
       "2"
      ]
     },
     "execution_count": 249,
     "metadata": {},
     "output_type": "execute_result"
    }
   ],
   "source": [
    "np.max(data)"
   ]
  },
  {
   "cell_type": "code",
   "execution_count": 251,
   "id": "1b98d633",
   "metadata": {},
   "outputs": [
    {
     "data": {
      "text/plain": [
       "array([11, 12, 13, 14, 15, 16, 17, 18, 19, 20])"
      ]
     },
     "execution_count": 251,
     "metadata": {},
     "output_type": "execute_result"
    }
   ],
   "source": [
    "a = np.array([11, 11, 12, 13, 14, 15, 16, 17, 12, 13, 11, 14, 18, 19, 20])\n",
    "np.unique(a) # distintos"
   ]
  },
  {
   "cell_type": "code",
   "execution_count": 252,
   "id": "52870a7e",
   "metadata": {},
   "outputs": [
    {
     "name": "stdout",
     "output_type": "stream",
     "text": [
      "[3 2 2 2 1 1 1 1 1 1]\n"
     ]
    }
   ],
   "source": [
    "unique_values, occurrence_count = np.unique(a, return_counts=True)\n",
    "print(occurrence_count) # contagem dos itens"
   ]
  },
  {
   "cell_type": "code",
   "execution_count": 253,
   "id": "8377b1c2",
   "metadata": {},
   "outputs": [
    {
     "data": {
      "text/plain": [
       "array([11, 12, 13, 14, 15, 16, 17, 18, 19, 20])"
      ]
     },
     "execution_count": 253,
     "metadata": {},
     "output_type": "execute_result"
    }
   ],
   "source": [
    "unique_values"
   ]
  },
  {
   "cell_type": "code",
   "execution_count": null,
   "id": "5a795a55",
   "metadata": {},
   "outputs": [],
   "source": [
    "# intersect? union?"
   ]
  },
  {
   "cell_type": "code",
   "execution_count": 254,
   "id": "7a7d52df",
   "metadata": {},
   "outputs": [
    {
     "data": {
      "text/plain": [
       "array([8, 7, 6, 5, 4, 3, 2, 1])"
      ]
     },
     "execution_count": 254,
     "metadata": {},
     "output_type": "execute_result"
    }
   ],
   "source": [
    "arr = np.array([1, 2, 3, 4, 5, 6, 7, 8])\n",
    "reversed_arr = np.flip(arr) # reverso\n",
    "reversed_arr"
   ]
  },
  {
   "cell_type": "markdown",
   "id": "ffef0946",
   "metadata": {},
   "source": [
    "**Funções Universais**\n",
    "\n",
    "Funções que aplicam a operação elemento a elemento"
   ]
  },
  {
   "cell_type": "code",
   "execution_count": 255,
   "id": "eaa99107",
   "metadata": {},
   "outputs": [
    {
     "data": {
      "text/plain": [
       "array([0, 1, 2, 3, 4, 5, 6, 7, 8, 9])"
      ]
     },
     "execution_count": 255,
     "metadata": {},
     "output_type": "execute_result"
    }
   ],
   "source": [
    "arr = np.arange(10)\n",
    "arr"
   ]
  },
  {
   "cell_type": "code",
   "execution_count": 256,
   "id": "7888dd09",
   "metadata": {},
   "outputs": [
    {
     "data": {
      "text/plain": [
       "array([0.        , 1.        , 1.41421356, 1.73205081, 2.        ,\n",
       "       2.23606798, 2.44948974, 2.64575131, 2.82842712, 3.        ])"
      ]
     },
     "execution_count": 256,
     "metadata": {},
     "output_type": "execute_result"
    }
   ],
   "source": [
    "np.sqrt(arr) # sqrt"
   ]
  },
  {
   "cell_type": "code",
   "execution_count": 257,
   "id": "eeabedf5",
   "metadata": {},
   "outputs": [
    {
     "data": {
      "text/plain": [
       "array([1.00000000e+00, 2.71828183e+00, 7.38905610e+00, 2.00855369e+01,\n",
       "       5.45981500e+01, 1.48413159e+02, 4.03428793e+02, 1.09663316e+03,\n",
       "       2.98095799e+03, 8.10308393e+03])"
      ]
     },
     "execution_count": 257,
     "metadata": {},
     "output_type": "execute_result"
    }
   ],
   "source": [
    "np.exp(arr) #exp"
   ]
  },
  {
   "cell_type": "markdown",
   "id": "41de9435",
   "metadata": {},
   "source": [
    "**Funções unárias**\n",
    "\n",
    "recebem dois arrays e retornam um array"
   ]
  },
  {
   "cell_type": "code",
   "execution_count": 258,
   "id": "76209cf5",
   "metadata": {},
   "outputs": [],
   "source": [
    "from numpy.random import randn\n",
    "x = randn(8)\n",
    "y = randn(8)"
   ]
  },
  {
   "cell_type": "code",
   "execution_count": 259,
   "id": "4c2ad8eb",
   "metadata": {},
   "outputs": [
    {
     "data": {
      "text/plain": [
       "array([-1.66269875,  0.72559193, -0.23261927, -0.29040079, -1.10976352,\n",
       "        0.59989321,  0.17695241, -0.34699175])"
      ]
     },
     "execution_count": 259,
     "metadata": {},
     "output_type": "execute_result"
    }
   ],
   "source": [
    "x"
   ]
  },
  {
   "cell_type": "code",
   "execution_count": 260,
   "id": "4ba206ad",
   "metadata": {},
   "outputs": [
    {
     "data": {
      "text/plain": [
       "array([ 0.89550988,  0.72559193, -0.1787439 ,  0.43766777,  0.61271665,\n",
       "        0.63317411,  0.17695241, -0.34699175])"
      ]
     },
     "execution_count": 260,
     "metadata": {},
     "output_type": "execute_result"
    }
   ],
   "source": [
    "np.maximum(x, y) # maximum"
   ]
  },
  {
   "cell_type": "code",
   "execution_count": 261,
   "id": "0f4cec4c",
   "metadata": {},
   "outputs": [],
   "source": [
    "arr = randn(7) * 5"
   ]
  },
  {
   "cell_type": "code",
   "execution_count": 262,
   "id": "75680d69",
   "metadata": {},
   "outputs": [
    {
     "data": {
      "text/plain": [
       "array([-0.02897127,  0.08397663, -4.59867069,  0.53048042, -4.48727246,\n",
       "        9.62561208,  6.01577498])"
      ]
     },
     "execution_count": 262,
     "metadata": {},
     "output_type": "execute_result"
    }
   ],
   "source": [
    "arr"
   ]
  },
  {
   "cell_type": "code",
   "execution_count": 263,
   "id": "f830ebe5",
   "metadata": {
    "scrolled": true
   },
   "outputs": [
    {
     "data": {
      "text/plain": [
       "(array([-0.02897127,  0.08397663, -0.59867069,  0.53048042, -0.48727246,\n",
       "         0.62561208,  0.01577498]),\n",
       " array([-0.,  0., -4.,  0., -4.,  9.,  6.]))"
      ]
     },
     "execution_count": 263,
     "metadata": {},
     "output_type": "execute_result"
    }
   ],
   "source": [
    "np.modf(arr) # #mod"
   ]
  },
  {
   "cell_type": "code",
   "execution_count": null,
   "id": "931b64f5",
   "metadata": {},
   "outputs": [],
   "source": []
  },
  {
   "cell_type": "markdown",
   "id": "69989cf5",
   "metadata": {},
   "source": [
    "### Salvar e ler "
   ]
  },
  {
   "cell_type": "code",
   "execution_count": 265,
   "id": "342208e5",
   "metadata": {},
   "outputs": [
    {
     "data": {
      "text/plain": [
       "array([0, 1, 2, 3, 4, 5, 6, 7, 8, 9])"
      ]
     },
     "execution_count": 265,
     "metadata": {},
     "output_type": "execute_result"
    }
   ],
   "source": [
    "arr = np.arange(10)\n",
    "arr"
   ]
  },
  {
   "cell_type": "code",
   "execution_count": 266,
   "id": "1e645bd9",
   "metadata": {},
   "outputs": [],
   "source": [
    "np.save('some_array', arr) # save"
   ]
  },
  {
   "cell_type": "code",
   "execution_count": 267,
   "id": "0f635d39",
   "metadata": {},
   "outputs": [
    {
     "data": {
      "text/plain": [
       "array([0, 1, 2, 3, 4, 5, 6, 7, 8, 9])"
      ]
     },
     "execution_count": 267,
     "metadata": {},
     "output_type": "execute_result"
    }
   ],
   "source": [
    "np.load('some_array.npy') #load"
   ]
  },
  {
   "cell_type": "code",
   "execution_count": 268,
   "id": "e4d159bb",
   "metadata": {
    "scrolled": true
   },
   "outputs": [
    {
     "data": {
      "text/plain": [
       "array([[ 0.580052,  0.18673 ,  1.040717,  1.134411],\n",
       "       [ 0.194163, -0.636917, -0.938659,  0.124094],\n",
       "       [-0.12641 ,  0.268607, -0.695724,  0.047428],\n",
       "       [-1.484413,  0.004176, -0.744203,  0.005487],\n",
       "       [ 2.302869,  0.200131,  1.670238, -1.88109 ],\n",
       "       [-0.19323 ,  1.047233,  0.482803,  0.960334]])"
      ]
     },
     "execution_count": 268,
     "metadata": {},
     "output_type": "execute_result"
    }
   ],
   "source": [
    "arr = np.loadtxt('../notebooks/array.txt', delimiter=',') #sloadtxt e savetxt\n",
    "arr"
   ]
  },
  {
   "cell_type": "markdown",
   "id": "cff984b8",
   "metadata": {},
   "source": [
    "# Referencias \n",
    "\n",
    "* devmedia.com.br\n",
    "\n",
    "* https://jovemnerd.com.br/nerdcast/nerdtech/vingadores-do-data-science/\n",
    "\n",
    "* https://www.youtube.com/watch?v=5b9Z8toVaAU\n",
    "\n",
    "* https://www.devmedia.com.br/tipos-de-dados-em-python-string/40669\n",
    "\n",
    "* https://gvanrossum.github.io/\n",
    "\n",
    "* https://numpy.org/learn/"
   ]
  }
 ],
 "metadata": {
  "hide_input": false,
  "kernelspec": {
   "display_name": "Python 3 (ipykernel)",
   "language": "python",
   "name": "python3"
  },
  "language_info": {
   "codemirror_mode": {
    "name": "ipython",
    "version": 3
   },
   "file_extension": ".py",
   "mimetype": "text/x-python",
   "name": "python",
   "nbconvert_exporter": "python",
   "pygments_lexer": "ipython3",
   "version": "3.9.1"
  },
  "toc": {
   "base_numbering": 1,
   "nav_menu": {},
   "number_sections": true,
   "sideBar": true,
   "skip_h1_title": false,
   "title_cell": "Table of Contents",
   "title_sidebar": "Contents",
   "toc_cell": false,
   "toc_position": {},
   "toc_section_display": true,
   "toc_window_display": false
  }
 },
 "nbformat": 4,
 "nbformat_minor": 5
}
