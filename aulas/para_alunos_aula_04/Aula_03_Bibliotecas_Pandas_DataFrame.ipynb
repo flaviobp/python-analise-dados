{
 "cells": [
  {
   "cell_type": "markdown",
   "id": "d047cec7",
   "metadata": {},
   "source": [
    "# LI PROGRAMA DE VERÃO (2022 - edição 51)\n"
   ]
  },
  {
   "cell_type": "markdown",
   "id": "77392e0f",
   "metadata": {},
   "source": [
    "<img src='../figuras/paisagem.png'>"
   ]
  },
  {
   "cell_type": "markdown",
   "id": "211ee610",
   "metadata": {},
   "source": [
    "## Pandas \n",
    "\n",
    "https://pandas.pydata.org/docs/user_guide/index.html"
   ]
  },
  {
   "cell_type": "markdown",
   "id": "e44ed52f",
   "metadata": {},
   "source": [
    "3 estruturas de dados, as principais são: \n",
    "* Series: similar a uma lista \n",
    "* DataFrame: forma tabula de apresentar os dados. Onde cada coluna é uma série"
   ]
  },
  {
   "cell_type": "markdown",
   "id": "8db20c11",
   "metadata": {},
   "source": [
    "Dataframes contêm uma coleção ordenada de colunas, em que cada coluna pode ter um tipo diferente (numerico, booleano, string)"
   ]
  },
  {
   "cell_type": "markdown",
   "id": "5dbc9b0c",
   "metadata": {},
   "source": [
    "## DataFrame "
   ]
  },
  {
   "cell_type": "code",
   "execution_count": null,
   "id": "d9848842",
   "metadata": {
    "scrolled": true
   },
   "outputs": [],
   "source": [
    "import pandas as pd\n",
    "df = pd.DataFrame({'growth':[.5, .7, 1.2], 'Name':['Paul', 'George', 'Ringo'] })\n",
    "df"
   ]
  },
  {
   "cell_type": "markdown",
   "id": "b4f04e85",
   "metadata": {},
   "source": [
    "<img src='../figuras/data_frame.png'>"
   ]
  },
  {
   "cell_type": "code",
   "execution_count": null,
   "id": "c75d4f48",
   "metadata": {},
   "outputs": [],
   "source": [
    "df.iloc[2]"
   ]
  },
  {
   "cell_type": "code",
   "execution_count": null,
   "id": "3d04bb0c",
   "metadata": {
    "scrolled": true
   },
   "outputs": [],
   "source": [
    "df['Name']"
   ]
  },
  {
   "cell_type": "code",
   "execution_count": null,
   "id": "1f7710ef",
   "metadata": {
    "scrolled": true
   },
   "outputs": [],
   "source": [
    " type(df['Name']) # series!"
   ]
  },
  {
   "cell_type": "code",
   "execution_count": null,
   "id": "b6e9c50b",
   "metadata": {
    "scrolled": true
   },
   "outputs": [],
   "source": [
    "df['Name'].str.lower()"
   ]
  },
  {
   "cell_type": "markdown",
   "id": "97d188bc",
   "metadata": {},
   "source": [
    "* Construção \n",
    "\n",
    "Dataframes podem ser criados de muitos tipos de entrada:\n",
    "\n",
    "- colunas ( dicionários de listas)\n",
    "- rows ( listas de dicionários)\n",
    "- CSV (pd.read_csv)\n",
    "- Numpy ndarray\n",
    "- E SQL, HDF5, etc"
   ]
  },
  {
   "cell_type": "code",
   "execution_count": null,
   "id": "d25f6d8d",
   "metadata": {
    "scrolled": true
   },
   "outputs": [],
   "source": [
    "pd.DataFrame([ # dataframes de rows\n",
    "    {'growth':.5, 'Name':'Paul'},\n",
    "    {'growth':.7, 'Name':'George'},\n",
    "    {'growth':1.2, 'Name':'Ringo'}])"
   ]
  },
  {
   "cell_type": "code",
   "execution_count": null,
   "id": "a0374007",
   "metadata": {
    "scrolled": true
   },
   "outputs": [],
   "source": [
    "import numpy as np\n",
    "pd.DataFrame(np.random.randn(10,3), columns=['a', 'b', 'c']) #numpy"
   ]
  },
  {
   "cell_type": "markdown",
   "id": "c95f6433",
   "metadata": {},
   "source": [
    "* Axis \n",
    "\n",
    "Ao contrário das series que tem apenas um axis, o DF tem dois: \n",
    "* 0: row index\n",
    "* 1: columns"
   ]
  },
  {
   "cell_type": "code",
   "execution_count": null,
   "id": "bb14c380",
   "metadata": {
    "scrolled": true
   },
   "outputs": [],
   "source": [
    "df.axes"
   ]
  },
  {
   "cell_type": "code",
   "execution_count": null,
   "id": "0ca36b7e",
   "metadata": {},
   "outputs": [],
   "source": [
    "df.axes[0]"
   ]
  },
  {
   "cell_type": "code",
   "execution_count": null,
   "id": "5076b74f",
   "metadata": {},
   "outputs": [],
   "source": [
    "df.axes[1]"
   ]
  },
  {
   "cell_type": "code",
   "execution_count": null,
   "id": "e0fd56ea",
   "metadata": {
    "scrolled": true
   },
   "outputs": [],
   "source": [
    "df = pd.DataFrame({'Score1': [None, None], 'Score2': [85, 90]})\n",
    "df"
   ]
  },
  {
   "cell_type": "code",
   "execution_count": null,
   "id": "a8b186e5",
   "metadata": {},
   "outputs": [],
   "source": [
    "df.apply(np.sum, axis=0)"
   ]
  },
  {
   "cell_type": "code",
   "execution_count": null,
   "id": "e72f3b52",
   "metadata": {
    "scrolled": true
   },
   "outputs": [],
   "source": [
    "df.apply(np.sum, axis=1)"
   ]
  },
  {
   "cell_type": "markdown",
   "id": "54b34128",
   "metadata": {},
   "source": [
    "<img src='../figuras/df_axis.png'>"
   ]
  },
  {
   "cell_type": "code",
   "execution_count": null,
   "id": "d65509bc",
   "metadata": {},
   "outputs": [],
   "source": [
    "from io import StringIO\n",
    "data = StringIO('''LOCATION,MILES,ELEVATION,CUMUL,% CUMUL GAIN\n",
    "Big Mountain Pass Aid Station,39.07,7432,11579,43.8%\n",
    "Mules Ear Meadow,40.75,7478,12008,45.4%\n",
    "Bald Mountain,42.46,7869,12593,47.6%\n",
    "Pence Point,43.99,7521,12813,48.4%\n",
    "Alexander Ridge Aid Station,46.9,6160,13169,49.8%\n",
    "Alexander Springs,47.97,5956,13319,50.3%\n",
    "Rogers Trail junction,49.52,6698,13967,52.8%\n",
    "Rogers Saddle,49.77,6790,14073,53.2%\n",
    "Railroad Bed,50.15,6520,,\n",
    "Lambs Canyon Underpass Aid Station,52.48,6111,14329,54.2%''')"
   ]
  },
  {
   "cell_type": "code",
   "execution_count": null,
   "id": "c02e3c6a",
   "metadata": {
    "scrolled": true
   },
   "outputs": [],
   "source": [
    "df = pd.read_csv(data)\n",
    "df"
   ]
  },
  {
   "cell_type": "code",
   "execution_count": null,
   "id": "a26cd328",
   "metadata": {
    "scrolled": true
   },
   "outputs": [],
   "source": [
    "print(df.to_string(line_width=60))"
   ]
  },
  {
   "cell_type": "code",
   "execution_count": null,
   "id": "031d95a2",
   "metadata": {
    "scrolled": true
   },
   "outputs": [],
   "source": [
    " print(df.T.to_string(line_width=60))"
   ]
  },
  {
   "cell_type": "code",
   "execution_count": null,
   "id": "3c2297af",
   "metadata": {
    "scrolled": true
   },
   "outputs": [],
   "source": [
    "df.describe()"
   ]
  },
  {
   "cell_type": "code",
   "execution_count": null,
   "id": "25fd8579",
   "metadata": {
    "scrolled": true
   },
   "outputs": [],
   "source": [
    "df['LOCATION'].value_counts()"
   ]
  },
  {
   "cell_type": "code",
   "execution_count": null,
   "id": "047e031b",
   "metadata": {},
   "outputs": [],
   "source": [
    "df.corr()"
   ]
  },
  {
   "cell_type": "markdown",
   "id": "3b525f31",
   "metadata": {},
   "source": [
    "* Adicionando linhas "
   ]
  },
  {
   "cell_type": "code",
   "execution_count": null,
   "id": "e60f3079",
   "metadata": {},
   "outputs": [],
   "source": [
    "df2 = pd.DataFrame([('Lambs Trail',54.14,6628,14805,'56.0%')], columns=['LOCATION','MILES','ELEVATION','CUMUL','% CUMUL GAIN'])"
   ]
  },
  {
   "cell_type": "code",
   "execution_count": null,
   "id": "22b06ca4",
   "metadata": {
    "scrolled": true
   },
   "outputs": [],
   "source": [
    "pd.concat([df, df2])"
   ]
  },
  {
   "cell_type": "code",
   "execution_count": null,
   "id": "160ad105",
   "metadata": {},
   "outputs": [],
   "source": [
    "df = pd.concat([df, df2], ignore_index=True)\n",
    "df"
   ]
  },
  {
   "cell_type": "markdown",
   "id": "3b07d1b8",
   "metadata": {},
   "source": [
    "* Adicionando colunas "
   ]
  },
  {
   "cell_type": "code",
   "execution_count": null,
   "id": "01b5f669",
   "metadata": {
    "scrolled": true
   },
   "outputs": [],
   "source": [
    "df['bogus'] = pd.Series(range(11))\n",
    "df"
   ]
  },
  {
   "cell_type": "code",
   "execution_count": null,
   "id": "b9161acc",
   "metadata": {},
   "outputs": [],
   "source": [
    "def aid_station(val):\n",
    "    return 'Station' in val"
   ]
  },
  {
   "cell_type": "code",
   "execution_count": null,
   "id": "1ec318e4",
   "metadata": {},
   "outputs": [],
   "source": [
    "df['STATION'] = df['LOCATION'].apply(aid_station)"
   ]
  },
  {
   "cell_type": "code",
   "execution_count": null,
   "id": "e9ee6e7e",
   "metadata": {
    "scrolled": true
   },
   "outputs": [],
   "source": [
    "df"
   ]
  },
  {
   "cell_type": "markdown",
   "id": "a0558de4",
   "metadata": {},
   "source": [
    "* Deletando linhas "
   ]
  },
  {
   "cell_type": "code",
   "execution_count": null,
   "id": "d2fa1059",
   "metadata": {
    "scrolled": true
   },
   "outputs": [],
   "source": [
    "df.drop([5, 9])"
   ]
  },
  {
   "cell_type": "code",
   "execution_count": null,
   "id": "78986882",
   "metadata": {
    "scrolled": true
   },
   "outputs": [],
   "source": [
    "df.drop(df.index[5:10:4])"
   ]
  },
  {
   "cell_type": "markdown",
   "id": "966dd445",
   "metadata": {},
   "source": [
    "* Deletando colunas "
   ]
  },
  {
   "cell_type": "code",
   "execution_count": null,
   "id": "ff36bf05",
   "metadata": {},
   "outputs": [],
   "source": [
    "bogus = df.pop('bogus') # inplace\n",
    "bogus"
   ]
  },
  {
   "cell_type": "code",
   "execution_count": null,
   "id": "72a695a9",
   "metadata": {},
   "outputs": [],
   "source": [
    "df.columns"
   ]
  },
  {
   "cell_type": "code",
   "execution_count": null,
   "id": "b061a132",
   "metadata": {},
   "outputs": [],
   "source": [
    "df['bogus'] = bogus\n",
    "df"
   ]
  },
  {
   "cell_type": "code",
   "execution_count": null,
   "id": "34757ba9",
   "metadata": {},
   "outputs": [],
   "source": [
    "del df['bogus'] # inplace"
   ]
  },
  {
   "cell_type": "code",
   "execution_count": null,
   "id": "321ae1a0",
   "metadata": {
    "scrolled": true
   },
   "outputs": [],
   "source": [
    "df"
   ]
  },
  {
   "cell_type": "code",
   "execution_count": null,
   "id": "60175c09",
   "metadata": {},
   "outputs": [],
   "source": [
    "df.drop(['ELEVATION', 'CUMUL', '% CUMUL GAIN', 'STATION'], axis=1)"
   ]
  },
  {
   "cell_type": "markdown",
   "id": "6029d120",
   "metadata": {},
   "source": [
    "* Metodos "
   ]
  },
  {
   "cell_type": "code",
   "execution_count": null,
   "id": "4a192642",
   "metadata": {},
   "outputs": [],
   "source": [
    "data = StringIO('''UPC,Units,Sales,Date\n",
    "    1234,5,20.2,1-1-2014\n",
    "    1234,2,8.,1-2-2014\n",
    "    1234,3,13.,1-3-2014\n",
    "    789,1,2.,1-1-2014\n",
    "    789,2,3.8,1-2-2014\n",
    "    789,,,1-3-2014\n",
    "    789,1,1.8,1-5-2014''')"
   ]
  },
  {
   "cell_type": "code",
   "execution_count": null,
   "id": "c5fb9bef",
   "metadata": {
    "scrolled": true
   },
   "outputs": [],
   "source": [
    "sales = pd.read_csv(data)\n",
    "sales"
   ]
  },
  {
   "cell_type": "code",
   "execution_count": null,
   "id": "99498b45",
   "metadata": {},
   "outputs": [],
   "source": [
    "# axes, index, columns"
   ]
  },
  {
   "cell_type": "code",
   "execution_count": null,
   "id": "3e492f9d",
   "metadata": {},
   "outputs": [],
   "source": [
    "sales.shape"
   ]
  },
  {
   "cell_type": "code",
   "execution_count": null,
   "id": "95f05b5e",
   "metadata": {
    "scrolled": true
   },
   "outputs": [],
   "source": [
    "sales.info() # observe que ele retorna o quanto de memoria esta sendo usado "
   ]
  },
  {
   "cell_type": "markdown",
   "id": "2a027530",
   "metadata": {},
   "source": [
    "* Iteration "
   ]
  },
  {
   "cell_type": "code",
   "execution_count": null,
   "id": "485652f1",
   "metadata": {
    "scrolled": false
   },
   "outputs": [],
   "source": [
    "for column in sales:\n",
    "    print(column)"
   ]
  },
  {
   "cell_type": "code",
   "execution_count": null,
   "id": "d7568c02",
   "metadata": {
    "scrolled": true
   },
   "outputs": [],
   "source": [
    "for col, ser in sales.iteritems():\n",
    "    print(col, ser)"
   ]
  },
  {
   "cell_type": "code",
   "execution_count": null,
   "id": "f9b6fca2",
   "metadata": {
    "scrolled": true
   },
   "outputs": [],
   "source": [
    "for row in sales.iterrows():\n",
    "    print(row)"
   ]
  },
  {
   "cell_type": "code",
   "execution_count": null,
   "id": "18cd9b18",
   "metadata": {},
   "outputs": [],
   "source": [
    "len(sales)"
   ]
  },
  {
   "cell_type": "markdown",
   "id": "151c222d",
   "metadata": {},
   "source": [
    "* Aritméticos "
   ]
  },
  {
   "cell_type": "code",
   "execution_count": null,
   "id": "4b11c997",
   "metadata": {},
   "outputs": [],
   "source": [
    "sales + 10"
   ]
  },
  {
   "cell_type": "code",
   "execution_count": null,
   "id": "87bb39c2",
   "metadata": {},
   "outputs": [],
   "source": [
    "sales[['Sales', 'Units']] + 10"
   ]
  },
  {
   "cell_type": "code",
   "execution_count": null,
   "id": "f898efa8",
   "metadata": {},
   "outputs": [],
   "source": [
    "sales.Units + 2"
   ]
  },
  {
   "cell_type": "markdown",
   "id": "5b7e1909",
   "metadata": {},
   "source": [
    "* Matriz "
   ]
  },
  {
   "cell_type": "code",
   "execution_count": null,
   "id": "687e8a78",
   "metadata": {},
   "outputs": [],
   "source": [
    "sales.transpose()"
   ]
  },
  {
   "cell_type": "code",
   "execution_count": null,
   "id": "8a27a021",
   "metadata": {},
   "outputs": [],
   "source": [
    "sales.dot(sales.T) # se o conteudo for numerico funciona"
   ]
  },
  {
   "cell_type": "markdown",
   "id": "bb2a137f",
   "metadata": {},
   "source": [
    "* Serialização"
   ]
  },
  {
   "cell_type": "code",
   "execution_count": null,
   "id": "42795f9f",
   "metadata": {},
   "outputs": [],
   "source": [
    "fout = StringIO()"
   ]
  },
  {
   "cell_type": "code",
   "execution_count": null,
   "id": "1c02f0d2",
   "metadata": {},
   "outputs": [],
   "source": [
    "sales.to_csv(fout, index_label='index')"
   ]
  },
  {
   "cell_type": "code",
   "execution_count": null,
   "id": "0d8c5fb1",
   "metadata": {
    "scrolled": true
   },
   "outputs": [],
   "source": [
    "print(fout.getvalue())"
   ]
  },
  {
   "cell_type": "code",
   "execution_count": null,
   "id": "8e02e0b5",
   "metadata": {},
   "outputs": [],
   "source": [
    "sales.to_dict()"
   ]
  },
  {
   "cell_type": "code",
   "execution_count": null,
   "id": "94b88c23",
   "metadata": {
    "scrolled": true
   },
   "outputs": [],
   "source": [
    "sales.to_dict(orient='list')"
   ]
  },
  {
   "cell_type": "code",
   "execution_count": null,
   "id": "50a51978",
   "metadata": {},
   "outputs": [],
   "source": [
    "pd.DataFrame.from_dict(sales.to_dict())"
   ]
  },
  {
   "cell_type": "code",
   "execution_count": null,
   "id": "b954e055",
   "metadata": {},
   "outputs": [],
   "source": [
    "sales.values # numpy matrices "
   ]
  },
  {
   "cell_type": "markdown",
   "id": "5faef3b2",
   "metadata": {},
   "source": [
    "* Index "
   ]
  },
  {
   "cell_type": "code",
   "execution_count": null,
   "id": "790a82d3",
   "metadata": {
    "scrolled": true
   },
   "outputs": [],
   "source": [
    "sales.reindex([0, 4])"
   ]
  },
  {
   "cell_type": "code",
   "execution_count": null,
   "id": "19fa46c3",
   "metadata": {},
   "outputs": [],
   "source": [
    "sales.reindex(columns=['Date', 'Sales'])"
   ]
  },
  {
   "cell_type": "code",
   "execution_count": null,
   "id": "975960de",
   "metadata": {},
   "outputs": [],
   "source": [
    " sales.reindex(index=[2, 6, 8], columns=['Sales', 'UPC', 'missing'])"
   ]
  },
  {
   "cell_type": "code",
   "execution_count": null,
   "id": "2469837c",
   "metadata": {},
   "outputs": [],
   "source": [
    "by_date = sales.set_index('Date')"
   ]
  },
  {
   "cell_type": "code",
   "execution_count": null,
   "id": "116901e3",
   "metadata": {},
   "outputs": [],
   "source": [
    "by_date.reset_index()"
   ]
  },
  {
   "cell_type": "markdown",
   "id": "6d64bfdf",
   "metadata": {},
   "source": [
    "* Getting e setting "
   ]
  },
  {
   "cell_type": "code",
   "execution_count": null,
   "id": "b21c5f2e",
   "metadata": {},
   "outputs": [],
   "source": [
    "sales.iat[4, 2]"
   ]
  },
  {
   "cell_type": "code",
   "execution_count": null,
   "id": "54e0696b",
   "metadata": {},
   "outputs": [],
   "source": [
    "# by_date.get_value('1-5-2014', 'UPC')"
   ]
  },
  {
   "cell_type": "code",
   "execution_count": null,
   "id": "25eeffa4",
   "metadata": {},
   "outputs": [],
   "source": [
    "# sales.set_value(6, 'Sales', 789)"
   ]
  },
  {
   "cell_type": "code",
   "execution_count": null,
   "id": "311b9efa",
   "metadata": {},
   "outputs": [],
   "source": [
    "sales.insert(1, 'Category', 'Food') # sem retorno "
   ]
  },
  {
   "cell_type": "code",
   "execution_count": null,
   "id": "1140ed48",
   "metadata": {},
   "outputs": [],
   "source": [
    "sales"
   ]
  },
  {
   "cell_type": "code",
   "execution_count": null,
   "id": "8deab81e",
   "metadata": {
    "scrolled": true
   },
   "outputs": [],
   "source": [
    "sales.replace(789, 790)"
   ]
  },
  {
   "cell_type": "code",
   "execution_count": null,
   "id": "e424ba6d",
   "metadata": {},
   "outputs": [],
   "source": [
    "# sales.replace({'UPC': {789: 790},'Sales': {789: 1.4}})"
   ]
  },
  {
   "cell_type": "code",
   "execution_count": null,
   "id": "1042898c",
   "metadata": {
    "scrolled": true
   },
   "outputs": [],
   "source": [
    "sales.replace('(F.*d)', r'\\1_stuff', regex=True)"
   ]
  },
  {
   "cell_type": "markdown",
   "id": "6f24f503",
   "metadata": {},
   "source": [
    "* Deletar colunas\n",
    "    - .pop\n",
    "    - .drop\n",
    "    - .reindex\n",
    "    - indexar com uma lista de novas colunas"
   ]
  },
  {
   "cell_type": "code",
   "execution_count": null,
   "id": "c1ea54b2",
   "metadata": {},
   "outputs": [],
   "source": [
    "sales['subcat'] = 'Dairy'\n",
    "sales"
   ]
  },
  {
   "cell_type": "code",
   "execution_count": null,
   "id": "32273823",
   "metadata": {
    "scrolled": true
   },
   "outputs": [],
   "source": [
    "sales.pop('subcat')"
   ]
  },
  {
   "cell_type": "code",
   "execution_count": null,
   "id": "19de01f5",
   "metadata": {
    "scrolled": true
   },
   "outputs": [],
   "source": [
    "sales.drop(['Category', 'Units'], axis=1)"
   ]
  },
  {
   "cell_type": "code",
   "execution_count": null,
   "id": "d874d16a",
   "metadata": {},
   "outputs": [],
   "source": [
    "cols = ['Sales', 'Date']"
   ]
  },
  {
   "cell_type": "code",
   "execution_count": null,
   "id": "b1574e57",
   "metadata": {
    "scrolled": true
   },
   "outputs": [],
   "source": [
    "sales.reindex(columns=cols)"
   ]
  },
  {
   "cell_type": "markdown",
   "id": "a58fab0f",
   "metadata": {},
   "source": [
    "* Slicing "
   ]
  },
  {
   "cell_type": "code",
   "execution_count": null,
   "id": "4d67ce7b",
   "metadata": {},
   "outputs": [],
   "source": [
    "sales.head()"
   ]
  },
  {
   "cell_type": "code",
   "execution_count": null,
   "id": "de4dfa54",
   "metadata": {},
   "outputs": [],
   "source": [
    "sales.tail(2)"
   ]
  },
  {
   "cell_type": "code",
   "execution_count": null,
   "id": "c9eb0de3",
   "metadata": {},
   "outputs": [],
   "source": [
    "sales['new_index'] = list('abcdefg')"
   ]
  },
  {
   "cell_type": "code",
   "execution_count": null,
   "id": "582597ba",
   "metadata": {},
   "outputs": [],
   "source": [
    "df = sales.set_index('new_index')"
   ]
  },
  {
   "cell_type": "code",
   "execution_count": null,
   "id": "dfb9c5a9",
   "metadata": {},
   "outputs": [],
   "source": [
    "del sales['new_index']"
   ]
  },
  {
   "cell_type": "code",
   "execution_count": null,
   "id": "19ffcfbe",
   "metadata": {
    "scrolled": true
   },
   "outputs": [],
   "source": [
    " df.iloc[2:4]"
   ]
  },
  {
   "cell_type": "markdown",
   "id": "d7e7f591",
   "metadata": {},
   "source": [
    "<img src='../figuras/dataframe_slicing.png'>"
   ]
  },
  {
   "cell_type": "code",
   "execution_count": null,
   "id": "0b85ec11",
   "metadata": {
    "scrolled": true
   },
   "outputs": [],
   "source": [
    "df.iloc[2:4, 0:1]"
   ]
  },
  {
   "cell_type": "code",
   "execution_count": null,
   "id": "e1b977f7",
   "metadata": {
    "scrolled": true
   },
   "outputs": [],
   "source": [
    "df.loc['a':'d']"
   ]
  },
  {
   "cell_type": "code",
   "execution_count": null,
   "id": "fe18516f",
   "metadata": {
    "scrolled": true
   },
   "outputs": [],
   "source": [
    "df.loc['d':, 'Units']"
   ]
  },
  {
   "cell_type": "markdown",
   "id": "30cbfc70",
   "metadata": {},
   "source": [
    "* Sorting "
   ]
  },
  {
   "cell_type": "code",
   "execution_count": null,
   "id": "2c82baea",
   "metadata": {},
   "outputs": [],
   "source": [
    "sales.sort_values('UPC')"
   ]
  },
  {
   "cell_type": "code",
   "execution_count": null,
   "id": "6c592c5b",
   "metadata": {
    "scrolled": true
   },
   "outputs": [],
   "source": [
    "sales.sort_values(['Units', 'UPC'])"
   ]
  },
  {
   "cell_type": "code",
   "execution_count": null,
   "id": "17a8ce51",
   "metadata": {},
   "outputs": [],
   "source": [
    "sales.sort_index(ascending=False)"
   ]
  },
  {
   "cell_type": "code",
   "execution_count": null,
   "id": "85a49179",
   "metadata": {},
   "outputs": [],
   "source": [
    "data = '''year\\tinches\\tlocation\n",
    "    2006\\t633.5\\tutah\n",
    "    2007\\t356\\tutah\n",
    "    2008\\t654\\tutah\n",
    "    2009\\t578\\tutah\n",
    "    2010\\t430\\tutah\n",
    "    2011\\t553\\tutah\n",
    "    2012\\t329.5\\tutah\n",
    "    2013\\t382.5\\tutah\n",
    "    2014\\t357.5\\tutah\n",
    "    2015\\t267.5\\tutah'''"
   ]
  },
  {
   "cell_type": "code",
   "execution_count": null,
   "id": "3134f307",
   "metadata": {},
   "outputs": [],
   "source": [
    "snow = pd.read_table(StringIO(data))\n",
    "snow"
   ]
  },
  {
   "cell_type": "markdown",
   "id": "e200723c",
   "metadata": {},
   "source": [
    "* describe e quantile"
   ]
  },
  {
   "cell_type": "code",
   "execution_count": null,
   "id": "70721ab2",
   "metadata": {
    "scrolled": true
   },
   "outputs": [],
   "source": [
    "snow.describe()"
   ]
  },
  {
   "cell_type": "code",
   "execution_count": null,
   "id": "a5268683",
   "metadata": {},
   "outputs": [],
   "source": [
    "snow.describe(include='all')"
   ]
  },
  {
   "cell_type": "code",
   "execution_count": null,
   "id": "727bada8",
   "metadata": {},
   "outputs": [],
   "source": [
    "snow.quantile()"
   ]
  },
  {
   "cell_type": "code",
   "execution_count": null,
   "id": "7dec2b72",
   "metadata": {},
   "outputs": [],
   "source": [
    "snow.quantile(q=[.1, .9])"
   ]
  },
  {
   "cell_type": "code",
   "execution_count": null,
   "id": "ce717bf1",
   "metadata": {
    "scrolled": true
   },
   "outputs": [],
   "source": [
    "snow.count()"
   ]
  },
  {
   "cell_type": "code",
   "execution_count": null,
   "id": "fd20b9f9",
   "metadata": {},
   "outputs": [],
   "source": [
    "snow.any()"
   ]
  },
  {
   "cell_type": "code",
   "execution_count": null,
   "id": "88371559",
   "metadata": {},
   "outputs": [],
   "source": [
    "snow.rank()"
   ]
  },
  {
   "cell_type": "code",
   "execution_count": null,
   "id": "4b7793eb",
   "metadata": {},
   "outputs": [],
   "source": [
    "snow[['inches']].clip(lower=400, upper=600)"
   ]
  },
  {
   "cell_type": "markdown",
   "id": "efd6763f",
   "metadata": {},
   "source": [
    "* Correlation and Covariance"
   ]
  },
  {
   "cell_type": "code",
   "execution_count": null,
   "id": "1fc8f728",
   "metadata": {},
   "outputs": [],
   "source": [
    "snow.corr()"
   ]
  },
  {
   "cell_type": "code",
   "execution_count": null,
   "id": "da38a2df",
   "metadata": {},
   "outputs": [],
   "source": [
    "snow.corr(method='spearman')"
   ]
  },
  {
   "cell_type": "code",
   "execution_count": null,
   "id": "6dafb785",
   "metadata": {},
   "outputs": [],
   "source": [
    " snow2 = snow[['inches']] - 100"
   ]
  },
  {
   "cell_type": "code",
   "execution_count": null,
   "id": "af98ba6c",
   "metadata": {},
   "outputs": [],
   "source": [
    "snow.corrwith(snow2)"
   ]
  },
  {
   "cell_type": "code",
   "execution_count": null,
   "id": "dfc570bf",
   "metadata": {},
   "outputs": [],
   "source": [
    "snow.cov()"
   ]
  },
  {
   "cell_type": "markdown",
   "id": "8534f21e",
   "metadata": {},
   "source": [
    "* Reductions "
   ]
  },
  {
   "cell_type": "code",
   "execution_count": null,
   "id": "f14524ae",
   "metadata": {},
   "outputs": [],
   "source": [
    "snow.sum() # o que acontece com as colunas que sao string?"
   ]
  },
  {
   "cell_type": "code",
   "execution_count": null,
   "id": "8f6f61d0",
   "metadata": {},
   "outputs": [],
   "source": [
    "snow.sum(numeric_only=True)"
   ]
  },
  {
   "cell_type": "code",
   "execution_count": null,
   "id": "5b5c81fe",
   "metadata": {},
   "outputs": [],
   "source": [
    "snow.prod()"
   ]
  },
  {
   "cell_type": "code",
   "execution_count": null,
   "id": "a084513d",
   "metadata": {},
   "outputs": [],
   "source": [
    "snow.mean(axis=1)"
   ]
  },
  {
   "cell_type": "code",
   "execution_count": null,
   "id": "e06ef5a0",
   "metadata": {},
   "outputs": [],
   "source": [
    "snow.var()"
   ]
  },
  {
   "cell_type": "markdown",
   "id": "55acd2ea",
   "metadata": {},
   "source": [
    "* Grouping, Pivoting e reshaping"
   ]
  },
  {
   "cell_type": "markdown",
   "id": "9b75f574",
   "metadata": {},
   "source": [
    "* GroupBy"
   ]
  },
  {
   "cell_type": "markdown",
   "id": "7441095a",
   "metadata": {},
   "source": [
    "<img src='../figuras/pandas_max_groupby.png'>"
   ]
  },
  {
   "cell_type": "code",
   "execution_count": null,
   "id": "f70cb2a1",
   "metadata": {
    "scrolled": true
   },
   "outputs": [],
   "source": [
    "df = pd.DataFrame({'Team':['A','A','A','B','B','B','B'], 'Score':[8.1, 8.3, 9.2,6.5,7.1,8.6,7.3]})\n",
    "df"
   ]
  },
  {
   "cell_type": "code",
   "execution_count": null,
   "id": "6060c8fb",
   "metadata": {},
   "outputs": [],
   "source": [
    "df.groupby('Team')['Score'].max()"
   ]
  },
  {
   "cell_type": "code",
   "execution_count": null,
   "id": "c46e40ab",
   "metadata": {},
   "outputs": [],
   "source": [
    " scores = pd.DataFrame({\n",
    "    'name':['Adam', 'Bob', 'Dave', 'Fred'],\n",
    "    'age': [15, 16, 16, 15],\n",
    "    'test1': [95, 81, 89, None],\n",
    "    'test2': [80, 82, 84, 88],\n",
    "    'teacher': ['Ashby', 'Ashby', 'Jones', 'Jones']})"
   ]
  },
  {
   "cell_type": "code",
   "execution_count": null,
   "id": "5fc00519",
   "metadata": {},
   "outputs": [],
   "source": [
    "scores"
   ]
  },
  {
   "cell_type": "code",
   "execution_count": null,
   "id": "2ce2bd42",
   "metadata": {},
   "outputs": [],
   "source": []
  },
  {
   "cell_type": "code",
   "execution_count": null,
   "id": "d1abdf7d",
   "metadata": {
    "scrolled": false
   },
   "outputs": [],
   "source": [
    "scores.groupby('teacher').median()"
   ]
  },
  {
   "cell_type": "code",
   "execution_count": null,
   "id": "18494fda",
   "metadata": {},
   "outputs": [],
   "source": [
    "scores.groupby('teacher').median()[['test1', 'test2']]"
   ]
  },
  {
   "cell_type": "code",
   "execution_count": null,
   "id": "85d0d1a9",
   "metadata": {},
   "outputs": [],
   "source": [
    "scores.groupby(['teacher', 'age']).median()"
   ]
  },
  {
   "cell_type": "code",
   "execution_count": null,
   "id": "c657a432",
   "metadata": {},
   "outputs": [],
   "source": [
    "scores.groupby(['teacher', 'age']).agg([min, max])"
   ]
  },
  {
   "cell_type": "markdown",
   "id": "f7c8dda2",
   "metadata": {},
   "source": [
    "* Pivot "
   ]
  },
  {
   "cell_type": "code",
   "execution_count": null,
   "id": "9904c84d",
   "metadata": {
    "scrolled": true
   },
   "outputs": [],
   "source": [
    "scores.pivot_table(index='teacher', values=['test1', 'test2'], aggfunc='median')"
   ]
  },
  {
   "cell_type": "code",
   "execution_count": null,
   "id": "376fac61",
   "metadata": {
    "scrolled": true
   },
   "outputs": [],
   "source": [
    "scores.pivot_table(index=['teacher', 'age'], values=['test1', 'test2'], aggfunc='median')"
   ]
  },
  {
   "cell_type": "code",
   "execution_count": null,
   "id": "3428e3b8",
   "metadata": {
    "scrolled": true
   },
   "outputs": [],
   "source": [
    "scores.pivot_table(index='teacher',  values=['test1', 'test2'], aggfunc=[min, max])"
   ]
  },
  {
   "cell_type": "code",
   "execution_count": null,
   "id": "c1b509e4",
   "metadata": {
    "scrolled": true
   },
   "outputs": [],
   "source": [
    "scores.pivot_table(index='teacher', values=['test1', 'test2'], aggfunc='median', margins=True)"
   ]
  },
  {
   "cell_type": "markdown",
   "id": "16c26aa1",
   "metadata": {},
   "source": [
    "* Melt "
   ]
  },
  {
   "cell_type": "code",
   "execution_count": null,
   "id": "f9d05873",
   "metadata": {},
   "outputs": [],
   "source": [
    "scores"
   ]
  },
  {
   "cell_type": "code",
   "execution_count": null,
   "id": "76f51c65",
   "metadata": {
    "scrolled": true
   },
   "outputs": [],
   "source": [
    "pd.melt(scores, id_vars=['name', 'age'], value_vars=['test1', 'test2'])"
   ]
  },
  {
   "cell_type": "markdown",
   "id": "74035be7",
   "metadata": {},
   "source": [
    "* Dummy "
   ]
  },
  {
   "cell_type": "code",
   "execution_count": null,
   "id": "4ccab4a5",
   "metadata": {
    "scrolled": true
   },
   "outputs": [],
   "source": [
    "pd.get_dummies(scores, columns=['age'], prefix='age')"
   ]
  },
  {
   "cell_type": "markdown",
   "id": "77d3472a",
   "metadata": {},
   "source": [
    "* Missing "
   ]
  },
  {
   "cell_type": "code",
   "execution_count": null,
   "id": "4321ff11",
   "metadata": {
    "scrolled": true
   },
   "outputs": [],
   "source": [
    "scores.isnull().any()"
   ]
  },
  {
   "cell_type": "code",
   "execution_count": null,
   "id": "1a57df73",
   "metadata": {
    "scrolled": true
   },
   "outputs": [],
   "source": [
    "scores.dropna()"
   ]
  },
  {
   "cell_type": "code",
   "execution_count": null,
   "id": "15f0697e",
   "metadata": {
    "scrolled": false
   },
   "outputs": [],
   "source": [
    "valid = scores.notnull()\n",
    "scores[valid.test1]"
   ]
  },
  {
   "cell_type": "code",
   "execution_count": null,
   "id": "67835cc0",
   "metadata": {
    "scrolled": true
   },
   "outputs": [],
   "source": [
    "scores.fillna('missing') # ffil, bfill"
   ]
  },
  {
   "cell_type": "code",
   "execution_count": null,
   "id": "171e5a54",
   "metadata": {
    "scrolled": true
   },
   "outputs": [],
   "source": [
    "scores.interpolate()"
   ]
  },
  {
   "cell_type": "markdown",
   "id": "d11b6687",
   "metadata": {},
   "source": [
    "* Joining \n",
    "\n",
    "https://towardsdatascience.com/python-pandas-dataframe-join-merge-and-concatenate-84985c29ef78\n",
    "\n",
    "https://pandas.pydata.org/pandas-docs/stable/user_guide/merging.html"
   ]
  },
  {
   "cell_type": "code",
   "execution_count": null,
   "id": "cfb8eed0",
   "metadata": {
    "scrolled": true
   },
   "outputs": [],
   "source": [
    "df1 = pd.DataFrame({'name': ['John', 'George', 'Ringo'], 'color': ['Blue', 'Blue', 'Purple']})\n",
    "df1"
   ]
  },
  {
   "cell_type": "code",
   "execution_count": null,
   "id": "3744d23e",
   "metadata": {
    "scrolled": true
   },
   "outputs": [],
   "source": [
    "df2 = pd.DataFrame({'name': ['Paul', 'George', 'Ringo'], 'carcolor': ['Red', 'Blue', np.nan]}, index=[3, 1, 2])\n",
    "df2"
   ]
  },
  {
   "cell_type": "code",
   "execution_count": null,
   "id": "f80a8732",
   "metadata": {
    "scrolled": true
   },
   "outputs": [],
   "source": [
    "pd.concat([df1, df2])"
   ]
  },
  {
   "cell_type": "code",
   "execution_count": null,
   "id": "15b32454",
   "metadata": {
    "scrolled": true
   },
   "outputs": [],
   "source": [
    " pd.concat([df1, df2], ignore_index=True)"
   ]
  },
  {
   "cell_type": "code",
   "execution_count": null,
   "id": "47a7c501",
   "metadata": {
    "scrolled": true
   },
   "outputs": [],
   "source": [
    "pd.concat([df1, df2], axis=1)"
   ]
  },
  {
   "cell_type": "code",
   "execution_count": null,
   "id": "718730d6",
   "metadata": {},
   "outputs": [],
   "source": [
    "df1.merge(df2)"
   ]
  },
  {
   "cell_type": "code",
   "execution_count": null,
   "id": "d5955733",
   "metadata": {},
   "outputs": [],
   "source": [
    "df1.merge(df2, how='outer')"
   ]
  },
  {
   "cell_type": "code",
   "execution_count": null,
   "id": "524f5b4f",
   "metadata": {},
   "outputs": [],
   "source": [
    "df1.merge(df2, how='left')"
   ]
  },
  {
   "cell_type": "markdown",
   "id": "2eceb2a1",
   "metadata": {},
   "source": [
    "* any all"
   ]
  },
  {
   "cell_type": "code",
   "execution_count": null,
   "id": "ffdeb666",
   "metadata": {},
   "outputs": [],
   "source": [
    "df3 = pd.DataFrame({'name': ['John', 'George', 'Ringo'], 'color': ['Blue', 'Blue', 'Purple']})\n",
    "df4 = pd.DataFrame({'name': ['John', 'George', 'Ringo'], 'color': ['Blue', 'Blue', 'Blue']})"
   ]
  },
  {
   "cell_type": "code",
   "execution_count": null,
   "id": "6ad25487",
   "metadata": {},
   "outputs": [],
   "source": [
    "any(df3.color == 'Blue')"
   ]
  },
  {
   "cell_type": "code",
   "execution_count": null,
   "id": "15cf3253",
   "metadata": {},
   "outputs": [],
   "source": [
    "all(df3.color == 'Blue')"
   ]
  },
  {
   "cell_type": "code",
   "execution_count": null,
   "id": "e8ca2bd4",
   "metadata": {},
   "outputs": [],
   "source": [
    "all(df4.color == 'Blue')"
   ]
  },
  {
   "cell_type": "markdown",
   "id": "cff984b8",
   "metadata": {},
   "source": [
    "# Referencias \n",
    "\n",
    "* devmedia.com.br\n",
    "\n",
    "* https://jovemnerd.com.br/nerdcast/nerdtech/vingadores-do-data-science/\n",
    "\n",
    "* https://www.youtube.com/watch?v=5b9Z8toVaAU\n",
    "\n",
    "* https://www.devmedia.com.br/tipos-de-dados-em-python-string/40669\n",
    "\n",
    "* https://gvanrossum.github.io/"
   ]
  }
 ],
 "metadata": {
  "hide_input": false,
  "kernelspec": {
   "display_name": "Python 3 (ipykernel)",
   "language": "python",
   "name": "python3"
  },
  "language_info": {
   "codemirror_mode": {
    "name": "ipython",
    "version": 3
   },
   "file_extension": ".py",
   "mimetype": "text/x-python",
   "name": "python",
   "nbconvert_exporter": "python",
   "pygments_lexer": "ipython3",
   "version": "3.9.1"
  },
  "toc": {
   "base_numbering": 1,
   "nav_menu": {},
   "number_sections": true,
   "sideBar": true,
   "skip_h1_title": false,
   "title_cell": "Table of Contents",
   "title_sidebar": "Contents",
   "toc_cell": false,
   "toc_position": {},
   "toc_section_display": true,
   "toc_window_display": false
  }
 },
 "nbformat": 4,
 "nbformat_minor": 5
}
