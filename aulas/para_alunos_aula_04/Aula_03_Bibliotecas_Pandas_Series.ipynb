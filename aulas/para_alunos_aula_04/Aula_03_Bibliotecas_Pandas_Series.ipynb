{
 "cells": [
  {
   "cell_type": "markdown",
   "id": "d047cec7",
   "metadata": {},
   "source": [
    "# LI PROGRAMA DE VERÃO (2022 - edição 51)\n"
   ]
  },
  {
   "cell_type": "markdown",
   "id": "77392e0f",
   "metadata": {},
   "source": [
    "<img src='../figuras/paisagem.png'>"
   ]
  },
  {
   "cell_type": "markdown",
   "id": "ba843f0b",
   "metadata": {},
   "source": [
    "## Recapitulando a aula anterior:\n",
    "\n",
    "\n"
   ]
  },
  {
   "cell_type": "markdown",
   "id": "64c835f4",
   "metadata": {},
   "source": [
    "## Fechando! "
   ]
  },
  {
   "cell_type": "markdown",
   "id": "9d2ad4f6",
   "metadata": {},
   "source": [
    "* Tipagem dinâmica\n",
    "* Sem delimitadores {};\n",
    "* Instalação de libs \n",
    "\n",
    "https://www.devmedia.com.br/meetup-introducao-ao-python/40245\n"
   ]
  },
  {
   "cell_type": "code",
   "execution_count": null,
   "id": "1d6351cc",
   "metadata": {},
   "outputs": [],
   "source": []
  },
  {
   "cell_type": "markdown",
   "id": "59d00eb7",
   "metadata": {},
   "source": [
    "# Referencias \n",
    "\n",
    "* devmedia.com.br\n",
    "\n",
    "* https://jovemnerd.com.br/nerdcast/nerdtech/vingadores-do-data-science/\n",
    "\n",
    "* https://www.youtube.com/watch?v=5b9Z8toVaAU\n",
    "\n",
    "* https://www.devmedia.com.br/tipos-de-dados-em-python-string/40669\n",
    "\n",
    "* https://gvanrossum.github.io/"
   ]
  },
  {
   "cell_type": "code",
   "execution_count": null,
   "id": "71af16e0",
   "metadata": {},
   "outputs": [],
   "source": []
  },
  {
   "cell_type": "markdown",
   "id": "bbc8514c",
   "metadata": {},
   "source": [
    "# Bibliotecas\n",
    "\n",
    "* Pandas\n",
    "* Numpy\n",
    "* MatplotLib\n",
    "* Sklearn"
   ]
  },
  {
   "cell_type": "markdown",
   "id": "37393f54",
   "metadata": {},
   "source": [
    "# Pandas \n",
    "\n",
    "https://pandas.pydata.org/docs/user_guide/index.html"
   ]
  },
  {
   "cell_type": "markdown",
   "id": "efbd2386",
   "metadata": {},
   "source": [
    "<img src='../figuras/wes-2017-01-12-small.png' alt=\"Drawing\" style=\"width: 200px;\">"
   ]
  },
  {
   "cell_type": "markdown",
   "id": "3545dab0",
   "metadata": {},
   "source": [
    "Estruturas de dados:\n",
    "* Series: similar a uma lista \n",
    "* DataFrame: forma tabular de apresentar os dados. Onde cada coluna é uma série"
   ]
  },
  {
   "cell_type": "code",
   "execution_count": null,
   "id": "ec2ea7ef",
   "metadata": {},
   "outputs": [],
   "source": []
  },
  {
   "cell_type": "code",
   "execution_count": null,
   "id": "91677eee",
   "metadata": {},
   "outputs": [],
   "source": []
  },
  {
   "cell_type": "markdown",
   "id": "fad7d630",
   "metadata": {},
   "source": [
    "## Series\n",
    "\n",
    "É um objeto de uma dimensão, que contém um array de dados ( de qualquer tipo de dados do Numpy) e um array associado com os labels dos dados, chamado *index*.\n"
   ]
  },
  {
   "cell_type": "code",
   "execution_count": null,
   "id": "c44500e7",
   "metadata": {},
   "outputs": [],
   "source": [
    "import pandas as pd\n",
    "songs = pd.Series([145, 142, 38, 13], name='counts')\n",
    "songs"
   ]
  },
  {
   "cell_type": "markdown",
   "id": "609cbbe1",
   "metadata": {},
   "source": [
    "<img src='../figuras/series.png'>"
   ]
  },
  {
   "cell_type": "markdown",
   "id": "fec401b4",
   "metadata": {},
   "source": [
    "Observe que como não especificamos nenhum valor para os indices, são atribuídos indicies de 0 até N-1.  É possível recuperar a representação de um array ou do indice: "
   ]
  },
  {
   "cell_type": "code",
   "execution_count": null,
   "id": "f767bc5d",
   "metadata": {},
   "outputs": [],
   "source": [
    "songs.values"
   ]
  },
  {
   "cell_type": "code",
   "execution_count": null,
   "id": "a3aff4c6",
   "metadata": {},
   "outputs": [],
   "source": [
    "songs.index"
   ]
  },
  {
   "cell_type": "code",
   "execution_count": null,
   "id": "d69931f9",
   "metadata": {
    "scrolled": true
   },
   "outputs": [],
   "source": [
    "letters = pd.Series(['a', 'b', 'c'], name='letters')\n",
    "letters"
   ]
  },
  {
   "cell_type": "markdown",
   "id": "1b766ff6",
   "metadata": {},
   "source": [
    "É possivel criar series com tipos mistos: "
   ]
  },
  {
   "cell_type": "code",
   "execution_count": null,
   "id": "7ed41b9a",
   "metadata": {},
   "outputs": [],
   "source": [
    "mix = pd.Series(['a', 1, 'c'], name='letters')\n",
    "mix"
   ]
  },
  {
   "cell_type": "markdown",
   "id": "c30c478e",
   "metadata": {},
   "source": [
    "**Nota:** apesar de permitido construir listas com tipos mistos, isso não é recomendado, pois atrapalha a performance das operações "
   ]
  },
  {
   "cell_type": "code",
   "execution_count": null,
   "id": "b663688a",
   "metadata": {},
   "outputs": [],
   "source": [
    "print(type(mix[0]))\n",
    "print(type(mix[1]))"
   ]
  },
  {
   "cell_type": "code",
   "execution_count": null,
   "id": "44e47592",
   "metadata": {},
   "outputs": [],
   "source": [
    "songs.index"
   ]
  },
  {
   "cell_type": "markdown",
   "id": "8eac6c24",
   "metadata": {},
   "source": [
    "Frequentemente é desejado criar series com indices que identificam cada ponto, da seguinte forma: "
   ]
  },
  {
   "cell_type": "code",
   "execution_count": null,
   "id": "8c7115bf",
   "metadata": {
    "scrolled": true
   },
   "outputs": [],
   "source": [
    "songs3 = pd.Series([145, 142, 38, 13], name='counts', index=['Paul', 'John', 'George', 'Ringo'])\n",
    "songs3"
   ]
  },
  {
   "cell_type": "code",
   "execution_count": null,
   "id": "3e2c7616",
   "metadata": {},
   "outputs": [],
   "source": [
    "songs3.index"
   ]
  },
  {
   "cell_type": "markdown",
   "id": "f8509529",
   "metadata": {},
   "source": [
    "Também podemos criar um serie em que um dos valores é NaN:"
   ]
  },
  {
   "cell_type": "code",
   "execution_count": null,
   "id": "a94c9495",
   "metadata": {
    "scrolled": true
   },
   "outputs": [],
   "source": [
    "nan_ser = pd.Series([2, None], index=['Ono', 'Clapton'])  # observe que esta serie é do tipo float, isso pq apenas float suportam o NaN\n",
    "nan_ser"
   ]
  },
  {
   "cell_type": "markdown",
   "id": "837ef526",
   "metadata": {},
   "source": [
    "Mas se você contar a quantidade de itens da série, o NaN será ignorado: "
   ]
  },
  {
   "cell_type": "code",
   "execution_count": null,
   "id": "49bad0c0",
   "metadata": {
    "scrolled": true
   },
   "outputs": [],
   "source": [
    "nan_ser.count() # observe que o nan é ignorado na maioria da operacoes "
   ]
  },
  {
   "cell_type": "markdown",
   "id": "92723b1d",
   "metadata": {},
   "source": [
    "Como visto no exemplo acima, em que verificamos o tipo da posição de um valor da série, é possivel indexar e então acessar um valor ou conjunto de valores: "
   ]
  },
  {
   "cell_type": "code",
   "execution_count": null,
   "id": "9fc29723",
   "metadata": {},
   "outputs": [],
   "source": [
    "# acesso a uma posicao \n",
    "songs[1]"
   ]
  },
  {
   "cell_type": "code",
   "execution_count": null,
   "id": "0aa85346",
   "metadata": {},
   "outputs": [],
   "source": [
    "songs3[['Paul']]"
   ]
  },
  {
   "cell_type": "code",
   "execution_count": null,
   "id": "0f01803f",
   "metadata": {
    "scrolled": false
   },
   "outputs": [],
   "source": [
    "songs3[['Paul', 'George']]"
   ]
  },
  {
   "cell_type": "code",
   "execution_count": null,
   "id": "2bf88850",
   "metadata": {
    "scrolled": false
   },
   "outputs": [],
   "source": [
    "mask = songs3 > songs3.median() # boolean array\n",
    "mask"
   ]
  },
  {
   "cell_type": "markdown",
   "id": "f474199c",
   "metadata": {},
   "source": [
    "Observe que operações Numpy array, tais como filtros, multiplicação por um escalar ou aplicação de funções matemáticas, preservam o valor do index: "
   ]
  },
  {
   "cell_type": "code",
   "execution_count": null,
   "id": "dea8883f",
   "metadata": {},
   "outputs": [],
   "source": [
    "# filtro \n",
    "songs3[mask]"
   ]
  },
  {
   "cell_type": "markdown",
   "id": "307bde37",
   "metadata": {},
   "source": [
    "**Nota:** usar series, quando estamos lidando com dados númericos, ao invés de listas, é mais rápido, consome menos memória e já existem metodos que facilitam a mainpulação dos dados."
   ]
  },
  {
   "cell_type": "markdown",
   "id": "a17a6528",
   "metadata": {},
   "source": [
    "# Vamos ver com mais detalhes:"
   ]
  },
  {
   "cell_type": "markdown",
   "id": "4f2f76ba",
   "metadata": {},
   "source": [
    "### CRUD "
   ]
  },
  {
   "cell_type": "markdown",
   "id": "3b7d3a56",
   "metadata": {},
   "source": [
    "* Creation"
   ]
  },
  {
   "cell_type": "code",
   "execution_count": null,
   "id": "594a9aff",
   "metadata": {
    "scrolled": true
   },
   "outputs": [],
   "source": [
    "# count of songs attributed to George Harrison during the \n",
    "# final years of The Beatles and the release of his 1970 album All Things Must Pass.\n",
    "george_dupe = pd.Series([10, 7, 1, 22], index=['1968', '1969', '1970', '1970'], name='George Songs')\n",
    "george_dupe"
   ]
  },
  {
   "cell_type": "markdown",
   "id": "2d43174b",
   "metadata": {},
   "source": [
    "**Nota:** Observe que o index são string não unicas"
   ]
  },
  {
   "cell_type": "markdown",
   "id": "fae7cf0b",
   "metadata": {},
   "source": [
    "Podemos criar uma serie a partir de um dicionário, uma vez que podemos pensar em uma série como um dicionário ordenado, de tamanho fixo, mapeando valores para indices: "
   ]
  },
  {
   "cell_type": "code",
   "execution_count": null,
   "id": "05933572",
   "metadata": {},
   "outputs": [],
   "source": [
    "dicionario = {'1969': 7, '1970':1, '1970':2}\n",
    "dicionario"
   ]
  },
  {
   "cell_type": "markdown",
   "id": "202c006a",
   "metadata": {},
   "source": [
    "Note que, um dicionário não permite chaves duplicadas, então precisamos de uma lista (= "
   ]
  },
  {
   "cell_type": "code",
   "execution_count": null,
   "id": "578e849c",
   "metadata": {},
   "outputs": [],
   "source": [
    "dicionario_2 = {'1969': 7, '1970': [1, 22]}\n",
    "dicionario_2"
   ]
  },
  {
   "cell_type": "code",
   "execution_count": null,
   "id": "72e733c5",
   "metadata": {
    "scrolled": true
   },
   "outputs": [],
   "source": [
    "# criando uma serie a partir de um dicionario\n",
    "g2 = pd.Series(dicionario_2, index=['1969', '1970', '1970'])\n",
    "g2\n"
   ]
  },
  {
   "cell_type": "markdown",
   "id": "da42626a",
   "metadata": {},
   "source": [
    "* Reading "
   ]
  },
  {
   "cell_type": "code",
   "execution_count": null,
   "id": "014a54a4",
   "metadata": {},
   "outputs": [],
   "source": [
    "george_dupe['1968'] # retorna um valor "
   ]
  },
  {
   "cell_type": "code",
   "execution_count": null,
   "id": "2652b91f",
   "metadata": {
    "scrolled": true
   },
   "outputs": [],
   "source": [
    "george_dupe['1970'] # não retorna um unico valor"
   ]
  },
  {
   "cell_type": "code",
   "execution_count": null,
   "id": "1cf98b7e",
   "metadata": {
    "scrolled": true
   },
   "outputs": [],
   "source": [
    "for item in george_dupe:\n",
    "    print(item)"
   ]
  },
  {
   "cell_type": "code",
   "execution_count": null,
   "id": "c9cd9cb7",
   "metadata": {},
   "outputs": [],
   "source": [
    "22 in george_dupe  # esse metodo nao itera sobre os valores "
   ]
  },
  {
   "cell_type": "code",
   "execution_count": null,
   "id": "248655e9",
   "metadata": {
    "scrolled": true
   },
   "outputs": [],
   "source": [
    "'1970' in george_dupe # esse metodo itera sobre o index"
   ]
  },
  {
   "cell_type": "code",
   "execution_count": null,
   "id": "ce785bd5",
   "metadata": {},
   "outputs": [],
   "source": [
    "set(george_dupe) # transforme em um conjunto"
   ]
  },
  {
   "cell_type": "code",
   "execution_count": null,
   "id": "d842ec38",
   "metadata": {},
   "outputs": [],
   "source": [
    "22 in set(george_dupe) # agora sim o metodo itera nos valores"
   ]
  },
  {
   "cell_type": "code",
   "execution_count": null,
   "id": "6e526677",
   "metadata": {},
   "outputs": [],
   "source": [
    "22 in george_dupe.values # ou assim "
   ]
  },
  {
   "cell_type": "code",
   "execution_count": null,
   "id": "ab123f8c",
   "metadata": {
    "scrolled": true
   },
   "outputs": [],
   "source": [
    "for item in george_dupe.iteritems():\n",
    "    print(item)"
   ]
  },
  {
   "cell_type": "markdown",
   "id": "b36cb445",
   "metadata": {},
   "source": [
    "* Updating "
   ]
  },
  {
   "cell_type": "code",
   "execution_count": null,
   "id": "78078d04",
   "metadata": {},
   "outputs": [],
   "source": [
    "george_dupe['1969'] = 6\n",
    "george_dupe['1969']"
   ]
  },
  {
   "cell_type": "code",
   "execution_count": null,
   "id": "f12dd9a2",
   "metadata": {
    "scrolled": true
   },
   "outputs": [],
   "source": [
    "george_dupe['1973'] = 11\n",
    "george_dupe"
   ]
  },
  {
   "cell_type": "code",
   "execution_count": null,
   "id": "43d3fd3f",
   "metadata": {},
   "outputs": [],
   "source": [
    "george_dupe"
   ]
  },
  {
   "cell_type": "code",
   "execution_count": null,
   "id": "efb33173",
   "metadata": {},
   "outputs": [],
   "source": [
    "# o que vcs acham que vai acontecer aqui?\n",
    "george_dupe['1970'] = 2\n",
    "george_dupe"
   ]
  },
  {
   "cell_type": "code",
   "execution_count": null,
   "id": "892ed02e",
   "metadata": {
    "scrolled": true
   },
   "outputs": [],
   "source": [
    "george_dupe.iloc[3] = 22\n",
    "george_dupe"
   ]
  },
  {
   "cell_type": "code",
   "execution_count": null,
   "id": "3bb35ef8",
   "metadata": {
    "scrolled": true
   },
   "outputs": [],
   "source": [
    "george_dupe.append(pd.Series({'1974':9})) # nesse caso eh criada outra lista, ou seja, nao alteramos a serie"
   ]
  },
  {
   "cell_type": "code",
   "execution_count": null,
   "id": "3e206297",
   "metadata": {},
   "outputs": [],
   "source": [
    "george_dupe"
   ]
  },
  {
   "cell_type": "markdown",
   "id": "9751b22f",
   "metadata": {},
   "source": [
    "* Deletion"
   ]
  },
  {
   "cell_type": "code",
   "execution_count": null,
   "id": "b7904c65",
   "metadata": {},
   "outputs": [],
   "source": [
    "del george_dupe['1973']"
   ]
  },
  {
   "cell_type": "code",
   "execution_count": null,
   "id": "cb730540",
   "metadata": {
    "scrolled": false
   },
   "outputs": [],
   "source": [
    "george_dupe"
   ]
  },
  {
   "cell_type": "code",
   "execution_count": null,
   "id": "10e95a31",
   "metadata": {
    "scrolled": true
   },
   "outputs": [],
   "source": [
    "george_dupe[george_dupe <= 2]"
   ]
  },
  {
   "cell_type": "markdown",
   "id": "363c21f1",
   "metadata": {},
   "source": [
    "## Indexing "
   ]
  },
  {
   "cell_type": "code",
   "execution_count": null,
   "id": "97c1e040",
   "metadata": {},
   "outputs": [],
   "source": [
    "george = pd.Series([10, 7],index=['1968', '1969'], name='George Songs')\n",
    "george"
   ]
  },
  {
   "cell_type": "code",
   "execution_count": null,
   "id": "f8fce5a1",
   "metadata": {
    "scrolled": true
   },
   "outputs": [],
   "source": [
    " george.index"
   ]
  },
  {
   "cell_type": "code",
   "execution_count": null,
   "id": "f566bb4a",
   "metadata": {
    "scrolled": true
   },
   "outputs": [],
   "source": [
    "dupe = pd.Series([10, 2, 7], index=['1968', '1968', '1969'], name='George Songs')\n",
    "dupe.index.is_unique"
   ]
  },
  {
   "cell_type": "code",
   "execution_count": null,
   "id": "04451f75",
   "metadata": {},
   "outputs": [],
   "source": [
    "george.index.is_unique"
   ]
  },
  {
   "cell_type": "code",
   "execution_count": null,
   "id": "7a9e9729",
   "metadata": {
    "scrolled": true
   },
   "outputs": [],
   "source": [
    "george"
   ]
  },
  {
   "cell_type": "code",
   "execution_count": null,
   "id": "49358069",
   "metadata": {},
   "outputs": [],
   "source": [
    "george[0]"
   ]
  },
  {
   "cell_type": "code",
   "execution_count": null,
   "id": "e59a3035",
   "metadata": {
    "scrolled": true
   },
   "outputs": [],
   "source": [
    "george['1968']"
   ]
  },
  {
   "cell_type": "code",
   "execution_count": null,
   "id": "5a61f55c",
   "metadata": {},
   "outputs": [],
   "source": [
    "george[-2]"
   ]
  },
  {
   "cell_type": "code",
   "execution_count": null,
   "id": "d43a107d",
   "metadata": {
    "scrolled": true
   },
   "outputs": [],
   "source": [
    "dupe"
   ]
  },
  {
   "cell_type": "code",
   "execution_count": null,
   "id": "69e8c0c2",
   "metadata": {
    "scrolled": true
   },
   "outputs": [],
   "source": [
    "dupe['1968']"
   ]
  },
  {
   "cell_type": "code",
   "execution_count": null,
   "id": "812a7ca6",
   "metadata": {},
   "outputs": [],
   "source": [
    "george_i = pd.Series([10, 7], index=[1968, 1969], name='George Songs')\n",
    "george_i"
   ]
  },
  {
   "cell_type": "code",
   "execution_count": null,
   "id": "c7a16652",
   "metadata": {},
   "outputs": [],
   "source": [
    "george_i[-1] # conseguem chutar porque deu erro aqui? "
   ]
  },
  {
   "cell_type": "markdown",
   "id": "afe90c7a",
   "metadata": {},
   "source": [
    "* .iloc: posição\n",
    "* .loc : label"
   ]
  },
  {
   "cell_type": "code",
   "execution_count": null,
   "id": "9406be11",
   "metadata": {},
   "outputs": [],
   "source": [
    "george.iloc[0]"
   ]
  },
  {
   "cell_type": "code",
   "execution_count": null,
   "id": "7b3ff138",
   "metadata": {},
   "outputs": [],
   "source": [
    "george.iloc[-1]"
   ]
  },
  {
   "cell_type": "code",
   "execution_count": null,
   "id": "2fedaeff",
   "metadata": {
    "scrolled": true
   },
   "outputs": [],
   "source": [
    "george.iloc[4]"
   ]
  },
  {
   "cell_type": "code",
   "execution_count": null,
   "id": "d49af70e",
   "metadata": {},
   "outputs": [],
   "source": [
    " george.iloc['1968']"
   ]
  },
  {
   "cell_type": "code",
   "execution_count": null,
   "id": "1168cce2",
   "metadata": {},
   "outputs": [],
   "source": [
    "george.iloc[0:3] # slice"
   ]
  },
  {
   "cell_type": "code",
   "execution_count": null,
   "id": "31415bbe",
   "metadata": {},
   "outputs": [],
   "source": [
    "george.iloc[[0,1]] # list"
   ]
  },
  {
   "cell_type": "code",
   "execution_count": null,
   "id": "d0523247",
   "metadata": {},
   "outputs": [],
   "source": [
    "george.loc['1968':] # slice"
   ]
  },
  {
   "cell_type": "code",
   "execution_count": null,
   "id": "958f51e5",
   "metadata": {},
   "outputs": [],
   "source": [
    "george.loc['1970']"
   ]
  },
  {
   "cell_type": "code",
   "execution_count": null,
   "id": "451946b5",
   "metadata": {},
   "outputs": [],
   "source": [
    "george.loc[0]"
   ]
  },
  {
   "cell_type": "code",
   "execution_count": null,
   "id": "3820896f",
   "metadata": {},
   "outputs": [],
   "source": [
    "george.loc[['1968', '1970']] # list"
   ]
  },
  {
   "cell_type": "markdown",
   "id": "f40b41dd",
   "metadata": {},
   "source": [
    "<img src='../figuras/series_indexing.png'>"
   ]
  },
  {
   "cell_type": "markdown",
   "id": "b1772b27",
   "metadata": {},
   "source": [
    "Analogos ao loc e iloc\n",
    "* .at \n",
    "* .iat"
   ]
  },
  {
   "cell_type": "code",
   "execution_count": null,
   "id": "eab70f0e",
   "metadata": {},
   "outputs": [],
   "source": [
    "george_dupe = pd.Series([10, 7, 1, 22], index=['1968', '1969', '1970', '1970'], name='George Songs')\n",
    "george_dupe"
   ]
  },
  {
   "cell_type": "code",
   "execution_count": null,
   "id": "0aa85ca8",
   "metadata": {},
   "outputs": [],
   "source": [
    "george_dupe.at['1970']"
   ]
  },
  {
   "cell_type": "code",
   "execution_count": null,
   "id": "1e7d20b3",
   "metadata": {
    "scrolled": true
   },
   "outputs": [],
   "source": [
    "george_dupe.loc['1970']"
   ]
  },
  {
   "cell_type": "code",
   "execution_count": null,
   "id": "0faabbec",
   "metadata": {},
   "outputs": [],
   "source": [
    "george_dupe.iat[3]"
   ]
  },
  {
   "cell_type": "code",
   "execution_count": null,
   "id": "bad0bf3a",
   "metadata": {},
   "outputs": [],
   "source": [
    "george_dupe.loc['1970'].iat[0]"
   ]
  },
  {
   "cell_type": "markdown",
   "id": "35341fe1",
   "metadata": {},
   "source": [
    "**RESUMO**"
   ]
  },
  {
   "cell_type": "markdown",
   "id": "b11c5c09",
   "metadata": {},
   "source": [
    "|Metodo | Quando usar |\n",
    "| --- |--- |\n",
    "Acesso pelo atributo | Obter valores para um único nome de índice quando o nome é válido\n",
    "Acesso pelo Indice | Obter / definir valores para um único índice\n",
    ".iloc | Obter / definir valores para uma posição \n",
    ".loc | Obter / definir valores para um label \n",
    ".iat  | Obter / definir valores para uma posição \n",
    ".at | Obter / definir valores para um label "
   ]
  },
  {
   "cell_type": "markdown",
   "id": "59cc1e9d",
   "metadata": {},
   "source": [
    "|Slice | Resultado |\n",
    "| --- |--- |\n",
    "0:1 | Primeiro item\n",
    ":1 | Primeiro item\n",
    ": -2 | Pegue do início ao penúltimo item\n",
    "::2 | Pegue do início ao fim, pulando todos os outros itens"
   ]
  },
  {
   "cell_type": "code",
   "execution_count": null,
   "id": "80f14a1b",
   "metadata": {},
   "outputs": [],
   "source": [
    "george"
   ]
  },
  {
   "cell_type": "code",
   "execution_count": null,
   "id": "99f000c9",
   "metadata": {},
   "outputs": [],
   "source": [
    "george.iloc[0:2]"
   ]
  },
  {
   "cell_type": "code",
   "execution_count": null,
   "id": "8666be8c",
   "metadata": {
    "scrolled": true
   },
   "outputs": [],
   "source": [
    "george_dupe.iloc[::2]"
   ]
  },
  {
   "cell_type": "markdown",
   "id": "b59d1a1a",
   "metadata": {},
   "source": [
    "* Arrays booleanos "
   ]
  },
  {
   "cell_type": "code",
   "execution_count": null,
   "id": "c99db3c4",
   "metadata": {},
   "outputs": [],
   "source": [
    "mask = george > 7\n",
    "mask"
   ]
  },
  {
   "cell_type": "code",
   "execution_count": null,
   "id": "f00f9b31",
   "metadata": {
    "scrolled": true
   },
   "outputs": [],
   "source": [
    "george + 2"
   ]
  },
  {
   "cell_type": "code",
   "execution_count": null,
   "id": "6dedf89f",
   "metadata": {},
   "outputs": [],
   "source": [
    "george[mask]"
   ]
  },
  {
   "cell_type": "markdown",
   "id": "9d3bdb23",
   "metadata": {},
   "source": [
    "### Metodos "
   ]
  },
  {
   "cell_type": "code",
   "execution_count": null,
   "id": "42835fe0",
   "metadata": {},
   "outputs": [],
   "source": [
    "songs_66 = pd.Series([3, None , 11, 9],index=['George', 'Ringo', 'John', 'Paul'], name='Counts')\n",
    "songs_66"
   ]
  },
  {
   "cell_type": "code",
   "execution_count": null,
   "id": "87609db3",
   "metadata": {
    "scrolled": true
   },
   "outputs": [],
   "source": [
    "songs_69 = pd.Series([18, 22, 7, 5], index=[ 'John', 'Paul', 'George', 'Ringo'], name='Counts')\n",
    "songs_69"
   ]
  },
  {
   "cell_type": "markdown",
   "id": "c2b7400e",
   "metadata": {},
   "source": [
    "* Iteration "
   ]
  },
  {
   "cell_type": "code",
   "execution_count": null,
   "id": "f7f59c47",
   "metadata": {
    "scrolled": true
   },
   "outputs": [],
   "source": [
    "for value in songs_66:\n",
    "    print(value)"
   ]
  },
  {
   "cell_type": "code",
   "execution_count": null,
   "id": "40ed5ead",
   "metadata": {},
   "outputs": [],
   "source": [
    "for idx, value in songs_66.iteritems(): # unpacking \n",
    "    print(idx, value)"
   ]
  },
  {
   "cell_type": "code",
   "execution_count": null,
   "id": "3a71434f",
   "metadata": {
    "scrolled": true
   },
   "outputs": [],
   "source": [
    "for idx in songs_66.keys():\n",
    "    print(idx)"
   ]
  },
  {
   "cell_type": "markdown",
   "id": "2d94722c",
   "metadata": {},
   "source": [
    "* Overloaded operations"
   ]
  },
  {
   "cell_type": "code",
   "execution_count": null,
   "id": "8b0167dc",
   "metadata": {},
   "outputs": [],
   "source": [
    "songs_66"
   ]
  },
  {
   "cell_type": "code",
   "execution_count": null,
   "id": "82f31210",
   "metadata": {
    "scrolled": true
   },
   "outputs": [],
   "source": [
    "songs_66 + 2"
   ]
  },
  {
   "cell_type": "code",
   "execution_count": null,
   "id": "550bd735",
   "metadata": {
    "scrolled": true
   },
   "outputs": [],
   "source": [
    "songs_66"
   ]
  },
  {
   "cell_type": "code",
   "execution_count": null,
   "id": "297ac3e4",
   "metadata": {},
   "outputs": [],
   "source": [
    "songs_69"
   ]
  },
  {
   "cell_type": "code",
   "execution_count": null,
   "id": "493ef499",
   "metadata": {
    "scrolled": true
   },
   "outputs": [],
   "source": [
    "songs_66 + songs_69"
   ]
  },
  {
   "cell_type": "code",
   "execution_count": null,
   "id": "0bb67ea0",
   "metadata": {},
   "outputs": [],
   "source": [
    "# conseguem identificar o problema acima? "
   ]
  },
  {
   "cell_type": "code",
   "execution_count": null,
   "id": "40df389e",
   "metadata": {
    "scrolled": true
   },
   "outputs": [],
   "source": [
    "songs_66.fillna(0) + songs_69.fillna(0)"
   ]
  },
  {
   "cell_type": "markdown",
   "id": "b0b7edfc",
   "metadata": {},
   "source": [
    "* Getting and Setting Values"
   ]
  },
  {
   "cell_type": "markdown",
   "id": "f4a03ee4",
   "metadata": {},
   "source": [
    "|Metodo | Resultado |\n",
    "| --- |--- |\n",
    "get(label, [default]) | Retorna um escalar, ou serie se o index é duplicado, para um label ou default caso o index não exista\n"
   ]
  },
  {
   "cell_type": "code",
   "execution_count": null,
   "id": "294e15be",
   "metadata": {},
   "outputs": [],
   "source": [
    "songs_66"
   ]
  },
  {
   "cell_type": "code",
   "execution_count": null,
   "id": "a73be090",
   "metadata": {},
   "outputs": [],
   "source": [
    "songs_66['John']"
   ]
  },
  {
   "cell_type": "code",
   "execution_count": null,
   "id": "2c6569c7",
   "metadata": {},
   "outputs": [],
   "source": [
    "songs_66.get('John')"
   ]
  },
  {
   "cell_type": "code",
   "execution_count": null,
   "id": "4fd35b0d",
   "metadata": {
    "scrolled": true
   },
   "outputs": [],
   "source": [
    "songs_66.John # acesso ao nome do indice"
   ]
  },
  {
   "cell_type": "code",
   "execution_count": null,
   "id": "fbe12809",
   "metadata": {},
   "outputs": [],
   "source": [
    "songs_66.get('Fred') # sem retorno no get"
   ]
  },
  {
   "cell_type": "code",
   "execution_count": null,
   "id": "552bc786",
   "metadata": {},
   "outputs": [],
   "source": [
    "songs_66.get('Fred', 'nao encontrado')"
   ]
  },
  {
   "cell_type": "code",
   "execution_count": null,
   "id": "78dfceb7",
   "metadata": {
    "scrolled": true
   },
   "outputs": [],
   "source": [
    "songs_66['John'] = 82 \n",
    "songs_66"
   ]
  },
  {
   "cell_type": "code",
   "execution_count": null,
   "id": "a4b6fccd",
   "metadata": {
    "scrolled": true
   },
   "outputs": [],
   "source": [
    "songs_66.John = 81\n",
    "songs_66"
   ]
  },
  {
   "cell_type": "code",
   "execution_count": null,
   "id": "8c36232d",
   "metadata": {
    "scrolled": true
   },
   "outputs": [],
   "source": [
    "ser = pd.Series([1, 2, 3, 4], index=['normal', 'median', 'class', 'index']) # atencao as palavras reservadas\n",
    "ser"
   ]
  },
  {
   "cell_type": "markdown",
   "id": "beb81252",
   "metadata": {},
   "source": [
    "**Nota** cuidado ao dar nomes de palavras reservadas aos indices"
   ]
  },
  {
   "cell_type": "code",
   "execution_count": null,
   "id": "cb82c4cf",
   "metadata": {},
   "outputs": [],
   "source": [
    "ser.normal = 4\n",
    "ser.median = 5"
   ]
  },
  {
   "cell_type": "code",
   "execution_count": null,
   "id": "5cd3bf48",
   "metadata": {},
   "outputs": [],
   "source": [
    "ser.class = 6"
   ]
  },
  {
   "cell_type": "code",
   "execution_count": null,
   "id": "f8c71d13",
   "metadata": {
    "scrolled": true
   },
   "outputs": [],
   "source": [
    "ser.index = 7"
   ]
  },
  {
   "cell_type": "markdown",
   "id": "8ffde5ae",
   "metadata": {},
   "source": [
    "**Nota:** cuidado ao usar .label para inserir um novo valor "
   ]
  },
  {
   "cell_type": "code",
   "execution_count": null,
   "id": "b09c27ac",
   "metadata": {
    "scrolled": false
   },
   "outputs": [],
   "source": [
    "import keyword\n",
    "print(keyword.kwlist)"
   ]
  },
  {
   "cell_type": "code",
   "execution_count": null,
   "id": "14a9e925",
   "metadata": {},
   "outputs": [],
   "source": [
    "pd.__version__"
   ]
  },
  {
   "cell_type": "code",
   "execution_count": null,
   "id": "a68b91c1",
   "metadata": {
    "scrolled": false
   },
   "outputs": [],
   "source": [
    "songs_66.loc['Jhon'] = 80"
   ]
  },
  {
   "cell_type": "code",
   "execution_count": null,
   "id": "8605b09b",
   "metadata": {
    "scrolled": true
   },
   "outputs": [],
   "source": [
    "songs_66"
   ]
  },
  {
   "cell_type": "code",
   "execution_count": null,
   "id": "0a7080ba",
   "metadata": {},
   "outputs": [],
   "source": [
    "# songs_66.loc['John'] = 80"
   ]
  },
  {
   "cell_type": "code",
   "execution_count": null,
   "id": "877661b8",
   "metadata": {},
   "outputs": [],
   "source": [
    "songs_66.iloc[2] = 82  # as vezes é mais seguro ir pela posicao"
   ]
  },
  {
   "cell_type": "code",
   "execution_count": null,
   "id": "efa8f821",
   "metadata": {
    "scrolled": true
   },
   "outputs": [],
   "source": [
    "songs_66"
   ]
  },
  {
   "cell_type": "markdown",
   "id": "897f48dd",
   "metadata": {},
   "source": [
    "* Reset Index "
   ]
  },
  {
   "cell_type": "code",
   "execution_count": null,
   "id": "23f466e4",
   "metadata": {},
   "outputs": [],
   "source": [
    "songs_66.reset_index()"
   ]
  },
  {
   "cell_type": "code",
   "execution_count": null,
   "id": "40f5361a",
   "metadata": {},
   "outputs": [],
   "source": [
    "songs_66.reset_index(drop=True)"
   ]
  },
  {
   "cell_type": "code",
   "execution_count": null,
   "id": "3d108bbf",
   "metadata": {},
   "outputs": [],
   "source": [
    "songs_66.reindex(['Billy', 'Eric', 'George', 'Yoko']) # criar novos indices"
   ]
  },
  {
   "cell_type": "code",
   "execution_count": null,
   "id": "7f19dc46",
   "metadata": {},
   "outputs": [],
   "source": [
    "songs_66.rename({'Ringo':'Richard'}) # renomear um index"
   ]
  },
  {
   "cell_type": "code",
   "execution_count": null,
   "id": "a36bc4c6",
   "metadata": {},
   "outputs": [],
   "source": [
    "songs_66.rename(lambda x: x.lower()) # alterar todos os indices"
   ]
  },
  {
   "cell_type": "markdown",
   "id": "2c4dfcb3",
   "metadata": {},
   "source": [
    "* Counts "
   ]
  },
  {
   "cell_type": "code",
   "execution_count": null,
   "id": "8e5fd9b2",
   "metadata": {
    "scrolled": true
   },
   "outputs": [],
   "source": [
    "songs_66 = pd.Series([3, None , 11, 9], index=['George', 'Ringo', 'John', 'Paul'], name='Counts')\n",
    "songs_66"
   ]
  },
  {
   "cell_type": "code",
   "execution_count": null,
   "id": "f03ac980",
   "metadata": {},
   "outputs": [],
   "source": [
    "scores2 = pd.Series([67.3, 100, 96.7, None, 100], index=['Ringo', 'Paul', 'George', 'Peter', 'Billy'], name='test2')\n",
    "scores2"
   ]
  },
  {
   "cell_type": "code",
   "execution_count": null,
   "id": "7fd0e971",
   "metadata": {},
   "outputs": [],
   "source": [
    "scores2.count()"
   ]
  },
  {
   "cell_type": "code",
   "execution_count": null,
   "id": "2dcce405",
   "metadata": {},
   "outputs": [],
   "source": [
    "scores2.value_counts()"
   ]
  },
  {
   "cell_type": "code",
   "execution_count": null,
   "id": "fecc63d7",
   "metadata": {},
   "outputs": [],
   "source": [
    "scores2.unique()"
   ]
  },
  {
   "cell_type": "code",
   "execution_count": null,
   "id": "e1e8fda8",
   "metadata": {},
   "outputs": [],
   "source": [
    "scores2.nunique()"
   ]
  },
  {
   "cell_type": "code",
   "execution_count": null,
   "id": "b2ba1c8a",
   "metadata": {},
   "outputs": [],
   "source": [
    "scores2.drop_duplicates()"
   ]
  },
  {
   "cell_type": "code",
   "execution_count": null,
   "id": "bd2fd2bd",
   "metadata": {
    "scrolled": true
   },
   "outputs": [],
   "source": [
    "scores3 = pd.Series([67.3, 100, 96.7, None, 100, 79], index=['Ringo', 'Paul', 'George', 'Peter', 'Billy', 'Paul'])\n",
    "scores3"
   ]
  },
  {
   "cell_type": "code",
   "execution_count": null,
   "id": "8c8e8a14",
   "metadata": {
    "scrolled": true
   },
   "outputs": [],
   "source": [
    "scores3.groupby(scores3.index).first() # or last"
   ]
  },
  {
   "cell_type": "markdown",
   "id": "84e340fd",
   "metadata": {},
   "source": [
    "* Statistics"
   ]
  },
  {
   "cell_type": "code",
   "execution_count": null,
   "id": "8447076c",
   "metadata": {},
   "outputs": [],
   "source": [
    "songs_66.sum()"
   ]
  },
  {
   "cell_type": "code",
   "execution_count": null,
   "id": "8aa0368d",
   "metadata": {},
   "outputs": [],
   "source": [
    "songs_66.mean()  # metodo"
   ]
  },
  {
   "cell_type": "code",
   "execution_count": null,
   "id": "ca2cfce7",
   "metadata": {},
   "outputs": [],
   "source": [
    "songs_66.median() # em distribuições nao normais, a mediana é muito util, "
   ]
  },
  {
   "cell_type": "code",
   "execution_count": null,
   "id": "3cbc12a4",
   "metadata": {},
   "outputs": [],
   "source": [
    "songs_66.quantile()"
   ]
  },
  {
   "cell_type": "code",
   "execution_count": null,
   "id": "2107a163",
   "metadata": {},
   "outputs": [],
   "source": [
    "songs_66.quantile(.9)"
   ]
  },
  {
   "cell_type": "code",
   "execution_count": null,
   "id": "900a0297",
   "metadata": {},
   "outputs": [],
   "source": [
    "songs_66.describe()"
   ]
  },
  {
   "cell_type": "code",
   "execution_count": null,
   "id": "2cb98e04",
   "metadata": {},
   "outputs": [],
   "source": [
    "songs_66.describe(percentiles=[.05, .1, .2])"
   ]
  },
  {
   "cell_type": "code",
   "execution_count": null,
   "id": "0e0cf59f",
   "metadata": {},
   "outputs": [],
   "source": [
    "songs_66.min()"
   ]
  },
  {
   "cell_type": "code",
   "execution_count": null,
   "id": "cb1af4ea",
   "metadata": {},
   "outputs": [],
   "source": [
    "songs_66.idxmin()"
   ]
  },
  {
   "cell_type": "code",
   "execution_count": null,
   "id": "df332d5d",
   "metadata": {},
   "outputs": [],
   "source": [
    "songs_66.max()"
   ]
  },
  {
   "cell_type": "code",
   "execution_count": null,
   "id": "1a76eb70",
   "metadata": {},
   "outputs": [],
   "source": [
    "songs_66.idxmax()"
   ]
  },
  {
   "cell_type": "code",
   "execution_count": null,
   "id": "d4e1890e",
   "metadata": {},
   "outputs": [],
   "source": [
    "songs_66.cumsum()"
   ]
  },
  {
   "cell_type": "code",
   "execution_count": null,
   "id": "9e8fed01",
   "metadata": {},
   "outputs": [],
   "source": [
    "songs_66.cumprod()"
   ]
  },
  {
   "cell_type": "markdown",
   "id": "4ccb7921",
   "metadata": {},
   "source": [
    "* Conversão de tipos "
   ]
  },
  {
   "cell_type": "code",
   "execution_count": null,
   "id": "4ca725d9",
   "metadata": {},
   "outputs": [],
   "source": [
    "songs_66.round()"
   ]
  },
  {
   "cell_type": "code",
   "execution_count": null,
   "id": "ef249506",
   "metadata": {},
   "outputs": [],
   "source": [
    "songs_66.clip(lower=80, upper=90)"
   ]
  },
  {
   "cell_type": "code",
   "execution_count": null,
   "id": "2e81ab39",
   "metadata": {
    "scrolled": true
   },
   "outputs": [],
   "source": [
    "songs_66.astype(str)"
   ]
  },
  {
   "cell_type": "code",
   "execution_count": null,
   "id": "645596ee",
   "metadata": {},
   "outputs": [],
   "source": [
    "songs_66.astype(str).max()"
   ]
  },
  {
   "cell_type": "code",
   "execution_count": null,
   "id": "2b1b64c0",
   "metadata": {
    "scrolled": true
   },
   "outputs": [],
   "source": [
    "pd.to_numeric(songs_66.astype(str), errors='coerce')"
   ]
  },
  {
   "cell_type": "markdown",
   "id": "48804ee3",
   "metadata": {},
   "source": [
    "* None "
   ]
  },
  {
   "cell_type": "code",
   "execution_count": null,
   "id": "a79b7a30",
   "metadata": {},
   "outputs": [],
   "source": [
    "songs_66.fillna(-1)"
   ]
  },
  {
   "cell_type": "code",
   "execution_count": null,
   "id": "5a8b0724",
   "metadata": {},
   "outputs": [],
   "source": [
    "songs_66.dropna()"
   ]
  },
  {
   "cell_type": "code",
   "execution_count": null,
   "id": "13df213c",
   "metadata": {
    "scrolled": true
   },
   "outputs": [],
   "source": [
    "val_mask = songs_66.notnull()\n",
    "val_mask"
   ]
  },
  {
   "cell_type": "code",
   "execution_count": null,
   "id": "566190ab",
   "metadata": {
    "scrolled": true
   },
   "outputs": [],
   "source": [
    "songs_66[val_mask]"
   ]
  },
  {
   "cell_type": "code",
   "execution_count": null,
   "id": "ac675d5c",
   "metadata": {},
   "outputs": [],
   "source": [
    "nan_mask = songs_66.isnull()\n",
    "nan_mask"
   ]
  },
  {
   "cell_type": "code",
   "execution_count": null,
   "id": "750216a9",
   "metadata": {},
   "outputs": [],
   "source": [
    "songs_66[nan_mask]"
   ]
  },
  {
   "cell_type": "code",
   "execution_count": null,
   "id": "a2b7be01",
   "metadata": {},
   "outputs": [],
   "source": [
    "songs_66.isnull() "
   ]
  },
  {
   "cell_type": "code",
   "execution_count": null,
   "id": "49d822fe",
   "metadata": {
    "scrolled": true
   },
   "outputs": [],
   "source": [
    "~songs_66.notnull()"
   ]
  },
  {
   "cell_type": "markdown",
   "id": "f2b9f3b6",
   "metadata": {},
   "source": [
    "* Operações de Matrizes "
   ]
  },
  {
   "cell_type": "code",
   "execution_count": null,
   "id": "889e7828",
   "metadata": {},
   "outputs": [],
   "source": [
    "songs_66.dot(songs_69) # calcular o produto "
   ]
  },
  {
   "cell_type": "code",
   "execution_count": null,
   "id": "4d975a7b",
   "metadata": {},
   "outputs": [],
   "source": [
    "songs_66.dropna().dot(songs_66.dropna()) # evitando problemas com NA"
   ]
  },
  {
   "cell_type": "code",
   "execution_count": null,
   "id": "3c8ce747",
   "metadata": {
    "scrolled": true
   },
   "outputs": [],
   "source": [
    "songs_66.T"
   ]
  },
  {
   "cell_type": "code",
   "execution_count": null,
   "id": "b6557fec",
   "metadata": {
    "scrolled": true
   },
   "outputs": [],
   "source": [
    "songs_66.transpose()"
   ]
  },
  {
   "cell_type": "markdown",
   "id": "2f19a9d0",
   "metadata": {},
   "source": [
    "* Append, combining, and joining two series"
   ]
  },
  {
   "cell_type": "code",
   "execution_count": null,
   "id": "addcaa5e",
   "metadata": {},
   "outputs": [],
   "source": [
    "songs_66.append(songs_69)"
   ]
  },
  {
   "cell_type": "code",
   "execution_count": null,
   "id": "aac757f8",
   "metadata": {},
   "outputs": [],
   "source": [
    "songs_66.append(songs_69, verify_integrity=True)"
   ]
  },
  {
   "cell_type": "code",
   "execution_count": null,
   "id": "c7832530",
   "metadata": {},
   "outputs": [],
   "source": [
    "def avg(v1, v2):\n",
    "    return (v1 + v2)/2.0"
   ]
  },
  {
   "cell_type": "code",
   "execution_count": null,
   "id": "aba30e13",
   "metadata": {},
   "outputs": [],
   "source": [
    "songs_66.combine(songs_69, avg)"
   ]
  },
  {
   "cell_type": "code",
   "execution_count": null,
   "id": "0361a975",
   "metadata": {},
   "outputs": [],
   "source": [
    "songs_69"
   ]
  },
  {
   "cell_type": "code",
   "execution_count": null,
   "id": "9d795d90",
   "metadata": {},
   "outputs": [],
   "source": [
    "songs_66.update(songs_69) # anomalia: faz o update mas não retorna nada "
   ]
  },
  {
   "cell_type": "code",
   "execution_count": null,
   "id": "a2bde69d",
   "metadata": {},
   "outputs": [],
   "source": [
    "songs_66"
   ]
  },
  {
   "cell_type": "code",
   "execution_count": null,
   "id": "0c13bfa9",
   "metadata": {},
   "outputs": [],
   "source": [
    "songs_69.repeat(2)"
   ]
  },
  {
   "cell_type": "code",
   "execution_count": null,
   "id": "26c44d2d",
   "metadata": {
    "scrolled": true
   },
   "outputs": [],
   "source": [
    "songs_69.sort_values()"
   ]
  },
  {
   "cell_type": "code",
   "execution_count": null,
   "id": "1098aa0a",
   "metadata": {
    "scrolled": true
   },
   "outputs": [],
   "source": [
    "s = pd.Series([2, 2, 2], index=['a2', 'a1', 'a3'])\n",
    "s.sort_values(kind='mergesort')"
   ]
  },
  {
   "cell_type": "code",
   "execution_count": null,
   "id": "eb37780f",
   "metadata": {
    "scrolled": true
   },
   "outputs": [],
   "source": [
    "songs_66.sort_values(ascending=False)"
   ]
  },
  {
   "cell_type": "code",
   "execution_count": null,
   "id": "a5d4cd44",
   "metadata": {
    "scrolled": true
   },
   "outputs": [],
   "source": [
    "songs_66.sort_index()"
   ]
  },
  {
   "cell_type": "code",
   "execution_count": null,
   "id": "b6f355f1",
   "metadata": {
    "scrolled": true
   },
   "outputs": [],
   "source": [
    "songs_66.rank()"
   ]
  },
  {
   "cell_type": "markdown",
   "id": "9dcdf289",
   "metadata": {},
   "source": [
    "# Referencias \n",
    "\n",
    "* devmedia.com.br\n",
    "\n",
    "* https://jovemnerd.com.br/nerdcast/nerdtech/vingadores-do-data-science/\n",
    "\n",
    "* https://www.youtube.com/watch?v=5b9Z8toVaAU\n",
    "\n",
    "* https://www.devmedia.com.br/tipos-de-dados-em-python-string/40669\n",
    "\n",
    "* https://gvanrossum.github.io/\n",
    "\n",
    "* McKinney Wes. 2012. Python for data analysis (1st. ed.). O'Reilly Media, Inc. ["
   ]
  }
 ],
 "metadata": {
  "hide_input": false,
  "kernelspec": {
   "display_name": "Python 3 (ipykernel)",
   "language": "python",
   "name": "python3"
  },
  "language_info": {
   "codemirror_mode": {
    "name": "ipython",
    "version": 3
   },
   "file_extension": ".py",
   "mimetype": "text/x-python",
   "name": "python",
   "nbconvert_exporter": "python",
   "pygments_lexer": "ipython3",
   "version": "3.9.1"
  },
  "toc": {
   "base_numbering": 1,
   "nav_menu": {},
   "number_sections": true,
   "sideBar": true,
   "skip_h1_title": false,
   "title_cell": "Table of Contents",
   "title_sidebar": "Contents",
   "toc_cell": false,
   "toc_position": {},
   "toc_section_display": true,
   "toc_window_display": false
  }
 },
 "nbformat": 4,
 "nbformat_minor": 5
}
