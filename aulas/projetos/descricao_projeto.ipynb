{
 "cells": [
  {
   "cell_type": "markdown",
   "metadata": {},
   "source": [
    "## Projeto em Ciência de Dados com Python"
   ]
  },
  {
   "cell_type": "markdown",
   "metadata": {},
   "source": [
    "Este projeto faz parte das atividades que serão avaliadas durante o curso de verão **Python para Análise de Dados**, oferecido pelo curso de verão da Universidade de São Paulo."
   ]
  },
  {
   "cell_type": "markdown",
   "metadata": {},
   "source": [
    "## Objetivo"
   ]
  },
  {
   "cell_type": "markdown",
   "metadata": {},
   "source": [
    "O objetivo deste projeto é que vocês tenham a oportunidade de explorar um conjunto de dados e dar os primeiros passos no desenvolvimento de um projeto em Ciência de Dados."
   ]
  },
  {
   "cell_type": "markdown",
   "metadata": {},
   "source": [
    "## Cenário de dados"
   ]
  },
  {
   "cell_type": "markdown",
   "metadata": {},
   "source": [
    "Nós vamos disponibilizar três bases de dados como sugestão para o desenvolvimento deste projeto. Os temas são bem diversos, qualidade da água, telecomunicações e dados sobre cancêr de mama. Assim, sintam-se à vontade para escolher o assunto que mais interessa ao grupo ou sugerir alguma base de dados que queiram trabalhar. "
   ]
  },
  {
   "cell_type": "markdown",
   "metadata": {},
   "source": [
    "As bases de dados estão contidas em um arquivo .csv que será disponibilizado junto com um arquivo .txt que contém um contexto do problema e uma breve descrição das variáveis que compõem cada uma das bases."
   ]
  },
  {
   "cell_type": "markdown",
   "metadata": {},
   "source": [
    "## Etapas básicas de um projeto em Ciência de Dados:\n",
    "    * Entendimento do problema\n",
    "        Essa primeira etapa é essencial para o desenvolvimento de um projeto em Ciência de Dados. Mais do que escolher a técnica adequada de modelagem e preparar os dados é preciso entender a fundo qual é o problema que estamos querendo resolver. Nesse estágio a proximidade com a área que está demandando o projeto é muito importante, pois ela trará todo o contexto para que possamos fazer a imersão no problema, entendendo as dificuldades e sutilezas do problema. Nesse momento o cientista de dados irá fazer todo o mapeamento do modelo através de perguntas como:\n",
    "        - Porque essa análise é importante para ao nosso negócio?\n",
    "        - Quem será o alvo da análise? Os nossos fornecedores? Os nossos clientes?\n",
    "        - O que iremos analisar? O comportamento de compras dos nossos clientes?\n",
    "        - Em qual contexto essa análise será aplicada? Contexto Nacional? Internacional?\n",
    "        - Quando?\n",
    "        - Em qual período serão feitas as análises?\n",
    "\n",
    "    * Coleta dos dados\n",
    "        Uma vez entendido o problema começamos a mapear os dados. É importante mapear informações sobre qual o tipo de dado (é um dado estruturado  ou não estruturado - texto ou imagens), histórico (temos um histórico desse dado), fontes que compõem a informação (se são internas ou externas).\n",
    "        \n",
    "    *  Preparação dos dados\n",
    "        Quando os dados estiverem completamente mapeados chegou o momento de preparação desse dado. Nesta etapa é importante fazer algumas verificações, como por exemplo registros duplicados ou faltantes, dados com formato estranho (como idade negativa, por exemplo), valores que são muito discrepantes (os chamados outliers). O não tratamento desse dado pode induzir a conclusões precipitadas. Nesse ponto é sempre muito importante estar próximo da área que está solicitando o projeto, pois como exemplo, no caso de outliers, muitas vezes o que parece ser um dado discrepante pode ser um comportamento, não muito usual, mas que de fato ocorre no contexto do problema.\n",
    "   \n",
    "    * Exploração dos dados\n",
    "        Uma vez que os dados foram preparados e as inconsistencias foram removidas chegou o momento de experimentar os dados. Nessa etapa é importante para que o cientista possa validar hipóteses que foram levantadas durante o entendimento do problema e ainda nesse momento é possível buscar padrões e encontrar relações entre as variáveis do problema.\n",
    "    \n",
    "    * Escolha da modelagem\n",
    "        Nesta etapa vocês tem a oportunidade de fazer inúmeros testes com diferentes técnicas de modelagem. Por exemplo, se o problema que está sendo trabalhado corresponde a uma classificação, diversas técnincas de machine learning podem ser testadas, como Árvores de decisão, Regressão logística, Random Forest, KNN, entre outras. Para mais detalhes (https://developers.google.com/machine-learning/crash-course)\n",
    "        \n",
    "    * Avaliação dos resultados\n",
    "        Na etapa de avaliação dos resultados podemos implementar algumas métricas de performance que nos dão informações se o modelo está performando bem ou mal. Dentre elas estão a acurácia, F1-score, Curva ROC, entre outras. Para mais informações (https://medium.com/@MohammedS/performance-metrics-for-classification-problems-in-machine-learning-part-i-b085d432082b)"
   ]
  },
  {
   "cell_type": "markdown",
   "metadata": {},
   "source": [
    "## Entrega\n",
    "O projeto deverá ser entregue em um arquivo comextensão .ipynb (pode ser um jupyter notebook ou colab) para que possamos analisar tanto os resultados quanto as linhas de código e toda a estratégia desenvolvida para resolução do problema. Se ficarem com dúvidas não deixem de escrever no fórum da disciplina."
   ]
  },
  {
   "cell_type": "markdown",
   "metadata": {},
   "source": [
    "## Bora colocar a mão na massa?"
   ]
  },
  {
   "cell_type": "markdown",
   "metadata": {},
   "source": [
    "Vocês têm aqui a oportunidade de trazer os elementos que foram abordados em aula, no entanto, fiquem à vontade para a experimentar e testar técnicas de modelagem distintas, discutir diferentes métricas de avaliação e propor outras abordagens para a exploração dos dados. Comentem seu notebook, indiquem as conclusões obtidas após a análise e exploração dos dados, técnicas e métricas de avaliação escolhidas e se divirtam!!!"
   ]
  },
  {
   "cell_type": "markdown",
   "metadata": {},
   "source": [
    "![Programacao](https://miro.medium.com/max/1400/0*aRegYfnbNSdbrGng.gif)\n"
   ]
  }
 ],
 "metadata": {
  "hide_input": false,
  "kernelspec": {
   "display_name": "Python 3",
   "language": "python",
   "name": "python3"
  },
  "language_info": {
   "codemirror_mode": {
    "name": "ipython",
    "version": 3
   },
   "file_extension": ".py",
   "mimetype": "text/x-python",
   "name": "python",
   "nbconvert_exporter": "python",
   "pygments_lexer": "ipython3",
   "version": "3.8.8"
  },
  "toc": {
   "base_numbering": 1,
   "nav_menu": {},
   "number_sections": true,
   "sideBar": true,
   "skip_h1_title": false,
   "title_cell": "Table of Contents",
   "title_sidebar": "Contents",
   "toc_cell": false,
   "toc_position": {},
   "toc_section_display": true,
   "toc_window_display": false
  }
 },
 "nbformat": 4,
 "nbformat_minor": 4
}
