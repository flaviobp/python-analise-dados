{
 "cells": [
  {
   "cell_type": "markdown",
   "id": "77024647",
   "metadata": {},
   "source": [
    "# Lista de exercicios! "
   ]
  },
  {
   "cell_type": "markdown",
   "id": "0b7e42a5",
   "metadata": {},
   "source": [
    "## Nome: Flávio Bezerra Pereira"
   ]
  },
  {
   "cell_type": "markdown",
   "id": "ed00019b",
   "metadata": {},
   "source": [
    "Vamos praticar alguns dos principais conceitos vistos na aula 2\n",
    "\n",
    "* tipos de dados built-in (listas, dicionários, conjuntos, tuplas) \n",
    "* estruturas condicionais  e de repetição\n",
    "* construção de funções\n",
    "\n",
    "Atente-se as boas práticas (= "
   ]
  },
  {
   "cell_type": "markdown",
   "id": "09ef86aa",
   "metadata": {},
   "source": [
    "* construa uma lista de números inteiros\n"
   ]
  },
  {
   "cell_type": "code",
   "execution_count": 44,
   "id": "1c9a22ff",
   "metadata": {},
   "outputs": [
    {
     "data": {
      "text/plain": [
       "[4, 5, 7, 8, 9, 12, 45, 63, 80, 99]"
      ]
     },
     "execution_count": 44,
     "metadata": {},
     "output_type": "execute_result"
    }
   ],
   "source": [
    "#seu codigo aqui\n",
    "lista_de_numeros = [5,4,80,7,8,9,63,99,12,45]\n",
    "lista_de_numeros.sort()\n",
    "lista_de_numeros"
   ]
  },
  {
   "cell_type": "markdown",
   "id": "daf93d94",
   "metadata": {},
   "source": [
    "* imprima a mesma lista de forma reversa\n",
    "\n"
   ]
  },
  {
   "cell_type": "code",
   "execution_count": 45,
   "id": "608b8b6a",
   "metadata": {},
   "outputs": [
    {
     "data": {
      "text/plain": [
       "[99, 80, 63, 45, 12, 9, 8, 7, 5, 4]"
      ]
     },
     "execution_count": 45,
     "metadata": {},
     "output_type": "execute_result"
    }
   ],
   "source": [
    "#seu codigo aqui\n",
    "lista_de_numeros.reverse()\n",
    "lista_de_numeros"
   ]
  },
  {
   "cell_type": "markdown",
   "id": "541a022a",
   "metadata": {},
   "source": [
    "* construa um dicionário com as chaves sendo nomes de alunos e os valores sendo notas"
   ]
  },
  {
   "cell_type": "code",
   "execution_count": 46,
   "id": "a1fb778e",
   "metadata": {},
   "outputs": [],
   "source": [
    "#seu codigo aqui\n",
    "dados_alunos = {\n",
    "    'JOAO': 8,\n",
    "    'MARIA': 9,\n",
    "    'JOAQUIM': 6,\n",
    "    'ESTELA': 8,\n",
    "    'PEDRO': 7\n",
    "}"
   ]
  },
  {
   "cell_type": "markdown",
   "id": "2abbdfb2",
   "metadata": {},
   "source": [
    "* Utilize o dicionário criado por vcs anteriormente, e encontre a menor nota \n"
   ]
  },
  {
   "cell_type": "code",
   "execution_count": 47,
   "id": "d3e01a4f",
   "metadata": {},
   "outputs": [
    {
     "name": "stdout",
     "output_type": "stream",
     "text": [
      "Menor nota: 6\n",
      "Aluno: JOAQUIM\n"
     ]
    }
   ],
   "source": [
    "#seu codigo aqui\n",
    "aluno = ''\n",
    "menor_nota = 10\n",
    "for key, value in dados_alunos.items():\n",
    "    if value <= menor_nota:\n",
    "        aluno = key\n",
    "        menor_nota = value\n",
    "\n",
    "print(\"Menor nota:\", menor_nota)\n",
    "print(\"Aluno:\", aluno)"
   ]
  },
  {
   "cell_type": "markdown",
   "id": "c690d1f9",
   "metadata": {},
   "source": [
    "* Construa uma estrutura de if .... else para verificar se uma pessoa digitou um número correto\n"
   ]
  },
  {
   "cell_type": "code",
   "execution_count": 48,
   "id": "a0a95dc2",
   "metadata": {},
   "outputs": [
    {
     "name": "stdout",
     "output_type": "stream",
     "text": [
      "Digite um número: 10\n",
      "Número errado.\n"
     ]
    }
   ],
   "source": [
    "#seu codigo aqui \n",
    "numero = int(input(\"Digite um número: \"))\n",
    "\n",
    "if numero == 15:\n",
    "    print(\"Número correto.\")\n",
    "else:\n",
    "    print(\"Número errado.\")"
   ]
  },
  {
   "cell_type": "markdown",
   "id": "b77e097f",
   "metadata": {},
   "source": [
    "* Utilizando comprenhensions, verifique se a fruta kiwi está na lista: fruits = [\"apple\", \"banana\", \"cherry\", \"kiwi\", \"mango\"]"
   ]
  },
  {
   "cell_type": "code",
   "execution_count": 49,
   "id": "018a1ab4",
   "metadata": {},
   "outputs": [
    {
     "data": {
      "text/plain": [
       "['achou kiwi']"
      ]
     },
     "execution_count": 49,
     "metadata": {},
     "output_type": "execute_result"
    }
   ],
   "source": [
    "#seu codigo aqui \n",
    "fruits = [\"apple\", \"banana\", \"cherry\", \"kiwi\", \"mango\"]\n",
    "kiwi = [\"achou kiwi\" for x in fruits if x==\"kiwi\"]\n",
    "kiwi"
   ]
  },
  {
   "cell_type": "markdown",
   "id": "9d96fee2",
   "metadata": {},
   "source": [
    "* Crie uma função para simular uma calculadora"
   ]
  },
  {
   "cell_type": "code",
   "execution_count": 50,
   "id": "ab7fb343",
   "metadata": {},
   "outputs": [
    {
     "name": "stdout",
     "output_type": "stream",
     "text": [
      "12\n",
      "6\n",
      "27\n",
      "3.0\n"
     ]
    }
   ],
   "source": [
    "# seu codigo aqui\n",
    "def calculadora(x, y, operacao):\n",
    "    if (operacao == 'add'):\n",
    "        return x + y\n",
    "    elif(operacao == 'sub'):\n",
    "        return x - y\n",
    "    elif(operacao == 'mult'):\n",
    "        return x * y\n",
    "    elif(operacao == 'div'):\n",
    "        return x / y\n",
    "    \n",
    "print(calculadora(9, 3, 'add'))\n",
    "print(calculadora(9, 3, 'sub'))\n",
    "print(calculadora(9, 3, 'mult'))\n",
    "print(calculadora(9, 3, 'div'))"
   ]
  },
  {
   "cell_type": "code",
   "execution_count": null,
   "id": "3f8b56dc",
   "metadata": {},
   "outputs": [],
   "source": []
  }
 ],
 "metadata": {
  "hide_input": false,
  "kernelspec": {
   "display_name": "Python 3 (ipykernel)",
   "language": "python",
   "name": "python3"
  },
  "language_info": {
   "codemirror_mode": {
    "name": "ipython",
    "version": 3
   },
   "file_extension": ".py",
   "mimetype": "text/x-python",
   "name": "python",
   "nbconvert_exporter": "python",
   "pygments_lexer": "ipython3",
   "version": "3.9.1"
  },
  "toc": {
   "base_numbering": 1,
   "nav_menu": {},
   "number_sections": true,
   "sideBar": true,
   "skip_h1_title": false,
   "title_cell": "Table of Contents",
   "title_sidebar": "Contents",
   "toc_cell": false,
   "toc_position": {},
   "toc_section_display": true,
   "toc_window_display": false
  }
 },
 "nbformat": 4,
 "nbformat_minor": 5
}
