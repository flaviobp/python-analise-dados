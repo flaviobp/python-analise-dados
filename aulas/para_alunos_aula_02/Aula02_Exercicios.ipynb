{
 "cells": [
  {
   "cell_type": "markdown",
   "id": "52fc40cc",
   "metadata": {},
   "source": [
    "# LI PROGRAMA DE VERÃO (2022 - edição 51)\n",
    "\n",
    "\n",
    "# Exercicios Aula 2\n",
    "\n",
    "# Nome: Flávio Bezerra Pereira"
   ]
  },
  {
   "cell_type": "markdown",
   "id": "5872b9b3",
   "metadata": {},
   "source": [
    "# Parte 6"
   ]
  },
  {
   "cell_type": "markdown",
   "id": "37751e3e",
   "metadata": {},
   "source": [
    "* construa uma lista e imprima-a em ordem crescente \n",
    "\n",
    "* imprima a mesma lista de forma reversa\n",
    "\n",
    "* construa um dicionário com as chaves sendo nomes de alunos e os valores sendo notas"
   ]
  },
  {
   "cell_type": "code",
   "execution_count": 12,
   "id": "55c2f6c3",
   "metadata": {},
   "outputs": [
    {
     "data": {
      "text/plain": [
       "[4, 5, 7, 8, 9, 12, 45, 63, 80, 99]"
      ]
     },
     "execution_count": 12,
     "metadata": {},
     "output_type": "execute_result"
    }
   ],
   "source": [
    "# ordenar uma lista\n",
    "lista_de_numeros = [5,4,80,7,8,9,63,99,12,45]\n",
    "lista_de_numeros.sort()\n",
    "lista_de_numeros"
   ]
  },
  {
   "cell_type": "code",
   "execution_count": 5,
   "id": "0f2083ea",
   "metadata": {},
   "outputs": [
    {
     "data": {
      "text/plain": [
       "[99, 80, 63, 45, 12, 9, 8, 7, 5, 4]"
      ]
     },
     "execution_count": 5,
     "metadata": {},
     "output_type": "execute_result"
    }
   ],
   "source": [
    "# inverter a ordem de uma lista\n",
    "lista_de_numeros.reverse()\n",
    "lista_de_numeros"
   ]
  },
  {
   "cell_type": "code",
   "execution_count": 19,
   "id": "c100114b",
   "metadata": {},
   "outputs": [
    {
     "name": "stdout",
     "output_type": "stream",
     "text": [
      "{'Nome': 'João', 'Notas': [8, 6, 9.87]}\n"
     ]
    }
   ],
   "source": [
    "# dicionarios:  pares chave/valor\n",
    "dados_aluno = {\n",
    "    'Nome': 'João',\n",
    "    'Notas': [8,6,9.87]\n",
    "}\n",
    "\n",
    "print(dados_aluno)"
   ]
  },
  {
   "cell_type": "markdown",
   "id": "a8e0931e",
   "metadata": {},
   "source": [
    "# Parte 8"
   ]
  },
  {
   "cell_type": "markdown",
   "id": "0b23dbab",
   "metadata": {},
   "source": [
    "* Utilize o dicionário criado por vcs anteriormente, e encontre a menor nota \n",
    "* Construa uma estrutura de if .... else para verificar se uma pessoa digitou um número correto\n",
    "* Utilizando comprenhensions, verifique se a fruta kiwi está na lista: fruits = [\"apple\", \"banana\", \"cherry\", \"kiwi\", \"mango\"]"
   ]
  },
  {
   "cell_type": "code",
   "execution_count": 20,
   "id": "641a5f34",
   "metadata": {},
   "outputs": [
    {
     "name": "stdout",
     "output_type": "stream",
     "text": [
      "6\n"
     ]
    }
   ],
   "source": [
    "print(min(dados_aluno[))"
   ]
  },
  {
   "cell_type": "code",
   "execution_count": 23,
   "id": "2e9d75d7",
   "metadata": {},
   "outputs": [
    {
     "name": "stdout",
     "output_type": "stream",
     "text": [
      "Digite um número: 15\n",
      "Número correto.\n"
     ]
    }
   ],
   "source": [
    "# if else aninhados\n",
    "numero = int(input(\"Digite um número: \"))\n",
    "\n",
    "if numero == 15:\n",
    "    print(\"Número correto.\")\n",
    "else:\n",
    "    print(\"Número errado.\")"
   ]
  },
  {
   "cell_type": "code",
   "execution_count": 31,
   "id": "9c9629ea",
   "metadata": {},
   "outputs": [
    {
     "data": {
      "text/plain": [
       "['achou kiwi']"
      ]
     },
     "execution_count": 31,
     "metadata": {},
     "output_type": "execute_result"
    }
   ],
   "source": [
    "fruits = [\"apple\", \"banana\", \"cherry\", \"kiwi\", \"mango\"]\n",
    "kiwi = [\"achou kiwi\" for x in fruits if x==\"kiwi\"]\n",
    "kiwi"
   ]
  },
  {
   "cell_type": "markdown",
   "id": "ed621a1f",
   "metadata": {},
   "source": [
    "# Parte 9"
   ]
  },
  {
   "cell_type": "markdown",
   "id": "3ef79261",
   "metadata": {},
   "source": []
  }
 ],
 "metadata": {
  "kernelspec": {
   "display_name": "Python 3 (ipykernel)",
   "language": "python",
   "name": "python3"
  },
  "language_info": {
   "codemirror_mode": {
    "name": "ipython",
    "version": 3
   },
   "file_extension": ".py",
   "mimetype": "text/x-python",
   "name": "python",
   "nbconvert_exporter": "python",
   "pygments_lexer": "ipython3",
   "version": "3.9.1"
  }
 },
 "nbformat": 4,
 "nbformat_minor": 5
}
