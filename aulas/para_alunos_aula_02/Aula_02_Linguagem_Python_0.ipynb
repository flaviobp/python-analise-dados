{
 "cells": [
  {
   "cell_type": "markdown",
   "id": "46063200",
   "metadata": {},
   "source": [
    "# LI PROGRAMA DE VERÃO (2022 - edição 51)\n"
   ]
  },
  {
   "cell_type": "markdown",
   "id": "28ae11f2",
   "metadata": {},
   "source": [
    "<img src='../figuras/paisagem.png'>"
   ]
  },
  {
   "cell_type": "markdown",
   "id": "0a1f3238",
   "metadata": {},
   "source": [
    "# Antes de começar!!! "
   ]
  },
  {
   "cell_type": "markdown",
   "id": "0a297311",
   "metadata": {},
   "source": [
    "* Abram os microfones, digam seu nome e um tópico da aula passada que vc se lembra"
   ]
  },
  {
   "cell_type": "markdown",
   "id": "6b646302",
   "metadata": {},
   "source": [
    "<img src='../figuras/revisao.jpeg'>"
   ]
  },
  {
   "cell_type": "markdown",
   "id": "ba843f0b",
   "metadata": {},
   "source": [
    "###  Recapitulando a aula anterior:\n",
    "\n",
    "* O primeiro passo para criar um software é escrever um algoritmo com o que ele deve fazer.\n",
    "* Algoritmo são os passos que você quer que o software faça.\n",
    "* Lógica adiciona inteligência ao algoritmo para que ele tome uma decisão."
   ]
  },
  {
   "cell_type": "markdown",
   "id": "1baf74df",
   "metadata": {},
   "source": [
    "**Dica/Estratégia para construir bons algoritmos:**\n",
    "\n",
    "* <font color='green'>Qual é o problema: </font> \n",
    "\n",
    "    - Imprimir a idade do usuário\n",
    "* <font color='green'>Como sabemos a idade de alguém? </font> \n",
    "    - Subtraindo a data atual pela data de nascimento\n",
    "* <font color='green'>Como descobrir a data atual? </font> \n",
    "    - Verificando a data no computador\n",
    "* <font color='green'>Como descobrir a data de nascimento de alguem? </font> \n",
    "    - Perguntando para ele \n",
    "\n",
    "....\n",
    "    \n",
    "    \n",
    "**observe:**\n",
    "\n",
    "> imprimir a idade do usuário não é o algoritmo, é o objetivo\n",
    "> as respostas também não podem ser consideradas um algoritmo, pq não temos uma ordem definida"
   ]
  },
  {
   "cell_type": "markdown",
   "id": "822c2a4c",
   "metadata": {},
   "source": [
    "**ToDo:** Seguindo essa abordagem, escrevam o algoritmo para dividir dois números enviados pelo usuário"
   ]
  },
  {
   "cell_type": "markdown",
   "id": "a770eeb0",
   "metadata": {},
   "source": [
    "# Hoje! \n",
    "\n",
    "\n",
    "* História do Python\n",
    "* Características gerais\n",
    "* Variáveis e seus tipos\n",
    "* Operadores: matemáticos, relacionais, lógico\n",
    "* Trabalhando com strings\n",
    "* Coleções (listas, tuplas, conjuntos e dicionários)\n",
    "* Condicionais\n",
    "* Estruturas de repetição\n",
    "* Funções\n",
    "* Python Zen\n",
    "* Bibliotecas\n",
    "    "
   ]
  },
  {
   "cell_type": "markdown",
   "id": "b5f63e35",
   "metadata": {},
   "source": [
    "# E o Python? "
   ]
  },
  {
   "cell_type": "markdown",
   "id": "692d1fbe",
   "metadata": {},
   "source": [
    "## História\n",
    "    \n",
    "<img src='../figuras/Python2.png'>"
   ]
  },
  {
   "cell_type": "markdown",
   "id": "47ac7943",
   "metadata": {},
   "source": [
    "## Mais algumas curiosidades e Características\n",
    "\n",
    "- Surgiu em 1989, como um hobby na semana de  <font color='red'>Natal</font>;\n",
    "- Criada por <font color='blue'>Guido van Rossum;</font>\n",
    "- Não tem nada a ver com a cobra. Monty Python and the Flying Circus;\n",
    "- Licença compatível com Software Livre; [Tipos de Licença](https://www.agtic.ufpr.br/pds-ufpr/ProcessoDemoisellePlugin/guidances/supportingmaterials/tiposLicencasSoftware_AD711F8B.html)\n",
    "- Linguagem de altíssimo nível (VHLL); **Possuem semântica mais genérica, mais parecida com a escrita em linguagem humana. Além disso, elas não estão vinculadas ao processador.**\n",
    "\n",
    "- Multiparadigma (OO, funcional e procedural);\n",
    "- Aumentar a <font color='green'>produtividade</font>  do programador;\n",
    "- Interpretada: O código fonte não é executado diretamente pelo sistema operacional, isso quer dizer que as aplicações serão multiplataforma\n",
    "    - o interpretador pega o codigo fonte e gera a aplicação\n",
    "- **Tipagem: Dinâmica!** Uma variável pode assumir tipos diferentes durante o programa e não é necessário declará-lo\n",
    "\n",
    "    * Os tipos das variáveis não são declarados, mas estão associados aos objetos.\n",
    "    * Isso deixa a linguagem flexível pois pode-se mudar o tipo de uma variável dinamicamente\n",
    "    * Em termos de segurança isto é ruim, pois não há garantia de que o tipo da variável não foi alterado\n",
    "    * Falamos em atribuição ao invés de declaração\n"
   ]
  },
  {
   "cell_type": "markdown",
   "id": "b6194d7a",
   "metadata": {},
   "source": [
    "<img src='../figuras/alto_nivel.png'>"
   ]
  },
  {
   "cell_type": "markdown",
   "id": "f71136e2",
   "metadata": {},
   "source": [
    "<img src='../figuras/baixo_nivel.png'>"
   ]
  },
  {
   "cell_type": "markdown",
   "id": "98ba1f1f",
   "metadata": {},
   "source": [
    "## Versões "
   ]
  },
  {
   "cell_type": "markdown",
   "id": "2aaac135",
   "metadata": {},
   "source": [
    "<img src='timeline_python.jpeg'>\n",
    "\n",
    "Nota: O python 3 é a primeira versão do Python que é incompativel com as anteriores"
   ]
  },
  {
   "cell_type": "markdown",
   "id": "57fdf48a",
   "metadata": {},
   "source": [
    "## Execução\n",
    "- <font color='purple'>Modo iterativo: </font> O modo interativo é uma característica diferencial da linguagem, pois é possível testar e modificar trechos de código antes da inclusão do código em programas, fazer extração e conversão de dados ou mesmo analisar o estado dos objetos que estão em memória, entre outras possibilidades.\n",
    "- <font color='purple'>Modo script: </font> código agrupado em um arquivo:\n",
    "> python3\tprograma.py  \n",
    "- <font color='purple'>Usando uma IDE</font>\n",
    " - Jupyter\n",
    " - Pycharm\n",
    "\n"
   ]
  },
  {
   "cell_type": "markdown",
   "id": "70864082",
   "metadata": {},
   "source": [
    "# Mão na massa\n",
    "https://www.devmedia.com.br/instalacao-do-python/40643\n",
    "* Abrindo o terminal e testando\n",
    "* Abrindo o Jupyter e testando"
   ]
  },
  {
   "cell_type": "markdown",
   "id": "5b04193f",
   "metadata": {},
   "source": [
    "## Hello World "
   ]
  },
  {
   "cell_type": "markdown",
   "id": "467642c3",
   "metadata": {},
   "source": [
    "Print é a forma como escrevemos algo para o usuário. Vamos ver bastante essa função por aqui "
   ]
  },
  {
   "cell_type": "code",
   "execution_count": 169,
   "id": "9de21250",
   "metadata": {
    "scrolled": false
   },
   "outputs": [
    {
     "name": "stdout",
     "output_type": "stream",
     "text": [
      "olá mundo\n"
     ]
    }
   ],
   "source": [
    "# hello world\n",
    "\n",
    "print('olá mundo')"
   ]
  },
  {
   "cell_type": "markdown",
   "id": "01d41c8a",
   "metadata": {},
   "source": [
    "# Parte 1"
   ]
  },
  {
   "cell_type": "markdown",
   "id": "bbaedc3a",
   "metadata": {},
   "source": [
    "# Identação\n",
    "- Python foi desenvolvido para ser uma linguagem de fácil leitura, com um visual agradável, frequentemente usando palavras e não pontuações como em outras linguagens.\n",
    "- Para a separação de blocos de código, a linguagem usa espaços em branco e indentação ao invés de delimitadores visuais como chaves (C, Java) ou palavras (BASIC, Fortran,Pascal).\n",
    "- Parentenses são opcionais\n",
    "- Diferente de linguagens com delimitadores visuais de blocos, em Python a indentação é obrigatória. O aumento da indentação indica o início de um novo bloco, que termina da diminuição da indentação."
   ]
  },
  {
   "cell_type": "code",
   "execution_count": 180,
   "id": "6f8b259f",
   "metadata": {},
   "outputs": [
    {
     "name": "stdout",
     "output_type": "stream",
     "text": [
      "x é maior que 8\n"
     ]
    }
   ],
   "source": [
    "x = 10 \n",
    "\n",
    "if x > 8: \n",
    "    print(\"x é maior que 8\"); # observe a importancia da identacao "
   ]
  },
  {
   "cell_type": "code",
   "execution_count": 179,
   "id": "b0f782bd",
   "metadata": {},
   "outputs": [],
   "source": [
    "x = 10\n",
    "\n",
    "if x > 50:\n",
    "    a =9\n",
    "    print('x eh mairo que 8');"
   ]
  },
  {
   "cell_type": "code",
   "execution_count": 176,
   "id": "933fa1cc",
   "metadata": {},
   "outputs": [
    {
     "name": "stdout",
     "output_type": "stream",
     "text": [
      "x é maior que 8\n"
     ]
    }
   ],
   "source": [
    "x = 10\n",
    "\n",
    "if x > 10:\n",
    "    print('xpto')\n",
    "\n",
    "print(\"x é maior que 8\") # observe a importancia da identacao novamente"
   ]
  },
  {
   "cell_type": "code",
   "execution_count": 177,
   "id": "38c3091d",
   "metadata": {},
   "outputs": [
    {
     "name": "stdout",
     "output_type": "stream",
     "text": [
      "x é maior que 8\n"
     ]
    }
   ],
   "source": [
    "x = 10\n",
    "if (x > 8): # uso de parenteses não é obrigatorio \n",
    "    print(\"x é maior que 8\")"
   ]
  },
  {
   "cell_type": "code",
   "execution_count": 178,
   "id": "15d6ac0a",
   "metadata": {},
   "outputs": [
    {
     "name": "stdout",
     "output_type": "stream",
     "text": [
      "x é maior que 8\n"
     ]
    }
   ],
   "source": [
    "x = 10\n",
    "if x > 8: # nessa linha removemos os parêntesis\n",
    "    print(\"x é maior que 8\")"
   ]
  },
  {
   "cell_type": "code",
   "execution_count": 182,
   "id": "34a473db",
   "metadata": {},
   "outputs": [
    {
     "name": "stdout",
     "output_type": "stream",
     "text": [
      "o valor de a é  1\n"
     ]
    }
   ],
   "source": [
    "a = 1\n",
    "b = 2\n",
    "c = 3\n",
    "print(\"o valor de a é \", a)\n"
   ]
  },
  {
   "cell_type": "code",
   "execution_count": null,
   "id": "cf69a6cc",
   "metadata": {},
   "outputs": [],
   "source": [
    "print(\"o valor de b é \", b); print(\"o valor de c é \", c)"
   ]
  },
  {
   "cell_type": "markdown",
   "id": "1dba16a6",
   "metadata": {},
   "source": [
    "## Algumas convenções\n",
    "\n",
    "**Variáveis**\n",
    " - começar com letras minúsculas e utilizar o underscore ( _ ) para\tseparar palavras: meu_nome, numero_de_cadastro, telefone_residencial.  Esse padrão é chamado de **snake case**.\t \n",
    " - Também\t podem começar com underscore ( _ ) mas deve\tser\tevitado\te utilizado em casos mais específicos.\n",
    " - Nunca devem conter espaço\n",
    " - Nem tão pequenas nem tão grandes ( exemplo: bs_wheels é melhor que apenas wheels ou total_number_of_wheels_on_a_bus )\n",
    " - Não podem ter o nome de uma palavra reservada"
   ]
  },
  {
   "cell_type": "markdown",
   "id": "f06b1a42",
   "metadata": {},
   "source": [
    "Palavras reservadas: <font color='green'> and, as, assert, break, class, continue, def, del, elif, else, except, False, finally, for, from, global, if, import, in, is, lambda, None, nonlocal, not, or, pass, raise,\n",
    "return, True, try, while, with, yield</font>  "
   ]
  },
  {
   "cell_type": "code",
   "execution_count": 184,
   "id": "7bdfc44d",
   "metadata": {
    "scrolled": true
   },
   "outputs": [
    {
     "ename": "SyntaxError",
     "evalue": "invalid syntax (<ipython-input-184-f594107bff0c>, line 2)",
     "output_type": "error",
     "traceback": [
      "\u001b[0;36m  File \u001b[0;32m\"<ipython-input-184-f594107bff0c>\"\u001b[0;36m, line \u001b[0;32m2\u001b[0m\n\u001b[0;31m    1roda = 3\u001b[0m\n\u001b[0m     ^\u001b[0m\n\u001b[0;31mSyntaxError\u001b[0m\u001b[0;31m:\u001b[0m invalid syntax\n"
     ]
    }
   ],
   "source": [
    "# não podem iniciar com numeros \n",
    "1roda = 3"
   ]
  },
  {
   "cell_type": "code",
   "execution_count": 185,
   "id": "097308ac",
   "metadata": {
    "scrolled": true
   },
   "outputs": [
    {
     "ename": "SyntaxError",
     "evalue": "invalid syntax (<ipython-input-185-6ad6f99eed38>, line 2)",
     "output_type": "error",
     "traceback": [
      "\u001b[0;36m  File \u001b[0;32m\"<ipython-input-185-6ad6f99eed38>\"\u001b[0;36m, line \u001b[0;32m2\u001b[0m\n\u001b[0;31m    var var = 3\u001b[0m\n\u001b[0m        ^\u001b[0m\n\u001b[0;31mSyntaxError\u001b[0m\u001b[0;31m:\u001b[0m invalid syntax\n"
     ]
    }
   ],
   "source": [
    "# espacos não são aceitos no nome de uma mesma variavel\n",
    "var var = 3"
   ]
  },
  {
   "cell_type": "markdown",
   "id": "26ff4d23",
   "metadata": {},
   "source": [
    "    E acentos? E Ç ? "
   ]
  },
  {
   "cell_type": "code",
   "execution_count": 187,
   "id": "af8b9ef4",
   "metadata": {},
   "outputs": [],
   "source": [
    "cão = 3\n",
    "atenção = 5"
   ]
  },
  {
   "cell_type": "code",
   "execution_count": 188,
   "id": "8c187401",
   "metadata": {},
   "outputs": [
    {
     "data": {
      "text/plain": [
       "3"
      ]
     },
     "execution_count": 188,
     "metadata": {},
     "output_type": "execute_result"
    }
   ],
   "source": [
    "cão"
   ]
  },
  {
   "cell_type": "code",
   "execution_count": null,
   "id": "9706e089",
   "metadata": {},
   "outputs": [],
   "source": [
    "atenção"
   ]
  },
  {
   "cell_type": "code",
   "execution_count": 191,
   "id": "9330e05d",
   "metadata": {
    "scrolled": false
   },
   "outputs": [
    {
     "ename": "SyntaxError",
     "evalue": "invalid syntax (<ipython-input-191-1abf8aead284>, line 2)",
     "output_type": "error",
     "traceback": [
      "\u001b[0;36m  File \u001b[0;32m\"<ipython-input-191-1abf8aead284>\"\u001b[0;36m, line \u001b[0;32m2\u001b[0m\n\u001b[0;31m    if  = 5\u001b[0m\n\u001b[0m        ^\u001b[0m\n\u001b[0;31mSyntaxError\u001b[0m\u001b[0;31m:\u001b[0m invalid syntax\n"
     ]
    }
   ],
   "source": [
    "# uma palavra reservada não pode ser utilizada como variavel \n",
    "if  = 5"
   ]
  },
  {
   "cell_type": "code",
   "execution_count": 195,
   "id": "951aff17",
   "metadata": {},
   "outputs": [
    {
     "ename": "SyntaxError",
     "evalue": "EOL while scanning string literal (<ipython-input-195-a84b14b1e87a>, line 1)",
     "output_type": "error",
     "traceback": [
      "\u001b[0;36m  File \u001b[0;32m\"<ipython-input-195-a84b14b1e87a>\"\u001b[0;36m, line \u001b[0;32m1\u001b[0m\n\u001b[0;31m    mensagem = 'a aula de python eh hj\u001b[0m\n\u001b[0m                                      ^\u001b[0m\n\u001b[0;31mSyntaxError\u001b[0m\u001b[0;31m:\u001b[0m EOL while scanning string literal\n"
     ]
    }
   ],
   "source": [
    "mensagem = 'a aula de python eh hj "
   ]
  },
  {
   "cell_type": "code",
   "execution_count": 194,
   "id": "b9e24e10",
   "metadata": {},
   "outputs": [
    {
     "ename": "NameError",
     "evalue": "name 'messgem' is not defined",
     "output_type": "error",
     "traceback": [
      "\u001b[0;31m---------------------------------------------------------------------------\u001b[0m",
      "\u001b[0;31mNameError\u001b[0m                                 Traceback (most recent call last)",
      "\u001b[0;32m<ipython-input-194-8a823e88caf0>\u001b[0m in \u001b[0;36m<module>\u001b[0;34m\u001b[0m\n\u001b[0;32m----> 1\u001b[0;31m \u001b[0mmessgem\u001b[0m\u001b[0;34m\u001b[0m\u001b[0;34m\u001b[0m\u001b[0m\n\u001b[0m",
      "\u001b[0;31mNameError\u001b[0m: name 'messgem' is not defined"
     ]
    }
   ],
   "source": [
    "messgem # essa variavel nao existe"
   ]
  },
  {
   "cell_type": "markdown",
   "id": "7b4b511c",
   "metadata": {},
   "source": [
    "<font color='red'>**Lidando com erros**</font>\n",
    "\n",
    "É muito importante saber ler os erros! Isso facilita a correção"
   ]
  },
  {
   "cell_type": "markdown",
   "id": "dbd8d21c",
   "metadata": {},
   "source": [
    "\n",
    "<!-- ![palavras_reservadas.png](attachment:palavras_reservadas.png)\n",
    " -->\n",
    "\n",
    "**Coding Style**\n",
    "\n",
    "- Usar indentação com 4 espaços, sem tabs\n",
    "- Assegurar que as linhas não tenham mais que 79 caracteres\n",
    "- Separar classes e funções com linhas em branco\n",
    "- Quando possível colocar o comentário na mesma linha\n",
    "- Usar docstrings\n",
    "- Usar espaços entre os operadores\n",
    "- Nomear funçoes e classes consistentemente, usando _ para separar as palavras\n",
    "- Evite encondings, o melhor é usar ASCII"
   ]
  },
  {
   "cell_type": "code",
   "execution_count": 198,
   "id": "7d44d7ca",
   "metadata": {},
   "outputs": [],
   "source": [
    "## nosso primeiro programa - vamos somar alguns numeros\n",
    "\n",
    "numero = 10\n",
    "numero2 = 30\n",
    "\n",
    "soma = numero + numero2\n"
   ]
  },
  {
   "cell_type": "code",
   "execution_count": 201,
   "id": "cc23fa40",
   "metadata": {},
   "outputs": [
    {
     "name": "stdout",
     "output_type": "stream",
     "text": [
      "10\n",
      "30\n",
      "40\n"
     ]
    }
   ],
   "source": [
    "print(numero)\n",
    "print(numero2)\n",
    "print(soma)"
   ]
  },
  {
   "cell_type": "code",
   "execution_count": 203,
   "id": "ab5860e3",
   "metadata": {},
   "outputs": [
    {
     "data": {
      "text/plain": [
       "2"
      ]
     },
     "execution_count": 203,
     "metadata": {},
     "output_type": "execute_result"
    }
   ],
   "source": [
    "## importancia do print - \n",
    "numero = 1\n",
    "numero\n",
    "numero2 = 2\n",
    "numero2"
   ]
  },
  {
   "cell_type": "markdown",
   "id": "9e8c0515",
   "metadata": {},
   "source": [
    "# Parte 2"
   ]
  },
  {
   "cell_type": "markdown",
   "id": "db6eac16",
   "metadata": {},
   "source": [
    "## Tipagem - VARIÁVEIS "
   ]
  },
  {
   "cell_type": "markdown",
   "id": "5b20b661",
   "metadata": {},
   "source": [
    "Variáveis armazenam um valor. Lembrando que uma mesma variável pode assumir tipos diferentes durante o programa."
   ]
  },
  {
   "cell_type": "code",
   "execution_count": 205,
   "id": "32b5f576",
   "metadata": {},
   "outputs": [
    {
     "name": "stdout",
     "output_type": "stream",
     "text": [
      "1.5\n",
      "string\n",
      "1\n"
     ]
    }
   ],
   "source": [
    "# criar uma mesma variavel com tipos diferentes\n",
    "a = 1.5\n",
    "print(a)\n",
    "a = 'string'\n",
    "print(a)\n",
    "a = 1\n",
    "print(a)\n",
    "\n"
   ]
  },
  {
   "cell_type": "code",
   "execution_count": 206,
   "id": "bd8770e5",
   "metadata": {},
   "outputs": [
    {
     "ename": "TypeError",
     "evalue": "unsupported operand type(s) for +: 'int' and 'str'",
     "output_type": "error",
     "traceback": [
      "\u001b[0;31m---------------------------------------------------------------------------\u001b[0m",
      "\u001b[0;31mTypeError\u001b[0m                                 Traceback (most recent call last)",
      "\u001b[0;32m<ipython-input-206-e7b729871caf>\u001b[0m in \u001b[0;36m<module>\u001b[0;34m\u001b[0m\n\u001b[1;32m      1\u001b[0m \u001b[0ma\u001b[0m \u001b[0;34m=\u001b[0m \u001b[0;36m1\u001b[0m\u001b[0;34m\u001b[0m\u001b[0;34m\u001b[0m\u001b[0m\n\u001b[1;32m      2\u001b[0m \u001b[0mb\u001b[0m \u001b[0;34m=\u001b[0m \u001b[0;34m'1'\u001b[0m\u001b[0;34m\u001b[0m\u001b[0;34m\u001b[0m\u001b[0m\n\u001b[0;32m----> 3\u001b[0;31m \u001b[0ma\u001b[0m\u001b[0;34m+\u001b[0m\u001b[0mb\u001b[0m\u001b[0;34m\u001b[0m\u001b[0;34m\u001b[0m\u001b[0m\n\u001b[0m",
      "\u001b[0;31mTypeError\u001b[0m: unsupported operand type(s) for +: 'int' and 'str'"
     ]
    }
   ],
   "source": [
    "a = 1\n",
    "b = '1'\n",
    "a+b"
   ]
  },
  {
   "cell_type": "code",
   "execution_count": 207,
   "id": "df3c0d01",
   "metadata": {},
   "outputs": [
    {
     "data": {
      "text/plain": [
       "int"
      ]
     },
     "execution_count": 207,
     "metadata": {},
     "output_type": "execute_result"
    }
   ],
   "source": [
    "# veja o tipo da variavel\n",
    "a = 1\n",
    "type(a)\n"
   ]
  },
  {
   "cell_type": "code",
   "execution_count": 208,
   "id": "cb6ac3c4",
   "metadata": {
    "scrolled": false
   },
   "outputs": [
    {
     "data": {
      "text/plain": [
       "int"
      ]
     },
     "execution_count": 208,
     "metadata": {},
     "output_type": "execute_result"
    }
   ],
   "source": [
    "# veja o tipo de um numero\n",
    "b = 10\n",
    "type(b)"
   ]
  },
  {
   "cell_type": "code",
   "execution_count": 210,
   "id": "fd024c96",
   "metadata": {
    "scrolled": true
   },
   "outputs": [
    {
     "name": "stdout",
     "output_type": "stream",
     "text": [
      "<class 'str'>\n"
     ]
    }
   ],
   "source": [
    "# veja o tipo de uma string\n",
    "b = 'string'\n",
    "print(type(b))"
   ]
  },
  {
   "cell_type": "code",
   "execution_count": 211,
   "id": "e746ad8c",
   "metadata": {},
   "outputs": [
    {
     "data": {
      "text/plain": [
       "float"
      ]
     },
     "execution_count": 211,
     "metadata": {},
     "output_type": "execute_result"
    }
   ],
   "source": [
    "# veja o tipo de um float\n",
    "b = 1.4\n",
    "type(b)"
   ]
  },
  {
   "cell_type": "code",
   "execution_count": 212,
   "id": "5bf2a29d",
   "metadata": {},
   "outputs": [
    {
     "data": {
      "text/plain": [
       "complex"
      ]
     },
     "execution_count": 212,
     "metadata": {},
     "output_type": "execute_result"
    }
   ],
   "source": [
    "# veja o tipo de um numero complexo\n",
    "\n",
    "numero = 1j * 1J\n",
    "\n",
    "type(numero)\n",
    "\n"
   ]
  },
  {
   "cell_type": "code",
   "execution_count": 213,
   "id": "87f3ca81",
   "metadata": {},
   "outputs": [],
   "source": [
    "# veja o tipo de uma bool\n",
    "booleano = True\n"
   ]
  },
  {
   "cell_type": "code",
   "execution_count": 214,
   "id": "13ff4f58",
   "metadata": {},
   "outputs": [
    {
     "data": {
      "text/plain": [
       "True"
      ]
     },
     "execution_count": 214,
     "metadata": {},
     "output_type": "execute_result"
    }
   ],
   "source": [
    "booleanoo"
   ]
  },
  {
   "cell_type": "code",
   "execution_count": 215,
   "id": "35d61d28",
   "metadata": {},
   "outputs": [
    {
     "data": {
      "text/plain": [
       "bool"
      ]
     },
     "execution_count": 215,
     "metadata": {},
     "output_type": "execute_result"
    }
   ],
   "source": [
    "type(booleano)"
   ]
  },
  {
   "cell_type": "code",
   "execution_count": 216,
   "id": "cb3a0ba7",
   "metadata": {},
   "outputs": [
    {
     "data": {
      "text/plain": [
       "str"
      ]
     },
     "execution_count": 216,
     "metadata": {},
     "output_type": "execute_result"
    }
   ],
   "source": [
    "# numero ou string?\n",
    "b = '3'\n",
    "type(b)\n"
   ]
  },
  {
   "cell_type": "code",
   "execution_count": 217,
   "id": "5eb1ab8c",
   "metadata": {
    "scrolled": true
   },
   "outputs": [
    {
     "data": {
      "text/plain": [
       "str"
      ]
     },
     "execution_count": 217,
     "metadata": {},
     "output_type": "execute_result"
    }
   ],
   "source": [
    "# float ou string\n",
    "b = '3.4'\n",
    "type(b)"
   ]
  },
  {
   "cell_type": "code",
   "execution_count": 224,
   "id": "9bb4e64c",
   "metadata": {
    "scrolled": true
   },
   "outputs": [
    {
     "name": "stdout",
     "output_type": "stream",
     "text": [
      "Isso é um exemplo\n",
      "Isso é um exemplo\n",
      "That's\n",
      "Isso é um exemplo\n"
     ]
    }
   ],
   "source": [
    "# diversas maneiras de representar uma string\n",
    "\n",
    "# aspas simples\n",
    "string = 'Isso é um exemplo'\n",
    "print(string)\n",
    "# aspas duplas\n",
    "string = \"Isso é um exemplo\"\n",
    "print(string)\n",
    "# duas apas duplas\n",
    "string = \"'Isso é um exemplo'\"\n",
    "string = \"That's\"\n",
    "print(string)\n",
    "# tres aspas simples\n",
    "string = '''Isso é um exemplo'''\n",
    "print(string)"
   ]
  },
  {
   "cell_type": "code",
   "execution_count": 225,
   "id": "a848f2b7",
   "metadata": {
    "scrolled": false
   },
   "outputs": [
    {
     "name": "stdout",
     "output_type": "stream",
     "text": [
      "3 aula 3.4\n"
     ]
    }
   ],
   "source": [
    "# é possivel imprimir varios tipos juntos?\n",
    "print(3, 'aula', 3.4)"
   ]
  },
  {
   "cell_type": "code",
   "execution_count": 227,
   "id": "a3584ce1",
   "metadata": {},
   "outputs": [
    {
     "name": "stdout",
     "output_type": "stream",
     "text": [
      "25\n"
     ]
    }
   ],
   "source": [
    "# é possivel somar um numero e uma string numero\n",
    "numero_1 = 10\n",
    "numero_2 = \"15\"\n",
    "\n",
    "numero_3 = numero_1 + int(numero_2)\n",
    "\n",
    "print(numero_3)"
   ]
  },
  {
   "cell_type": "code",
   "execution_count": 228,
   "id": "90a3acb4",
   "metadata": {},
   "outputs": [],
   "source": [
    "# tipo booleano\n",
    "booleano = True\n"
   ]
  },
  {
   "cell_type": "code",
   "execution_count": 230,
   "id": "f79b0739",
   "metadata": {},
   "outputs": [
    {
     "data": {
      "text/plain": [
       "4"
      ]
     },
     "execution_count": 230,
     "metadata": {},
     "output_type": "execute_result"
    }
   ],
   "source": [
    "# é possivel somar um numero com um tipo bool?\n",
    "booleano + 3"
   ]
  },
  {
   "cell_type": "markdown",
   "id": "0538a3d3",
   "metadata": {},
   "source": [
    "# Parte 3"
   ]
  },
  {
   "cell_type": "markdown",
   "id": "dd23ebad",
   "metadata": {},
   "source": [
    "## OPERADORES "
   ]
  },
  {
   "cell_type": "markdown",
   "id": "9a180c66",
   "metadata": {},
   "source": [
    "### Operações matemáticas \n",
    "\n",
    "* Multiplicação *\n",
    "* Divisão /\n",
    "* Soma +\n",
    "* Subtração -\n",
    "* Módulo  %\n",
    "* Truncamento // "
   ]
  },
  {
   "cell_type": "code",
   "execution_count": 234,
   "id": "912bb85d",
   "metadata": {},
   "outputs": [
    {
     "data": {
      "text/plain": [
       "0.8"
      ]
     },
     "execution_count": 234,
     "metadata": {},
     "output_type": "execute_result"
    }
   ],
   "source": [
    "# testando os operadores (soma, subtracao, expo, uso de parenteses)\n",
    "var1 = 4\n",
    "var2 = 5\n",
    "# var1 + var2\n",
    "# var1 * var2\n",
    "var1 / var2\n"
   ]
  },
  {
   "cell_type": "code",
   "execution_count": 237,
   "id": "f492fa24",
   "metadata": {},
   "outputs": [
    {
     "data": {
      "text/plain": [
       "9"
      ]
     },
     "execution_count": 237,
     "metadata": {},
     "output_type": "execute_result"
    }
   ],
   "source": [
    "### atualizando variaveis com += ou -=\n",
    "\n",
    "x = 8\n",
    "y =1 \n",
    "x + y\n"
   ]
  },
  {
   "cell_type": "code",
   "execution_count": 238,
   "id": "55e44603",
   "metadata": {},
   "outputs": [
    {
     "data": {
      "text/plain": [
       "9"
      ]
     },
     "execution_count": 238,
     "metadata": {},
     "output_type": "execute_result"
    }
   ],
   "source": [
    "x += 1\n",
    "x"
   ]
  },
  {
   "cell_type": "code",
   "execution_count": 239,
   "id": "8b774451",
   "metadata": {},
   "outputs": [
    {
     "data": {
      "text/plain": [
       "8"
      ]
     },
     "execution_count": 239,
     "metadata": {},
     "output_type": "execute_result"
    }
   ],
   "source": [
    "# -=\n",
    "x -= 1\n",
    "x"
   ]
  },
  {
   "cell_type": "code",
   "execution_count": 240,
   "id": "a2fab9b6",
   "metadata": {},
   "outputs": [
    {
     "ename": "SyntaxError",
     "evalue": "invalid syntax (<ipython-input-240-cd9044115eb3>, line 2)",
     "output_type": "error",
     "traceback": [
      "\u001b[0;36m  File \u001b[0;32m\"<ipython-input-240-cd9044115eb3>\"\u001b[0;36m, line \u001b[0;32m2\u001b[0m\n\u001b[0;31m    x++\u001b[0m\n\u001b[0m       ^\u001b[0m\n\u001b[0;31mSyntaxError\u001b[0m\u001b[0;31m:\u001b[0m invalid syntax\n"
     ]
    }
   ],
   "source": [
    "# e o ++\n",
    "x++"
   ]
  },
  {
   "cell_type": "code",
   "execution_count": 242,
   "id": "53f80dff",
   "metadata": {},
   "outputs": [
    {
     "data": {
      "text/plain": [
       "3.3333333333333335"
      ]
     },
     "execution_count": 242,
     "metadata": {},
     "output_type": "execute_result"
    }
   ],
   "source": [
    "# divisao de inteiros usando /\n",
    "\n",
    "100/30\n"
   ]
  },
  {
   "cell_type": "code",
   "execution_count": 253,
   "id": "7393010c",
   "metadata": {},
   "outputs": [
    {
     "data": {
      "text/plain": [
       "int"
      ]
     },
     "execution_count": 253,
     "metadata": {},
     "output_type": "execute_result"
    }
   ],
   "source": [
    "valor = int(100/25)\n",
    "type(valor)"
   ]
  },
  {
   "cell_type": "code",
   "execution_count": 243,
   "id": "cff32c23",
   "metadata": {},
   "outputs": [
    {
     "data": {
      "text/plain": [
       "3"
      ]
     },
     "execution_count": 243,
     "metadata": {},
     "output_type": "execute_result"
    }
   ],
   "source": [
    "#divisao sem resto usando //\n",
    "100//30"
   ]
  },
  {
   "cell_type": "code",
   "execution_count": 244,
   "id": "5721f2cf",
   "metadata": {},
   "outputs": [
    {
     "data": {
      "text/plain": [
       "3.317880794701987"
      ]
     },
     "execution_count": 244,
     "metadata": {},
     "output_type": "execute_result"
    }
   ],
   "source": [
    "# divisao de floats usando /\n",
    "100.2/30.2"
   ]
  },
  {
   "cell_type": "code",
   "execution_count": 245,
   "id": "5407d62a",
   "metadata": {},
   "outputs": [
    {
     "data": {
      "text/plain": [
       "3.0"
      ]
     },
     "execution_count": 245,
     "metadata": {},
     "output_type": "execute_result"
    }
   ],
   "source": [
    "#divisao de floats  sem resto usando //\n",
    "100.2//30.2"
   ]
  },
  {
   "cell_type": "code",
   "execution_count": 249,
   "id": "99b70a3f",
   "metadata": {
    "scrolled": true
   },
   "outputs": [
    {
     "data": {
      "text/plain": [
       "0"
      ]
     },
     "execution_count": 249,
     "metadata": {},
     "output_type": "execute_result"
    }
   ],
   "source": [
    "# modulo %\n",
    "10%2   # numero é par? "
   ]
  },
  {
   "cell_type": "code",
   "execution_count": 250,
   "id": "dbcb5fbb",
   "metadata": {},
   "outputs": [
    {
     "name": "stdout",
     "output_type": "stream",
     "text": [
      "4.0\n"
     ]
    }
   ],
   "source": [
    "### Qual o resultado?\n",
    "\n",
    "print(18 // 4.0)"
   ]
  },
  {
   "cell_type": "markdown",
   "id": "a2df04ab",
   "metadata": {},
   "source": [
    "### Prioridade\n",
    "\n",
    "- Parenteses (1+1)\n",
    "- Exponenciação 4**2\n",
    "- Multiplicação e divisão 2*4\n",
    "- Adição e subtração 5+2\n",
    "\n"
   ]
  },
  {
   "cell_type": "code",
   "execution_count": 256,
   "id": "da02341b",
   "metadata": {
    "scrolled": true
   },
   "outputs": [
    {
     "data": {
      "text/plain": [
       "10.0"
      ]
     },
     "execution_count": 256,
     "metadata": {},
     "output_type": "execute_result"
    }
   ],
   "source": [
    "### Exemplo: média entre 10 e 20 \n",
    "\n",
    "5+(10/2)\n"
   ]
  },
  {
   "cell_type": "code",
   "execution_count": 255,
   "id": "d5c6a6db",
   "metadata": {},
   "outputs": [
    {
     "data": {
      "text/plain": [
       "7.5"
      ]
     },
     "execution_count": 255,
     "metadata": {},
     "output_type": "execute_result"
    }
   ],
   "source": [
    "(5+10)/2"
   ]
  },
  {
   "cell_type": "code",
   "execution_count": 257,
   "id": "20318892",
   "metadata": {
    "scrolled": true
   },
   "outputs": [
    {
     "data": {
      "text/plain": [
       "4"
      ]
     },
     "execution_count": 257,
     "metadata": {},
     "output_type": "execute_result"
    }
   ],
   "source": [
    "2**2"
   ]
  },
  {
   "cell_type": "code",
   "execution_count": 275,
   "id": "41736373",
   "metadata": {},
   "outputs": [
    {
     "data": {
      "text/plain": [
       "(6.123233995736766e-17+1j)"
      ]
     },
     "execution_count": 275,
     "metadata": {},
     "output_type": "execute_result"
    }
   ],
   "source": [
    "(-1) ** 0.5 "
   ]
  },
  {
   "cell_type": "code",
   "execution_count": null,
   "id": "012c7201",
   "metadata": {},
   "outputs": [],
   "source": []
  },
  {
   "cell_type": "markdown",
   "id": "f64773a1",
   "metadata": {},
   "source": [
    "### Operações relacionais \n",
    "\n",
    "* maior > \n",
    "* maior igual >=\n",
    "* menor <\n",
    "* menor igual <=\n",
    "* igual ==\n",
    "* diferente !="
   ]
  },
  {
   "cell_type": "code",
   "execution_count": 262,
   "id": "79f434ee",
   "metadata": {
    "scrolled": true
   },
   "outputs": [
    {
     "data": {
      "text/plain": [
       "bool"
      ]
     },
     "execution_count": 262,
     "metadata": {},
     "output_type": "execute_result"
    }
   ],
   "source": [
    "# operacao de maior\n",
    "5 > 10"
   ]
  },
  {
   "cell_type": "code",
   "execution_count": 261,
   "id": "4cedc057",
   "metadata": {},
   "outputs": [
    {
     "data": {
      "text/plain": [
       "True"
      ]
     },
     "execution_count": 261,
     "metadata": {},
     "output_type": "execute_result"
    }
   ],
   "source": [
    "5 > 3"
   ]
  },
  {
   "cell_type": "code",
   "execution_count": 269,
   "id": "f58bed06",
   "metadata": {
    "scrolled": true
   },
   "outputs": [
    {
     "data": {
      "text/plain": [
       "False"
      ]
     },
     "execution_count": 269,
     "metadata": {},
     "output_type": "execute_result"
    }
   ],
   "source": [
    "# operacao de maior igual\n",
    "5 >= 8\n",
    "\n",
    "# 5 => 8 # errado!!!"
   ]
  },
  {
   "cell_type": "code",
   "execution_count": 270,
   "id": "a466472a",
   "metadata": {},
   "outputs": [
    {
     "data": {
      "text/plain": [
       "True"
      ]
     },
     "execution_count": 270,
     "metadata": {},
     "output_type": "execute_result"
    }
   ],
   "source": [
    "# igual\n",
    "5 == 5 "
   ]
  },
  {
   "cell_type": "code",
   "execution_count": 271,
   "id": "96764e38",
   "metadata": {},
   "outputs": [
    {
     "data": {
      "text/plain": [
       "False"
      ]
     },
     "execution_count": 271,
     "metadata": {},
     "output_type": "execute_result"
    }
   ],
   "source": [
    "5 == 8"
   ]
  },
  {
   "cell_type": "code",
   "execution_count": 273,
   "id": "5e4435cd",
   "metadata": {},
   "outputs": [
    {
     "data": {
      "text/plain": [
       "False"
      ]
     },
     "execution_count": 273,
     "metadata": {},
     "output_type": "execute_result"
    }
   ],
   "source": [
    "# diferente\n",
    "5 != 5\n",
    "\n"
   ]
  },
  {
   "cell_type": "markdown",
   "id": "84db1ad9",
   "metadata": {},
   "source": [
    "### Operações Lógicas "
   ]
  },
  {
   "cell_type": "markdown",
   "id": "b33bf001",
   "metadata": {},
   "source": [
    "Existem dois valores logicos: TRUE e FALSE"
   ]
  },
  {
   "cell_type": "code",
   "execution_count": 274,
   "id": "3a088a53",
   "metadata": {},
   "outputs": [
    {
     "data": {
      "text/plain": [
       "bool"
      ]
     },
     "execution_count": 274,
     "metadata": {},
     "output_type": "execute_result"
    }
   ],
   "source": [
    "# veja o tipo de True\n",
    "type(True)\n"
   ]
  },
  {
   "cell_type": "code",
   "execution_count": 276,
   "id": "ffaefe79",
   "metadata": {},
   "outputs": [
    {
     "data": {
      "text/plain": [
       "bool"
      ]
     },
     "execution_count": 276,
     "metadata": {},
     "output_type": "execute_result"
    }
   ],
   "source": [
    "# veja o tipo de False\n",
    "type(False)\n"
   ]
  },
  {
   "cell_type": "code",
   "execution_count": 279,
   "id": "8f32d2b2",
   "metadata": {},
   "outputs": [],
   "source": [
    "# type(TRUE)"
   ]
  },
  {
   "cell_type": "code",
   "execution_count": 281,
   "id": "95d262c1",
   "metadata": {},
   "outputs": [
    {
     "data": {
      "text/plain": [
       "False"
      ]
     },
     "execution_count": 281,
     "metadata": {},
     "output_type": "execute_result"
    }
   ],
   "source": [
    "# verifique o tipo do resultado ao verificar se dois numeros sao iguais\n",
    "5 == 6\n"
   ]
  },
  {
   "cell_type": "markdown",
   "id": "339fcf22",
   "metadata": {},
   "source": [
    "* Vamos testar os exercicios de ontem aqui?"
   ]
  },
  {
   "cell_type": "code",
   "execution_count": 286,
   "id": "c54cdb7a",
   "metadata": {},
   "outputs": [
    {
     "data": {
      "text/plain": [
       "True"
      ]
     },
     "execution_count": 286,
     "metadata": {},
     "output_type": "execute_result"
    }
   ],
   "source": [
    "A=5\n",
    "B=4\n",
    "C=3\n",
    "D=6\n",
    "\n",
    "(A > C) and (C <=D)"
   ]
  },
  {
   "cell_type": "code",
   "execution_count": 287,
   "id": "f2903350",
   "metadata": {},
   "outputs": [
    {
     "data": {
      "text/plain": [
       "True"
      ]
     },
     "execution_count": 287,
     "metadata": {},
     "output_type": "execute_result"
    }
   ],
   "source": [
    "(A+B) > 10 or (A+B) == (C+D)"
   ]
  },
  {
   "cell_type": "code",
   "execution_count": 288,
   "id": "b68b716f",
   "metadata": {},
   "outputs": [
    {
     "data": {
      "text/plain": [
       "True"
      ]
     },
     "execution_count": 288,
     "metadata": {},
     "output_type": "execute_result"
    }
   ],
   "source": [
    "(A >= C) and (D >= C)"
   ]
  },
  {
   "cell_type": "code",
   "execution_count": 289,
   "id": "c5a13b27",
   "metadata": {},
   "outputs": [
    {
     "data": {
      "text/plain": [
       "False"
      ]
     },
     "execution_count": 289,
     "metadata": {},
     "output_type": "execute_result"
    }
   ],
   "source": [
    "verdade = True\n",
    "not verdade"
   ]
  },
  {
   "cell_type": "code",
   "execution_count": 294,
   "id": "4954f6e8",
   "metadata": {},
   "outputs": [
    {
     "name": "stdout",
     "output_type": "stream",
     "text": [
      "True\n"
     ]
    }
   ],
   "source": [
    "print(verdade)"
   ]
  },
  {
   "cell_type": "code",
   "execution_count": 295,
   "id": "4764a8ff",
   "metadata": {
    "scrolled": true
   },
   "outputs": [
    {
     "data": {
      "text/plain": [
       "-2"
      ]
     },
     "execution_count": 295,
     "metadata": {},
     "output_type": "execute_result"
    }
   ],
   "source": [
    "~verdade  # pq é -2 e não False? "
   ]
  },
  {
   "cell_type": "code",
   "execution_count": 296,
   "id": "6285564c",
   "metadata": {},
   "outputs": [
    {
     "data": {
      "text/plain": [
       "True"
      ]
     },
     "execution_count": 296,
     "metadata": {},
     "output_type": "execute_result"
    }
   ],
   "source": [
    "falso = False\n",
    "not falso"
   ]
  },
  {
   "cell_type": "code",
   "execution_count": 297,
   "id": "299c5bab",
   "metadata": {},
   "outputs": [
    {
     "data": {
      "text/plain": [
       "-1"
      ]
     },
     "execution_count": 297,
     "metadata": {},
     "output_type": "execute_result"
    }
   ],
   "source": [
    "~falso"
   ]
  },
  {
   "cell_type": "code",
   "execution_count": 299,
   "id": "db16bbdf",
   "metadata": {},
   "outputs": [
    {
     "data": {
      "text/plain": [
       "-2"
      ]
     },
     "execution_count": 299,
     "metadata": {},
     "output_type": "execute_result"
    }
   ],
   "source": [
    "~1"
   ]
  },
  {
   "cell_type": "markdown",
   "id": "0327bfc4",
   "metadata": {},
   "source": [
    "# Parte 4"
   ]
  },
  {
   "cell_type": "markdown",
   "id": "2714de95",
   "metadata": {},
   "source": [
    "##  Trabalhando com Strings \n",
    "\n",
    "Strings são pedacinhos de texto que você pode exportar para fora do programa"
   ]
  },
  {
   "cell_type": "code",
   "execution_count": 301,
   "id": "f6f827ef",
   "metadata": {
    "scrolled": true
   },
   "outputs": [
    {
     "data": {
      "text/plain": [
       "str"
      ]
     },
     "execution_count": 301,
     "metadata": {},
     "output_type": "execute_result"
    }
   ],
   "source": [
    "# como criar strings e ver o tipo\n",
    "string = 'String'\n",
    "type(string)"
   ]
  },
  {
   "cell_type": "code",
   "execution_count": 305,
   "id": "cbd2a008",
   "metadata": {
    "scrolled": true
   },
   "outputs": [
    {
     "data": {
      "text/plain": [
       "'String'"
      ]
     },
     "execution_count": 305,
     "metadata": {},
     "output_type": "execute_result"
    }
   ],
   "source": [
    "# como visualizar o valor da variavel string\n",
    "string"
   ]
  },
  {
   "cell_type": "code",
   "execution_count": 306,
   "id": "05fa48fd",
   "metadata": {
    "scrolled": true
   },
   "outputs": [
    {
     "name": "stdout",
     "output_type": "stream",
     "text": [
      "String\n"
     ]
    }
   ],
   "source": [
    "# usando o print \n",
    "print(string)"
   ]
  },
  {
   "cell_type": "code",
   "execution_count": 312,
   "id": "b6d5fe6e",
   "metadata": {},
   "outputs": [
    {
     "name": "stdout",
     "output_type": "stream",
     "text": [
      " Esse texto\n",
      "sera escrito\n",
      "em mais de uma linha\n",
      "\n"
     ]
    }
   ],
   "source": [
    "print(\"\"\" Esse texto\n",
    "sera escrito\n",
    "em mais de uma linha\n",
    "\"\"\")"
   ]
  },
  {
   "cell_type": "code",
   "execution_count": 315,
   "id": "b256041f",
   "metadata": {},
   "outputs": [
    {
     "name": "stdout",
     "output_type": "stream",
     "text": [
      "Esse texto sera escrito\n"
     ]
    }
   ],
   "source": [
    "print(\"Esse texto \\\n",
    "sera escrito\")"
   ]
  },
  {
   "cell_type": "code",
   "execution_count": 308,
   "id": "1f6aca4c",
   "metadata": {},
   "outputs": [
    {
     "data": {
      "text/plain": [
       "'oi Python'"
      ]
     },
     "execution_count": 308,
     "metadata": {},
     "output_type": "execute_result"
    }
   ],
   "source": [
    "### concatenando strings com o operador +\n",
    "\n",
    "texto1 = 'oi'\n",
    "texto2 = 'Python'\n",
    "\n",
    "texto1 + ' ' + texto2\n"
   ]
  },
  {
   "cell_type": "code",
   "execution_count": 311,
   "id": "842abc61",
   "metadata": {},
   "outputs": [
    {
     "data": {
      "text/plain": [
       "'python python python '"
      ]
     },
     "execution_count": 311,
     "metadata": {},
     "output_type": "execute_result"
    }
   ],
   "source": [
    "# usando o operador *\n",
    "texto1 = 'python '\n",
    "texto1*3\n"
   ]
  },
  {
   "cell_type": "code",
   "execution_count": 317,
   "id": "a0dffc35",
   "metadata": {},
   "outputs": [
    {
     "data": {
      "text/plain": [
       "2"
      ]
     },
     "execution_count": 317,
     "metadata": {},
     "output_type": "execute_result"
    }
   ],
   "source": [
    "# contando valores dentro de uma string\n",
    "a = \"I have had an apple on my desk before!\"\n",
    "# a.count('e')\n",
    "a.count('ha')"
   ]
  },
  {
   "cell_type": "code",
   "execution_count": 319,
   "id": "42652601",
   "metadata": {},
   "outputs": [
    {
     "data": {
      "text/plain": [
       "1"
      ]
     },
     "execution_count": 319,
     "metadata": {},
     "output_type": "execute_result"
    }
   ],
   "source": [
    "# verificando posicoes \n",
    "music = \"Pull out your music and dancing can begin\"\n",
    "music.index('u')"
   ]
  },
  {
   "cell_type": "code",
   "execution_count": 321,
   "id": "6a7f3cc7",
   "metadata": {},
   "outputs": [
    {
     "data": {
      "text/plain": [
       "3"
      ]
     },
     "execution_count": 321,
     "metadata": {},
     "output_type": "execute_result"
    }
   ],
   "source": [
    "bio = [\"Metatarsal\", \"Metatarsal\", \"Fibula\", [], \\\n",
    "       \"Tibia\", \"Tibia\", 43, \"Femur\", \"Occipital\", \"Metatarsal\"]\n",
    "# verificando posicoes \n",
    "\n",
    "bio.index('Metatarsal')\n",
    "bio.index([])"
   ]
  },
  {
   "cell_type": "code",
   "execution_count": 322,
   "id": "334addba",
   "metadata": {},
   "outputs": [
    {
     "data": {
      "text/plain": [
       "['The', 'rain', 'in', 'Spain...']"
      ]
     },
     "execution_count": 322,
     "metadata": {},
     "output_type": "execute_result"
    }
   ],
   "source": [
    "# separando os valores de uma string\n",
    "song = \"The rain in Spain...\"\n",
    "song.split()"
   ]
  },
  {
   "cell_type": "code",
   "execution_count": 324,
   "id": "67989f9c",
   "metadata": {},
   "outputs": [
    {
     "data": {
      "text/plain": [
       "['The rain in Spain', 'is cold']"
      ]
     },
     "execution_count": 324,
     "metadata": {},
     "output_type": "execute_result"
    }
   ],
   "source": [
    "# Passando um separador para o split \n",
    "song = \"The rain in Spain...is cold\"\n",
    "song.split('...')"
   ]
  },
  {
   "cell_type": "code",
   "execution_count": 325,
   "id": "b778f897",
   "metadata": {
    "scrolled": true
   },
   "outputs": [
    {
     "name": "stdout",
     "output_type": "stream",
     "text": [
      "['red', 'blue', 'green']\n",
      ";\n",
      "red;blue;green\n"
     ]
    }
   ],
   "source": [
    "# adicionando separadores ao fazer uma concatencao\n",
    "wds = [\"red\", \"blue\", \"green\"]\n",
    "glue = ';'\n",
    "s = glue.join(wds)\n",
    "\n",
    "print(wds)\n",
    "print(glue)\n",
    "print(s)"
   ]
  },
  {
   "cell_type": "code",
   "execution_count": 326,
   "id": "a7fbd4cf",
   "metadata": {
    "scrolled": true
   },
   "outputs": [
    {
     "data": {
      "text/plain": [
       "list"
      ]
     },
     "execution_count": 326,
     "metadata": {},
     "output_type": "execute_result"
    }
   ],
   "source": [
    "type(wds)"
   ]
  },
  {
   "cell_type": "code",
   "execution_count": 327,
   "id": "70e2f6dd",
   "metadata": {},
   "outputs": [
    {
     "data": {
      "text/plain": [
       "str"
      ]
     },
     "execution_count": 327,
     "metadata": {},
     "output_type": "execute_result"
    }
   ],
   "source": [
    "type(glue)"
   ]
  },
  {
   "cell_type": "code",
   "execution_count": 328,
   "id": "ec1bd4dc",
   "metadata": {},
   "outputs": [
    {
     "data": {
      "text/plain": [
       "str"
      ]
     },
     "execution_count": 328,
     "metadata": {},
     "output_type": "execute_result"
    }
   ],
   "source": [
    "type(s)"
   ]
  },
  {
   "cell_type": "code",
   "execution_count": 329,
   "id": "9f62fadb",
   "metadata": {},
   "outputs": [
    {
     "data": {
      "text/plain": [
       "'apple'"
      ]
     },
     "execution_count": 329,
     "metadata": {},
     "output_type": "execute_result"
    }
   ],
   "source": [
    "# caixa alta e baixa\n",
    "s1 = 'ApPle'\n",
    "s1.casefold()\n"
   ]
  },
  {
   "cell_type": "code",
   "execution_count": 330,
   "id": "61cddfc6",
   "metadata": {},
   "outputs": [
    {
     "data": {
      "text/plain": [
       "'APPLE'"
      ]
     },
     "execution_count": 330,
     "metadata": {},
     "output_type": "execute_result"
    }
   ],
   "source": [
    "s1.upper()"
   ]
  },
  {
   "cell_type": "code",
   "execution_count": 331,
   "id": "1c6c2355",
   "metadata": {},
   "outputs": [
    {
     "data": {
      "text/plain": [
       "'apple'"
      ]
     },
     "execution_count": 331,
     "metadata": {},
     "output_type": "execute_result"
    }
   ],
   "source": [
    "s1.lower()"
   ]
  },
  {
   "cell_type": "markdown",
   "id": "bc68fe70",
   "metadata": {},
   "source": [
    "### Outros comandos úteis com strings "
   ]
  },
  {
   "cell_type": "markdown",
   "id": "d58d39ab",
   "metadata": {},
   "source": [
    "Strings são sequencias de caracteres"
   ]
  },
  {
   "cell_type": "code",
   "execution_count": 332,
   "id": "e2d02fb6",
   "metadata": {},
   "outputs": [
    {
     "data": {
      "text/plain": [
       "'D'"
      ]
     },
     "execution_count": 332,
     "metadata": {},
     "output_type": "execute_result"
    }
   ],
   "source": [
    "# slicing\n",
    "nome = 'Daniel'\n",
    "nome[0]\n"
   ]
  },
  {
   "cell_type": "code",
   "execution_count": 340,
   "id": "f4de263b",
   "metadata": {},
   "outputs": [
    {
     "data": {
      "text/plain": [
       "'Dan'"
      ]
     },
     "execution_count": 340,
     "metadata": {},
     "output_type": "execute_result"
    }
   ],
   "source": [
    "nome = \"Daniel\"\n",
    "nome[0:3]"
   ]
  },
  {
   "cell_type": "code",
   "execution_count": 338,
   "id": "6ce8204d",
   "metadata": {},
   "outputs": [
    {
     "data": {
      "text/plain": [
       "'a'"
      ]
     },
     "execution_count": 338,
     "metadata": {},
     "output_type": "execute_result"
    }
   ],
   "source": [
    "nome = \"Daniel\"\n",
    "nome[-5]"
   ]
  },
  {
   "cell_type": "code",
   "execution_count": 341,
   "id": "753bcca9",
   "metadata": {
    "scrolled": true
   },
   "outputs": [
    {
     "name": "stdout",
     "output_type": "stream",
     "text": [
      "140442555505904\n"
     ]
    }
   ],
   "source": [
    "# imutavel: Identidade no Python é o valor de referência do endereço de memória.\n",
    "\n",
    "nome = 'Eduardo'\n",
    "print(id(nome))\n"
   ]
  },
  {
   "cell_type": "code",
   "execution_count": 342,
   "id": "70252a18",
   "metadata": {},
   "outputs": [
    {
     "name": "stdout",
     "output_type": "stream",
     "text": [
      "140442200720368\n"
     ]
    }
   ],
   "source": [
    "nome = 'Felipe'\n",
    "print(id(nome))"
   ]
  },
  {
   "cell_type": "code",
   "execution_count": 343,
   "id": "0f3dc889",
   "metadata": {
    "scrolled": true
   },
   "outputs": [
    {
     "data": {
      "text/plain": [
       "7"
      ]
     },
     "execution_count": 343,
     "metadata": {},
     "output_type": "execute_result"
    }
   ],
   "source": [
    "# inserir um valor na string\n",
    "nome = 'Eduardo'\n",
    "len(nome)"
   ]
  },
  {
   "cell_type": "code",
   "execution_count": 345,
   "id": "5c5d8cde",
   "metadata": {},
   "outputs": [
    {
     "ename": "TypeError",
     "evalue": "'str' object does not support item assignment",
     "output_type": "error",
     "traceback": [
      "\u001b[0;31m---------------------------------------------------------------------------\u001b[0m",
      "\u001b[0;31mTypeError\u001b[0m                                 Traceback (most recent call last)",
      "\u001b[0;32m<ipython-input-345-f19f96f88264>\u001b[0m in \u001b[0;36m<module>\u001b[0;34m\u001b[0m\n\u001b[0;32m----> 1\u001b[0;31m \u001b[0mnome\u001b[0m\u001b[0;34m[\u001b[0m\u001b[0;36m8\u001b[0m\u001b[0;34m]\u001b[0m \u001b[0;34m=\u001b[0m \u001b[0;34m's'\u001b[0m\u001b[0;34m\u001b[0m\u001b[0;34m\u001b[0m\u001b[0m\n\u001b[0m",
      "\u001b[0;31mTypeError\u001b[0m: 'str' object does not support item assignment"
     ]
    }
   ],
   "source": [
    "nome[8] = 's'"
   ]
  },
  {
   "cell_type": "code",
   "execution_count": 348,
   "id": "a77a3837",
   "metadata": {},
   "outputs": [
    {
     "data": {
      "text/plain": [
       "False"
      ]
     },
     "execution_count": 348,
     "metadata": {},
     "output_type": "execute_result"
    }
   ],
   "source": [
    "nome_1 = 'Rodrigo'\n",
    "nome_2 = 'Ana'\n",
    "\n",
    "# tamanhos\n",
    "len(nome_1) == len(nome_2)\n",
    "\n"
   ]
  },
  {
   "cell_type": "code",
   "execution_count": 351,
   "id": "f3848f41",
   "metadata": {},
   "outputs": [
    {
     "data": {
      "text/plain": [
       "'Daniel Silva'"
      ]
     },
     "execution_count": 351,
     "metadata": {},
     "output_type": "execute_result"
    }
   ],
   "source": [
    "nome = 'Daniel'\n",
    "sobrenome = 'Silva'\n",
    "\n",
    "# concatenando com + \n",
    "nome_completo = nome + ' ' +  sobrenome\n",
    "nome_completo \n"
   ]
  },
  {
   "cell_type": "code",
   "execution_count": 354,
   "id": "5cf8b139",
   "metadata": {},
   "outputs": [
    {
     "name": "stdout",
     "output_type": "stream",
     "text": [
      "igual\n"
     ]
    }
   ],
   "source": [
    "nome_1 = 'Eduardo'\n",
    "nome_2 = 'Eduardo'\n",
    "\n",
    "# verificando se as strings sao iguais usando ==\n",
    "nome_1 == nome_2\n",
    "\n",
    "if nome_1 == nome_2:\n",
    "    print('igual')\n",
    "else:\n",
    "    print('diferente')"
   ]
  },
  {
   "cell_type": "code",
   "execution_count": 355,
   "id": "3da01df8",
   "metadata": {},
   "outputs": [
    {
     "name": "stdout",
     "output_type": "stream",
     "text": [
      "igual\n"
     ]
    }
   ],
   "source": [
    "nome_1 = 'Eduardo'\n",
    "nome_2 = 'Eduardo'\n",
    "\n",
    "# verificando se as strings sao iguais usando is\n",
    "if nome_1 is nome_2:\n",
    "    print('igual')\n",
    "else:\n",
    "    print('diferente')"
   ]
  },
  {
   "cell_type": "code",
   "execution_count": 356,
   "id": "29460b07",
   "metadata": {},
   "outputs": [
    {
     "data": {
      "text/plain": [
       "10"
      ]
     },
     "execution_count": 356,
     "metadata": {},
     "output_type": "execute_result"
    }
   ],
   "source": [
    "# Os métodos de string retornam novos valores, \n",
    "# mas não alteram a string original.\n",
    "\n",
    "# buscar pela posicao da palavra python usando find\n",
    "mensagem = 'string no Python'\n",
    "\n",
    "mensagem.find('Python')"
   ]
  },
  {
   "cell_type": "code",
   "execution_count": 357,
   "id": "31ba0dfb",
   "metadata": {},
   "outputs": [
    {
     "data": {
      "text/plain": [
       "-1"
      ]
     },
     "execution_count": 357,
     "metadata": {},
     "output_type": "execute_result"
    }
   ],
   "source": [
    "# buscar pela posicao da palavra quando nao existe na string \n",
    "mensagem = 'string no Python'\n",
    "mensagem.find('Java')"
   ]
  },
  {
   "cell_type": "code",
   "execution_count": 360,
   "id": "f68c1bc4",
   "metadata": {},
   "outputs": [],
   "source": [
    "# replace\n",
    "mensagem = 'Quero aprender Java!'\n",
    "\n",
    "mensagem =  mensagem.replace('Java', 'Python')"
   ]
  },
  {
   "cell_type": "code",
   "execution_count": 361,
   "id": "2f64b254",
   "metadata": {},
   "outputs": [
    {
     "data": {
      "text/plain": [
       "'Quero aprender Python!'"
      ]
     },
     "execution_count": 361,
     "metadata": {},
     "output_type": "execute_result"
    }
   ],
   "source": [
    "mensagem"
   ]
  },
  {
   "cell_type": "code",
   "execution_count": 362,
   "id": "ce820135",
   "metadata": {},
   "outputs": [
    {
     "data": {
      "text/plain": [
       "['Estou', 'aprendendo', 'Python']"
      ]
     },
     "execution_count": 362,
     "metadata": {},
     "output_type": "execute_result"
    }
   ],
   "source": [
    "# split\n",
    "mensagem = 'Estou aprendendo Python'\n",
    "mensagem.split(' ')"
   ]
  },
  {
   "cell_type": "code",
   "execution_count": 363,
   "id": "0df55588",
   "metadata": {},
   "outputs": [
    {
     "data": {
      "text/plain": [
       "'Estou aprendendo Python'"
      ]
     },
     "execution_count": 363,
     "metadata": {},
     "output_type": "execute_result"
    }
   ],
   "source": [
    "mensagem"
   ]
  },
  {
   "cell_type": "code",
   "execution_count": 370,
   "id": "5cc1167f",
   "metadata": {},
   "outputs": [
    {
     "name": "stdout",
     "output_type": "stream",
     "text": [
      "Python\n"
     ]
    }
   ],
   "source": [
    "# fazendo split e acessando a lista\n",
    "mensagem = 'Estou aprendendo Python'\n",
    "lista_mensagem = mensagem.split()\n",
    "print(lista_mensagem[2]) # aprendendo"
   ]
  },
  {
   "cell_type": "code",
   "execution_count": 371,
   "id": "9b855f28",
   "metadata": {
    "scrolled": true
   },
   "outputs": [
    {
     "data": {
      "text/plain": [
       "['Estou', 'aprendendo', 'Python']"
      ]
     },
     "execution_count": 371,
     "metadata": {},
     "output_type": "execute_result"
    }
   ],
   "source": [
    "lista_mensagem"
   ]
  },
  {
   "cell_type": "code",
   "execution_count": 369,
   "id": "15c96df7",
   "metadata": {},
   "outputs": [
    {
     "name": "stdout",
     "output_type": "stream",
     "text": [
      "João da Silva\n"
     ]
    }
   ],
   "source": [
    "# versoes anteriores ao python 3 esse codigo daria erro, \n",
    "# era necessario definir a codificacao utf8\n",
    "nome = 'João da Silva'\n",
    "print(nome)"
   ]
  },
  {
   "cell_type": "markdown",
   "id": "c385a5c8",
   "metadata": {},
   "source": [
    "### Case sensitive\n",
    "\n",
    "- As palavras reservadas são case sensitive, com exceção de True e False, todas as outras são lowercase\n",
    "- “a” é uma variável e “A” seria outra\n",
    "- Ao comparar strings também considera-se se são maiusculas ou minusculas\n"
   ]
  },
  {
   "cell_type": "code",
   "execution_count": null,
   "id": "a4384d20",
   "metadata": {},
   "outputs": [],
   "source": [
    "and \n",
    "for \n",
    "if \n",
    "len \n",
    "or \n",
    "True \n",
    "False"
   ]
  },
  {
   "cell_type": "code",
   "execution_count": 373,
   "id": "cf049046",
   "metadata": {},
   "outputs": [],
   "source": [
    "a = 1\n",
    "A = 1"
   ]
  },
  {
   "cell_type": "code",
   "execution_count": 375,
   "id": "402c261a",
   "metadata": {
    "scrolled": true
   },
   "outputs": [
    {
     "data": {
      "text/plain": [
       "False"
      ]
     },
     "execution_count": 375,
     "metadata": {},
     "output_type": "execute_result"
    }
   ],
   "source": [
    "s1 = 'Apple'\n",
    "\n",
    "s2 = 'Apple'\n",
    "\n",
    "s3 = 'apple'\n",
    "\n",
    "\n",
    "# case sensitive equals check\n",
    "s1 == s2\n",
    "s1 == s3"
   ]
  },
  {
   "cell_type": "code",
   "execution_count": 377,
   "id": "f140dd7b",
   "metadata": {
    "scrolled": true
   },
   "outputs": [
    {
     "name": "stdout",
     "output_type": "stream",
     "text": [
      "pear\n"
     ]
    }
   ],
   "source": [
    "S1 = 'pear'\n",
    "print(S1)\n",
    "s1 = 'pear'"
   ]
  },
  {
   "cell_type": "code",
   "execution_count": 378,
   "id": "af44b5af",
   "metadata": {},
   "outputs": [],
   "source": [
    "# python é case sentive na declaracao das variaveis. A mesma palavra, mas com \n",
    "# case diferente, é uma variável diferente\n",
    "abacate = 'abacate'\n",
    "Abacate = 'ABACATE'"
   ]
  },
  {
   "cell_type": "code",
   "execution_count": null,
   "id": "a3a7907e",
   "metadata": {},
   "outputs": [],
   "source": []
  },
  {
   "cell_type": "code",
   "execution_count": 379,
   "id": "8185d1ad",
   "metadata": {},
   "outputs": [
    {
     "name": "stdout",
     "output_type": "stream",
     "text": [
      "abacate ABACATE\n"
     ]
    }
   ],
   "source": [
    "print(abacate,Abacate)"
   ]
  },
  {
   "cell_type": "markdown",
   "id": "011c0d2b",
   "metadata": {},
   "source": [
    "# Parte 5"
   ]
  },
  {
   "cell_type": "markdown",
   "id": "c0765fa5",
   "metadata": {},
   "source": [
    "## Conversão de tipos - cast"
   ]
  },
  {
   "cell_type": "code",
   "execution_count": 393,
   "id": "510e8c71",
   "metadata": {},
   "outputs": [],
   "source": [
    "# converte para int\n",
    "numero = 10 # pq o 1 é lido como complexo\n",
    "string = '2'\n",
    "flutuante = 2.8\n",
    "booleano = False\n",
    "valor = 'valor'\n",
    "flutuante_string = '2.8'"
   ]
  },
  {
   "cell_type": "code",
   "execution_count": 384,
   "id": "4776b343",
   "metadata": {},
   "outputs": [
    {
     "data": {
      "text/plain": [
       "10"
      ]
     },
     "execution_count": 384,
     "metadata": {},
     "output_type": "execute_result"
    }
   ],
   "source": [
    "int(numero)"
   ]
  },
  {
   "cell_type": "code",
   "execution_count": 386,
   "id": "fb1a645c",
   "metadata": {},
   "outputs": [
    {
     "data": {
      "text/plain": [
       "2"
      ]
     },
     "execution_count": 386,
     "metadata": {},
     "output_type": "execute_result"
    }
   ],
   "source": [
    "int(string)"
   ]
  },
  {
   "cell_type": "code",
   "execution_count": 409,
   "id": "eda8a7e2",
   "metadata": {},
   "outputs": [
    {
     "name": "stdout",
     "output_type": "stream",
     "text": [
      "2.8\n"
     ]
    },
    {
     "data": {
      "text/plain": [
       "2"
      ]
     },
     "execution_count": 409,
     "metadata": {},
     "output_type": "execute_result"
    }
   ],
   "source": [
    "print(flutuante)\n",
    "int(flutuante)"
   ]
  },
  {
   "cell_type": "code",
   "execution_count": 390,
   "id": "9265e38a",
   "metadata": {},
   "outputs": [
    {
     "data": {
      "text/plain": [
       "0"
      ]
     },
     "execution_count": 390,
     "metadata": {},
     "output_type": "execute_result"
    }
   ],
   "source": [
    "int(booleano)"
   ]
  },
  {
   "cell_type": "code",
   "execution_count": 392,
   "id": "a6d7d250",
   "metadata": {
    "scrolled": true
   },
   "outputs": [
    {
     "ename": "ValueError",
     "evalue": "invalid literal for int() with base 10: 'valor'",
     "output_type": "error",
     "traceback": [
      "\u001b[0;31m---------------------------------------------------------------------------\u001b[0m",
      "\u001b[0;31mValueError\u001b[0m                                Traceback (most recent call last)",
      "\u001b[0;32m<ipython-input-392-a7ab1784c68f>\u001b[0m in \u001b[0;36m<module>\u001b[0;34m\u001b[0m\n\u001b[0;32m----> 1\u001b[0;31m \u001b[0mint\u001b[0m\u001b[0;34m(\u001b[0m\u001b[0mvalor\u001b[0m\u001b[0;34m)\u001b[0m\u001b[0;34m\u001b[0m\u001b[0;34m\u001b[0m\u001b[0m\n\u001b[0m",
      "\u001b[0;31mValueError\u001b[0m: invalid literal for int() with base 10: 'valor'"
     ]
    }
   ],
   "source": [
    "int(valor)"
   ]
  },
  {
   "cell_type": "code",
   "execution_count": 394,
   "id": "b92967df",
   "metadata": {},
   "outputs": [
    {
     "ename": "ValueError",
     "evalue": "invalid literal for int() with base 10: '2.8'",
     "output_type": "error",
     "traceback": [
      "\u001b[0;31m---------------------------------------------------------------------------\u001b[0m",
      "\u001b[0;31mValueError\u001b[0m                                Traceback (most recent call last)",
      "\u001b[0;32m<ipython-input-394-cae8e759fa92>\u001b[0m in \u001b[0;36m<module>\u001b[0;34m\u001b[0m\n\u001b[0;32m----> 1\u001b[0;31m \u001b[0mint\u001b[0m\u001b[0;34m(\u001b[0m\u001b[0mflutuante_string\u001b[0m\u001b[0;34m)\u001b[0m\u001b[0;34m\u001b[0m\u001b[0;34m\u001b[0m\u001b[0m\n\u001b[0m",
      "\u001b[0;31mValueError\u001b[0m: invalid literal for int() with base 10: '2.8'"
     ]
    }
   ],
   "source": [
    "int(flutuante_string)"
   ]
  },
  {
   "cell_type": "code",
   "execution_count": 401,
   "id": "75cbb07e",
   "metadata": {},
   "outputs": [],
   "source": [
    "# converter para float\n",
    "\n",
    "numero = 10 # pq o 1 é lido como complexo\n",
    "string = '2'\n",
    "flutuante = 2.8\n",
    "booleano = False\n",
    "valor = 'valor'\n",
    "flutuante_string = '2.8'\n",
    "flutuante_string_virg = '2,8'"
   ]
  },
  {
   "cell_type": "code",
   "execution_count": 395,
   "id": "04054bc5",
   "metadata": {},
   "outputs": [
    {
     "data": {
      "text/plain": [
       "10.0"
      ]
     },
     "execution_count": 395,
     "metadata": {},
     "output_type": "execute_result"
    }
   ],
   "source": [
    "float(numero)"
   ]
  },
  {
   "cell_type": "code",
   "execution_count": 396,
   "id": "b98a4cc7",
   "metadata": {},
   "outputs": [
    {
     "data": {
      "text/plain": [
       "2.0"
      ]
     },
     "execution_count": 396,
     "metadata": {},
     "output_type": "execute_result"
    }
   ],
   "source": [
    "float(string)"
   ]
  },
  {
   "cell_type": "code",
   "execution_count": 397,
   "id": "8b0aabb5",
   "metadata": {},
   "outputs": [
    {
     "data": {
      "text/plain": [
       "2.8"
      ]
     },
     "execution_count": 397,
     "metadata": {},
     "output_type": "execute_result"
    }
   ],
   "source": [
    "float(flutuante)"
   ]
  },
  {
   "cell_type": "code",
   "execution_count": 398,
   "id": "d90145a3",
   "metadata": {
    "scrolled": true
   },
   "outputs": [
    {
     "data": {
      "text/plain": [
       "0.0"
      ]
     },
     "execution_count": 398,
     "metadata": {},
     "output_type": "execute_result"
    }
   ],
   "source": [
    "float(booleano)"
   ]
  },
  {
   "cell_type": "code",
   "execution_count": 399,
   "id": "1b6673f6",
   "metadata": {
    "scrolled": true
   },
   "outputs": [
    {
     "ename": "ValueError",
     "evalue": "could not convert string to float: 'valor'",
     "output_type": "error",
     "traceback": [
      "\u001b[0;31m---------------------------------------------------------------------------\u001b[0m",
      "\u001b[0;31mValueError\u001b[0m                                Traceback (most recent call last)",
      "\u001b[0;32m<ipython-input-399-4c7d5f66f802>\u001b[0m in \u001b[0;36m<module>\u001b[0;34m\u001b[0m\n\u001b[0;32m----> 1\u001b[0;31m \u001b[0mfloat\u001b[0m\u001b[0;34m(\u001b[0m\u001b[0mvalor\u001b[0m\u001b[0;34m)\u001b[0m\u001b[0;34m\u001b[0m\u001b[0;34m\u001b[0m\u001b[0m\n\u001b[0m",
      "\u001b[0;31mValueError\u001b[0m: could not convert string to float: 'valor'"
     ]
    }
   ],
   "source": [
    "float(valor)"
   ]
  },
  {
   "cell_type": "code",
   "execution_count": 400,
   "id": "feb411e6",
   "metadata": {
    "scrolled": true
   },
   "outputs": [
    {
     "data": {
      "text/plain": [
       "2.8"
      ]
     },
     "execution_count": 400,
     "metadata": {},
     "output_type": "execute_result"
    }
   ],
   "source": [
    "float(flutuante_string)"
   ]
  },
  {
   "cell_type": "code",
   "execution_count": 402,
   "id": "db6a5e2c",
   "metadata": {},
   "outputs": [
    {
     "ename": "ValueError",
     "evalue": "could not convert string to float: '2,8'",
     "output_type": "error",
     "traceback": [
      "\u001b[0;31m---------------------------------------------------------------------------\u001b[0m",
      "\u001b[0;31mValueError\u001b[0m                                Traceback (most recent call last)",
      "\u001b[0;32m<ipython-input-402-e1b9d4a77fd9>\u001b[0m in \u001b[0;36m<module>\u001b[0;34m\u001b[0m\n\u001b[0;32m----> 1\u001b[0;31m \u001b[0mfloat\u001b[0m\u001b[0;34m(\u001b[0m\u001b[0mflutuante_string_virg\u001b[0m\u001b[0;34m)\u001b[0m\u001b[0;34m\u001b[0m\u001b[0;34m\u001b[0m\u001b[0m\n\u001b[0m",
      "\u001b[0;31mValueError\u001b[0m: could not convert string to float: '2,8'"
     ]
    }
   ],
   "source": [
    "float(flutuante_string_virg)"
   ]
  },
  {
   "cell_type": "code",
   "execution_count": 57,
   "id": "682249e1",
   "metadata": {},
   "outputs": [],
   "source": [
    "# converter para string\n",
    "\n",
    "numero = 10 # pq o 1 é lido como complexo\n",
    "string = '2'\n",
    "flutuante = 2.8\n",
    "booleano = False\n",
    "valor = 'valor'\n",
    "flutuante_string = '2.8'\n",
    "flutuante_string_virg = '2,8'"
   ]
  },
  {
   "cell_type": "code",
   "execution_count": 408,
   "id": "2cdabafd",
   "metadata": {},
   "outputs": [
    {
     "data": {
      "text/plain": [
       "'2,8'"
      ]
     },
     "execution_count": 408,
     "metadata": {},
     "output_type": "execute_result"
    }
   ],
   "source": [
    "str(numero)\n",
    "str(string)\n",
    "str(flutuante)\n",
    "str(valor)\n",
    "str(flutuante_string)\n",
    "str(flutuante_string_virg)"
   ]
  },
  {
   "cell_type": "markdown",
   "id": "2509a56f",
   "metadata": {},
   "source": [
    "# Parte 6"
   ]
  },
  {
   "cell_type": "markdown",
   "id": "3c6ca5c8",
   "metadata": {},
   "source": [
    "Existem 4 tipos built-in em Python:  Lista, Tupla, Dicionários e Conjuntos\n",
    "\n",
    "\n",
    "**Lista** é uma coleção que é ordenada e mutável. Permite membros duplicados.\n",
    "\n",
    "**Tupla** é uma coleção ordenada e imutável. Permite membros duplicados.\n",
    "\n",
    "**Set** é uma coleção não ordenada, imutável e não indexada. Nenhum membro duplicado.\n",
    "\n",
    "**Dicionário** é uma coleção ordenada e mutável. Nenhum membro duplicado.\n",
    "\n",
    "\n",
    "https://docs.python.org/3/tutorial/datastructures.html\n"
   ]
  },
  {
   "cell_type": "markdown",
   "id": "af4e3640",
   "metadata": {},
   "source": [
    "## Coleções: Listas, Tuplas e Dicionários "
   ]
  },
  {
   "cell_type": "markdown",
   "id": "5337986b",
   "metadata": {},
   "source": [
    "### listas"
   ]
  },
  {
   "cell_type": "code",
   "execution_count": 413,
   "id": "b078c21e",
   "metadata": {},
   "outputs": [
    {
     "data": {
      "text/plain": [
       "list"
      ]
     },
     "execution_count": 413,
     "metadata": {},
     "output_type": "execute_result"
    }
   ],
   "source": [
    "# coleção de valores indexada\n",
    "programadores = ['Bianca', 'Bruna', 'Paula', 'Edna', 'Alberto']\n",
    "programadores\n",
    "\n",
    "type(programadores)"
   ]
  },
  {
   "cell_type": "code",
   "execution_count": 414,
   "id": "c195b343",
   "metadata": {},
   "outputs": [
    {
     "data": {
      "text/plain": [
       "5"
      ]
     },
     "execution_count": 414,
     "metadata": {},
     "output_type": "execute_result"
    }
   ],
   "source": [
    "# tamanho da lista\n",
    "len(programadores)\n"
   ]
  },
  {
   "cell_type": "code",
   "execution_count": 416,
   "id": "c0656b38",
   "metadata": {},
   "outputs": [
    {
     "data": {
      "text/plain": [
       "'Bianca'"
      ]
     },
     "execution_count": 416,
     "metadata": {},
     "output_type": "execute_result"
    }
   ],
   "source": [
    "# acessando uma posicao especifica\n",
    "programadores[0]"
   ]
  },
  {
   "cell_type": "code",
   "execution_count": 417,
   "id": "8b51d261",
   "metadata": {
    "scrolled": true
   },
   "outputs": [
    {
     "ename": "IndexError",
     "evalue": "list index out of range",
     "output_type": "error",
     "traceback": [
      "\u001b[0;31m---------------------------------------------------------------------------\u001b[0m",
      "\u001b[0;31mIndexError\u001b[0m                                Traceback (most recent call last)",
      "\u001b[0;32m<ipython-input-417-fef35a58074b>\u001b[0m in \u001b[0;36m<module>\u001b[0;34m\u001b[0m\n\u001b[0;32m----> 1\u001b[0;31m \u001b[0mprogramadores\u001b[0m\u001b[0;34m[\u001b[0m\u001b[0;36m5\u001b[0m\u001b[0;34m]\u001b[0m\u001b[0;34m\u001b[0m\u001b[0;34m\u001b[0m\u001b[0m\n\u001b[0m",
      "\u001b[0;31mIndexError\u001b[0m: list index out of range"
     ]
    }
   ],
   "source": [
    "programadores[5]"
   ]
  },
  {
   "cell_type": "code",
   "execution_count": 420,
   "id": "6f9007d4",
   "metadata": {},
   "outputs": [
    {
     "data": {
      "text/plain": [
       "['Bianca', 'Bruna', 'Paula', 'Edna', 'Alberto']"
      ]
     },
     "execution_count": 420,
     "metadata": {},
     "output_type": "execute_result"
    }
   ],
   "source": [
    "programadores"
   ]
  },
  {
   "cell_type": "code",
   "execution_count": 419,
   "id": "3df12bfe",
   "metadata": {
    "scrolled": true
   },
   "outputs": [
    {
     "data": {
      "text/plain": [
       "'Edna'"
      ]
     },
     "execution_count": 419,
     "metadata": {},
     "output_type": "execute_result"
    }
   ],
   "source": [
    "programadores[-2]"
   ]
  },
  {
   "cell_type": "code",
   "execution_count": 421,
   "id": "a25ddc22",
   "metadata": {},
   "outputs": [
    {
     "data": {
      "text/plain": [
       "['Paula', 'Edna', 'Alberto']"
      ]
     },
     "execution_count": 421,
     "metadata": {},
     "output_type": "execute_result"
    }
   ],
   "source": [
    "programadores[2:]"
   ]
  },
  {
   "cell_type": "code",
   "execution_count": 422,
   "id": "facd5eac",
   "metadata": {},
   "outputs": [
    {
     "data": {
      "text/plain": [
       "['Bianca', 'Bruna']"
      ]
     },
     "execution_count": 422,
     "metadata": {},
     "output_type": "execute_result"
    }
   ],
   "source": [
    "programadores[:2]"
   ]
  },
  {
   "cell_type": "code",
   "execution_count": 423,
   "id": "ffef1fc3",
   "metadata": {},
   "outputs": [
    {
     "data": {
      "text/plain": [
       "['Bruna', 'Paula']"
      ]
     },
     "execution_count": 423,
     "metadata": {},
     "output_type": "execute_result"
    }
   ],
   "source": [
    "programadores[1:3]"
   ]
  },
  {
   "cell_type": "code",
   "execution_count": 424,
   "id": "f8d39b90",
   "metadata": {},
   "outputs": [],
   "source": [
    "# alterando uma lista \n",
    "programadores[0] = 'Carolina'"
   ]
  },
  {
   "cell_type": "code",
   "execution_count": 425,
   "id": "4d74091d",
   "metadata": {},
   "outputs": [
    {
     "data": {
      "text/plain": [
       "['Carolina', 'Bruna', 'Paula', 'Edna', 'Alberto']"
      ]
     },
     "execution_count": 425,
     "metadata": {},
     "output_type": "execute_result"
    }
   ],
   "source": [
    "programadores"
   ]
  },
  {
   "cell_type": "code",
   "execution_count": null,
   "id": "17a3c83c",
   "metadata": {},
   "outputs": [],
   "source": [
    "programadores[0] = 'Carolina'"
   ]
  },
  {
   "cell_type": "code",
   "execution_count": 427,
   "id": "c392e0fc",
   "metadata": {},
   "outputs": [
    {
     "data": {
      "text/plain": [
       "['Carolina', 'Bruna', 'Paula', 'Edna', 'Alberto']"
      ]
     },
     "execution_count": 427,
     "metadata": {},
     "output_type": "execute_result"
    }
   ],
   "source": [
    "programadores"
   ]
  },
  {
   "cell_type": "code",
   "execution_count": 426,
   "id": "603afbb5",
   "metadata": {},
   "outputs": [],
   "source": [
    "programadorxs = programadores"
   ]
  },
  {
   "cell_type": "code",
   "execution_count": 428,
   "id": "bbc40b82",
   "metadata": {},
   "outputs": [],
   "source": [
    "programadorxs[0] = 'Thiago'"
   ]
  },
  {
   "cell_type": "code",
   "execution_count": 429,
   "id": "8edcebdf",
   "metadata": {},
   "outputs": [
    {
     "data": {
      "text/plain": [
       "['Thiago', 'Bruna', 'Paula', 'Edna', 'Alberto']"
      ]
     },
     "execution_count": 429,
     "metadata": {},
     "output_type": "execute_result"
    }
   ],
   "source": [
    "programadorxs"
   ]
  },
  {
   "cell_type": "code",
   "execution_count": 432,
   "id": "c5a171eb",
   "metadata": {},
   "outputs": [
    {
     "data": {
      "text/plain": [
       "['Thiago', 'Bruna', 'Paula', 'Edna', 'Alberto']"
      ]
     },
     "execution_count": 432,
     "metadata": {},
     "output_type": "execute_result"
    }
   ],
   "source": [
    "programadores"
   ]
  },
  {
   "cell_type": "code",
   "execution_count": 431,
   "id": "4222efc0",
   "metadata": {},
   "outputs": [],
   "source": [
    "programdoras = programadores.copy()"
   ]
  },
  {
   "cell_type": "code",
   "execution_count": 433,
   "id": "f0a2ed2a",
   "metadata": {},
   "outputs": [],
   "source": [
    "programdoras[0] = 'Bianca'"
   ]
  },
  {
   "cell_type": "code",
   "execution_count": 434,
   "id": "2d88d001",
   "metadata": {},
   "outputs": [
    {
     "data": {
      "text/plain": [
       "['Bianca', 'Bruna', 'Paula', 'Edna', 'Alberto']"
      ]
     },
     "execution_count": 434,
     "metadata": {},
     "output_type": "execute_result"
    }
   ],
   "source": [
    "programdoras"
   ]
  },
  {
   "cell_type": "code",
   "execution_count": 435,
   "id": "970868eb",
   "metadata": {},
   "outputs": [
    {
     "data": {
      "text/plain": [
       "['Thiago', 'Bruna', 'Paula', 'Edna', 'Alberto']"
      ]
     },
     "execution_count": 435,
     "metadata": {},
     "output_type": "execute_result"
    }
   ],
   "source": [
    "programadores"
   ]
  },
  {
   "cell_type": "code",
   "execution_count": 436,
   "id": "9c2050d2",
   "metadata": {},
   "outputs": [],
   "source": [
    "# inserindo um item na lista\n",
    "programadores.insert(1, 'Rafael')"
   ]
  },
  {
   "cell_type": "code",
   "execution_count": 437,
   "id": "4916f588",
   "metadata": {},
   "outputs": [
    {
     "data": {
      "text/plain": [
       "['Thiago', 'Rafael', 'Bruna', 'Paula', 'Edna', 'Alberto']"
      ]
     },
     "execution_count": 437,
     "metadata": {},
     "output_type": "execute_result"
    }
   ],
   "source": [
    "programadores"
   ]
  },
  {
   "cell_type": "code",
   "execution_count": 438,
   "id": "bf8a6008",
   "metadata": {},
   "outputs": [],
   "source": [
    "programadores.remove('Rafael')"
   ]
  },
  {
   "cell_type": "code",
   "execution_count": 442,
   "id": "5473f208",
   "metadata": {
    "scrolled": true
   },
   "outputs": [
    {
     "data": {
      "text/plain": [
       "['Thiago', 'Bruna', 'Paula', 'Edna', 'Alberto', 'Gesimara']"
      ]
     },
     "execution_count": 442,
     "metadata": {},
     "output_type": "execute_result"
    }
   ],
   "source": [
    "programadores"
   ]
  },
  {
   "cell_type": "code",
   "execution_count": 443,
   "id": "504f2735",
   "metadata": {},
   "outputs": [
    {
     "ename": "ValueError",
     "evalue": "list.remove(x): x not in list",
     "output_type": "error",
     "traceback": [
      "\u001b[0;31m---------------------------------------------------------------------------\u001b[0m",
      "\u001b[0;31mValueError\u001b[0m                                Traceback (most recent call last)",
      "\u001b[0;32m<ipython-input-443-e3eec5b9907f>\u001b[0m in \u001b[0;36m<module>\u001b[0;34m\u001b[0m\n\u001b[0;32m----> 1\u001b[0;31m \u001b[0mprogramadores\u001b[0m\u001b[0;34m.\u001b[0m\u001b[0mremove\u001b[0m\u001b[0;34m(\u001b[0m\u001b[0;34m'Igor'\u001b[0m\u001b[0;34m)\u001b[0m\u001b[0;34m\u001b[0m\u001b[0;34m\u001b[0m\u001b[0m\n\u001b[0m",
      "\u001b[0;31mValueError\u001b[0m: list.remove(x): x not in list"
     ]
    }
   ],
   "source": [
    "programadores.remove('Igor')"
   ]
  },
  {
   "cell_type": "code",
   "execution_count": 440,
   "id": "40ff1d73",
   "metadata": {},
   "outputs": [],
   "source": [
    "# inserindo um item no final da lista usando append\n",
    "programadores.append('Gesimara')"
   ]
  },
  {
   "cell_type": "code",
   "execution_count": 441,
   "id": "43b648de",
   "metadata": {},
   "outputs": [
    {
     "data": {
      "text/plain": [
       "['Thiago', 'Bruna', 'Paula', 'Edna', 'Alberto', 'Gesimara']"
      ]
     },
     "execution_count": 441,
     "metadata": {},
     "output_type": "execute_result"
    }
   ],
   "source": [
    "programadores"
   ]
  },
  {
   "cell_type": "code",
   "execution_count": 444,
   "id": "9bc4515c",
   "metadata": {
    "scrolled": true
   },
   "outputs": [
    {
     "data": {
      "text/plain": [
       "'Gesimara'"
      ]
     },
     "execution_count": 444,
     "metadata": {},
     "output_type": "execute_result"
    }
   ],
   "source": [
    "# remover usando o POP\n",
    "programadores.pop()"
   ]
  },
  {
   "cell_type": "code",
   "execution_count": 447,
   "id": "fb440ef3",
   "metadata": {},
   "outputs": [
    {
     "data": {
      "text/plain": [
       "'Paula'"
      ]
     },
     "execution_count": 447,
     "metadata": {},
     "output_type": "execute_result"
    }
   ],
   "source": [
    "programadores.pop(1)"
   ]
  },
  {
   "cell_type": "code",
   "execution_count": 448,
   "id": "0e596e11",
   "metadata": {},
   "outputs": [
    {
     "data": {
      "text/plain": [
       "['Bruna', 'Edna', 'Alberto']"
      ]
     },
     "execution_count": 448,
     "metadata": {},
     "output_type": "execute_result"
    }
   ],
   "source": [
    "programadores"
   ]
  },
  {
   "cell_type": "code",
   "execution_count": 449,
   "id": "98cff928",
   "metadata": {},
   "outputs": [
    {
     "ename": "IndexError",
     "evalue": "pop index out of range",
     "output_type": "error",
     "traceback": [
      "\u001b[0;31m---------------------------------------------------------------------------\u001b[0m",
      "\u001b[0;31mIndexError\u001b[0m                                Traceback (most recent call last)",
      "\u001b[0;32m<ipython-input-449-e11bfe3f2443>\u001b[0m in \u001b[0;36m<module>\u001b[0;34m\u001b[0m\n\u001b[1;32m      1\u001b[0m \u001b[0;31m# remover usando o POP quando a posicao nao existe\u001b[0m\u001b[0;34m\u001b[0m\u001b[0;34m\u001b[0m\u001b[0;34m\u001b[0m\u001b[0m\n\u001b[0;32m----> 2\u001b[0;31m \u001b[0mprogramadores\u001b[0m\u001b[0;34m.\u001b[0m\u001b[0mpop\u001b[0m\u001b[0;34m(\u001b[0m\u001b[0;36m4\u001b[0m\u001b[0;34m)\u001b[0m\u001b[0;34m\u001b[0m\u001b[0;34m\u001b[0m\u001b[0m\n\u001b[0m",
      "\u001b[0;31mIndexError\u001b[0m: pop index out of range"
     ]
    }
   ],
   "source": [
    "# remover usando o POP quando a posicao nao existe\n",
    "programadores.pop(4)"
   ]
  },
  {
   "cell_type": "code",
   "execution_count": 450,
   "id": "8cb620a8",
   "metadata": {},
   "outputs": [],
   "source": [
    "# ordenar uma lista\n",
    "programadores.sort()"
   ]
  },
  {
   "cell_type": "code",
   "execution_count": 451,
   "id": "a885c938",
   "metadata": {},
   "outputs": [
    {
     "data": {
      "text/plain": [
       "['Alberto', 'Bruna', 'Edna']"
      ]
     },
     "execution_count": 451,
     "metadata": {},
     "output_type": "execute_result"
    }
   ],
   "source": [
    "programadores"
   ]
  },
  {
   "cell_type": "code",
   "execution_count": 452,
   "id": "cc26b5fc",
   "metadata": {},
   "outputs": [],
   "source": [
    "# inverter a ordem de uma lista\n",
    "programadores.reverse()"
   ]
  },
  {
   "cell_type": "code",
   "execution_count": 453,
   "id": "0befc958",
   "metadata": {},
   "outputs": [
    {
     "data": {
      "text/plain": [
       "['Edna', 'Bruna', 'Alberto']"
      ]
     },
     "execution_count": 453,
     "metadata": {},
     "output_type": "execute_result"
    }
   ],
   "source": [
    "programadores"
   ]
  },
  {
   "cell_type": "code",
   "execution_count": 455,
   "id": "b8192007",
   "metadata": {},
   "outputs": [
    {
     "data": {
      "text/plain": [
       "['string', 1, 4.8]"
      ]
     },
     "execution_count": 455,
     "metadata": {},
     "output_type": "execute_result"
    }
   ],
   "source": [
    "# tipos mistos\n",
    "lista_mista = ['string', 1, 4.8]\n",
    "lista_mista"
   ]
  },
  {
   "cell_type": "code",
   "execution_count": 457,
   "id": "0382b81a",
   "metadata": {},
   "outputs": [
    {
     "data": {
      "text/plain": [
       "[0, 1, 2]"
      ]
     },
     "execution_count": 457,
     "metadata": {},
     "output_type": "execute_result"
    }
   ],
   "source": [
    "# usar o range para criar uma lista\n",
    "list(range(0,3))"
   ]
  },
  {
   "cell_type": "code",
   "execution_count": 458,
   "id": "3f7bba91",
   "metadata": {
    "scrolled": true
   },
   "outputs": [
    {
     "data": {
      "text/plain": [
       "[0, 10, 20, 30, 40]"
      ]
     },
     "execution_count": 458,
     "metadata": {},
     "output_type": "execute_result"
    }
   ],
   "source": [
    "# criar uma lista usando range e step\n",
    "list(range(0,50, 10))"
   ]
  },
  {
   "cell_type": "code",
   "execution_count": 459,
   "id": "a905ef26",
   "metadata": {},
   "outputs": [],
   "source": [
    "#### usando listas como pilhas: estruturas de dados\n",
    "#do tipo LIFO (last-in first-out), \n",
    "#onde o último elemento a ser inserido, será o primeiro a ser retirado.\n",
    "pilha = [0,1,2]"
   ]
  },
  {
   "cell_type": "code",
   "execution_count": 460,
   "id": "e3fb3f8e",
   "metadata": {},
   "outputs": [],
   "source": [
    "# inserindo na pilha com append\n",
    "pilha.append(-1)"
   ]
  },
  {
   "cell_type": "code",
   "execution_count": 461,
   "id": "ee4ef0f9",
   "metadata": {},
   "outputs": [
    {
     "data": {
      "text/plain": [
       "[0, 1, 2, -1]"
      ]
     },
     "execution_count": 461,
     "metadata": {},
     "output_type": "execute_result"
    }
   ],
   "source": [
    "pilha"
   ]
  },
  {
   "cell_type": "code",
   "execution_count": 462,
   "id": "12f1fc91",
   "metadata": {},
   "outputs": [
    {
     "data": {
      "text/plain": [
       "-1"
      ]
     },
     "execution_count": 462,
     "metadata": {},
     "output_type": "execute_result"
    }
   ],
   "source": [
    "# removendo da pilha com pop\n",
    "pilha.pop()"
   ]
  },
  {
   "cell_type": "code",
   "execution_count": 465,
   "id": "a6e27714",
   "metadata": {},
   "outputs": [
    {
     "data": {
      "text/plain": [
       "deque(['Eric', 'John', 'Michael'])"
      ]
     },
     "execution_count": 465,
     "metadata": {},
     "output_type": "execute_result"
    }
   ],
   "source": [
    "#### usando listas como filas: estruturas de dados\n",
    "#do tipo FIFO (first-in first-out), \n",
    "\n",
    "# criacao da fifo\n",
    "fila = [0,1,2]\n",
    "\n",
    "from collections import deque\n",
    "queue = deque([\"Eric\", \"John\", \"Michael\"])\n",
    "queue\n"
   ]
  },
  {
   "cell_type": "code",
   "execution_count": 466,
   "id": "83791672",
   "metadata": {},
   "outputs": [],
   "source": [
    "# inserindo item usando append\n",
    "queue.append(3)"
   ]
  },
  {
   "cell_type": "code",
   "execution_count": 467,
   "id": "8d1ce4c2",
   "metadata": {},
   "outputs": [
    {
     "data": {
      "text/plain": [
       "deque(['Eric', 'John', 'Michael', 3])"
      ]
     },
     "execution_count": 467,
     "metadata": {},
     "output_type": "execute_result"
    }
   ],
   "source": [
    "queue"
   ]
  },
  {
   "cell_type": "code",
   "execution_count": 81,
   "id": "5d2b2c33",
   "metadata": {},
   "outputs": [],
   "source": [
    "# inserindo item usando append\n"
   ]
  },
  {
   "cell_type": "code",
   "execution_count": 468,
   "id": "7209baed",
   "metadata": {},
   "outputs": [
    {
     "data": {
      "text/plain": [
       "'Eric'"
      ]
     },
     "execution_count": 468,
     "metadata": {},
     "output_type": "execute_result"
    }
   ],
   "source": [
    "# removendo item usando pop\n",
    "queue.popleft()\n"
   ]
  },
  {
   "cell_type": "code",
   "execution_count": 473,
   "id": "713a0774",
   "metadata": {},
   "outputs": [
    {
     "data": {
      "text/plain": [
       "deque(['John', 'Michael', 3])"
      ]
     },
     "execution_count": 473,
     "metadata": {},
     "output_type": "execute_result"
    }
   ],
   "source": [
    "queue"
   ]
  },
  {
   "cell_type": "code",
   "execution_count": 474,
   "id": "4959d757",
   "metadata": {
    "scrolled": true
   },
   "outputs": [
    {
     "data": {
      "text/plain": [
       "'John'"
      ]
     },
     "execution_count": 474,
     "metadata": {},
     "output_type": "execute_result"
    }
   ],
   "source": [
    "# removendo item usando pop \n",
    "queue.popleft()"
   ]
  },
  {
   "cell_type": "code",
   "execution_count": 475,
   "id": "9a5564b8",
   "metadata": {},
   "outputs": [
    {
     "data": {
      "text/plain": [
       "deque(['Michael', 3])"
      ]
     },
     "execution_count": 475,
     "metadata": {},
     "output_type": "execute_result"
    }
   ],
   "source": [
    "# verificando o conteudo da fila\n",
    "queue"
   ]
  },
  {
   "cell_type": "code",
   "execution_count": 470,
   "id": "89e30524",
   "metadata": {
    "scrolled": true
   },
   "outputs": [],
   "source": [
    "# listas de listas\n",
    "listas_de_listas = [[1,2,3], [4,5,6]]"
   ]
  },
  {
   "cell_type": "code",
   "execution_count": 472,
   "id": "045e9e80",
   "metadata": {},
   "outputs": [
    {
     "data": {
      "text/plain": [
       "1"
      ]
     },
     "execution_count": 472,
     "metadata": {},
     "output_type": "execute_result"
    }
   ],
   "source": [
    "# acessar uma lista de lista\n",
    "listas_de_listas[0][0]"
   ]
  },
  {
   "cell_type": "markdown",
   "id": "c54ce3ae",
   "metadata": {},
   "source": [
    "### tuplas"
   ]
  },
  {
   "cell_type": "code",
   "execution_count": 476,
   "id": "d59708b1",
   "metadata": {},
   "outputs": [],
   "source": [
    "# tuplas são imutaveis \n",
    "# criacao da tupla \n",
    "\n",
    "frutas = ('banana', 'maca', 'pera')\n",
    "\n"
   ]
  },
  {
   "cell_type": "code",
   "execution_count": 478,
   "id": "7b0b9341",
   "metadata": {},
   "outputs": [
    {
     "name": "stdout",
     "output_type": "stream",
     "text": [
      "('banana', 'maca', 'pera')\n",
      "<class 'tuple'>\n"
     ]
    }
   ],
   "source": [
    "# verificar tipo e conteudo \n",
    "print(frutas)\n",
    "print(type(frutas))\n"
   ]
  },
  {
   "cell_type": "code",
   "execution_count": 482,
   "id": "8ac9513b",
   "metadata": {},
   "outputs": [
    {
     "data": {
      "text/plain": [
       "'pera'"
      ]
     },
     "execution_count": 482,
     "metadata": {},
     "output_type": "execute_result"
    }
   ],
   "source": [
    "# acessando uma posicao \n",
    "frutas[2]\n",
    "frutas[0]\n",
    "frutas[-1]"
   ]
  },
  {
   "cell_type": "code",
   "execution_count": 485,
   "id": "ef90c6be",
   "metadata": {
    "scrolled": true
   },
   "outputs": [
    {
     "data": {
      "text/plain": [
       "str"
      ]
     },
     "execution_count": 485,
     "metadata": {},
     "output_type": "execute_result"
    }
   ],
   "source": [
    "# criacao de um objeto str e um objeto tupla (,)\n",
    "objeto_string = ('abacaxi')\n",
    "objeto_string\n",
    "type(objeto_string)"
   ]
  },
  {
   "cell_type": "code",
   "execution_count": 486,
   "id": "b81b2f65",
   "metadata": {},
   "outputs": [],
   "source": [
    "objeto_tupla = ('abacaxi',)"
   ]
  },
  {
   "cell_type": "code",
   "execution_count": 488,
   "id": "715ea4ce",
   "metadata": {},
   "outputs": [
    {
     "data": {
      "text/plain": [
       "tuple"
      ]
     },
     "execution_count": 488,
     "metadata": {},
     "output_type": "execute_result"
    }
   ],
   "source": [
    "type(objeto_tupla)\n"
   ]
  },
  {
   "cell_type": "code",
   "execution_count": 489,
   "id": "af940f51",
   "metadata": {},
   "outputs": [
    {
     "data": {
      "text/plain": [
       "'a'"
      ]
     },
     "execution_count": 489,
     "metadata": {},
     "output_type": "execute_result"
    }
   ],
   "source": [
    "# acessando posicoes\n",
    "vogais = ('a', 'e', 'i', 'o', 'u')\n",
    "vogais[0]\n"
   ]
  },
  {
   "cell_type": "code",
   "execution_count": 490,
   "id": "54ef4370",
   "metadata": {},
   "outputs": [
    {
     "ename": "TypeError",
     "evalue": "'tuple' object does not support item assignment",
     "output_type": "error",
     "traceback": [
      "\u001b[0;31m---------------------------------------------------------------------------\u001b[0m",
      "\u001b[0;31mTypeError\u001b[0m                                 Traceback (most recent call last)",
      "\u001b[0;32m<ipython-input-490-de0c19f33635>\u001b[0m in \u001b[0;36m<module>\u001b[0;34m\u001b[0m\n\u001b[1;32m      1\u001b[0m \u001b[0;31m# add usando o slicing\u001b[0m\u001b[0;34m\u001b[0m\u001b[0;34m\u001b[0m\u001b[0;34m\u001b[0m\u001b[0m\n\u001b[1;32m      2\u001b[0m \u001b[0mvogais\u001b[0m \u001b[0;34m=\u001b[0m \u001b[0;34m(\u001b[0m\u001b[0;34m'a'\u001b[0m\u001b[0;34m,\u001b[0m \u001b[0;34m'e'\u001b[0m\u001b[0;34m,\u001b[0m \u001b[0;34m'i'\u001b[0m\u001b[0;34m,\u001b[0m \u001b[0;34m'o'\u001b[0m\u001b[0;34m,\u001b[0m \u001b[0;34m'u'\u001b[0m\u001b[0;34m)\u001b[0m\u001b[0;34m\u001b[0m\u001b[0;34m\u001b[0m\u001b[0m\n\u001b[0;32m----> 3\u001b[0;31m \u001b[0mvogais\u001b[0m\u001b[0;34m[\u001b[0m\u001b[0;36m1\u001b[0m\u001b[0;34m]\u001b[0m \u001b[0;34m=\u001b[0m \u001b[0;34m'A'\u001b[0m\u001b[0;34m\u001b[0m\u001b[0;34m\u001b[0m\u001b[0m\n\u001b[0m",
      "\u001b[0;31mTypeError\u001b[0m: 'tuple' object does not support item assignment"
     ]
    }
   ],
   "source": [
    "# add usando o slicing\n",
    "vogais = ('a', 'e', 'i', 'o', 'u')\n",
    "vogais[1] = 'A'\n"
   ]
  },
  {
   "cell_type": "code",
   "execution_count": 491,
   "id": "dee1701f",
   "metadata": {
    "scrolled": true
   },
   "outputs": [
    {
     "ename": "AttributeError",
     "evalue": "'tuple' object has no attribute 'append'",
     "output_type": "error",
     "traceback": [
      "\u001b[0;31m---------------------------------------------------------------------------\u001b[0m",
      "\u001b[0;31mAttributeError\u001b[0m                            Traceback (most recent call last)",
      "\u001b[0;32m<ipython-input-491-65f9b60b3e1c>\u001b[0m in \u001b[0;36m<module>\u001b[0;34m\u001b[0m\n\u001b[1;32m      1\u001b[0m \u001b[0;31m# add usando append\u001b[0m\u001b[0;34m\u001b[0m\u001b[0;34m\u001b[0m\u001b[0;34m\u001b[0m\u001b[0m\n\u001b[0;32m----> 2\u001b[0;31m \u001b[0mvogais\u001b[0m\u001b[0;34m.\u001b[0m\u001b[0mappend\u001b[0m\u001b[0;34m(\u001b[0m\u001b[0;34m'E'\u001b[0m\u001b[0;34m)\u001b[0m\u001b[0;34m\u001b[0m\u001b[0;34m\u001b[0m\u001b[0m\n\u001b[0m",
      "\u001b[0;31mAttributeError\u001b[0m: 'tuple' object has no attribute 'append'"
     ]
    }
   ],
   "source": [
    "# add usando append\n",
    "vogais.append('E')"
   ]
  },
  {
   "cell_type": "code",
   "execution_count": 492,
   "id": "98a542e3",
   "metadata": {},
   "outputs": [
    {
     "data": {
      "text/plain": [
       "('a', 'e', 'i', 'o', 'u', 'E')"
      ]
     },
     "execution_count": 492,
     "metadata": {},
     "output_type": "execute_result"
    }
   ],
   "source": [
    "# add usando +\n",
    "vogais + ('E', )"
   ]
  },
  {
   "cell_type": "markdown",
   "id": "d293d54a",
   "metadata": {},
   "source": [
    "### Sets \n",
    "\n",
    "Um conjunto é uma coleção não ordenada, imutável e não indexada."
   ]
  },
  {
   "cell_type": "code",
   "execution_count": 494,
   "id": "36bfe773",
   "metadata": {},
   "outputs": [
    {
     "data": {
      "text/plain": [
       "{'ameixa', 'morango', 'uva'}"
      ]
     },
     "execution_count": 494,
     "metadata": {},
     "output_type": "execute_result"
    }
   ],
   "source": [
    "# criando set\n",
    "frutas = {'ameixa', 'uva', 'morango'}\n",
    "frutas"
   ]
  },
  {
   "cell_type": "code",
   "execution_count": 495,
   "id": "21624313",
   "metadata": {},
   "outputs": [
    {
     "data": {
      "text/plain": [
       "set"
      ]
     },
     "execution_count": 495,
     "metadata": {},
     "output_type": "execute_result"
    }
   ],
   "source": [
    "type(frutas)"
   ]
  },
  {
   "cell_type": "code",
   "execution_count": 496,
   "id": "4caf110d",
   "metadata": {},
   "outputs": [
    {
     "data": {
      "text/plain": [
       "3"
      ]
     },
     "execution_count": 496,
     "metadata": {},
     "output_type": "execute_result"
    }
   ],
   "source": [
    "# verificando tamanho \n",
    "len(frutas)"
   ]
  },
  {
   "cell_type": "code",
   "execution_count": 497,
   "id": "2fc062d5",
   "metadata": {
    "scrolled": true
   },
   "outputs": [],
   "source": [
    "# criando um set duplicado\n",
    "frutas = {'ameixa', 'uva', 'uva', 'morango'}"
   ]
  },
  {
   "cell_type": "code",
   "execution_count": 498,
   "id": "e0c75908",
   "metadata": {},
   "outputs": [
    {
     "data": {
      "text/plain": [
       "{'ameixa', 'morango', 'uva'}"
      ]
     },
     "execution_count": 498,
     "metadata": {},
     "output_type": "execute_result"
    }
   ],
   "source": [
    "frutas"
   ]
  },
  {
   "cell_type": "code",
   "execution_count": 499,
   "id": "0248037e",
   "metadata": {
    "scrolled": true
   },
   "outputs": [
    {
     "data": {
      "text/plain": [
       "3"
      ]
     },
     "execution_count": 499,
     "metadata": {},
     "output_type": "execute_result"
    }
   ],
   "source": [
    "# verificando tamanho\n",
    "len(frutas)"
   ]
  },
  {
   "cell_type": "code",
   "execution_count": 502,
   "id": "8a0d39f6",
   "metadata": {},
   "outputs": [],
   "source": [
    "# sets podem conter elementos de diversos tipo\n",
    "set1 = {1,2,3}\n",
    "set2 = {True, False, True} # para q?"
   ]
  },
  {
   "cell_type": "code",
   "execution_count": 503,
   "id": "a72ab498",
   "metadata": {},
   "outputs": [
    {
     "data": {
      "text/plain": [
       "{False, True}"
      ]
     },
     "execution_count": 503,
     "metadata": {},
     "output_type": "execute_result"
    }
   ],
   "source": [
    "set2"
   ]
  },
  {
   "cell_type": "code",
   "execution_count": 504,
   "id": "50e80f59",
   "metadata": {},
   "outputs": [],
   "source": [
    "# sets podem conter elementos de diversos tipos, inclusive no mesmo conjunto\n",
    "\n",
    "set3 = {1, 'string', 2.8}"
   ]
  },
  {
   "cell_type": "code",
   "execution_count": 505,
   "id": "deec606a",
   "metadata": {},
   "outputs": [
    {
     "data": {
      "text/plain": [
       "{1, 2.8, 'string'}"
      ]
     },
     "execution_count": 505,
     "metadata": {},
     "output_type": "execute_result"
    }
   ],
   "source": [
    "set3"
   ]
  },
  {
   "cell_type": "code",
   "execution_count": 506,
   "id": "58e4c8ee",
   "metadata": {},
   "outputs": [
    {
     "ename": "TypeError",
     "evalue": "set expected at most 1 argument, got 3",
     "output_type": "error",
     "traceback": [
      "\u001b[0;31m---------------------------------------------------------------------------\u001b[0m",
      "\u001b[0;31mTypeError\u001b[0m                                 Traceback (most recent call last)",
      "\u001b[0;32m<ipython-input-506-223d648d8075>\u001b[0m in \u001b[0;36m<module>\u001b[0;34m\u001b[0m\n\u001b[1;32m      1\u001b[0m \u001b[0;31m# criar um set usando a palavra chave set\u001b[0m\u001b[0;34m\u001b[0m\u001b[0;34m\u001b[0m\u001b[0;34m\u001b[0m\u001b[0m\n\u001b[0;32m----> 2\u001b[0;31m \u001b[0mfrutas\u001b[0m \u001b[0;34m=\u001b[0m \u001b[0mset\u001b[0m\u001b[0;34m(\u001b[0m\u001b[0;34m'apple'\u001b[0m\u001b[0;34m,\u001b[0m \u001b[0;34m'grape'\u001b[0m\u001b[0;34m,\u001b[0m \u001b[0;34m'banana'\u001b[0m\u001b[0;34m)\u001b[0m\u001b[0;34m\u001b[0m\u001b[0;34m\u001b[0m\u001b[0m\n\u001b[0m",
      "\u001b[0;31mTypeError\u001b[0m: set expected at most 1 argument, got 3"
     ]
    }
   ],
   "source": [
    "# criar um set usando a palavra chave set\n",
    "frutas = set('apple', 'grape', 'banana')"
   ]
  },
  {
   "cell_type": "code",
   "execution_count": 507,
   "id": "8708ceb6",
   "metadata": {},
   "outputs": [],
   "source": [
    "frutas = set(('apple', 'grape', 'banana'))"
   ]
  },
  {
   "cell_type": "code",
   "execution_count": 508,
   "id": "0204a06d",
   "metadata": {},
   "outputs": [],
   "source": [
    "# inserindo novo elemento \n",
    "frutas.add('pineapple')"
   ]
  },
  {
   "cell_type": "code",
   "execution_count": 509,
   "id": "05d7446d",
   "metadata": {},
   "outputs": [
    {
     "data": {
      "text/plain": [
       "{'apple', 'banana', 'grape', 'pineapple'}"
      ]
     },
     "execution_count": 509,
     "metadata": {},
     "output_type": "execute_result"
    }
   ],
   "source": [
    "frutas"
   ]
  },
  {
   "cell_type": "code",
   "execution_count": 510,
   "id": "8cde1a1b",
   "metadata": {},
   "outputs": [],
   "source": [
    "frutas.remove('banana')"
   ]
  },
  {
   "cell_type": "code",
   "execution_count": 511,
   "id": "3c3eb9bb",
   "metadata": {
    "scrolled": true
   },
   "outputs": [
    {
     "data": {
      "text/plain": [
       "{'apple', 'grape', 'pineapple'}"
      ]
     },
     "execution_count": 511,
     "metadata": {},
     "output_type": "execute_result"
    }
   ],
   "source": [
    "frutas"
   ]
  },
  {
   "cell_type": "code",
   "execution_count": 512,
   "id": "b4d803f0",
   "metadata": {
    "scrolled": true
   },
   "outputs": [
    {
     "ename": "KeyError",
     "evalue": "'melancia'",
     "output_type": "error",
     "traceback": [
      "\u001b[0;31m---------------------------------------------------------------------------\u001b[0m",
      "\u001b[0;31mKeyError\u001b[0m                                  Traceback (most recent call last)",
      "\u001b[0;32m<ipython-input-512-f6c826fa9821>\u001b[0m in \u001b[0;36m<module>\u001b[0;34m\u001b[0m\n\u001b[0;32m----> 1\u001b[0;31m \u001b[0mfrutas\u001b[0m\u001b[0;34m.\u001b[0m\u001b[0mremove\u001b[0m\u001b[0;34m(\u001b[0m\u001b[0;34m'melancia'\u001b[0m\u001b[0;34m)\u001b[0m\u001b[0;34m\u001b[0m\u001b[0;34m\u001b[0m\u001b[0m\n\u001b[0m",
      "\u001b[0;31mKeyError\u001b[0m: 'melancia'"
     ]
    }
   ],
   "source": [
    "frutas.remove('melancia')"
   ]
  },
  {
   "cell_type": "code",
   "execution_count": 514,
   "id": "f10f3222",
   "metadata": {},
   "outputs": [],
   "source": [
    "frutas.discard('apple')"
   ]
  },
  {
   "cell_type": "code",
   "execution_count": 515,
   "id": "98f608af",
   "metadata": {},
   "outputs": [
    {
     "data": {
      "text/plain": [
       "{'grape', 'pineapple'}"
      ]
     },
     "execution_count": 515,
     "metadata": {},
     "output_type": "execute_result"
    }
   ],
   "source": [
    "frutas"
   ]
  },
  {
   "cell_type": "code",
   "execution_count": 516,
   "id": "1d2f06ef",
   "metadata": {},
   "outputs": [],
   "source": [
    "frutas.discard('melancia')"
   ]
  },
  {
   "cell_type": "code",
   "execution_count": 518,
   "id": "aafea4ed",
   "metadata": {},
   "outputs": [
    {
     "data": {
      "text/plain": [
       "[1, 2, 2, 3, 4, 5]"
      ]
     },
     "execution_count": 518,
     "metadata": {},
     "output_type": "execute_result"
    }
   ],
   "source": [
    "# criando um set a partir de uma lista\n",
    "nums = [1,2,2,3,4,5]\n",
    "nums"
   ]
  },
  {
   "cell_type": "code",
   "execution_count": 519,
   "id": "0ef38312",
   "metadata": {},
   "outputs": [
    {
     "data": {
      "text/plain": [
       "{1, 2, 3, 4, 5}"
      ]
     },
     "execution_count": 519,
     "metadata": {},
     "output_type": "execute_result"
    }
   ],
   "source": [
    "set(nums)"
   ]
  },
  {
   "cell_type": "code",
   "execution_count": 520,
   "id": "4892215d",
   "metadata": {},
   "outputs": [
    {
     "data": {
      "text/plain": [
       "1"
      ]
     },
     "execution_count": 520,
     "metadata": {},
     "output_type": "execute_result"
    }
   ],
   "source": [
    "# acessando um item \n",
    "nums[0]\n"
   ]
  },
  {
   "cell_type": "code",
   "execution_count": 105,
   "id": "2e22896e",
   "metadata": {},
   "outputs": [],
   "source": [
    "# removendo um item usando remove\n"
   ]
  },
  {
   "cell_type": "code",
   "execution_count": 106,
   "id": "e84d65ea",
   "metadata": {
    "scrolled": true
   },
   "outputs": [],
   "source": [
    "# removendo um item que nao existe\n"
   ]
  },
  {
   "cell_type": "code",
   "execution_count": 107,
   "id": "9f07848c",
   "metadata": {},
   "outputs": [],
   "source": [
    "# remover usando discard \n"
   ]
  },
  {
   "cell_type": "code",
   "execution_count": 108,
   "id": "41ec4308",
   "metadata": {},
   "outputs": [],
   "source": [
    "# remover usando discard um item que nao existe\n"
   ]
  },
  {
   "cell_type": "code",
   "execution_count": 109,
   "id": "f3a4df7d",
   "metadata": {},
   "outputs": [],
   "source": [
    "# remover usando pop \n"
   ]
  },
  {
   "cell_type": "code",
   "execution_count": 521,
   "id": "87b054ff",
   "metadata": {},
   "outputs": [
    {
     "data": {
      "text/plain": [
       "[1, 2, 2, 3, 4, 5]"
      ]
     },
     "execution_count": 521,
     "metadata": {},
     "output_type": "execute_result"
    }
   ],
   "source": [
    "# ver conteudo do set\n",
    "nums"
   ]
  },
  {
   "cell_type": "code",
   "execution_count": 522,
   "id": "bd1607e4",
   "metadata": {},
   "outputs": [],
   "source": [
    "# criar outro set a partir de uma lista\n",
    "\n",
    "\n",
    "# remover todos os elementos com  clear\n",
    "nums.clear()"
   ]
  },
  {
   "cell_type": "code",
   "execution_count": 523,
   "id": "1b628d2d",
   "metadata": {},
   "outputs": [
    {
     "data": {
      "text/plain": [
       "[]"
      ]
     },
     "execution_count": 523,
     "metadata": {},
     "output_type": "execute_result"
    }
   ],
   "source": [
    "nums"
   ]
  },
  {
   "cell_type": "code",
   "execution_count": 524,
   "id": "9418de9a",
   "metadata": {},
   "outputs": [
    {
     "data": {
      "text/plain": [
       "{0, 1, 2, 3, 4, 5, 6, 7, 8, 9}"
      ]
     },
     "execution_count": 524,
     "metadata": {},
     "output_type": "execute_result"
    }
   ],
   "source": [
    "# operacoes \n",
    "# uniao de dois conjuntos com a palavra chave union \n",
    "A = {0, 1, 3, 5, 7, 9} \n",
    "B = {0, 2, 4, 6, 8}\n",
    "\n",
    "C = A.union(B)\n",
    "C\n"
   ]
  },
  {
   "cell_type": "code",
   "execution_count": 526,
   "id": "ae04b35c",
   "metadata": {},
   "outputs": [
    {
     "data": {
      "text/plain": [
       "{0, 1, 2, 3, 4, 5, 6, 7, 8, 9}"
      ]
     },
     "execution_count": 526,
     "metadata": {},
     "output_type": "execute_result"
    }
   ],
   "source": [
    "# uniao de dois conjuntos com |  \n",
    "A = {0, 1, 3, 5, 7, 9}\n",
    "B = {0, 2, 4, 6, 8}\n",
    "C = A | B\n",
    "C"
   ]
  },
  {
   "cell_type": "code",
   "execution_count": 530,
   "id": "f17369b6",
   "metadata": {},
   "outputs": [
    {
     "data": {
      "text/plain": [
       "{0}"
      ]
     },
     "execution_count": 530,
     "metadata": {},
     "output_type": "execute_result"
    }
   ],
   "source": [
    "# interseccao de dois conjuntos com a palavra chave intersect e com &\n",
    "A = {0, 1, 3, 5, 7, 9}\n",
    "B = {0, 2, 4, 6, 8}\n",
    "\n",
    "C = A & B\n",
    "C"
   ]
  },
  {
   "cell_type": "code",
   "execution_count": 532,
   "id": "4c9a7080",
   "metadata": {},
   "outputs": [
    {
     "data": {
      "text/plain": [
       "{0}"
      ]
     },
     "execution_count": 532,
     "metadata": {},
     "output_type": "execute_result"
    }
   ],
   "source": [
    "C = A.intersection(B)\n",
    "C"
   ]
  },
  {
   "cell_type": "markdown",
   "id": "cc1a66b6",
   "metadata": {},
   "source": [
    "<img src='../figuras/operacoes_sets.png'>\n",
    "\n",
    "ref:https://algoritmosempython.com.br/cursos/programacao-python/conjuntos/"
   ]
  },
  {
   "cell_type": "markdown",
   "id": "81869f51",
   "metadata": {},
   "source": [
    "### dicionarios"
   ]
  },
  {
   "cell_type": "code",
   "execution_count": 115,
   "id": "e5850cb5",
   "metadata": {},
   "outputs": [],
   "source": [
    "# dicionarios:  pares chave/valor\n",
    "\n",
    "dados_cliente = {\n",
    "    'Nome': 'Renan',\n",
    "    'Endereco': 'Rua Cruzeiro do Sul',\n",
    "    'Telefone': '982503645'\n",
    "}\n"
   ]
  },
  {
   "cell_type": "code",
   "execution_count": 533,
   "id": "fef9f1c2",
   "metadata": {},
   "outputs": [
    {
     "name": "stdout",
     "output_type": "stream",
     "text": [
      "{'Nome': 'Renan', 'Endereco': 'Rua Cruzeiro do Sul', 'Telefone': '982503645'}\n"
     ]
    }
   ],
   "source": [
    "# Nas listas e tuplas acessamos os dados por meio dos índices. \n",
    "#Já nos dicionários, o acesso aos dados é feito por meio da chave associada a eles.\n",
    "dados_cliente = {\n",
    "    'Nome': 'Renan',\n",
    "    'Endereco': 'Rua Cruzeiro do Sul',\n",
    "    'Telefone': '982503645'\n",
    "}\n",
    "\n",
    "print(dados_cliente) # {'Nome': 'Renan', 'Endereco': 'Rua Cruzeiro do Sul',\n"
   ]
  },
  {
   "cell_type": "code",
   "execution_count": 534,
   "id": "bc217f91",
   "metadata": {},
   "outputs": [
    {
     "data": {
      "text/plain": [
       "'Renan'"
      ]
     },
     "execution_count": 534,
     "metadata": {},
     "output_type": "execute_result"
    }
   ],
   "source": [
    "# imprimindo o valor de uma chave\n",
    "dados_cliente['Nome']"
   ]
  },
  {
   "cell_type": "code",
   "execution_count": 535,
   "id": "31c1dbd6",
   "metadata": {},
   "outputs": [],
   "source": [
    "# inserindo nova chave e valor\n",
    "dados_cliente['Celular'] = '25656458'"
   ]
  },
  {
   "cell_type": "code",
   "execution_count": 536,
   "id": "b897323e",
   "metadata": {},
   "outputs": [
    {
     "data": {
      "text/plain": [
       "{'Nome': 'Renan',\n",
       " 'Endereco': 'Rua Cruzeiro do Sul',\n",
       " 'Telefone': '982503645',\n",
       " 'Celular': '25656458'}"
      ]
     },
     "execution_count": 536,
     "metadata": {},
     "output_type": "execute_result"
    }
   ],
   "source": [
    "dados_cliente"
   ]
  },
  {
   "cell_type": "code",
   "execution_count": 537,
   "id": "45c2a4e2",
   "metadata": {},
   "outputs": [
    {
     "data": {
      "text/plain": [
       "'982503645'"
      ]
     },
     "execution_count": 537,
     "metadata": {},
     "output_type": "execute_result"
    }
   ],
   "source": [
    "# removendo com pop \n",
    "dados_cliente.pop('Telefone', None)"
   ]
  },
  {
   "cell_type": "code",
   "execution_count": 538,
   "id": "f64130c4",
   "metadata": {},
   "outputs": [
    {
     "data": {
      "text/plain": [
       "{'Nome': 'Renan', 'Endereco': 'Rua Cruzeiro do Sul', 'Celular': '25656458'}"
      ]
     },
     "execution_count": 538,
     "metadata": {},
     "output_type": "execute_result"
    }
   ],
   "source": [
    "dados_cliente"
   ]
  },
  {
   "cell_type": "code",
   "execution_count": 539,
   "id": "2efd87be",
   "metadata": {},
   "outputs": [],
   "source": [
    "dados_cliente = {\n",
    "    'Nome': 'Renan',\n",
    "    'Endereco': 'Rua Cruzeiro do Sul',\n",
    "    'Telefone': '982503645'\n",
    "}\n",
    "\n",
    "# usando del para remover uma chave\n",
    "del dados_cliente['Telefone']\n"
   ]
  },
  {
   "cell_type": "code",
   "execution_count": 540,
   "id": "d4008f76",
   "metadata": {},
   "outputs": [
    {
     "data": {
      "text/plain": [
       "{'Nome': 'Renan', 'Endereco': 'Rua Cruzeiro do Sul'}"
      ]
     },
     "execution_count": 540,
     "metadata": {},
     "output_type": "execute_result"
    }
   ],
   "source": [
    "dados_cliente"
   ]
  },
  {
   "cell_type": "code",
   "execution_count": 541,
   "id": "af2d0755",
   "metadata": {},
   "outputs": [
    {
     "data": {
      "text/plain": [
       "2"
      ]
     },
     "execution_count": 541,
     "metadata": {},
     "output_type": "execute_result"
    }
   ],
   "source": [
    "# verificar quantas chaves existem \n",
    "len(dados_cliente)"
   ]
  },
  {
   "cell_type": "code",
   "execution_count": 542,
   "id": "1a7ecf52",
   "metadata": {},
   "outputs": [
    {
     "data": {
      "text/plain": [
       "False"
      ]
     },
     "execution_count": 542,
     "metadata": {},
     "output_type": "execute_result"
    }
   ],
   "source": [
    "# verificar se uma chave existe\n",
    "'Telefone' in dados_cliente\n"
   ]
  },
  {
   "cell_type": "code",
   "execution_count": 543,
   "id": "f6cab032",
   "metadata": {},
   "outputs": [
    {
     "data": {
      "text/plain": [
       "True"
      ]
     },
     "execution_count": 543,
     "metadata": {},
     "output_type": "execute_result"
    }
   ],
   "source": [
    "'Nome' in dados_cliente"
   ]
  },
  {
   "cell_type": "markdown",
   "id": "2d5b363c",
   "metadata": {},
   "source": [
    "### Funções uteis para coleções "
   ]
  },
  {
   "cell_type": "code",
   "execution_count": 544,
   "id": "17b5c267",
   "metadata": {},
   "outputs": [
    {
     "name": "stdout",
     "output_type": "stream",
     "text": [
      "0\n",
      "20\n",
      "Alex\n",
      "Renata\n"
     ]
    }
   ],
   "source": [
    "numeros = [15, 5, 0, 20, 10]\n",
    "nomes = ['Caio', 'Alex', 'Renata', 'Patrícia', 'Bruno']\n",
    "\n",
    "# mim max \n",
    "print(min(numeros)) # 0\n",
    "print(max(numeros)) # 20\n",
    "print(min(nomes)) # Alex\n",
    "print(max(nomes)) # Renata"
   ]
  },
  {
   "cell_type": "code",
   "execution_count": 545,
   "id": "65411257",
   "metadata": {},
   "outputs": [
    {
     "name": "stdout",
     "output_type": "stream",
     "text": [
      "10\n"
     ]
    }
   ],
   "source": [
    "numeros = [1, 3, 6]\n",
    "\n",
    "#sum \n",
    "print(sum(numeros)) # 10"
   ]
  },
  {
   "cell_type": "code",
   "execution_count": 546,
   "id": "01425e7f",
   "metadata": {},
   "outputs": [
    {
     "name": "stdout",
     "output_type": "stream",
     "text": [
      "4\n"
     ]
    }
   ],
   "source": [
    "paises = ['Argentina', 'Brasil', 'Colômbia', 'Uruguai']\n",
    "\n",
    "#len\n",
    "print(len(paises)) # 4"
   ]
  },
  {
   "cell_type": "code",
   "execution_count": 547,
   "id": "d4e56a96",
   "metadata": {},
   "outputs": [
    {
     "data": {
      "text/plain": [
       "{1, 2, 3}"
      ]
     },
     "execution_count": 547,
     "metadata": {},
     "output_type": "execute_result"
    }
   ],
   "source": [
    "conjunto = {1,2,3,3}\n",
    "conjunto"
   ]
  },
  {
   "cell_type": "code",
   "execution_count": 548,
   "id": "25c1a484",
   "metadata": {},
   "outputs": [
    {
     "name": "stdout",
     "output_type": "stream",
     "text": [
      "1\n",
      "6\n"
     ]
    }
   ],
   "source": [
    "# soma e min em conjunto\n",
    "print(min(conjunto))\n",
    "print(sum(conjunto))"
   ]
  },
  {
   "cell_type": "code",
   "execution_count": 549,
   "id": "4efb8b73",
   "metadata": {},
   "outputs": [
    {
     "name": "stdout",
     "output_type": "stream",
     "text": [
      "-2\n",
      "4\n"
     ]
    }
   ],
   "source": [
    "tupla = (-1,-2,1,2,4)\n",
    "# soma e min em tupla\n",
    "\n",
    "print(min(tupla))\n",
    "print(sum(tupla))\n"
   ]
  },
  {
   "cell_type": "markdown",
   "id": "8b5e20a1",
   "metadata": {},
   "source": [
    "# Exercicios "
   ]
  },
  {
   "cell_type": "markdown",
   "id": "44be0b57",
   "metadata": {},
   "source": [
    "* construa uma lista e imprima-a em ordem crescente \n",
    "\n",
    "* imprima a mesma lista de forma reversa\n",
    "\n",
    "* construa um dicionário com as chaves sendo nomes de alunos e os valores sendo notas\n",
    "\n"
   ]
  },
  {
   "cell_type": "markdown",
   "id": "68e0003c",
   "metadata": {},
   "source": [
    "# Parte 7"
   ]
  },
  {
   "cell_type": "markdown",
   "id": "03b8c5a9",
   "metadata": {},
   "source": [
    "## Condições: IF ELSE"
   ]
  },
  {
   "cell_type": "code",
   "execution_count": 550,
   "id": "529dda7e",
   "metadata": {},
   "outputs": [],
   "source": [
    "programadores = ['Walkiria', 'Paula', 'Edna', 'Alberto', 'Bianca', 'Bruna']"
   ]
  },
  {
   "cell_type": "code",
   "execution_count": 554,
   "id": "70f1ec1e",
   "metadata": {},
   "outputs": [
    {
     "name": "stdout",
     "output_type": "stream",
     "text": [
      "sim\n",
      "sim\n"
     ]
    }
   ],
   "source": [
    "# if simples com resultado \n",
    "\n",
    "\n",
    "if 'Walkiria' in programadores:\n",
    "    print('sim')\n",
    "    \n",
    "if 'Paula' in programadores:\n",
    "    print('sim')\n",
    "    "
   ]
  },
  {
   "cell_type": "code",
   "execution_count": 555,
   "id": "f68b7a21",
   "metadata": {},
   "outputs": [],
   "source": [
    "# if simples sem resultado \n",
    "if 'Jose' in programadores:\n",
    "    print('sim')"
   ]
  },
  {
   "cell_type": "code",
   "execution_count": 557,
   "id": "ec1bfcfa",
   "metadata": {},
   "outputs": [
    {
     "name": "stdout",
     "output_type": "stream",
     "text": [
      "seu chute é menor que o numero\n"
     ]
    }
   ],
   "source": [
    "# if simples com comparacao < \n",
    "numero = 45\n",
    "chute = 2\n",
    "\n",
    "if chute < numero:\n",
    "    print( 'seu chute é menor que o numero')\n"
   ]
  },
  {
   "cell_type": "code",
   "execution_count": 558,
   "id": "290cd40c",
   "metadata": {},
   "outputs": [
    {
     "name": "stdout",
     "output_type": "stream",
     "text": [
      "Vc acertou!!!!\n"
     ]
    }
   ],
   "source": [
    "# if simples com comparacao ==\n",
    "numero = 45\n",
    "chute = 45\n",
    "\n",
    "if chute == numero:\n",
    "    print( 'Vc acertou!!!!')\n"
   ]
  },
  {
   "cell_type": "code",
   "execution_count": 559,
   "id": "307856d3",
   "metadata": {},
   "outputs": [
    {
     "name": "stdout",
     "output_type": "stream",
     "text": [
      "Nao foi dessa vez\n"
     ]
    }
   ],
   "source": [
    "# if else\n",
    "# if simples com comparacao ==\n",
    "numero = 45\n",
    "chute = 48\n",
    "\n",
    "if chute == numero:\n",
    "    print( 'Vc acertou!!!!')\n",
    "else:\n",
    "    print('Nao foi dessa vez')\n"
   ]
  },
  {
   "cell_type": "code",
   "execution_count": 563,
   "id": "8463ba28",
   "metadata": {},
   "outputs": [
    {
     "name": "stdout",
     "output_type": "stream",
     "text": [
      "Digite uma nota: 60\n",
      "aprovado!!!\n"
     ]
    }
   ],
   "source": [
    "# if else aninhados\n",
    "nota = int(input(\"Digite uma nota: \"))\n",
    "\n",
    "if nota <= 30: \n",
    "        print('Reprovado')\n",
    "else: \n",
    "    if nota < 50:\n",
    "        print('Recuperacao')\n",
    "    else: \n",
    "        print('aprovado!!!')\n"
   ]
  },
  {
   "cell_type": "code",
   "execution_count": 564,
   "id": "61bbcb97",
   "metadata": {},
   "outputs": [
    {
     "name": "stdout",
     "output_type": "stream",
     "text": [
      "Digite uma nota: 60\n",
      "aprovado!!!\n"
     ]
    }
   ],
   "source": [
    "nota = int(input(\"Digite uma nota: \"))\n",
    "\n",
    "# if if aninhados\n",
    "if nota <= 30: \n",
    "        print('Reprovado')\n",
    "else: \n",
    "    if nota < 50:\n",
    "        print('Recuperacao')\n",
    "    if nota >= 50: \n",
    "        print('aprovado!!!')\n",
    "\n"
   ]
  },
  {
   "cell_type": "code",
   "execution_count": 566,
   "id": "ab5dbc70",
   "metadata": {},
   "outputs": [
    {
     "name": "stdout",
     "output_type": "stream",
     "text": [
      "Digite uma nota: 50\n",
      "quase\n"
     ]
    }
   ],
   "source": [
    "nota = int(input(\"Digite uma nota: \"))\n",
    "\n",
    "# elif\n",
    "\n",
    "# elif\n",
    "if nota < 30:\n",
    "    print(\"Reprovado\")\n",
    "elif nota < 50:\n",
    "    print(\"Recuperacao\")\n",
    "elif nota < 80:\n",
    "    print('quase')\n",
    "else:\n",
    "    print(\"Aprovado\")"
   ]
  },
  {
   "cell_type": "markdown",
   "id": "b2182c73",
   "metadata": {},
   "source": [
    "# Parte 8"
   ]
  },
  {
   "cell_type": "markdown",
   "id": "8ad4d3a4",
   "metadata": {},
   "source": [
    "## Estrutura de repetição "
   ]
  },
  {
   "cell_type": "code",
   "execution_count": 570,
   "id": "ccbcfa8c",
   "metadata": {},
   "outputs": [
    {
     "name": "stdout",
     "output_type": "stream",
     "text": [
      "1\n",
      "2\n"
     ]
    }
   ],
   "source": [
    "numeros = [1,2,3,4,5]\n",
    "# vamos imprimir os numeros dessa lista\n",
    "print(numeros[0])\n",
    "print(numeros[1])\n"
   ]
  },
  {
   "cell_type": "markdown",
   "id": "9dee7ea6",
   "metadata": {},
   "source": [
    "### iterando uma lista"
   ]
  },
  {
   "cell_type": "code",
   "execution_count": 573,
   "id": "10f9fa26",
   "metadata": {},
   "outputs": [
    {
     "name": "stdout",
     "output_type": "stream",
     "text": [
      "1\n",
      "2\n",
      "3\n",
      "4\n",
      "5\n"
     ]
    }
   ],
   "source": [
    "# agora usando um for\n",
    "for i in numeros:\n",
    "    print(i)\n",
    "    "
   ]
  },
  {
   "cell_type": "code",
   "execution_count": 575,
   "id": "dbd2b7dd",
   "metadata": {
    "code_folding": []
   },
   "outputs": [
    {
     "name": "stdout",
     "output_type": "stream",
     "text": [
      "1\n",
      "2\n",
      "3\n",
      "4\n"
     ]
    }
   ],
   "source": [
    "# iterando em um range/intervalor\n",
    "for i in range(1,5):\n",
    "    print(i)"
   ]
  },
  {
   "cell_type": "code",
   "execution_count": 577,
   "id": "9719774c",
   "metadata": {},
   "outputs": [
    {
     "name": "stdout",
     "output_type": "stream",
     "text": [
      "0\n",
      "10\n",
      "20\n",
      "30\n",
      "40\n",
      "50\n",
      "60\n",
      "70\n",
      "80\n",
      "90\n"
     ]
    }
   ],
   "source": [
    "# iterando em um range/intervalo com step\n",
    "for i in range(0,100, 10):\n",
    "    print(i)"
   ]
  },
  {
   "cell_type": "code",
   "execution_count": 578,
   "id": "7f82db00",
   "metadata": {},
   "outputs": [
    {
     "name": "stdout",
     "output_type": "stream",
     "text": [
      "0 Maria\n",
      "1 Jose\n",
      "2 Joao\n"
     ]
    }
   ],
   "source": [
    "# iterando e contando\n",
    "nomes = ['Maria', 'Jose', 'Joao']\n",
    "\n",
    "for pos, i in enumerate(nomes):\n",
    "    print(pos, i)"
   ]
  },
  {
   "cell_type": "code",
   "execution_count": 581,
   "id": "e25af122",
   "metadata": {
    "code_folding": []
   },
   "outputs": [
    {
     "name": "stdout",
     "output_type": "stream",
     "text": [
      "****\n",
      "valor no loop externo 0\n",
      "valor do loop interno 0\n",
      "valor do loop interno 1\n",
      "valor do loop interno 2\n",
      "valor do loop interno 3\n",
      "valor do loop interno 4\n",
      "****\n",
      "valor no loop externo 1\n",
      "valor do loop interno 0\n",
      "valor do loop interno 1\n",
      "valor do loop interno 2\n",
      "valor do loop interno 3\n",
      "valor do loop interno 4\n",
      "****\n",
      "valor no loop externo 2\n",
      "valor do loop interno 0\n",
      "valor do loop interno 1\n",
      "valor do loop interno 2\n",
      "valor do loop interno 3\n",
      "valor do loop interno 4\n"
     ]
    }
   ],
   "source": [
    "# for aninhado\n",
    "for numero in range(0, 3):\n",
    "    print('****')\n",
    "    print('valor no loop externo', numero)\n",
    "    for numero2 in range(0,5):\n",
    "        print('valor do loop interno', numero2)\n",
    "    "
   ]
  },
  {
   "cell_type": "markdown",
   "id": "8c74943c",
   "metadata": {},
   "source": [
    "### Iterando uma tupla "
   ]
  },
  {
   "cell_type": "code",
   "execution_count": 582,
   "id": "48d17e37",
   "metadata": {},
   "outputs": [
    {
     "name": "stdout",
     "output_type": "stream",
     "text": [
      "1\n",
      "2\n",
      "3\n",
      "4\n",
      "5\n"
     ]
    }
   ],
   "source": [
    "numeros = (1,2,3,4,5,)\n",
    "# iterando \n",
    "for i in numeros:\n",
    "    print(i)"
   ]
  },
  {
   "cell_type": "markdown",
   "id": "32b58b29",
   "metadata": {},
   "source": [
    "### Iterando um set"
   ]
  },
  {
   "cell_type": "code",
   "execution_count": 583,
   "id": "80320343",
   "metadata": {
    "scrolled": true
   },
   "outputs": [
    {
     "name": "stdout",
     "output_type": "stream",
     "text": [
      "1\n",
      "2\n",
      "3\n",
      "4\n",
      "5\n"
     ]
    }
   ],
   "source": [
    "numeros = {1,2,3,4,5}\n",
    "# iterando\n",
    "for i in numeros:\n",
    "    print(i)"
   ]
  },
  {
   "cell_type": "markdown",
   "id": "33b343e2",
   "metadata": {},
   "source": [
    "### Iterando um dicionário "
   ]
  },
  {
   "cell_type": "code",
   "execution_count": 584,
   "id": "54d897e8",
   "metadata": {},
   "outputs": [
    {
     "name": "stdout",
     "output_type": "stream",
     "text": [
      "num_1 1\n",
      "num_2 2\n",
      "num_3 3\n",
      "num_4 4\n",
      "num_5 5\n"
     ]
    }
   ],
   "source": [
    "numeros = {'num_1': 1,'num_2': 2, 'num_3': 3,'num_4': 4,'num_5': 5}\n",
    "# iterando\n",
    "for key, value in numeros.items():\n",
    "    print(key, value)"
   ]
  },
  {
   "cell_type": "markdown",
   "id": "f317abab",
   "metadata": {},
   "source": [
    "### While "
   ]
  },
  {
   "cell_type": "code",
   "execution_count": 585,
   "id": "35f52add",
   "metadata": {},
   "outputs": [
    {
     "name": "stdout",
     "output_type": "stream",
     "text": [
      "diferente\n",
      "diferente\n",
      "diferente\n",
      "diferente\n",
      "diferente\n",
      "diferente\n",
      "diferente\n",
      "diferente\n",
      "diferente\n",
      "diferente\n"
     ]
    }
   ],
   "source": [
    "# while condition - verifica a condicao e depois executa\n",
    "i  = 10\n",
    "while(i != 0):\n",
    "    print('diferente')\n",
    "    i -=1\n"
   ]
  },
  {
   "cell_type": "code",
   "execution_count": 587,
   "id": "a99aa1b0",
   "metadata": {
    "scrolled": false
   },
   "outputs": [],
   "source": [
    "# o que acontece aqui?\n",
    "# i = 10\n",
    "# while (i != 0): #\n",
    "#     print(\"diferente\")"
   ]
  },
  {
   "cell_type": "code",
   "execution_count": null,
   "id": "7a5bf803",
   "metadata": {},
   "outputs": [],
   "source": [
    "## "
   ]
  },
  {
   "cell_type": "code",
   "execution_count": 589,
   "id": "7a5840e9",
   "metadata": {},
   "outputs": [],
   "source": [
    "import itertools"
   ]
  },
  {
   "cell_type": "code",
   "execution_count": 590,
   "id": "1d203c00",
   "metadata": {},
   "outputs": [
    {
     "name": "stdout",
     "output_type": "stream",
     "text": [
      "Printing the numbers repeatedly : \n",
      "[25, 25, 25, 25]\n"
     ]
    }
   ],
   "source": [
    "# using repeat() to repeatedly print number   \n",
    "print (\"Printing the numbers repeatedly : \")   \n",
    "print (list(itertools.repeat(25, 4)))"
   ]
  },
  {
   "cell_type": "markdown",
   "id": "334aef48",
   "metadata": {},
   "source": [
    "### comprehensions"
   ]
  },
  {
   "cell_type": "code",
   "execution_count": 152,
   "id": "828da177",
   "metadata": {},
   "outputs": [
    {
     "data": {
      "text/plain": [
       "[0, 1, 4, 9, 16, 25, 36, 49, 64, 81]"
      ]
     },
     "execution_count": 152,
     "metadata": {},
     "output_type": "execute_result"
    }
   ],
   "source": [
    "S =[]\n",
    "for x in range(10):\n",
    "    S.append(x**2)\n",
    "S"
   ]
  },
  {
   "cell_type": "code",
   "execution_count": null,
   "id": "c3bcea18",
   "metadata": {},
   "outputs": [],
   "source": []
  },
  {
   "cell_type": "code",
   "execution_count": null,
   "id": "3dcc4929",
   "metadata": {},
   "outputs": [],
   "source": []
  },
  {
   "cell_type": "code",
   "execution_count": 153,
   "id": "75c3076e",
   "metadata": {},
   "outputs": [],
   "source": [
    "# nested compreehension\n",
    "list_of_list = [[1,2,3],[4,5,6],[7,8]]\n",
    "\n",
    "# transformar numa lista \n"
   ]
  },
  {
   "cell_type": "markdown",
   "id": "dc32c2ad",
   "metadata": {},
   "source": [
    "# Exercicios "
   ]
  },
  {
   "cell_type": "markdown",
   "id": "dd823ef7",
   "metadata": {},
   "source": [
    "* Utilize o dicionário criado por vcs anteriormente, e encontre a menor nota \n",
    "* Construa uma estrutura de if .... else para verificar se uma pessoa digitou um número correto\n",
    "* Utilizando comprenhensions, verifique se a fruta kiwi está na lista: fruits = [\"apple\", \"banana\", \"cherry\", \"kiwi\", \"mango\"]\n"
   ]
  },
  {
   "cell_type": "markdown",
   "id": "c1bf8215",
   "metadata": {},
   "source": [
    "# Parte 9"
   ]
  },
  {
   "cell_type": "markdown",
   "id": "17725f55",
   "metadata": {},
   "source": [
    "## Funções "
   ]
  },
  {
   "cell_type": "markdown",
   "id": "2b035640",
   "metadata": {},
   "source": [
    "* parametros:nomes dos atributos que serão passados para a função\n",
    "* argumentos: são os valores passados para a função"
   ]
  },
  {
   "cell_type": "code",
   "execution_count": 154,
   "id": "476261e0",
   "metadata": {},
   "outputs": [],
   "source": [
    "# como criar uma funcao que soma dois numeros?\n"
   ]
  },
  {
   "cell_type": "code",
   "execution_count": 155,
   "id": "34631e10",
   "metadata": {
    "scrolled": true
   },
   "outputs": [],
   "source": [
    "# como chamar a funcao?\n"
   ]
  },
  {
   "cell_type": "code",
   "execution_count": 156,
   "id": "4e7a015f",
   "metadata": {},
   "outputs": [],
   "source": [
    "# funcao com valores default\n"
   ]
  },
  {
   "cell_type": "code",
   "execution_count": null,
   "id": "dda476c0",
   "metadata": {
    "scrolled": false
   },
   "outputs": [],
   "source": []
  },
  {
   "cell_type": "code",
   "execution_count": 157,
   "id": "6553ad19",
   "metadata": {},
   "outputs": [],
   "source": [
    "# apenas um valor defaul\n"
   ]
  },
  {
   "cell_type": "code",
   "execution_count": 158,
   "id": "e72453c9",
   "metadata": {},
   "outputs": [],
   "source": [
    "# atencao na ordem dos valores default \n"
   ]
  },
  {
   "cell_type": "code",
   "execution_count": 159,
   "id": "8b2c6b63",
   "metadata": {},
   "outputs": [],
   "source": [
    "# cuidado com as variaveis globais\n"
   ]
  },
  {
   "cell_type": "code",
   "execution_count": 160,
   "id": "e04171c1",
   "metadata": {},
   "outputs": [],
   "source": [
    "# sem o return, veja quais variáveis são impactadas\n"
   ]
  },
  {
   "cell_type": "code",
   "execution_count": 161,
   "id": "30b7c7bf",
   "metadata": {},
   "outputs": [],
   "source": [
    "# agora com return veja o impacto\n"
   ]
  },
  {
   "cell_type": "code",
   "execution_count": 162,
   "id": "b3c90f6c",
   "metadata": {},
   "outputs": [],
   "source": [
    "# uso de args\n"
   ]
  },
  {
   "cell_type": "code",
   "execution_count": 163,
   "id": "78b9b0c4",
   "metadata": {},
   "outputs": [],
   "source": [
    "# chamar sem valores\n",
    "\n",
    "# chamar com 2 valores\n",
    "\n",
    "# chamar com 3 valores\n",
    "\n"
   ]
  },
  {
   "cell_type": "code",
   "execution_count": 164,
   "id": "849fea0e",
   "metadata": {},
   "outputs": [],
   "source": [
    "# kwargs\n",
    "\n"
   ]
  },
  {
   "cell_type": "code",
   "execution_count": 165,
   "id": "faa8564c",
   "metadata": {},
   "outputs": [],
   "source": [
    "# args e kwargs\n"
   ]
  },
  {
   "cell_type": "markdown",
   "id": "5b7f7c93",
   "metadata": {},
   "source": [
    "# Parte 10"
   ]
  },
  {
   "cell_type": "markdown",
   "id": "ef8a80c0",
   "metadata": {},
   "source": [
    "## Python Zen"
   ]
  },
  {
   "cell_type": "markdown",
   "id": "be8f6120",
   "metadata": {},
   "source": [
    "https://pythonacademy.com.br/zen-of-python"
   ]
  },
  {
   "cell_type": "code",
   "execution_count": 166,
   "id": "af2827fc",
   "metadata": {
    "scrolled": false
   },
   "outputs": [
    {
     "name": "stdout",
     "output_type": "stream",
     "text": [
      "The Zen of Python, by Tim Peters\n",
      "\n",
      "Beautiful is better than ugly.\n",
      "Explicit is better than implicit.\n",
      "Simple is better than complex.\n",
      "Complex is better than complicated.\n",
      "Flat is better than nested.\n",
      "Sparse is better than dense.\n",
      "Readability counts.\n",
      "Special cases aren't special enough to break the rules.\n",
      "Although practicality beats purity.\n",
      "Errors should never pass silently.\n",
      "Unless explicitly silenced.\n",
      "In the face of ambiguity, refuse the temptation to guess.\n",
      "There should be one-- and preferably only one --obvious way to do it.\n",
      "Although that way may not be obvious at first unless you're Dutch.\n",
      "Now is better than never.\n",
      "Although never is often better than *right* now.\n",
      "If the implementation is hard to explain, it's a bad idea.\n",
      "If the implementation is easy to explain, it may be a good idea.\n",
      "Namespaces are one honking great idea -- let's do more of those!\n"
     ]
    }
   ],
   "source": [
    "import this"
   ]
  },
  {
   "cell_type": "code",
   "execution_count": 167,
   "id": "dd502b20",
   "metadata": {},
   "outputs": [
    {
     "ename": "SyntaxError",
     "evalue": "invalid syntax (<ipython-input-167-32d2c94371bd>, line 3)",
     "output_type": "error",
     "traceback": [
      "\u001b[0;36m  File \u001b[0;32m\"<ipython-input-167-32d2c94371bd>\"\u001b[0;36m, line \u001b[0;32m3\u001b[0m\n\u001b[0;31m    if funcao(x) && y == 0 || z == 'yes': # feio\u001b[0m\n\u001b[0m                  ^\u001b[0m\n\u001b[0;31mSyntaxError\u001b[0m\u001b[0;31m:\u001b[0m invalid syntax\n"
     ]
    }
   ],
   "source": [
    "# \"Bonito é melhor que feio\"\n",
    "    \n",
    "if funcao(x) && y == 0 || z == 'yes': # feio\n",
    "\n",
    "if funcao(x) and y == 0 or z == 'yes': # bonito \n",
    "   \n",
    "    "
   ]
  },
  {
   "cell_type": "code",
   "execution_count": null,
   "id": "b56e1768",
   "metadata": {},
   "outputs": [],
   "source": [
    "# \"Explícito é melhor que implícito\"\n",
    "from os import *\n",
    "print getcwd()  # implicito\n",
    "\n",
    "import os\n",
    "print os.getcwd()  # explicito\n"
   ]
  },
  {
   "cell_type": "code",
   "execution_count": null,
   "id": "01251a0d",
   "metadata": {},
   "outputs": [],
   "source": [
    "# \"Linear é melhor do que aninhado\"\n",
    "\n",
    "if i > 0:  #linear\n",
    "    return funcao(i) \n",
    "elif i == 0: \n",
    "    return 0 \n",
    "else: \n",
    "    return 2 * funcao(i)\n",
    "\n",
    "\n",
    "if i>0: return funcao(i)  # aninhado\n",
    "elif i==0: return 0 \n",
    "else: return 2 * funcao(i)"
   ]
  },
  {
   "cell_type": "code",
   "execution_count": null,
   "id": "714ba429",
   "metadata": {},
   "outputs": [],
   "source": [
    "# \"Erros nunca devem passar silenciosamente. \n",
    "# A menos que sejam explicitamente silenciados\"\n",
    "\n",
    "try:\n",
    "    x = funcao(y)\n",
    "except:\n",
    "    pass  # cuidado aqui\n",
    "\n",
    "\n",
    "try:\n",
    "    x = funcao(y)\n",
    "except:\n",
    "    print(\"Deu ruim!\") # um pouco melhor\n"
   ]
  },
  {
   "cell_type": "markdown",
   "id": "46bcfdd8",
   "metadata": {},
   "source": [
    "# Parte 10"
   ]
  },
  {
   "cell_type": "markdown",
   "id": "aaeabaa3",
   "metadata": {},
   "source": [
    "## Bibliotecas \n",
    "\n",
    "* 137,000 bibliotecas no Python!\n",
    "* A Biblioteca Padrão do Python é uma coleção de módulos de script acessíveis a um programa Python para simplificar o processo de programação e remover a necessidade de reescrever os comandos mais usados. Eles podem ser usados chamando-os / importando-os no início de um script.\n",
    "* Top 5:\n",
    "    - Pandas\n",
    "    - Numpy\n",
    "    - Sklearn\n",
    "    - Matplotlib\n",
    "    - time\n",
    "* Como usar uma biblioteca no python \n",
    "    - import pandas as pd"
   ]
  },
  {
   "cell_type": "markdown",
   "id": "9d8f603c",
   "metadata": {},
   "source": [
    "Algumas bibliotecas precisam ser instaladas. Basicamente, existem duas formas: usando o pip (Pip Installs Python) e a outra usando o Anaconda. "
   ]
  },
  {
   "cell_type": "code",
   "execution_count": null,
   "id": "a87dfb2d",
   "metadata": {},
   "outputs": [],
   "source": [
    "! pip install pandas \n",
    "\n",
    "! conda install pandas "
   ]
  },
  {
   "cell_type": "markdown",
   "id": "ca62d1b4",
   "metadata": {},
   "source": [
    "Algumas bibliotecas não estão dentro do ambiente Anaconda, mas você pode usar o pip dentro do Anaconda"
   ]
  },
  {
   "cell_type": "code",
   "execution_count": null,
   "id": "a178301a",
   "metadata": {},
   "outputs": [],
   "source": [
    "! pip install -U pandas \n"
   ]
  },
  {
   "cell_type": "code",
   "execution_count": null,
   "id": "abbddc03",
   "metadata": {},
   "outputs": [],
   "source": [
    "# ! pip install pandas=0.20.3 \n"
   ]
  },
  {
   "cell_type": "code",
   "execution_count": null,
   "id": "1d6351cc",
   "metadata": {},
   "outputs": [],
   "source": []
  },
  {
   "cell_type": "markdown",
   "id": "64a3a984",
   "metadata": {},
   "source": [
    "# Referencias \n",
    "\n",
    "* devmedia.com.br\n",
    "\n",
    "* https://jovemnerd.com.br/nerdcast/nerdtech/vingadores-do-data-science/\n",
    "\n",
    "* https://www.youtube.com/watch?v=5b9Z8toVaAU\n",
    "\n",
    "* https://www.devmedia.com.br/tipos-de-dados-em-python-string/40669\n",
    "\n",
    "* https://gvanrossum.github.io/\n",
    "\n",
    "* https://www.devmedia.com.br/operadores-no-python/40693\n",
    "\n",
    "* https://realpython.com/python-data-types/"
   ]
  }
 ],
 "metadata": {
  "hide_input": false,
  "kernelspec": {
   "display_name": "Python 3",
   "language": "python",
   "name": "python3"
  },
  "language_info": {
   "codemirror_mode": {
    "name": "ipython",
    "version": 3
   },
   "file_extension": ".py",
   "mimetype": "text/x-python",
   "name": "python",
   "nbconvert_exporter": "python",
   "pygments_lexer": "ipython3",
   "version": "3.8.8"
  },
  "toc": {
   "base_numbering": 1,
   "nav_menu": {},
   "number_sections": true,
   "sideBar": true,
   "skip_h1_title": false,
   "title_cell": "Table of Contents",
   "title_sidebar": "Contents",
   "toc_cell": false,
   "toc_position": {
    "height": "calc(100% - 180px)",
    "left": "10px",
    "top": "150px",
    "width": "165px"
   },
   "toc_section_display": true,
   "toc_window_display": true
  }
 },
 "nbformat": 4,
 "nbformat_minor": 5
}
